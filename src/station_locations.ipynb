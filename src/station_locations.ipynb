{
 "cells": [
  {
   "cell_type": "code",
   "execution_count": 1,
   "id": "439d7c34-eb6d-4448-b5ec-a64d83e8b346",
   "metadata": {},
   "outputs": [
    {
     "name": "stderr",
     "output_type": "stream",
     "text": [
      "\u001b[32m\u001b[1m  Activating\u001b[22m\u001b[39m project at `~/Projects/ASTRAL/soundings`\n"
     ]
    }
   ],
   "source": [
    "#cd(\"~/Projects/ASTRAL/soundings/src/\")\n",
    "\n",
    "# activate the environment\n",
    "# an environment is just a path with Manifest.toml and Project.toml\n",
    "using Pkg; Pkg.activate(\"..\")\n",
    "\n",
    "using Revise\n",
    "# using Regex\n",
    "# using CSV, DataFrames\n",
    "# using Interpolations\n",
    "# using Dates\n",
    "using PyPlot"
   ]
  },
  {
   "cell_type": "code",
   "execution_count": 2,
   "id": "861622a3-efe1-451d-827c-a3b2997a9876",
   "metadata": {},
   "outputs": [
    {
     "data": {
      "text/plain": [
       "9-element Vector{Vector{Any}}:\n",
       " [\"Ahmedabad\", 23.03, 72.58]\n",
       " [\"Chennai\", 13.0825, 80.275]\n",
       " [\"Karaikal\", 10.93, 79.83]\n",
       " [\"Kochi\", 9.97, 76.28]\n",
       " [\"Kolkata\", 22.5675, 88.37]\n",
       " [\"Mangalore\", 12.868055555555555, 74.8425]\n",
       " [\"Port Blair\", 11.668333333333333, 92.73777777777778]\n",
       " [\"Pune\", 18.52027777777778, 73.85666666666667]\n",
       " [\"Visakhapatnam\", 17.704166666666666, 83.29777777777778]"
      ]
     },
     "execution_count": 2,
     "metadata": {},
     "output_type": "execute_result"
    }
   ],
   "source": [
    "# station locations\n",
    "# station, lat, lon\n",
    "Loc = [\n",
    "  [ \"Ahmedabad\", 23.03, 72.58],\n",
    "  [ \"Chennai\", 13+(4+57/60)/60, 80+(16+30/60)/60 ],\n",
    "  [ \"Karaikal\", 10.93, 79.83 ],\n",
    "  [ \"Kochi\", 9.97, 76.28 ],\n",
    "  [ \"Kolkata\", 22+(34+3/60)/60, 88+(22+12/60)/60 ], \n",
    "  [ \"Mangalore\", 12+(52+5/60)/60, 74+(50+33/60)/60 ],\n",
    "  [ \"Port Blair\", 11+(40+6/60)/60, 92+(44+16/60)/60 ],\n",
    "  [ \"Pune\", 18+(31+13/60)/60, 73+(51+24/60)/60 ],\n",
    "  [ \"Visakhapatnam\", 17+(42+15/60)/60, 83+(17+52/60)/60 ]\n",
    "      ]"
   ]
  },
  {
   "cell_type": "code",
   "execution_count": 3,
   "id": "d74d5b05-4c2e-40e1-8fb2-0c1df0f6cff9",
   "metadata": {
    "jupyter": {
     "source_hidden": true
    },
    "scrolled": true
   },
   "outputs": [
    {
     "data": {
      "image/png": "[encoded data removed]",
      "text/plain": [
       "Figure(PyObject <Figure size 640x480 with 1 Axes>)"
      ]
     },
     "metadata": {},
     "output_type": "display_data"
    },
    {
     "data": {
      "text/plain": [
       "1-element Vector{PyCall.PyObject}:\n",
       " PyObject <matplotlib.lines.Line2D object at 0x1183900a0>"
      ]
     },
     "execution_count": 3,
     "metadata": {},
     "output_type": "execute_result"
    }
   ],
   "source": [
    "plot( map(l -> l[3], Loc), map(l -> l[2], Loc), linestyle=\"\", marker=\"*\")"
   ]
  },
  {
   "cell_type": "code",
   "execution_count": null,
   "id": "667b77f2-da86-4f91-89c8-f7ccf3c4938f",
   "metadata": {},
   "outputs": [],
   "source": []
  }
 ],
 "metadata": {
  "kernelspec": {
   "display_name": "astral_soundings 1.8.5",
   "language": "julia",
   "name": "astral_soundings-1.8"
  },
  "language_info": {
   "file_extension": ".jl",
   "mimetype": "application/julia",
   "name": "julia",
   "version": "1.8.5"
  }
 },
 "nbformat": 4,
 "nbformat_minor": 5
}
