{
 "cells": [
  {
   "cell_type": "markdown",
   "id": "6368b8ca-e802-40b7-a213-b0b0ad5f352c",
   "metadata": {},
   "source": [
    "# Interpolate soundings\n",
    "## vertically from irregularly-spaced pressure levels\n",
    "\n",
    "with Julia 1.8\n",
    "author: Simon de Szoeke"
   ]
  },
  {
   "cell_type": "code",
   "execution_count": 1,
   "id": "e4bdd17b-a26c-46b3-be8a-8493e563f490",
   "metadata": {},
   "outputs": [],
   "source": [
    "using Dates\n",
    "using NCDatasets\n",
    "using Interpolations\n",
    "using PyPlot"
   ]
  },
  {
   "cell_type": "code",
   "execution_count": 41,
   "id": "940a7756-8441-4e94-be8c-16d903a39f94",
   "metadata": {},
   "outputs": [
    {
     "data": {
      "text/plain": [
       "itp (generic function with 3 methods)"
      ]
     },
     "execution_count": 41,
     "metadata": {},
     "output_type": "execute_result"
    }
   ],
   "source": [
    "# Interpolation methods\n",
    "# Pressure is irregular and different for each time.\n",
    "\n",
    "\"dv converts Datetimes to numeric values. Needed for Interpolations.\"\n",
    "dv(dt, offset=DateTime(2019,3,1)) = Dates.value(dt - offset)\n",
    "\n",
    "# interpolation functions\n",
    "function itp(x, p)\n",
    "    # knot-vectors must be unique and sorted in increasing order\n",
    "    ind = sortperm(p)\n",
    "    ii = isfinite.(p[ind])\n",
    "    interpolate( (p[ind][ii],), x[ind][ii], Gridded(Linear()) )\n",
    "end\n",
    "itp(ds::Dataset, var, p=ds[\"pressure\"][:][:]) = itp(ds[var][:][:], p) # convenience method\n",
    "\n",
    "# example:\n",
    "# itp(ds, \"u_wind\")"
   ]
  },
  {
   "cell_type": "code",
   "execution_count": 15,
   "id": "f1650537-143d-4049-b70d-8a26e6c24e76",
   "metadata": {
    "collapsed": true,
    "jupyter": {
     "outputs_hidden": true
    },
    "tags": []
   },
   "outputs": [
    {
     "data": {
      "text/plain": [
       "122-element Vector{String}:\n",
       " \"20190301_0000\"\n",
       " \"20190302_0000\"\n",
       " \"20190303_0000\"\n",
       " \"20190304_0000\"\n",
       " \"20190305_0000\"\n",
       " \"20190306_0000\"\n",
       " \"20190307_0000\"\n",
       " \"20190308_0000\"\n",
       " \"20190309_0000\"\n",
       " \"20190310_0000\"\n",
       " \"20190311_0000\"\n",
       " \"20190312_0000\"\n",
       " \"20190313_0000\"\n",
       " ⋮\n",
       " \"20190619_0000\"\n",
       " \"20190620_0000\"\n",
       " \"20190621_0000\"\n",
       " \"20190622_0000\"\n",
       " \"20190623_0000\"\n",
       " \"20190624_0000\"\n",
       " \"20190625_0000\"\n",
       " \"20190626_0000\"\n",
       " \"20190627_0000\"\n",
       " \"20190628_0000\"\n",
       " \"20190629_0000\"\n",
       " \"20190630_0000\""
      ]
     },
     "execution_count": 15,
     "metadata": {},
     "output_type": "execute_result"
    }
   ],
   "source": [
    "# define date range\n",
    "dr = DateTime(2019,3,1):Day(1):DateTime(2019,6,30)\n",
    "datestamps = Dates.format.(dr, \"yyyymmdd_HHMM\")"
   ]
  },
  {
   "cell_type": "code",
   "execution_count": 43,
   "id": "7dc0d714-da6d-463f-9739-d5303ceb2e7d",
   "metadata": {
    "tags": []
   },
   "outputs": [
    {
     "data": {
      "text/plain": [
       "-1.7f0"
      ]
     },
     "execution_count": 43,
     "metadata": {},
     "output_type": "execute_result"
    }
   ],
   "source": [
    "# data from NetCDF\n",
    "stationname = \"thrivandrum\"\n",
    "datestamp = Dates.format(DateTime(\"2019-03-24T00:00\"), \"yyyymmdd_HHMM\") # \"20190324_0000\"\n",
    "\n",
    "datapath = joinpath( \"../data/igra2\", stationname )\n",
    "joinpath( datapath, \"$(stationname)$(datestamp).nc\" )\n",
    "\n",
    "# one sounding per netcdf file\n",
    "data = NCDatasets.Dataset( joinpath( datapath, \"$(stationname)$(datestamp).nc\" ) )\n",
    "\n",
    "# example data - one sounding, one time\n",
    "u = itp(data, \"u_wind\")[1000]"
   ]
  },
  {
   "cell_type": "code",
   "execution_count": 34,
   "id": "431c27d7-aced-4716-8fca-9db411c3b2ee",
   "metadata": {},
   "outputs": [
    {
     "data": {
      "text/plain": [
       "121-element Vector{Float32}:\n",
       "    7.2\n",
       "    7.4\n",
       "    7.5\n",
       "    7.8\n",
       "    8.2\n",
       "    8.8\n",
       "   10.0\n",
       "   10.5\n",
       "   10.6\n",
       "   11.6\n",
       "   12.0\n",
       "   12.9\n",
       "   15.7\n",
       "    ⋮\n",
       "  837.0\n",
       "  850.0\n",
       "  861.0\n",
       "  871.0\n",
       "  898.0\n",
       "  899.0\n",
       "  925.0\n",
       "  986.0\n",
       "  993.0\n",
       "  999.0\n",
       " 1000.0\n",
       " 1003.0"
      ]
     },
     "execution_count": 34,
     "metadata": {},
     "output_type": "execute_result"
    }
   ],
   "source": [
    "p=data[\"pressure\"][:][:]\n",
    "u=data[\"u_wind\"][:][:]\n",
    "ind = sortperm(p)\n",
    "filter(isfinite, p[ind])"
   ]
  },
  {
   "cell_type": "code",
   "execution_count": 24,
   "id": "3aef8be2-addf-47ba-a17b-4d282a2762de",
   "metadata": {},
   "outputs": [
    {
     "data": {
      "text/plain": [
       "186-element Vector{Float32}:\n",
       "  -0.0\n",
       "  -1.7\n",
       "  -1.7\n",
       " NaN\n",
       "   0.4\n",
       "   1.6\n",
       " NaN\n",
       "  -2.4\n",
       "  -5.4\n",
       " NaN\n",
       "  -4.5\n",
       "  -5.6\n",
       " NaN\n",
       "   ⋮\n",
       "  15.8\n",
       "  14.3\n",
       "  12.3\n",
       "  12.5\n",
       "  13.4\n",
       "  13.9\n",
       "  15.2\n",
       "  14.8\n",
       "  13.9\n",
       "   6.2\n",
       "  10.3\n",
       "   5.8"
      ]
     },
     "execution_count": 24,
     "metadata": {},
     "output_type": "execute_result"
    }
   ],
   "source": [
    "data[\"u_wind\"][:][:]"
   ]
  },
  {
   "cell_type": "code",
   "execution_count": null,
   "id": "00a1edc9-fd03-4eaa-9644-f8777ddd7302",
   "metadata": {},
   "outputs": [],
   "source": []
  }
 ],
 "metadata": {
  "kernelspec": {
   "display_name": "Julia 1.8.5",
   "language": "julia",
   "name": "julia-1.8"
  },
  "language_info": {
   "file_extension": ".jl",
   "mimetype": "application/julia",
   "name": "julia",
   "version": "1.8.5"
  }
 },
 "nbformat": 4,
 "nbformat_minor": 5
}
