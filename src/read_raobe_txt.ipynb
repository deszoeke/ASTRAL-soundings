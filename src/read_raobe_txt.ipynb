{
 "cells": [
  {
   "cell_type": "code",
   "execution_count": 1,
   "id": "1585f970-1b56-4fe8-80e5-69c316d603da",
   "metadata": {},
   "outputs": [
    {
     "name": "stderr",
     "output_type": "stream",
     "text": [
      "\u001b[32m\u001b[1m  Activating\u001b[22m\u001b[39m project at `~/Projects/ASTRAL/soundings`\n"
     ]
    }
   ],
   "source": [
    "#cd(\"~/Projects/ASTRAL/soundings/src/\")\n",
    "\n",
    "# activate the environment\n",
    "# an environment is just a path with Manifest.toml and Project.toml\n",
    "using Pkg; Pkg.activate(\"..\")\n",
    "\n",
    "using Revise\n",
    "# using RegularExpressions # Regexs natively loaded in julia\n",
    "using CSV, DataFrames\n",
    "using Interpolations\n",
    "using Dates\n",
    "using PyPlot"
   ]
  },
  {
   "cell_type": "code",
   "execution_count": 28,
   "id": "a4969a39",
   "metadata": {},
   "outputs": [
    {
     "data": {
      "text/plain": [
       "Twet_autodiff"
      ]
     },
     "metadata": {},
     "output_type": "display_data"
    }
   ],
   "source": [
    "# thermodynamics of water functions\n",
    "\n",
    "# constants\n",
    "Cp = 1005.7  # from my Davies-Jones function, was 1005.\n",
    "Cpv = 1870.0 # J/kg/K\n",
    "Cw  = 4190.0\n",
    "L0 = 2.501e6 # J/kg\n",
    "\n",
    "C = 273.15 # K\n",
    "\n",
    "Rd = 287.04\n",
    "Rv = 461.5\n",
    "RdoRv=Rd/Rv\n",
    "\n",
    "\"latent heat of water vapor\"\n",
    "LvK(TempK) = 2.501e6 + (Cpv-Cw) * (TempK-273.0)\n",
    "\n",
    "\"\"\"\n",
    "es(T,p) = is saturation vapor pressure based on Wexler's formula,\n",
    "with enhancement factor for moist air rather than water vapor.\n",
    "The enhancement factor requires a pressure.\n",
    "T [degrees C], p [Pa] (note the reversed input order), es [Pa]\n",
    "Calling with optional keywords changes the units and\n",
    "ignores the positional arguments.\n",
    "es(T,p; TK=tk[Kelvin], P=pr[hPa])\n",
    "From A. L. Buck 1981: JAM, 20, 1527-1532.\n",
    "SPdeS 7 July 2004\n",
    "\"\"\"\n",
    "function es(T,p=1e5; P=p*1e-2)\n",
    "    esat = 1e2 * 6.1121*(1.0007 + 3.46e-8*P)*exp((17.502*T)/(240.97 + T)) # convert es to Pa\n",
    "end\n",
    "\n",
    "# supply TK [Kelvin] by keyword, ignores positional T!!\n",
    "function es(T,p=1e5; TK=T+C, P=p*1e-2)\n",
    "    T = TK - C\n",
    "    esat = 1e2 * 6.1121*(1.0007 + 3.46e-8*P)*exp((17.502*T)/(240.97 + T)) # convert es to Pa\n",
    "end\n",
    "\n",
    "\"\"\"\n",
    "qs(p,T) is saturation specific humidity based on Wexler's formula for es\n",
    "with enhancement factor (see es.m).\n",
    "p [Pa], T [degrees C], qs [kg/kg]\n",
    "From A. L. Buck 1981: JAM, 20, 1527-1532.\n",
    "SPdeS 7 July 2004\n",
    "\"\"\"\n",
    "function qs(p,T)\n",
    "    esat = es(T,p)\n",
    "    qsat = RdoRv*esat / (p + (RdoRv-1)*esat)\n",
    "end\n",
    "\n",
    "\"dqsdT(p,T[C]) derivative of qs with respect to T at p,T by autodiff of Bolton's qs\"\n",
    "dqsdT(p,T) = ForwardDiff.derivative(t -> qs(p,t), T)\n",
    "\n",
    "# wet bulb temperature methods\n",
    "# for approximating the evap process\n",
    "\n",
    "\"General single Newton iteration to update x toward f(x) = fhat for a univariate function f\"\n",
    "updatex(f, x, fhat) = x + (fhat-f(x)) / ForwardDiff.derivative(f, x)\n",
    "\n",
    "\"\"\"\n",
    "Twet_autodiff(T[K], q[kg/kg], p[Pa]; niter=2) wet bulb temperature using Newton's method\n",
    "for target specific humidity q[kg/kg]. Uses automatic differntiation.\n",
    "\"\"\"\n",
    "function Twet_autodiff(T, q, p; niter=2)\n",
    "    f(t) = (t - T) + LvK((T+t)/2)/Cp * (qs(p,t-C) - q)\n",
    "    t=T\n",
    "    for i in 1:niter\n",
    "        t = updatex(f, t, 0)\n",
    "    end\n",
    "    t\n",
    "end\n",
    "# 2 iterations converges to ~0.001 K\n",
    "\n",
    "# call as...\n",
    "# q = rh*qs(pa, Ta)\n",
    "# Twet_autodiff(Ta, rh*qs(pa, Ta-C), pa) "
   ]
  },
  {
   "cell_type": "code",
   "execution_count": 2,
   "id": "82231d94-eb5b-4883-839f-631296708e44",
   "metadata": {},
   "outputs": [
    {
     "data": {
      "text/plain": [
       "DateTime"
      ]
     },
     "metadata": {},
     "output_type": "display_data"
    }
   ],
   "source": [
    "# path on fog\n",
    "# datapath = \"/Users/sdeszoek/Library/CloudStorage/OneDrive-SharedLibraries-OregonStateUniversity/og_ekamsat-st - Documents/RR2306/RR2306_Science_Share/Radiosondes\"\n",
    "# path on squall\n",
    "datapath = \"/Users/sdeszoek/Library/CloudStorage/OneDrive-SharedLibraries-UW/og_ekamsat-st - Documents/RR2306/RR2306_Science_Share/Radiosondes\"\n",
    "raobe_file(dt) = joinpath(datapath, \"RAOBE\" * Dates.format(dt, \"yyyymmddHH\") * \".csv\")\n",
    "raobe_file(DateTime(2023,6,17,0,0,0))\n",
    "\n",
    "raobe_files = filter(startswith(\"RAOBE\"), readdir(datapath))\n",
    "xtrct_datestamp(f) = f[6:15]  # brittle\n",
    "raobe_dt = DateTime(xtrct_datestamp(raobe_files[1]), \"yyyymmddHH\")\n",
    "typeof(raobe_dt)"
   ]
  },
  {
   "cell_type": "code",
   "execution_count": 18,
   "id": "81714072",
   "metadata": {},
   "outputs": [
    {
     "name": "stdout",
     "output_type": "stream",
     "text": [
      "\"lat=12.057\""
     ]
    },
    {
     "data": {
      "text/plain": [
       "(\u001b[1m2154×6 DataFrame\u001b[0m\n",
       "\u001b[1m  Row \u001b[0m│\u001b[1m PRES    \u001b[0m\u001b[1m TEMP    \u001b[0m\u001b[1m RH    \u001b[0m\u001b[1m WIND  \u001b[0m\u001b[1m SPEED   \u001b[0m\u001b[1m GPM   \u001b[0m\n",
       "      │\u001b[90m Float64 \u001b[0m\u001b[90m Float64 \u001b[0m\u001b[90m Int64 \u001b[0m\u001b[90m Int64 \u001b[0m\u001b[90m Float64 \u001b[0m\u001b[90m Int64 \u001b[0m\n",
       "──────┼────────────────────────────────────────────────\n",
       "    1 │  1008.4     23.7     43    357      8.7     20\n",
       "    2 │  1007.3     27.0     47    264      6.2     30\n",
       "    3 │  1006.2     28.8     52    238     11.1     40\n",
       "    4 │  1005.0     28.6     61    238     11.4     50\n",
       "    5 │  1003.9     28.5     71    239     11.5     60\n",
       "    6 │  1002.8     28.5     76    239     11.5     70\n",
       "    7 │  1001.6     28.3     76    239     11.5     80\n",
       "    8 │  1000.5     28.2     76    239     11.7     90\n",
       "  ⋮   │    ⋮        ⋮       ⋮      ⋮       ⋮       ⋮\n",
       " 2148 │    44.3    -60.8      1    129      5.8  21490\n",
       " 2149 │    44.2    -60.8      2    132      5.8  21500\n",
       " 2150 │    44.1    -60.9      2    135      5.9  21510\n",
       " 2151 │    44.1    -60.8      2    138      5.9  21520\n",
       " 2152 │    44.0    -60.8      3    141      6.1  21530\n",
       " 2153 │    43.9    -60.8      1    145      6.3  21540\n",
       " 2154 │    43.8    -60.9      3    147      6.4  21550\n",
       "\u001b[36m                                      2139 rows omitted\u001b[0m, 12.057f0, 67.78558f0)"
      ]
     },
     "metadata": {},
     "output_type": "display_data"
    }
   ],
   "source": [
    "\"single-character replacer handles tabs and \\u00b0 degree character °\"\n",
    "stripjunk(f) = f # IOBuffer(replace(read(f), UInt8('\\t') => UInt8(' '), UInt16('\\u00b0') => UInt8('d')) )\n",
    "\n",
    "\"false->-1, true->1\"\n",
    "signer(bool) = 2(0+bool)-1\n",
    "\n",
    "\"read the file and return (DataFrame, lat, lon)\"\n",
    "function read_raobe( file )\n",
    "    open( file, \"r\" ) do io\n",
    "        lat = 0\n",
    "        lon = 0\n",
    "        # read header lines and parse lat,lon\n",
    "        ln = readline( io )\n",
    "        while match(r\"RAOB/DATA\", ln) === nothing\n",
    "            if startswith(ln, \"LAT\")\n",
    "                mtc = match(r\"LAT,([\\d.]*),([NS])\", ln)\n",
    "                lat += parse(Float32, mtc[1]) * signer(mtc[2]==\"N\")\n",
    "                show(\"lat=$(lat)\")\n",
    "            elseif startswith(ln, \"LON\")\n",
    "                mtc = match(r\"LON,([\\d.]*),([EW])\", ln)\n",
    "                lon += parse(Float32, mtc[1]) * signer(mtc[2]==\"E\")\n",
    "            end\n",
    "            ln = readline( io )\n",
    "        end\n",
    "        # \"PRES,TEMP,RH,WIND,SPEED,GPM\"\n",
    "        CSV.read( stripjunk( io ),\n",
    "            DataFrame, delim=\",\", stripwhitespace=true, ignorerepeated=true ), lat, lon\n",
    "    end\n",
    "end\n",
    "\n",
    "df, lat, lon =  read_raobe(joinpath(datapath, raobe_files[1]))"
   ]
  },
  {
   "cell_type": "code",
   "execution_count": 27,
   "id": "1c04f9d8",
   "metadata": {},
   "outputs": [
    {
     "data": {
      "image/png": "[encoded data removed]",
      "text/plain": [
       "Figure(PyObject <Figure size 640x480 with 2 Axes>)"
      ]
     },
     "metadata": {},
     "output_type": "display_data"
    }
   ],
   "source": [
    "# thermo functions\n",
    "\n",
    "\"Exner function = T/θ = (p/p0)^(Rd/Cp)\"\n",
    "Exner(p) = (p/1000)^0.287"
   ]
  },
  {
   "cell_type": "code",
   "execution_count": 32,
   "id": "4a460c9b",
   "metadata": {},
   "outputs": [
    {
     "data": {
      "image/png": "[encoded data removed]",
      "text/plain": [
       "Figure(PyObject <Figure size 640x480 with 2 Axes>)"
      ]
     },
     "metadata": {},
     "output_type": "display_data"
    }
   ],
   "source": [
    "# plot example sounding\n",
    "qs_ = @. qs(1e2*df[!,:PRES], df[!,:TEMP])\n",
    "qv = @. qs_ * df[!,:RH]/1e2\n",
    "theta_ = @. (df[!,:TEMP]+C) / Exner(df[!,:PRES])\n",
    "\n",
    "clf()\n",
    "subplot(1,2,1)\n",
    "plot(theta_, df[!,:PRES])\n",
    "ylim([1000, 20])\n",
    "\n",
    "subplot(1,2,2)\n",
    "# plot(df[!,:RH], df[!,:PRES])\n",
    "semilogx(qv, df[!,:PRES])\n",
    "plot(qs_, df[!,:PRES])\n",
    "ylim([1000, 20])\n",
    "gcf()"
   ]
  },
  {
   "cell_type": "code",
   "execution_count": 25,
   "id": "ce24d0f7-993e-42de-a75e-77b9b41bbc46",
   "metadata": {},
   "outputs": [],
   "source": [
    "# test that the file names are readable for all stations\n",
    "\n",
    "for stationdir in lowercase.(CamelStations) # e.g., lowercase(\"Visakhapatnam\")\n",
    "    \n",
    "    # read standard named files in the station's directory\n",
    "    soundingfiles(stationdir; reldatapath=reldatapath) = filter(x -> occursin(r\"(?i)(May|Standard_Summary|Standard-Summary|Standard Summary).*(\\.txt)$(?-i)\",x),\n",
    "                   readdir(joinpath(reldatapath, stationdir)) ) \n",
    "    files = soundingfiles( stationdir ) \n",
    "    \n",
    "    # remove duplicate times uniqueidx(v) = unique(i -> v[i], eachindex(v))\n",
    "    uniqueidx(v) = unique(i -> v[i], eachindex(v))\n",
    "    #=\n",
    "    @show stationdir\n",
    "    @show files\n",
    "    =#\n",
    "    \n",
    "    fdt = imd_file_date.(files)\n",
    "    fdt12 = round.(fdt, Dates.Hour(12))\n",
    "    ui = uniqueidx(fdt12)\n",
    "    fdt[ui] # exact datetimes with duplicates removed\n",
    "    ord = sortperm(fdt[ui]) # guarantees ascending order\n",
    "    collect(zip(fdt[ui[ord]], files[ui[ord]]))\n",
    "end"
   ]
  },
  {
   "cell_type": "code",
   "execution_count": 26,
   "id": "8e056403-7417-467f-aab3-6cdfaf3a4eb8",
   "metadata": {},
   "outputs": [
    {
     "data": {
      "text/plain": [
       "1020.0:-5.0:0.0"
      ]
     },
     "execution_count": 26,
     "metadata": {},
     "output_type": "execute_result"
    }
   ],
   "source": [
    "# Interpolation methods\n",
    "# Pressure is irregular and different for each sounding time.\n",
    "\n",
    "\"dv converts Datetimes to numeric values for Interpolations.\"\n",
    "dv(dt, offset=DateTime(2019,3,1)) = Dates.value(dt - offset)\n",
    "\n",
    "# interpolation functions\n",
    "function itp_sparse(x::Vector, p::Vector)\n",
    "    # knot-vectors must be unique and sorted in increasing order\n",
    "    ind = sortperm(p)\n",
    "    ii = isfinite.(p[ind])\n",
    "    extrapolate( interpolate( (p[ind][ii],), x[ind][ii], Gridded(Linear()) ), NaN )\n",
    "end\n",
    "\n",
    "\"Filter missing data from the input sounding before interpolating.\"\n",
    "function itp(x::Vector, p::Vector)\n",
    "    # knot-vectors must be unique and sorted in increasing order\n",
    "    ind = sortperm(p)\n",
    "    ii = isfinite.(p[ind] .+ x[ind]) # .& .!ismissing.(p[ind] .+ x[ind])\n",
    "    extrapolate( interpolate( (p[ind][ii],), x[ind][ii], Gridded(Linear()) ), NaN )\n",
    "end\n",
    "\n",
    "\"rectangular interval averaging onto a decreasing pressure coordinate\"\n",
    "function pavg(x::Vector, p::Vector; plevs=1020.0:-5.0:0.0)\n",
    "    s1 = zeros(Float64, size(plevs))\n",
    "    # s2 = zeros(Float64, size(p))\n",
    "    ns = zeros(Float64, size(plevs))\n",
    "    \n",
    "    for i in eachindex(p)\n",
    "        j = findfirst(x -> x < p[i], plevs) # j indexes plevs\n",
    "        s1[j] += isfinite(x[i]) ? x[i] : 0\n",
    "        # s2[j] += x[i]^2\n",
    "        ns[j] += 1.0*isfinite(x[i])\n",
    "    end\n",
    "    \n",
    "    s1 ./ ns # mean\n",
    "end\n",
    "\n",
    "# pressure levels to interploate to\n",
    "dp = 5.0\n",
    "plevs = 1020.0:-dp:0.0\n",
    "\n",
    "# test interpolation inline: plot( itp(u) )\n",
    "#=\n",
    "if !isempty(df)\n",
    "    upi = uniqueidx(p)\n",
    "    plot(plevs, m2n.(itp(u[upi], p[upi])[plevs]))\n",
    "    # test averaging\n",
    "    # plot(plevs, pavg(u, p plevs=plevs))\n",
    "    \n",
    "    plot(m2n.(p), m2n.(wspd))\n",
    "    u_pl = pavg(u, p, plevs=plevs)\n",
    "    # plev is the level geometrically above and dynamically (pressure) below the binned observations\n",
    "    # probably suitable for pcolormesh\n",
    "    plot(plevs.+dp/2, u_pl)\n",
    "end\n",
    "=#"
   ]
  },
  {
   "cell_type": "code",
   "execution_count": 27,
   "id": "d82b9d93-fff4-4607-9787-66a33a1f01c6",
   "metadata": {},
   "outputs": [
    {
     "name": "stdout",
     "output_type": "stream",
     "text": [
      "joinpath(reldatapath, station, files[ui[ord[2]]]) = \"../data/EKAMSAT_IMD/ekamsat/chennai/02May23MayChennai.txt\"\n"
     ]
    },
    {
     "data": {
      "text/html": [
       "<div><div style = \"float: left;\"><span>3495×14 DataFrame</span></div><div style = \"float: right;\"><span style = \"font-style: italic;\">3470 rows omitted</span></div><div style = \"clear: both;\"></div></div><div class = \"data-frame\" style = \"overflow-x: scroll;\"><table class = \"data-frame\" style = \"margin-bottom: 6px;\"><thead><tr class = \"header\"><th class = \"rowNumber\" style = \"font-weight: bold; text-align: right;\">Row</th><th style = \"text-align: left;\">Time</th><th style = \"text-align: left;\">p(hPa)</th><th style = \"text-align: left;\">T(dC)</th><th style = \"text-align: left;\">U(%)</th><th style = \"text-align: left;\">Dew(dC)</th><th style = \"text-align: left;\">Geo(gpm)</th><th style = \"text-align: left;\">Geo(gpft)</th><th style = \"text-align: left;\">Wdir(d)</th><th style = \"text-align: left;\">Wspd(m/s)</th><th style = \"text-align: left;\">Asc(m/m)</th><th style = \"text-align: left;\">Avg Asc(m/m)</th><th style = \"text-align: left;\">Azimuth(d)</th><th style = \"text-align: left;\">Range(m)</th><th style = \"text-align: left;\">Elevation(d)</th></tr><tr class = \"subheader headerLastRow\"><th class = \"rowNumber\" style = \"font-weight: bold; text-align: right;\"></th><th title = \"String15\" style = \"text-align: left;\">String15</th><th title = \"Float64\" style = \"text-align: left;\">Float64</th><th title = \"Float64\" style = \"text-align: left;\">Float64</th><th title = \"Float64\" style = \"text-align: left;\">Float64</th><th title = \"Float64\" style = \"text-align: left;\">Float64</th><th title = \"Float64\" style = \"text-align: left;\">Float64</th><th title = \"Float64\" style = \"text-align: left;\">Float64</th><th title = \"Float64\" style = \"text-align: left;\">Float64</th><th title = \"Float64\" style = \"text-align: left;\">Float64</th><th title = \"Float64\" style = \"text-align: left;\">Float64</th><th title = \"Float64\" style = \"text-align: left;\">Float64</th><th title = \"Float64\" style = \"text-align: left;\">Float64</th><th title = \"Float64\" style = \"text-align: left;\">Float64</th><th title = \"Float64\" style = \"text-align: left;\">Float64</th></tr></thead><tbody><tr><td class = \"rowNumber\" style = \"font-weight: bold; text-align: right;\">1</td><td style = \"text-align: left;\">000.00:00</td><td style = \"text-align: right;\">1006.3</td><td style = \"text-align: right;\">24.2</td><td style = \"text-align: right;\">98.0</td><td style = \"text-align: right;\">23.8</td><td style = \"text-align: right;\">15.0</td><td style = \"text-align: right;\">49.1</td><td style = \"text-align: right;\">135.0</td><td style = \"text-align: right;\">4.0</td><td style = \"text-align: right;\">81.4</td><td style = \"text-align: right;\">81.4</td><td style = \"text-align: right;\">37.4</td><td style = \"text-align: right;\">12758.6</td><td style = \"text-align: right;\">0.1</td></tr><tr><td class = \"rowNumber\" style = \"font-weight: bold; text-align: right;\">2</td><td style = \"text-align: left;\">000.01:00</td><td style = \"text-align: right;\">1005.8</td><td style = \"text-align: right;\">24.2</td><td style = \"text-align: right;\">98.9</td><td style = \"text-align: right;\">24.0</td><td style = \"text-align: right;\">19.7</td><td style = \"text-align: right;\">64.5</td><td style = \"text-align: right;\">199.2</td><td style = \"text-align: right;\">5.6</td><td style = \"text-align: right;\">86.1</td><td style = \"text-align: right;\">83.7</td><td style = \"text-align: right;\">37.4</td><td style = \"text-align: right;\">12764.4</td><td style = \"text-align: right;\">0.1</td></tr><tr><td class = \"rowNumber\" style = \"font-weight: bold; text-align: right;\">3</td><td style = \"text-align: left;\">000.02:00</td><td style = \"text-align: right;\">1005.3</td><td style = \"text-align: right;\">24.1</td><td style = \"text-align: right;\">98.9</td><td style = \"text-align: right;\">23.9</td><td style = \"text-align: right;\">24.0</td><td style = \"text-align: right;\">78.9</td><td style = \"text-align: right;\">201.4</td><td style = \"text-align: right;\">5.6</td><td style = \"text-align: right;\">90.6</td><td style = \"text-align: right;\">86.0</td><td style = \"text-align: right;\">37.4</td><td style = \"text-align: right;\">12769.7</td><td style = \"text-align: right;\">0.1</td></tr><tr><td class = \"rowNumber\" style = \"font-weight: bold; text-align: right;\">4</td><td style = \"text-align: left;\">000.03:00</td><td style = \"text-align: right;\">1004.8</td><td style = \"text-align: right;\">24.2</td><td style = \"text-align: right;\">99.1</td><td style = \"text-align: right;\">24.1</td><td style = \"text-align: right;\">28.3</td><td style = \"text-align: right;\">93.0</td><td style = \"text-align: right;\">202.2</td><td style = \"text-align: right;\">5.8</td><td style = \"text-align: right;\">94.9</td><td style = \"text-align: right;\">88.2</td><td style = \"text-align: right;\">37.4</td><td style = \"text-align: right;\">12775.1</td><td style = \"text-align: right;\">0.1</td></tr><tr><td class = \"rowNumber\" style = \"font-weight: bold; text-align: right;\">5</td><td style = \"text-align: left;\">000.04:00</td><td style = \"text-align: right;\">1004.3</td><td style = \"text-align: right;\">24.3</td><td style = \"text-align: right;\">98.9</td><td style = \"text-align: right;\">24.1</td><td style = \"text-align: right;\">32.4</td><td style = \"text-align: right;\">106.4</td><td style = \"text-align: right;\">202.5</td><td style = \"text-align: right;\">6.0</td><td style = \"text-align: right;\">98.9</td><td style = \"text-align: right;\">90.4</td><td style = \"text-align: right;\">37.4</td><td style = \"text-align: right;\">12780.8</td><td style = \"text-align: right;\">0.1</td></tr><tr><td class = \"rowNumber\" style = \"font-weight: bold; text-align: right;\">6</td><td style = \"text-align: left;\">000.05:00</td><td style = \"text-align: right;\">1003.9</td><td style = \"text-align: right;\">24.4</td><td style = \"text-align: right;\">99.1</td><td style = \"text-align: right;\">24.3</td><td style = \"text-align: right;\">36.2</td><td style = \"text-align: right;\">118.8</td><td style = \"text-align: right;\">200.9</td><td style = \"text-align: right;\">6.3</td><td style = \"text-align: right;\">103.4</td><td style = \"text-align: right;\">92.5</td><td style = \"text-align: right;\">37.4</td><td style = \"text-align: right;\">12786.8</td><td style = \"text-align: right;\">0.2</td></tr><tr><td class = \"rowNumber\" style = \"font-weight: bold; text-align: right;\">7</td><td style = \"text-align: left;\">000.06:00</td><td style = \"text-align: right;\">1003.4</td><td style = \"text-align: right;\">24.6</td><td style = \"text-align: right;\">99.1</td><td style = \"text-align: right;\">24.4</td><td style = \"text-align: right;\">40.2</td><td style = \"text-align: right;\">131.9</td><td style = \"text-align: right;\">200.3</td><td style = \"text-align: right;\">6.3</td><td style = \"text-align: right;\">107.5</td><td style = \"text-align: right;\">94.7</td><td style = \"text-align: right;\">37.3</td><td style = \"text-align: right;\">12792.1</td><td style = \"text-align: right;\">0.2</td></tr><tr><td class = \"rowNumber\" style = \"font-weight: bold; text-align: right;\">8</td><td style = \"text-align: left;\">000.07:00</td><td style = \"text-align: right;\">1003.0</td><td style = \"text-align: right;\">24.8</td><td style = \"text-align: right;\">99.3</td><td style = \"text-align: right;\">24.6</td><td style = \"text-align: right;\">44.2</td><td style = \"text-align: right;\">145.0</td><td style = \"text-align: right;\">200.6</td><td style = \"text-align: right;\">6.3</td><td style = \"text-align: right;\">112.1</td><td style = \"text-align: right;\">96.9</td><td style = \"text-align: right;\">37.3</td><td style = \"text-align: right;\">12796.8</td><td style = \"text-align: right;\">0.2</td></tr><tr><td class = \"rowNumber\" style = \"font-weight: bold; text-align: right;\">9</td><td style = \"text-align: left;\">000.08:00</td><td style = \"text-align: right;\">1002.6</td><td style = \"text-align: right;\">24.8</td><td style = \"text-align: right;\">99.3</td><td style = \"text-align: right;\">24.7</td><td style = \"text-align: right;\">47.8</td><td style = \"text-align: right;\">156.8</td><td style = \"text-align: right;\">201.0</td><td style = \"text-align: right;\">6.3</td><td style = \"text-align: right;\">115.8</td><td style = \"text-align: right;\">99.0</td><td style = \"text-align: right;\">37.3</td><td style = \"text-align: right;\">12801.5</td><td style = \"text-align: right;\">0.2</td></tr><tr><td class = \"rowNumber\" style = \"font-weight: bold; text-align: right;\">10</td><td style = \"text-align: left;\">000.09:00</td><td style = \"text-align: right;\">1002.2</td><td style = \"text-align: right;\">25.0</td><td style = \"text-align: right;\">99.1</td><td style = \"text-align: right;\">24.9</td><td style = \"text-align: right;\">50.7</td><td style = \"text-align: right;\">166.3</td><td style = \"text-align: right;\">201.8</td><td style = \"text-align: right;\">6.4</td><td style = \"text-align: right;\">118.9</td><td style = \"text-align: right;\">101.0</td><td style = \"text-align: right;\">37.3</td><td style = \"text-align: right;\">12806.4</td><td style = \"text-align: right;\">0.2</td></tr><tr><td class = \"rowNumber\" style = \"font-weight: bold; text-align: right;\">11</td><td style = \"text-align: left;\">000.10:00</td><td style = \"text-align: right;\">1001.9</td><td style = \"text-align: right;\">25.2</td><td style = \"text-align: right;\">99.3</td><td style = \"text-align: right;\">25.0</td><td style = \"text-align: right;\">53.6</td><td style = \"text-align: right;\">175.8</td><td style = \"text-align: right;\">202.6</td><td style = \"text-align: right;\">6.5</td><td style = \"text-align: right;\">122.2</td><td style = \"text-align: right;\">102.9</td><td style = \"text-align: right;\">37.3</td><td style = \"text-align: right;\">12812.1</td><td style = \"text-align: right;\">0.2</td></tr><tr><td class = \"rowNumber\" style = \"font-weight: bold; text-align: right;\">12</td><td style = \"text-align: left;\">000.11:00</td><td style = \"text-align: right;\">1001.7</td><td style = \"text-align: right;\">25.4</td><td style = \"text-align: right;\">99.3</td><td style = \"text-align: right;\">25.3</td><td style = \"text-align: right;\">55.8</td><td style = \"text-align: right;\">183.0</td><td style = \"text-align: right;\">202.7</td><td style = \"text-align: right;\">6.6</td><td style = \"text-align: right;\">124.7</td><td style = \"text-align: right;\">104.7</td><td style = \"text-align: right;\">37.3</td><td style = \"text-align: right;\">12818.5</td><td style = \"text-align: right;\">0.2</td></tr><tr><td class = \"rowNumber\" style = \"font-weight: bold; text-align: right;\">13</td><td style = \"text-align: left;\">000.12:00</td><td style = \"text-align: right;\">1001.3</td><td style = \"text-align: right;\">25.4</td><td style = \"text-align: right;\">99.3</td><td style = \"text-align: right;\">25.3</td><td style = \"text-align: right;\">59.2</td><td style = \"text-align: right;\">194.1</td><td style = \"text-align: right;\">201.3</td><td style = \"text-align: right;\">6.5</td><td style = \"text-align: right;\">128.3</td><td style = \"text-align: right;\">106.5</td><td style = \"text-align: right;\">37.3</td><td style = \"text-align: right;\">12825.5</td><td style = \"text-align: right;\">0.3</td></tr><tr><td style = \"text-align: right;\">&vellip;</td><td style = \"text-align: right;\">&vellip;</td><td style = \"text-align: right;\">&vellip;</td><td style = \"text-align: right;\">&vellip;</td><td style = \"text-align: right;\">&vellip;</td><td style = \"text-align: right;\">&vellip;</td><td style = \"text-align: right;\">&vellip;</td><td style = \"text-align: right;\">&vellip;</td><td style = \"text-align: right;\">&vellip;</td><td style = \"text-align: right;\">&vellip;</td><td style = \"text-align: right;\">&vellip;</td><td style = \"text-align: right;\">&vellip;</td><td style = \"text-align: right;\">&vellip;</td><td style = \"text-align: right;\">&vellip;</td><td style = \"text-align: right;\">&vellip;</td></tr><tr><td class = \"rowNumber\" style = \"font-weight: bold; text-align: right;\">3484</td><td style = \"text-align: left;\">083.22:00</td><td style = \"text-align: right;\">93.0</td><td style = \"text-align: right;\">-83.0</td><td style = \"text-align: right;\">27.5</td><td style = \"text-align: right;\">-90.4</td><td style = \"text-align: right;\">16979.8</td><td style = \"text-align: right;\">55708.0</td><td style = \"text-align: right;\">115.7</td><td style = \"text-align: right;\">15.7</td><td style = \"text-align: right;\">179.8</td><td style = \"text-align: right;\">211.5</td><td style = \"text-align: right;\">2.3</td><td style = \"text-align: right;\">25154.4</td><td style = \"text-align: right;\">34.0</td></tr><tr><td class = \"rowNumber\" style = \"font-weight: bold; text-align: right;\">3485</td><td style = \"text-align: left;\">083.23:00</td><td style = \"text-align: right;\">92.9</td><td style = \"text-align: right;\">-83.0</td><td style = \"text-align: right;\">27.5</td><td style = \"text-align: right;\">-90.4</td><td style = \"text-align: right;\">16982.1</td><td style = \"text-align: right;\">55715.5</td><td style = \"text-align: right;\">115.6</td><td style = \"text-align: right;\">15.4</td><td style = \"text-align: right;\">179.7</td><td style = \"text-align: right;\">211.5</td><td style = \"text-align: right;\">2.2</td><td style = \"text-align: right;\">25177.4</td><td style = \"text-align: right;\">34.0</td></tr><tr><td class = \"rowNumber\" style = \"font-weight: bold; text-align: right;\">3486</td><td style = \"text-align: left;\">083.24:00</td><td style = \"text-align: right;\">92.9</td><td style = \"text-align: right;\">-83.1</td><td style = \"text-align: right;\">27.5</td><td style = \"text-align: right;\">-90.4</td><td style = \"text-align: right;\">16985.3</td><td style = \"text-align: right;\">55725.9</td><td style = \"text-align: right;\">115.4</td><td style = \"text-align: right;\">15.2</td><td style = \"text-align: right;\">180.0</td><td style = \"text-align: right;\">211.5</td><td style = \"text-align: right;\">2.2</td><td style = \"text-align: right;\">25200.3</td><td style = \"text-align: right;\">34.0</td></tr><tr><td class = \"rowNumber\" style = \"font-weight: bold; text-align: right;\">3487</td><td style = \"text-align: left;\">083.25:00</td><td style = \"text-align: right;\">92.8</td><td style = \"text-align: right;\">-83.2</td><td style = \"text-align: right;\">27.5</td><td style = \"text-align: right;\">-90.5</td><td style = \"text-align: right;\">16988.1</td><td style = \"text-align: right;\">55735.3</td><td style = \"text-align: right;\">115.2</td><td style = \"text-align: right;\">14.9</td><td style = \"text-align: right;\">180.2</td><td style = \"text-align: right;\">211.5</td><td style = \"text-align: right;\">2.2</td><td style = \"text-align: right;\">25222.7</td><td style = \"text-align: right;\">34.0</td></tr><tr><td class = \"rowNumber\" style = \"font-weight: bold; text-align: right;\">3488</td><td style = \"text-align: left;\">083.26:00</td><td style = \"text-align: right;\">92.8</td><td style = \"text-align: right;\">-83.2</td><td style = \"text-align: right;\">27.5</td><td style = \"text-align: right;\">-90.6</td><td style = \"text-align: right;\">16990.8</td><td style = \"text-align: right;\">55744.1</td><td style = \"text-align: right;\">114.9</td><td style = \"text-align: right;\">14.7</td><td style = \"text-align: right;\">180.4</td><td style = \"text-align: right;\">211.5</td><td style = \"text-align: right;\">2.1</td><td style = \"text-align: right;\">25244.9</td><td style = \"text-align: right;\">33.9</td></tr><tr><td class = \"rowNumber\" style = \"font-weight: bold; text-align: right;\">3489</td><td style = \"text-align: left;\">083.27:00</td><td style = \"text-align: right;\">92.7</td><td style = \"text-align: right;\">-83.3</td><td style = \"text-align: right;\">27.5</td><td style = \"text-align: right;\">-90.6</td><td style = \"text-align: right;\">16993.6</td><td style = \"text-align: right;\">55753.2</td><td style = \"text-align: right;\">114.8</td><td style = \"text-align: right;\">14.8</td><td style = \"text-align: right;\">180.6</td><td style = \"text-align: right;\">211.4</td><td style = \"text-align: right;\">2.1</td><td style = \"text-align: right;\">25265.4</td><td style = \"text-align: right;\">33.9</td></tr><tr><td class = \"rowNumber\" style = \"font-weight: bold; text-align: right;\">3490</td><td style = \"text-align: left;\">083.28:00</td><td style = \"text-align: right;\">92.7</td><td style = \"text-align: right;\">-83.2</td><td style = \"text-align: right;\">27.5</td><td style = \"text-align: right;\">-90.6</td><td style = \"text-align: right;\">16996.3</td><td style = \"text-align: right;\">55762.0</td><td style = \"text-align: right;\">114.9</td><td style = \"text-align: right;\">14.9</td><td style = \"text-align: right;\">181.7</td><td style = \"text-align: right;\">211.4</td><td style = \"text-align: right;\">2.1</td><td style = \"text-align: right;\">25271.0</td><td style = \"text-align: right;\">33.9</td></tr><tr><td class = \"rowNumber\" style = \"font-weight: bold; text-align: right;\">3491</td><td style = \"text-align: left;\">083.29:00</td><td style = \"text-align: right;\">92.7</td><td style = \"text-align: right;\">-83.2</td><td style = \"text-align: right;\">27.5</td><td style = \"text-align: right;\">-90.5</td><td style = \"text-align: right;\">16998.5</td><td style = \"text-align: right;\">55769.5</td><td style = \"text-align: right;\">115.0</td><td style = \"text-align: right;\">15.0</td><td style = \"text-align: right;\">181.2</td><td style = \"text-align: right;\">211.4</td><td style = \"text-align: right;\">2.0</td><td style = \"text-align: right;\">25276.2</td><td style = \"text-align: right;\">33.9</td></tr><tr><td class = \"rowNumber\" style = \"font-weight: bold; text-align: right;\">3492</td><td style = \"text-align: left;\">083.30:00</td><td style = \"text-align: right;\">92.6</td><td style = \"text-align: right;\">-83.1</td><td style = \"text-align: right;\">27.5</td><td style = \"text-align: right;\">-90.5</td><td style = \"text-align: right;\">17001.1</td><td style = \"text-align: right;\">55778.0</td><td style = \"text-align: right;\">114.9</td><td style = \"text-align: right;\">15.1</td><td style = \"text-align: right;\">180.9</td><td style = \"text-align: right;\">211.4</td><td style = \"text-align: right;\">2.0</td><td style = \"text-align: right;\">25281.3</td><td style = \"text-align: right;\">33.9</td></tr><tr><td class = \"rowNumber\" style = \"font-weight: bold; text-align: right;\">3493</td><td style = \"text-align: left;\">083.31:00</td><td style = \"text-align: right;\">92.6</td><td style = \"text-align: right;\">-83.1</td><td style = \"text-align: right;\">27.5</td><td style = \"text-align: right;\">-90.4</td><td style = \"text-align: right;\">17004.0</td><td style = \"text-align: right;\">55787.4</td><td style = \"text-align: right;\">114.7</td><td style = \"text-align: right;\">15.2</td><td style = \"text-align: right;\">180.6</td><td style = \"text-align: right;\">211.4</td><td style = \"text-align: right;\">2.0</td><td style = \"text-align: right;\">25286.5</td><td style = \"text-align: right;\">33.9</td></tr><tr><td class = \"rowNumber\" style = \"font-weight: bold; text-align: right;\">3494</td><td style = \"text-align: left;\">083.32:00</td><td style = \"text-align: right;\">92.5</td><td style = \"text-align: right;\">-83.0</td><td style = \"text-align: right;\">27.7</td><td style = \"text-align: right;\">-90.4</td><td style = \"text-align: right;\">17006.5</td><td style = \"text-align: right;\">55795.6</td><td style = \"text-align: right;\">114.4</td><td style = \"text-align: right;\">15.4</td><td style = \"text-align: right;\">180.1</td><td style = \"text-align: right;\">211.4</td><td style = \"text-align: right;\">1.9</td><td style = \"text-align: right;\">25291.9</td><td style = \"text-align: right;\">33.9</td></tr><tr><td class = \"rowNumber\" style = \"font-weight: bold; text-align: right;\">3495</td><td style = \"text-align: left;\">083.33:00</td><td style = \"text-align: right;\">92.5</td><td style = \"text-align: right;\">-83.0</td><td style = \"text-align: right;\">27.7</td><td style = \"text-align: right;\">-90.4</td><td style = \"text-align: right;\">17008.9</td><td style = \"text-align: right;\">55803.4</td><td style = \"text-align: right;\">114.3</td><td style = \"text-align: right;\">15.5</td><td style = \"text-align: right;\">179.7</td><td style = \"text-align: right;\">211.4</td><td style = \"text-align: right;\">1.9</td><td style = \"text-align: right;\">25297.4</td><td style = \"text-align: right;\">33.9</td></tr></tbody></table></div>"
      ],
      "text/latex": [
       "\\begin{tabular}{r|cccccccccc}\n",
       "\t& Time & p(hPa) & T(dC) & U(\\%) & Dew(dC) & Geo(gpm) & Geo(gpft) & Wdir(d) & Wspd(m/s) & \\\\\n",
       "\t\\hline\n",
       "\t& String15 & Float64 & Float64 & Float64 & Float64 & Float64 & Float64 & Float64 & Float64 & \\\\\n",
       "\t\\hline\n",
       "\t1 & 000.00:00 & 1006.3 & 24.2 & 98.0 & 23.8 & 15.0 & 49.1 & 135.0 & 4.0 & $\\dots$ \\\\\n",
       "\t2 & 000.01:00 & 1005.8 & 24.2 & 98.9 & 24.0 & 19.7 & 64.5 & 199.2 & 5.6 & $\\dots$ \\\\\n",
       "\t3 & 000.02:00 & 1005.3 & 24.1 & 98.9 & 23.9 & 24.0 & 78.9 & 201.4 & 5.6 & $\\dots$ \\\\\n",
       "\t4 & 000.03:00 & 1004.8 & 24.2 & 99.1 & 24.1 & 28.3 & 93.0 & 202.2 & 5.8 & $\\dots$ \\\\\n",
       "\t5 & 000.04:00 & 1004.3 & 24.3 & 98.9 & 24.1 & 32.4 & 106.4 & 202.5 & 6.0 & $\\dots$ \\\\\n",
       "\t6 & 000.05:00 & 1003.9 & 24.4 & 99.1 & 24.3 & 36.2 & 118.8 & 200.9 & 6.3 & $\\dots$ \\\\\n",
       "\t7 & 000.06:00 & 1003.4 & 24.6 & 99.1 & 24.4 & 40.2 & 131.9 & 200.3 & 6.3 & $\\dots$ \\\\\n",
       "\t8 & 000.07:00 & 1003.0 & 24.8 & 99.3 & 24.6 & 44.2 & 145.0 & 200.6 & 6.3 & $\\dots$ \\\\\n",
       "\t9 & 000.08:00 & 1002.6 & 24.8 & 99.3 & 24.7 & 47.8 & 156.8 & 201.0 & 6.3 & $\\dots$ \\\\\n",
       "\t10 & 000.09:00 & 1002.2 & 25.0 & 99.1 & 24.9 & 50.7 & 166.3 & 201.8 & 6.4 & $\\dots$ \\\\\n",
       "\t11 & 000.10:00 & 1001.9 & 25.2 & 99.3 & 25.0 & 53.6 & 175.8 & 202.6 & 6.5 & $\\dots$ \\\\\n",
       "\t12 & 000.11:00 & 1001.7 & 25.4 & 99.3 & 25.3 & 55.8 & 183.0 & 202.7 & 6.6 & $\\dots$ \\\\\n",
       "\t13 & 000.12:00 & 1001.3 & 25.4 & 99.3 & 25.3 & 59.2 & 194.1 & 201.3 & 6.5 & $\\dots$ \\\\\n",
       "\t14 & 000.13:00 & 1000.9 & 25.4 & 99.1 & 25.3 & 62.5 & 205.2 & 200.6 & 6.5 & $\\dots$ \\\\\n",
       "\t15 & 000.14:00 & 1000.5 & 25.4 & 99.5 & 25.3 & 66.0 & 216.7 & 200.4 & 6.6 & $\\dots$ \\\\\n",
       "\t16 & 000.15:00 & 1000.1 & 25.4 & 99.3 & 25.3 & 69.7 & 228.8 & 200.2 & 6.9 & $\\dots$ \\\\\n",
       "\t17 & 000.16:00 & 999.7 & 25.5 & 99.3 & 25.3 & 73.1 & 239.9 & 199.5 & 7.3 & $\\dots$ \\\\\n",
       "\t18 & 000.17:00 & 999.4 & 25.4 & 99.3 & 25.3 & 76.0 & 249.4 & 198.7 & 7.8 & $\\dots$ \\\\\n",
       "\t19 & 000.18:00 & 999.1 & 25.4 & 99.1 & 25.2 & 78.6 & 257.9 & 199.5 & 8.0 & $\\dots$ \\\\\n",
       "\t20 & 000.19:00 & 998.7 & 25.3 & 99.3 & 25.2 & 82.3 & 270.0 & 199.7 & 7.9 & $\\dots$ \\\\\n",
       "\t21 & 000.20:00 & 998.3 & 25.3 & 99.3 & 25.2 & 85.8 & 281.5 & 199.7 & 7.8 & $\\dots$ \\\\\n",
       "\t22 & 000.21:00 & 997.9 & 25.3 & 98.9 & 25.1 & 88.6 & 290.6 & 199.6 & 7.8 & $\\dots$ \\\\\n",
       "\t23 & 000.22:00 & 997.5 & 25.2 & 99.3 & 25.1 & 92.5 & 303.4 & 199.4 & 8.0 & $\\dots$ \\\\\n",
       "\t24 & 000.23:00 & 997.1 & 25.2 & 99.5 & 25.1 & 96.4 & 316.2 & 199.3 & 8.3 & $\\dots$ \\\\\n",
       "\t25 & 000.24:00 & 996.6 & 25.1 & 99.5 & 25.0 & 100.7 & 330.2 & 198.5 & 8.5 & $\\dots$ \\\\\n",
       "\t26 & 000.25:00 & 996.1 & 25.1 & 98.9 & 24.9 & 104.8 & 344.0 & 197.4 & 8.5 & $\\dots$ \\\\\n",
       "\t27 & 000.26:00 & 995.7 & 25.1 & 98.7 & 24.8 & 108.3 & 355.4 & 197.1 & 8.3 & $\\dots$ \\\\\n",
       "\t28 & 000.27:00 & 995.3 & 25.0 & 98.9 & 24.8 & 111.6 & 366.2 & 197.1 & 8.0 & $\\dots$ \\\\\n",
       "\t29 & 000.28:00 & 995.0 & 25.1 & 98.9 & 24.9 & 114.8 & 376.7 & 197.3 & 7.9 & $\\dots$ \\\\\n",
       "\t30 & 000.29:00 & 994.7 & 25.2 & 99.1 & 25.0 & 117.6 & 385.9 & 197.0 & 8.1 & $\\dots$ \\\\\n",
       "\t$\\dots$ & $\\dots$ & $\\dots$ & $\\dots$ & $\\dots$ & $\\dots$ & $\\dots$ & $\\dots$ & $\\dots$ & $\\dots$ &  \\\\\n",
       "\\end{tabular}\n"
      ],
      "text/plain": [
       "\u001b[1m3495×14 DataFrame\u001b[0m\n",
       "\u001b[1m  Row \u001b[0m│\u001b[1m Time      \u001b[0m\u001b[1m p(hPa)  \u001b[0m\u001b[1m T(dC)   \u001b[0m\u001b[1m U(%)    \u001b[0m\u001b[1m Dew(dC) \u001b[0m\u001b[1m Geo(gpm) \u001b[0m\u001b[1m Geo(gpft) \u001b[0m\u001b[1m Wd\u001b[0m ⋯\n",
       "      │\u001b[90m String15  \u001b[0m\u001b[90m Float64 \u001b[0m\u001b[90m Float64 \u001b[0m\u001b[90m Float64 \u001b[0m\u001b[90m Float64 \u001b[0m\u001b[90m Float64  \u001b[0m\u001b[90m Float64   \u001b[0m\u001b[90m Fl\u001b[0m ⋯\n",
       "──────┼─────────────────────────────────────────────────────────────────────────\n",
       "    1 │ 000.00:00   1006.3     24.2     98.0     23.8      15.0       49.1     ⋯\n",
       "    2 │ 000.01:00   1005.8     24.2     98.9     24.0      19.7       64.5\n",
       "    3 │ 000.02:00   1005.3     24.1     98.9     23.9      24.0       78.9\n",
       "    4 │ 000.03:00   1004.8     24.2     99.1     24.1      28.3       93.0\n",
       "    5 │ 000.04:00   1004.3     24.3     98.9     24.1      32.4      106.4     ⋯\n",
       "    6 │ 000.05:00   1003.9     24.4     99.1     24.3      36.2      118.8\n",
       "    7 │ 000.06:00   1003.4     24.6     99.1     24.4      40.2      131.9\n",
       "    8 │ 000.07:00   1003.0     24.8     99.3     24.6      44.2      145.0\n",
       "    9 │ 000.08:00   1002.6     24.8     99.3     24.7      47.8      156.8     ⋯\n",
       "   10 │ 000.09:00   1002.2     25.0     99.1     24.9      50.7      166.3\n",
       "   11 │ 000.10:00   1001.9     25.2     99.3     25.0      53.6      175.8\n",
       "  ⋮   │     ⋮         ⋮        ⋮        ⋮        ⋮        ⋮          ⋮         ⋱\n",
       " 3486 │ 083.24:00     92.9    -83.1     27.5    -90.4   16985.3    55725.9\n",
       " 3487 │ 083.25:00     92.8    -83.2     27.5    -90.5   16988.1    55735.3     ⋯\n",
       " 3488 │ 083.26:00     92.8    -83.2     27.5    -90.6   16990.8    55744.1\n",
       " 3489 │ 083.27:00     92.7    -83.3     27.5    -90.6   16993.6    55753.2\n",
       " 3490 │ 083.28:00     92.7    -83.2     27.5    -90.6   16996.3    55762.0\n",
       " 3491 │ 083.29:00     92.7    -83.2     27.5    -90.5   16998.5    55769.5     ⋯\n",
       " 3492 │ 083.30:00     92.6    -83.1     27.5    -90.5   17001.1    55778.0\n",
       " 3493 │ 083.31:00     92.6    -83.1     27.5    -90.4   17004.0    55787.4\n",
       " 3494 │ 083.32:00     92.5    -83.0     27.7    -90.4   17006.5    55795.6\n",
       " 3495 │ 083.33:00     92.5    -83.0     27.7    -90.4   17008.9    55803.4     ⋯\n",
       "\u001b[36m                                                 7 columns and 3474 rows omitted\u001b[0m"
      ]
     },
     "execution_count": 27,
     "metadata": {},
     "output_type": "execute_result"
    }
   ],
   "source": [
    "# 1 file example\n",
    "\n",
    "station = lowercase(\"Chennai\") # Ahmedabad #2 is MISDA DUE TO SIGNAL FAILED\n",
    "files = soundingfiles(station)\n",
    "#filter(x -> occursin(r\"(?i)(May|Standard).*(\\.txt)$(?-i)\",x), readdir(joinpath(reldatapath, station) ))\n",
    "\n",
    "# dt = imd_file_date(files[ui[ord[8]]])\n",
    "\n",
    "# deduplicate sounding times\n",
    "fdt = imd_file_date.(files)\n",
    "fdt12 = round.(fdt, Dates.Hour(12))\n",
    "ui = uniqueidx(fdt12)\n",
    "fdt[ui] # exact datetimes with duplicates removed\n",
    "ord = sortperm(fdt[ui]) # guarantees ascending order\n",
    "\n",
    "# reader functions\n",
    "\n",
    "\n",
    "\"number of headerlines\" # no longer needed\n",
    "function hdrs( station, file )\n",
    "    # these visakhapatnam files have fewer headerlines\n",
    "    bollox = [\"43150-20230527-00-Standard-Summary.txt\",\n",
    "              ] # have 3 headerlines\n",
    "    alpharng = [\"43150-20230605-00-Standard-Summary.txt\", \"43150-20230609-00-Standard-Summary.txt\"] # files later than this have 3 headerlines\n",
    "    (station==\"visakhapatnam\" && file<alpha && !(file in bollox) ) ? 7 : 3\n",
    "end\n",
    "\n",
    "\"single-character replacer handles tabs and \\u00b0 degree character °\"\n",
    "stripjunk(f) = IOBuffer(replace(read(f), UInt8('\\t') => UInt8(' '), UInt16('\\u00b0') => UInt8('d')) )\n",
    "\n",
    "\"read the file and return a DataFrame\"\n",
    "# function read_sonde( station, file; header=hdrs(station,file) )\n",
    "function read_sonde( file )\n",
    "    open( file, \"r\" ) do io\n",
    "        # skip header by reading up through a blank line\n",
    "        hdln = readline( io )\n",
    "        while !isempty(hdln)\n",
    "            hdln = readline( io )\n",
    "        end\n",
    "        CSV.read( stripjunk( io ),\n",
    "            DataFrame, delim=\",\", stripwhitespace=true, ignorerepeated=true ) # header=header\n",
    "    end\n",
    "end\n",
    "\n",
    "# test read\n",
    "@show joinpath(reldatapath, station, files[ui[ord[2]]])\n",
    "df = read_sonde( joinpath(reldatapath, station, files[ui[ord[2]]]) )\n",
    "df"
   ]
  },
  {
   "cell_type": "markdown",
   "id": "6cfa1b52-0c3f-4f39-8901-10e198be829d",
   "metadata": {},
   "source": [
    "# Column headers \n",
    "\n",
    "Chennai, Karaikal, Kochi, Kolkata, Ahmedabad, Pune\n",
    "```\n",
    "Time,     p(hPa),    T(?C),    U(%),      Dew(?C),     Geo(gpm),   Geo(gpft),    Wdir(?),    Wspd(m/s),    Asc(m/m),    Avg Asc(m/m),    Azimuth(?),   Range(m),    Elevation(?),\n",
    "```\n",
    "Mangalore, PortBlair\n",
    "```\n",
    "Time,\tP(hPa),\tT(C),\tU(%),\tDew(C),\tGeo(gpm),\tGeo(gpft),\tWdir(d),\tWspd(m/s),\tAsc(m/m),\tAvgAsc(m/m)\n",
    "```\n",
    "Visakhapatnam\n",
    "43150-20230512-00-Standard-Summary.txt, 43150-20230520-00-Standard-Summary.txt: 3 headerlines\n",
    "```\n",
    "Time,\tP(hPa),\tT(C),\tU(%),\tDew(C),\tGeo(gpm),\tGeo(gpft),\tWdir(d),\tWspd(m/s),\tAsc(m/m),\tAvgAsc(m/m)\n",
    "```\n",
    "all other Visakhapatnam: 7 headerlines\n",
    "\n",
    "Simon edited the 2 Vsk files to make them have 7"
   ]
  },
  {
   "cell_type": "code",
   "execution_count": 28,
   "id": "6921bd02-0e4c-4592-8d56-7dbd8c9c5748",
   "metadata": {},
   "outputs": [
    {
     "data": {
      "text/plain": [
       "2-element Vector{Vector{String}}:\n",
       " [\"Time\", \"p(hPa)\", \"T(?C)\", \"U(%)\", \"Dew(?C)\", \"Geo(gpm)\", \"Geo(gpft)\", \"Wdir(?)\", \"Wspd(m/s)\", \"Asc(m/m)\", \"Avg Asc(m/m)\", \"Azimuth(?)\", \"Range(m)\", \"Elevation(?)\"]\n",
       " [\"Time\", \"P(hPa)\", \"T(C)\", \"U(%)\", \"Dew(C)\", \"Geo(gpm)\", \"Geo(gpft)\", \"Wdir(d)\", \"Wspd(m/s)\", \"Asc(m/m)\", \"AvgAsc(m/m)\"]"
      ]
     },
     "execution_count": 28,
     "metadata": {},
     "output_type": "execute_result"
    }
   ],
   "source": [
    "NamePatterns = [ \n",
    "    [\"Time\", \"p(hPa)\", \"T(?C)\", \"U(%)\", \"Dew(?C)\", \"Geo(gpm)\", \"Geo(gpft)\", \"Wdir(?)\", \"Wspd(m/s)\", \"Asc(m/m)\", \"Avg Asc(m/m)\", \"Azimuth(?)\", \"Range(m)\", \"Elevation(?)\"], #Visakhapatnam style 1\n",
    "    [\"Time\", \"P(hPa)\", \"T(C)\", \"U(%)\", \"Dew(C)\", \"Geo(gpm)\", \"Geo(gpft)\", \"Wdir(d)\", \"Wspd(m/s)\", \"Asc(m/m)\", \"AvgAsc(m/m)\"] # Mangalore, Visakhapatnam\n",
    "    ]"
   ]
  },
  {
   "cell_type": "code",
   "execution_count": 29,
   "id": "302bcbb0-1081-483c-9b4d-bf583a2a27f2",
   "metadata": {},
   "outputs": [
    {
     "data": {
      "text/plain": [
       "([1006.3, 1005.8, 1005.3, 1004.8, 1004.3, 1003.9, 1003.4, 1003.0, 1002.6, 1002.2  …  92.9, 92.8, 92.8, 92.7, 92.7, 92.7, 92.6, 92.6, 92.5, 92.5], [24.2, 24.2, 24.1, 24.2, 24.3, 24.4, 24.6, 24.8, 24.8, 25.0  …  -83.1, -83.2, -83.2, -83.3, -83.2, -83.2, -83.1, -83.1, -83.0, -83.0], [23.8, 24.0, 23.9, 24.1, 24.1, 24.3, 24.4, 24.6, 24.7, 24.9  …  -90.4, -90.5, -90.6, -90.6, -90.6, -90.5, -90.5, -90.4, -90.4, -90.4], [98.0, 98.9, 98.9, 99.1, 98.9, 99.1, 99.1, 99.3, 99.3, 99.1  …  27.5, 27.5, 27.5, 27.5, 27.5, 27.5, 27.5, 27.5, 27.7, 27.7], [15.0, 19.7, 24.0, 28.3, 32.4, 36.2, 40.2, 44.2, 47.8, 50.7  …  16985.3, 16988.1, 16990.8, 16993.6, 16996.3, 16998.5, 17001.1, 17004.0, 17006.5, 17008.9], [4.0, 5.6, 5.6, 5.8, 6.0, 6.3, 6.3, 6.3, 6.3, 6.4  …  15.2, 14.9, 14.7, 14.8, 14.9, 15.0, 15.1, 15.2, 15.4, 15.5], [135.0, 199.2, 201.4, 202.2, 202.5, 200.9, 200.3, 200.6, 201.0, 201.8  …  115.4, 115.2, 114.9, 114.8, 114.9, 115.0, 114.9, 114.7, 114.4, 114.3], [-2.8284271247461903, 1.8416532217360653, 2.043309992290671, 2.191476563547108, 2.296100594190538, 2.2474493957136374, 2.1856946049115122, 2.2166023849496197, 2.257718082135393, 2.376754147521504  …  -13.730696451522173, -13.481923081743691, -13.333547010084535, -13.435106682287048, -13.514955812942828, -13.594616805549752, -13.696364615801121, -13.80932429840617, -14.024528376415127, -14.126750787849401], [2.82842712474619, 5.288507673329894, 5.213912568830158, 5.37004939189797, 5.543277195067721, 5.885488188222486, 5.908700288054955, 5.897175075155532, 5.881556686932371, 5.942309292037847  …  6.519814027727816, 6.344111444319584, 6.189226456502118, 6.207890820203423, 6.273433619175616, 6.33927392611049, 6.357640781849114, 6.35157952177637, 6.361808219297944, 6.378472558379186])"
      ]
     },
     "execution_count": 29,
     "metadata": {},
     "output_type": "execute_result"
    }
   ],
   "source": [
    "# test read a sounding\n",
    "\n",
    "p, T,Td, rh,z, wspd,wdir, u,v = get_sounding_cols(df, station)\n",
    "\n",
    "#=\n",
    "# test plot\n",
    "clf()\n",
    "plot( m2n.(T), m2n.(p), label=\"Temperature (C)\")\n",
    "ylim(1000, 20)\n",
    "station\n",
    "=#"
   ]
  },
  {
   "cell_type": "code",
   "execution_count": 59,
   "id": "315e771f-6657-47d9-b0d1-77c3bdf32502",
   "metadata": {},
   "outputs": [
    {
     "data": {
      "text/plain": [
       "get_sounding_cols"
      ]
     },
     "execution_count": 59,
     "metadata": {},
     "output_type": "execute_result"
    }
   ],
   "source": [
    "\"extract column data by name\"\n",
    "function get_sounding_cols(df, station)\n",
    "    if isempty(df)\n",
    "        # p = [missing]\n",
    "        # T = [missing]\n",
    "        # Td = [missing]\n",
    "        # rh= [missing]\n",
    "        # z = [missing]\n",
    "        # wspd = [missing]\n",
    "        # wdir = [missing]\n",
    "        p = []\n",
    "        T = []\n",
    "        Td = []\n",
    "        rh= []\n",
    "        z = []\n",
    "        wspd = []\n",
    "        wdir = []\n",
    "    else\n",
    "        if in(station, [\"mangalore\", \"visakhapatnam\", \"portblair\"])\n",
    "            if \"P(hPa)\" in names(df)\n",
    "                p = df[!,\"P(hPa)\"][:]\n",
    "                T = df[!,\"T(C)\"][:]\n",
    "                Td = df[!,\"Dew(C)\"][:]\n",
    "                rh = df[!,\"U(%)\"][:]\n",
    "                z = df[!,\"Geo(gpm)\"][:]\n",
    "                wspd = df[!,\"Wspd(m/s)\"][:]\n",
    "                wdir = df[!,\"Wdir(d)\"][:]\n",
    "            elseif \"p(hPa)\" in names(df) # slightly different keys\n",
    "                p = df[!,\"p(hPa)\"][:]\n",
    "                rh = df[!,\"U(%)\"][:]\n",
    "                z = df[!,\"Geo(gpm)\"][:]\n",
    "                wspd = df[!,\"Wspd(m/s)\"][:]\n",
    "                if \"T(dC)\" in names(df)\n",
    "                    T = df[!,\"T(dC)\"][:]\n",
    "                    Td = df[!,\"Dew(dC)\"][:]\n",
    "                    wdir = df[!,\"Wdir(d)\"][:]\n",
    "                elseif \"T(Deg.C)\" in names(df) # another variation\n",
    "                    T = df[!,\"T(Deg.C)\"][:]\n",
    "                    Td = df[!,\"Dew(Deg.C)\"][:]\n",
    "                    wdir = df[!,\"Wdir(Deg)\"][:]\n",
    "                end\n",
    "            end\n",
    "        else # slightly different keys\n",
    "            p = df[!,\"p(hPa)\"][:]\n",
    "            rh = df[!,\"U(%)\"][:]\n",
    "            z = df[!,\"Geo(gpm)\"][:]\n",
    "            wspd = df[!,\"Wspd(m/s)\"][:]\n",
    "            if \"T(dC)\" in names(df)\n",
    "                T = df[!,\"T(dC)\"][:]\n",
    "                Td = df[!,\"Dew(dC)\"][:]\n",
    "                wdir = df[!,\"Wdir(d)\"][:]\n",
    "            elseif \"T(Deg.C)\" in names(df) # another variation\n",
    "                T = df[!,\"T(Deg.C)\"][:]\n",
    "                Td = df[!,\"Dew(Deg.C)\"][:]\n",
    "                wdir = df[!,\"Wdir(Deg)\"][:]\n",
    "            end\n",
    "\n",
    "        end\n",
    "    end\n",
    "    u = -wspd .* sin.(pi/180.0*wdir)\n",
    "    v = -wspd .* cos.(pi/180.0*wdir)\n",
    "    \n",
    "    return p, T,Td, rh,z, wspd,wdir, u,v\n",
    "end"
   ]
  },
  {
   "cell_type": "code",
   "execution_count": 31,
   "id": "c700bd3d-fa82-40c0-a6cf-b5fa44a62768",
   "metadata": {},
   "outputs": [
    {
     "data": {
      "text/plain": [
       "m2n (generic function with 1 method)"
      ]
     },
     "execution_count": 31,
     "metadata": {},
     "output_type": "execute_result"
    }
   ],
   "source": [
    "# sounding variable functions\n",
    "\n",
    "meanfinite(x, dims) = sum(isfinite(x) ? x : 0, dims=dims)./sum(isfinite, x, dims=dims)\n",
    "anom(x; dims=ndims(x)) = x .- meanfinite(x, dims)\n",
    "\n",
    "\"Exner function T/θ = (p/p_0)^Rd/cp\"\n",
    "Exner(p) = (p/1000.0)^0.287 # = T/theta\n",
    "th(T,p) = T/Exner(p)\n",
    "\n",
    "# put NaNs in for missing for matplotlib\n",
    "m2n(x) = ismissing(x) ? NaN : x"
   ]
  },
  {
   "cell_type": "code",
   "execution_count": 32,
   "id": "2902e55b-5334-482f-aef8-251fe5a531f8",
   "metadata": {},
   "outputs": [
    {
     "name": "stdout",
     "output_type": "stream",
     "text": [
      "files[ti] = \"01MAY2023VSK.txt\"\n",
      "files[ti] = \"02MAY2023VSK.txt\"\n",
      "files[ti] = \"03MAY2023VSK.txt\"\n",
      "files[ti] = \"04MAY2023VSK.txt\"\n",
      "files[ti] = \"05MAY2023VSK.txt\"\n",
      "files[ti] = \"06MAY2023VSK.txt\"\n",
      "files[ti] = \"07MAY2023VSK.txt\"\n",
      "files[ti] = \"08MAY2023VSK.txt\"\n",
      "files[ti] = \"09MAY2023VSK.txt\"\n",
      "files[ti] = \"10MAY2023VSK.txt\"\n",
      "files[ti] = \"43150-20230511-00-Standard-Summary.txt\"\n",
      "files[ti] = \"43150-20230512-00-Standard-Summary.txt\"\n",
      "files[ti] = \"43150-20230513-00-Standard-Summary.txt\"\n",
      "files[ti] = \"43150-20230514-00-Standard-Summary.txt\"\n",
      "files[ti] = \"43150-20230515-00-Standard-Summary.txt\"\n",
      "files[ti] = \"43150-20230516-00-Standard-Summary.txt\"\n",
      "files[ti] = \"43150-20230517-00-Standard-Summary.txt\"\n",
      "files[ti] = \"43150-20230518-00-Standard-Summary.txt\"\n",
      "files[ti] = \"43150-20230519-00-Standard-Summary.txt\"\n",
      "files[ti] = \"43150-20230520-00-Standard-Summary.txt\"\n",
      "files[ti] = \"43150-20230521-00-Standard-Summary.txt\"\n",
      "files[ti] = \"43150-20230522-00-Standard-Summary.txt\"\n",
      "files[ti] = \"43150-20230523-00-Standard-Summary.txt\"\n",
      "files[ti] = \"43150-20230524-00-Standard-Summary.txt\"\n",
      "files[ti] = \"43150-20230525-00-Standard-Summary.txt\"\n",
      "files[ti] = \"43150-20230526-00-Standard-Summary.txt\"\n",
      "files[ti] = \"43150-20230527-00-Standard-Summary.txt\"\n",
      "files[ti] = \"43150-20230528-00-Standard-Summary.txt\"\n",
      "files[ti] = \"43150-20230529-00-Standard-Summary.txt\"\n",
      "files[ti] = \"43150-20230530-00-Standard-Summary.txt\"\n",
      "files[ti] = \"43150-20230531-00-Standard-Summary.txt\"\n",
      "files[ti] = \"43150-20230601-00-Standard-Summary.txt\"\n",
      "files[ti] = \"43150-20230602-00-Standard-Summary.txt\"\n",
      "files[ti] = \"43150-20230603-00-Standard-Summary.txt\"\n",
      "files[ti] = \"43150-20230604-00-Standard-Summary.txt\"\n",
      "files[ti] = \"43150-20230605-00-Standard-Summary.txt\"\n",
      "files[ti] = \"43150-20230606-00-Standard-Summary.txt\"\n",
      "files[ti] = \"43150-20230607-00-Standard-Summary.txt\"\n",
      "files[ti] = \"43150-20230608-00-Standard-Summary.txt\"\n",
      "files[ti] = \"43150-20230609-00-Standard-Summary.txt\"\n",
      "files[ti] = \"43150-20230610-00-Standard-Summary.txt\"\n",
      "files[ti] = \"43150-20230611-00-Standard-Summary.txt\"\n",
      "files[ti] = \"43150-20230612-00-Standard-Summary.txt\"\n",
      "files[ti] = \"43150-20230613-00-Standard-Summary.txt\"\n",
      "files[ti] = \"43150-20230614-00-Standard-Summary.txt\"\n",
      "files[ti] = \"43150-20230615-00-Standard-Summary.txt\"\n",
      "files[ti] = \"43150-20230616-00-Standard-Summary.txt\"\n",
      "files[ti] = \"43150-20230617-00-Standard-Summary.txt\"\n",
      "files[ti] = \"43150-20230618-00-Standard-Summary.txt\"\n",
      "files[ti] = \"43150-20230620-00-Standard-Summary.txt\"\n",
      "files[ti] = \"43150-20230621-00-Standard-Summary.txt\"\n",
      "files[ti] = \"43150-20230622-00-Standard-Summary.txt\"\n",
      "files[ti] = \"43150-20230623-00-Standard-Summary.txt\"\n",
      "files[ti] = \"43150-20230624-00-Standard-Summary.txt\"\n",
      "files[ti] = \"43150-20230625-00-Standard-Summary.txt\"\n",
      "files[ti] = \"43150-20230626-00-Standard-Summary.txt\"\n",
      "files[ti] = \"43150-20230627-00-Standard-Summary.txt\"\n",
      "files[ti] = \"43150-20230628-00-Standard-Summary.txt\"\n",
      "files[ti] = \"43150-20230629-00-Standard-Summary.txt\"\n"
     ]
    }
   ],
   "source": [
    "# inventory files, times\n",
    "station=\"visakhapatnam\" # \"visakhapatnam\"\n",
    "    # read standard named files in the station's directory\n",
    "    files = soundingfiles(station)\n",
    "    # deduplicate sounding times\n",
    "    fdt = imd_file_date.(files)\n",
    "    fdt12 = round.(fdt, Dates.Hour(12))\n",
    "    ui = uniqueidx(fdt12)\n",
    "    fdt[ui] # exact datetimes with duplicates removed\n",
    "    ord = sortperm(fdt[ui]) # guarantees ascending order\n",
    "    cat(files[ui[ord]], fdt[ui[ord]], dims=2)\n",
    "\n",
    "\n",
    "# test read visakhapatanm\n",
    "for ti in ui[ord]\n",
    "    fn = joinpath(reldatapath, station, files[ti])\n",
    "    df = read_sonde( joinpath(reldatapath, station, files[ti]) )\n",
    "    @show files[ti]\n",
    "    if !isempty(df)\n",
    "        # extract ungridded hi-res data\n",
    "        p_, T_,Td_, rh_,z_, wspd_,wdir_, u_,v_ = get_sounding_cols(df, station)\n",
    "    end\n",
    "end"
   ]
  },
  {
   "cell_type": "code",
   "execution_count": 33,
   "id": "32493e7d-05c2-474f-852a-5b719e705349",
   "metadata": {},
   "outputs": [
    {
     "data": {
      "text/plain": [
       "grid_imd_soundings!"
      ]
     },
     "execution_count": 33,
     "metadata": {},
     "output_type": "execute_result"
    }
   ],
   "source": [
    "# start over and do a big loop to load and interpolate data to consistent levels\n",
    "\n",
    "# lexical defaults for grid_imd_sondes\n",
    "reldatapath = \"../data/EKAMSAT_IMD/ekamsat\"\n",
    "plevs = 1020.0:-5.0:0.0\n",
    "CamelStations = [\"Ahmedabad\",\"Chennai\",\"Karaikal\",\"Kochi\",\"Kolkata\",\"Mangalore\",\"PortBlair\",\"Pune\",\"Visakhapatnam\"]\n",
    "stationnames = lowercase.(CamelStations)\n",
    "\n",
    "#=\n",
    "# allocate gridded data arrays (pressure, location, launch time)\n",
    "# for grid_imd_soundings! to update in-place.\n",
    "nt = count_max_unique_soundings(stationnames)\n",
    "# nt = 80 # allow for longest station mangalore?(37), extend & trim off extra later\n",
    "time = zeros(DateTime, length(stationnames), nt)\n",
    "T  = NaN.+zeros(Float64, length(plevs), length(stationnames), nt)\n",
    "Td = NaN.+zeros(Float64, length(plevs), length(stationnames), nt)\n",
    "rh = NaN.+zeros(Float64, length(plevs), length(stationnames), nt)\n",
    "z  = NaN.+zeros(Float64, length(plevs), length(stationnames), nt)\n",
    "u  = NaN.+zeros(Float64, length(plevs), length(stationnames), nt)\n",
    "v  = NaN.+zeros(Float64, length(plevs), length(stationnames), nt)\n",
    "=#\n",
    "\n",
    "\"read and grid IMD soundings to pressure levels.\"\n",
    "function grid_imd_soundings!( time, T, Td, rh, z, u, v; \n",
    "                              plevs=plevs, stationnames=stationnames, reldatapath=reldatapath )\n",
    "    for (sj, station) in enumerate(stationnames)\n",
    "        @show station\n",
    "        # read standard named files in the station's directory\n",
    "        files = soundingfiles(station)\n",
    "        # sj += 1 # gridded station index\n",
    "        # deduplicate sounding times\n",
    "        fdt = imd_file_date.(files)\n",
    "        fdt12 = round.(fdt, Dates.Hour(12))\n",
    "        ui = uniqueidx(fdt12)\n",
    "        fdt[ui] # exact datetimes with duplicates removed\n",
    "        ord = sortperm(fdt[ui]) # guarantees ascending order\n",
    "        #collect(zip( files[ui[ord]]], fdt[ui[ord]] ))\n",
    "        \n",
    "        tj = 0\n",
    "        for ti in ui[ord]\n",
    "            fn = joinpath(reldatapath, station, files[ti])\n",
    "            df = read_sonde( joinpath(reldatapath, station, files[ti]) )\n",
    "            if !isempty(df)\n",
    "                # extract ungridded hi-res data\n",
    "                p_, T_,Td_, rh_,z_, wspd_,wdir_, u_,v_ = get_sounding_cols(df, station)\n",
    "                # avg variables at the next time level\n",
    "                tj += 1\n",
    "                # update arrays in place\n",
    "                time[sj,tj] = fdt[ti]\n",
    "                T[  :, sj, tj] .= pavg(T_ , p_, plevs=plevs)\n",
    "                Td[ :, sj, tj] .= pavg(Td_, p_, plevs=plevs)\n",
    "                rh[ :, sj, tj] .= pavg(rh_, p_, plevs=plevs)\n",
    "                z[  :, sj, tj] .= pavg(z_ , p_, plevs=plevs)\n",
    "                u[  :, sj, tj] .= pavg(u_ , p_, plevs=plevs)\n",
    "                v[  :, sj, tj] .= pavg(v_ , p_, plevs=plevs)\n",
    "            else\n",
    "                tj += 1\n",
    "                time[sj,tj] =fdt[ti]\n",
    "                # leave an empty sounding when missing\n",
    "            end\n",
    "        end\n",
    "    end\n",
    "    return # nothing\n",
    "end"
   ]
  },
  {
   "cell_type": "code",
   "execution_count": 55,
   "id": "8c91cd29-2ec2-4d27-a800-f154ee3abb32",
   "metadata": {},
   "outputs": [
    {
     "data": {
      "text/plain": [
       "205-element Vector{Float64}:\n",
       " NaN\n",
       " NaN\n",
       " NaN\n",
       " NaN\n",
       " NaN\n",
       "  31.05\n",
       "  30.8875\n",
       "  29.262500000000003\n",
       "  28.72\n",
       "  29.299999999999997\n",
       "  26.9\n",
       "  27.82666666666667\n",
       "  27.52307692307692\n",
       "   ⋮\n",
       " -66.79729729729728\n",
       " -66.20275229357797\n",
       " -66.33283582089555\n",
       " -64.50457516339866\n",
       " -58.730994152046776\n",
       " -53.014479638009114\n",
       " -52.02055335968386\n",
       " -47.48287461773701\n",
       " NaN\n",
       " NaN\n",
       " NaN\n",
       " NaN"
      ]
     },
     "execution_count": 55,
     "metadata": {},
     "output_type": "execute_result"
    }
   ],
   "source": [
    "# test, find corrupt files by hand\n",
    "\n",
    "station = \"ahmedabad\"\n",
    "\n",
    "files = soundingfiles(station)\n",
    "# sj += 1 # gridded station index\n",
    "# deduplicate sounding times\n",
    "fdt = imd_file_date.(files)\n",
    "fdt12 = round.(fdt, Dates.Hour(12))\n",
    "ui = uniqueidx(fdt12)\n",
    "fdt[ui] # exact datetimes with duplicates removed\n",
    "ord = sortperm(fdt[ui]) # guarantees ascending order\n",
    "collect(zip( files[ui[ord]], fdt[ui[ord]] ))\n",
    "\n",
    "tj = 0\n",
    "ti = ui[ord[46]]\n",
    "    fn = joinpath(reldatapath, station, files[ti])\n",
    "    df = read_sonde( joinpath(reldatapath, station, files[ti]) )\n",
    "    if !isempty(df)\n",
    "        # extract ungridded hi-res data\n",
    "        p_, T_,Td_, rh_,z_, wspd_,wdir_, u_,v_ = get_sounding_cols(df, station)\n",
    "        # avg variables at the next time level\n",
    "        tj += 1\n",
    "        # update arrays in place\n",
    "        # time[sj,tj] = fdt[ti]\n",
    "        # T[  :, sj, tj] .=\n",
    "        pavg(T_ , p_, plevs=plevs)\n",
    "        # Td[ :, sj, tj] .= pavg(Td_, p_, plevs=plevs)\n",
    "        # rh[ :, sj, tj] .= pavg(rh_, p_, plevs=plevs)\n",
    "        # z[  :, sj, tj] .= pavg(z_ , p_, plevs=plevs)\n",
    "        # u[  :, sj, tj] .= pavg(u_ , p_, plevs=plevs)\n",
    "        # v[  :, sj, tj] .= pavg(v_ , p_, plevs=plevs)\n",
    "    else\n",
    "        tj += 1\n",
    "        # time[sj,tj] =fdt[ti]\n",
    "        # leave an empty sounding when missing\n",
    "    end"
   ]
  },
  {
   "cell_type": "code",
   "execution_count": 56,
   "id": "c7d99010-15fb-49b3-9b6f-850350e9595d",
   "metadata": {},
   "outputs": [
    {
     "data": {
      "text/plain": [
       "plot_timeheights"
      ]
     },
     "execution_count": 56,
     "metadata": {},
     "output_type": "execute_result"
    }
   ],
   "source": [
    "# make time-height plot for each station\n",
    "\n",
    "\"sftp put file f to rendezvous.apl.washington.edu /incoming/sonde\" # clunky, works\n",
    "function put_file_apl( f )\n",
    "    sftp_str = \"sftp -P 2022 -i ~/.ssh/id_ed25519 sdeszoek@rendezvous.apl.washington.edu <<< 'put $(f) /incoming/sonde'\"\n",
    "    run(`sh -c $(sftp_str)`)\n",
    "end\n",
    "\n",
    "\"output days from offset\"\n",
    "mpldate(timestamp, offset=DateTime(2023,4,30,0,0,0)) = Dates.value(timestamp-offset)/1000/60/60/24\n",
    "#invmpldate( mlpd, offset=DateTime(2023,4,30,0,0,0) ) = mpldate+Dates.value(offset)/1000/60/60/24\n",
    "mplday(d; offset=Date(2023,4,30)) = day(Day(d) + offset) # ticks\n",
    "\n",
    "\"Update plot all u,rh sounding timeheight profiles and put to APL.\"\n",
    "function plot_timeheights( time, T, Td, rh, z, u, v )\n",
    "    # count times at each station\n",
    "    nts = sum(time.>DateTime(1000), dims=2)\n",
    "    for sj in 1:9\n",
    "        clf()\n",
    "        subplot(2,1,1)\n",
    "        pcolormesh( mpldate.(time[sj,1:nts[sj]]), plevs, u[:,sj,1:nts[sj]], vmin=-10, vmax=10, cmap=ColorMap(\"RdYlBu_r\") )\n",
    "        ylim(1000, 100)\n",
    "        ylabel(\"u (m/s)\")\n",
    "        xtl,~ = xticks()\n",
    "        xticks( xtl, mplday.(xtl,offset=Date(2023,4,30)) )\n",
    "        colorbar()\n",
    "        title(CamelStations[sj])\n",
    "    \n",
    "        subplot(2,1,2)\n",
    "        pcolormesh( mpldate.(time[sj,1:nts[sj]]), plevs, rh[:,sj,1:nts[sj]], cmap=ColorMap(\"RdYlBu_r\"))\n",
    "        ylim(1000, 100)\n",
    "        ylabel(\"RH (%)\")\n",
    "        xtl,~ = xticks()\n",
    "        xticks( xtl, mplday.(xtl,offset=Date(2023,4,30)) )\n",
    "        colorbar()\n",
    "        xlabel(Dates.format(time[sj,1], \"yyyy U\"))\n",
    "    \n",
    "        figfile = \"../plot/$(CamelStations[sj])_u_rh.svg\"\n",
    "        savefig( figfile )\n",
    "        put_file_apl( figfile )\n",
    "    end\n",
    "end"
   ]
  },
  {
   "cell_type": "code",
   "execution_count": 57,
   "id": "1586c664-c4dd-4155-8ab1-315241ab2b2b",
   "metadata": {},
   "outputs": [
    {
     "data": {
      "text/plain": [
       "write_new_grid_sondes"
      ]
     },
     "execution_count": 57,
     "metadata": {},
     "output_type": "execute_result"
    }
   ],
   "source": [
    "\"Write out pressure-gridded sonde data. Push new files to APL. Let old files stand.\"\n",
    "function write_new_grid_sondes( time, T, Td, rh, z, u, v; stationnames )\n",
    "    # count times at each station\n",
    "    nts = sum(time.>DateTime(1000), dims=2)\n",
    "    for (sj, station) in enumerate(stationnames)\n",
    "        for tj in 1:nts[sj]\n",
    "            fileout = joinpath(\"../data/EKAMSAT_IMD/grid_sondes/\", Dates.format(time[sj,tj], \"yyyymmdd-HH\")*\"_$(CamelStations[sj]).csv\")\n",
    "            if !isfile(fileout)\n",
    "                # @show fileout\n",
    "                dfo = DataFrame(  p=plevs,\n",
    "                                  T=T[  :, sj, tj],\n",
    "                                  Td=Td[:, sj, tj],\n",
    "                                  rh=rh[:, sj, tj],\n",
    "                                  z=z[  :, sj, tj],\n",
    "                                  u=u[  :, sj, tj],\n",
    "                                  v=v[  :, sj, tj]  )\n",
    "                CSV.write( fileout, dfo )\n",
    "                put_file_apl( fileout )\n",
    "            end\n",
    "        end\n",
    "    end\n",
    "end\n"
   ]
  },
  {
   "cell_type": "code",
   "execution_count": 61,
   "id": "d212fd17-67ce-462a-befe-9bd5bc1ff0d3",
   "metadata": {},
   "outputs": [
    {
     "name": "stdout",
     "output_type": "stream",
     "text": [
      "station = \"mangalore\"\n",
      "sftp> put ../plot/Ahmedabad_u_rh.svg /incoming/sonde\n",
      "Uploading ../plot/Ahmedabad_u_rh.svg to /incoming/sonde/Ahmedabad_u_rh.svg\n"
     ]
    },
    {
     "name": "stderr",
     "output_type": "stream",
     "text": [
      "Connected to rendezvous.apl.washington.edu.\n"
     ]
    },
    {
     "ename": "LoadError",
     "evalue": "BoundsError: attempt to access 1×1 Matrix{Int64} at index [2]",
     "output_type": "error",
     "traceback": [
      "BoundsError: attempt to access 1×1 Matrix{Int64} at index [2]",
      "",
      "Stacktrace:",
      " [1] getindex",
      "   @ ./array.jl:924 [inlined]",
      " [2] plot_timeheights(time::Matrix{DateTime}, T::Array{Float64, 3}, Td::Array{Float64, 3}, rh::Array{Float64, 3}, z::Array{Float64, 3}, u::Array{Float64, 3}, v::Array{Float64, 3})",
      "   @ Main ./In[56]:21",
      " [3] top-level scope",
      "   @ In[61]:22"
     ]
    }
   ],
   "source": [
    "# test mangalore\n",
    "\n",
    "# reiterate parameters for paths, names, and gridding\n",
    "reldatapath = \"../data/EKAMSAT_IMD/ekamsat\"\n",
    "plevs = 1020.0:-5.0:0.0\n",
    "CamelStations = [\"Ahmedabad\",\"Chennai\",\"Karaikal\",\"Kochi\",\"Kolkata\",\"Mangalore\",\"PortBlair\",\"Pune\",\"Visakhapatnam\"]\n",
    "stationnames = lowercase.([\"mangalore\"])\n",
    "\n",
    "# allocate gridded data arrays (pressure, location, launch time)\n",
    "nt = count_max_unique_soundings(stationnames)\n",
    "# nt = 80 # allow for longest station mangalore?(37), extend & trim off extra later\n",
    "times = zeros(DateTime, length(stationnames), nt)\n",
    "T  = NaN.+zeros(Float64, length(plevs), length(stationnames), nt)\n",
    "Td = NaN.+zeros(Float64, length(plevs), length(stationnames), nt)\n",
    "rh = NaN.+zeros(Float64, length(plevs), length(stationnames), nt)\n",
    "z  = NaN.+zeros(Float64, length(plevs), length(stationnames), nt)\n",
    "u  = NaN.+zeros(Float64, length(plevs), length(stationnames), nt)\n",
    "v  = NaN.+zeros(Float64, length(plevs), length(stationnames), nt)\n",
    "\n",
    "grid_imd_soundings!( times, T, Td, rh, z, u, v; plevs=plevs, stationnames=stationnames, reldatapath=reldatapath )\n",
    "\n",
    "plot_timeheights( times, T, Td, rh, z, u, v )\n",
    "write_new_grid_sondes( times, T, Td, rh, z, u, v; stationnames )"
   ]
  },
  {
   "cell_type": "code",
   "execution_count": 63,
   "id": "c9778d50-8707-41e2-9da6-ffb31dc2f1ef",
   "metadata": {},
   "outputs": [
    {
     "name": "stdout",
     "output_type": "stream",
     "text": [
      "station = \"ahmedabad\"\n",
      "station = \"chennai\"\n",
      "station = \"karaikal\"\n",
      "station = \"kochi\"\n",
      "station = \"kolkata\"\n",
      "station = \"mangalore\"\n",
      "station = \"portblair\"\n",
      "station = \"pune\"\n",
      "station = \"visakhapatnam\"\n",
      "sftp> put ../plot/Ahmedabad_u_rh.svg /incoming/sonde\n",
      "Uploading ../plot/Ahmedabad_u_rh.svg to /incoming/sonde/Ahmedabad_u_rh.svg\n"
     ]
    },
    {
     "name": "stderr",
     "output_type": "stream",
     "text": [
      "Connected to rendezvous.apl.washington.edu.\n"
     ]
    },
    {
     "name": "stdout",
     "output_type": "stream",
     "text": [
      "sftp> put ../plot/Chennai_u_rh.svg /incoming/sonde\n",
      "Uploading ../plot/Chennai_u_rh.svg to /incoming/sonde/Chennai_u_rh.svg\n"
     ]
    },
    {
     "name": "stderr",
     "output_type": "stream",
     "text": [
      "Connected to rendezvous.apl.washington.edu.\n"
     ]
    },
    {
     "name": "stdout",
     "output_type": "stream",
     "text": [
      "sftp> put ../plot/Karaikal_u_rh.svg /incoming/sonde\n",
      "Uploading ../plot/Karaikal_u_rh.svg to /incoming/sonde/Karaikal_u_rh.svg\n"
     ]
    },
    {
     "name": "stderr",
     "output_type": "stream",
     "text": [
      "Connected to rendezvous.apl.washington.edu.\n"
     ]
    },
    {
     "name": "stdout",
     "output_type": "stream",
     "text": [
      "sftp> put ../plot/Kochi_u_rh.svg /incoming/sonde\n",
      "Uploading ../plot/Kochi_u_rh.svg to /incoming/sonde/Kochi_u_rh.svg\n"
     ]
    },
    {
     "name": "stderr",
     "output_type": "stream",
     "text": [
      "Connected to rendezvous.apl.washington.edu.\n"
     ]
    },
    {
     "name": "stdout",
     "output_type": "stream",
     "text": [
      "sftp> put ../plot/Kolkata_u_rh.svg /incoming/sonde\n",
      "Uploading ../plot/Kolkata_u_rh.svg to /incoming/sonde/Kolkata_u_rh.svg\n"
     ]
    },
    {
     "name": "stderr",
     "output_type": "stream",
     "text": [
      "Connected to rendezvous.apl.washington.edu.\n"
     ]
    },
    {
     "name": "stdout",
     "output_type": "stream",
     "text": [
      "sftp> put ../plot/Mangalore_u_rh.svg /incoming/sonde\n",
      "Uploading ../plot/Mangalore_u_rh.svg to /incoming/sonde/Mangalore_u_rh.svg\n"
     ]
    },
    {
     "name": "stderr",
     "output_type": "stream",
     "text": [
      "Connected to rendezvous.apl.washington.edu.\n"
     ]
    },
    {
     "name": "stdout",
     "output_type": "stream",
     "text": [
      "sftp> put ../plot/PortBlair_u_rh.svg /incoming/sonde\n",
      "Uploading ../plot/PortBlair_u_rh.svg to /incoming/sonde/PortBlair_u_rh.svg\n"
     ]
    },
    {
     "name": "stderr",
     "output_type": "stream",
     "text": [
      "Connected to rendezvous.apl.washington.edu.\n"
     ]
    },
    {
     "name": "stdout",
     "output_type": "stream",
     "text": [
      "sftp> put ../plot/Pune_u_rh.svg /incoming/sonde\n",
      "Uploading ../plot/Pune_u_rh.svg to /incoming/sonde/Pune_u_rh.svg\n"
     ]
    },
    {
     "name": "stderr",
     "output_type": "stream",
     "text": [
      "Connected to rendezvous.apl.washington.edu.\n"
     ]
    },
    {
     "name": "stdout",
     "output_type": "stream",
     "text": [
      "sftp> put ../plot/Visakhapatnam_u_rh.svg /incoming/sonde\n",
      "Uploading ../plot/Visakhapatnam_u_rh.svg to /incoming/sonde/Visakhapatnam_u_rh.svg\n"
     ]
    },
    {
     "name": "stderr",
     "output_type": "stream",
     "text": [
      "Connected to rendezvous.apl.washington.edu.\n"
     ]
    },
    {
     "name": "stdout",
     "output_type": "stream",
     "text": [
      "sftp> put ../data/EKAMSAT_IMD/grid_sondes/20230625-11_Ahmedabad.csv /incoming/sonde\n",
      "Uploading ../data/EKAMSAT_IMD/grid_sondes/20230625-11_Ahmedabad.csv to /incoming/sonde/20230625-11_Ahmedabad.csv\n"
     ]
    },
    {
     "name": "stderr",
     "output_type": "stream",
     "text": [
      "Connected to rendezvous.apl.washington.edu.\n"
     ]
    },
    {
     "name": "stdout",
     "output_type": "stream",
     "text": [
      "sftp> put ../data/EKAMSAT_IMD/grid_sondes/20230626-11_Ahmedabad.csv /incoming/sonde\n",
      "Uploading ../data/EKAMSAT_IMD/grid_sondes/20230626-11_Ahmedabad.csv to /incoming/sonde/20230626-11_Ahmedabad.csv\n"
     ]
    },
    {
     "name": "stderr",
     "output_type": "stream",
     "text": [
      "Connected to rendezvous.apl.washington.edu.\n"
     ]
    },
    {
     "name": "stdout",
     "output_type": "stream",
     "text": [
      "sftp> put ../data/EKAMSAT_IMD/grid_sondes/20230629-11_Ahmedabad.csv /incoming/sonde\n",
      "Uploading ../data/EKAMSAT_IMD/grid_sondes/20230629-11_Ahmedabad.csv to /incoming/sonde/20230629-11_Ahmedabad.csv\n"
     ]
    },
    {
     "name": "stderr",
     "output_type": "stream",
     "text": [
      "Connected to rendezvous.apl.washington.edu.\n"
     ]
    },
    {
     "name": "stdout",
     "output_type": "stream",
     "text": [
      "sftp> put ../data/EKAMSAT_IMD/grid_sondes/20230630-01_Ahmedabad.csv /incoming/sonde\n",
      "Uploading ../data/EKAMSAT_IMD/grid_sondes/20230630-01_Ahmedabad.csv to /incoming/sonde/20230630-01_Ahmedabad.csv\n"
     ]
    },
    {
     "name": "stderr",
     "output_type": "stream",
     "text": [
      "Connected to rendezvous.apl.washington.edu.\n"
     ]
    },
    {
     "name": "stdout",
     "output_type": "stream",
     "text": [
      "sftp> put ../data/EKAMSAT_IMD/grid_sondes/20230630-11_Ahmedabad.csv /incoming/sonde\n",
      "Uploading ../data/EKAMSAT_IMD/grid_sondes/20230630-11_Ahmedabad.csv to /incoming/sonde/20230630-11_Ahmedabad.csv\n"
     ]
    },
    {
     "name": "stderr",
     "output_type": "stream",
     "text": [
      "Connected to rendezvous.apl.washington.edu.\n"
     ]
    },
    {
     "name": "stdout",
     "output_type": "stream",
     "text": [
      "sftp> put ../data/EKAMSAT_IMD/grid_sondes/20230630-23_Ahmedabad.csv /incoming/sonde\n",
      "Uploading ../data/EKAMSAT_IMD/grid_sondes/20230630-23_Ahmedabad.csv to /incoming/sonde/20230630-23_Ahmedabad.csv\n"
     ]
    },
    {
     "name": "stderr",
     "output_type": "stream",
     "text": [
      "Connected to rendezvous.apl.washington.edu.\n"
     ]
    },
    {
     "name": "stdout",
     "output_type": "stream",
     "text": [
      "sftp> put ../data/EKAMSAT_IMD/grid_sondes/20230701-11_Ahmedabad.csv /incoming/sonde\n",
      "Uploading ../data/EKAMSAT_IMD/grid_sondes/20230701-11_Ahmedabad.csv to /incoming/sonde/20230701-11_Ahmedabad.csv\n"
     ]
    },
    {
     "name": "stderr",
     "output_type": "stream",
     "text": [
      "Connected to rendezvous.apl.washington.edu.\n",
      "Connected to rendezvous.apl.washington.edu.\n"
     ]
    },
    {
     "name": "stdout",
     "output_type": "stream",
     "text": [
      "sftp> put ../data/EKAMSAT_IMD/grid_sondes/20230702-11_Ahmedabad.csv /incoming/sonde\n",
      "Uploading ../data/EKAMSAT_IMD/grid_sondes/20230702-11_Ahmedabad.csv to /incoming/sonde/20230702-11_Ahmedabad.csv\n",
      "sftp> put ../data/EKAMSAT_IMD/grid_sondes/20230629-23_Chennai.csv /incoming/sonde\n",
      "Uploading ../data/EKAMSAT_IMD/grid_sondes/20230629-23_Chennai.csv to /incoming/sonde/20230629-23_Chennai.csv\n"
     ]
    },
    {
     "name": "stderr",
     "output_type": "stream",
     "text": [
      "Connected to rendezvous.apl.washington.edu.\n"
     ]
    },
    {
     "name": "stdout",
     "output_type": "stream",
     "text": [
      "sftp> put ../data/EKAMSAT_IMD/grid_sondes/20230630-23_Chennai.csv /incoming/sonde\n",
      "Uploading ../data/EKAMSAT_IMD/grid_sondes/20230630-23_Chennai.csv to /incoming/sonde/20230630-23_Chennai.csv\n"
     ]
    },
    {
     "name": "stderr",
     "output_type": "stream",
     "text": [
      "Connected to rendezvous.apl.washington.edu.\n"
     ]
    },
    {
     "name": "stdout",
     "output_type": "stream",
     "text": [
      "sftp> put ../data/EKAMSAT_IMD/grid_sondes/20230701-23_Chennai.csv /incoming/sonde\n",
      "Uploading ../data/EKAMSAT_IMD/grid_sondes/20230701-23_Chennai.csv to /incoming/sonde/20230701-23_Chennai.csv\n"
     ]
    },
    {
     "name": "stderr",
     "output_type": "stream",
     "text": [
      "Connected to rendezvous.apl.washington.edu.\n"
     ]
    },
    {
     "name": "stdout",
     "output_type": "stream",
     "text": [
      "sftp> put ../data/EKAMSAT_IMD/grid_sondes/20230703-23_Chennai.csv /incoming/sonde\n",
      "Uploading ../data/EKAMSAT_IMD/grid_sondes/20230703-23_Chennai.csv to /incoming/sonde/20230703-23_Chennai.csv\n"
     ]
    },
    {
     "name": "stderr",
     "output_type": "stream",
     "text": [
      "Connected to rendezvous.apl.washington.edu.\n"
     ]
    },
    {
     "name": "stdout",
     "output_type": "stream",
     "text": [
      "sftp> put ../data/EKAMSAT_IMD/grid_sondes/20230704-23_Chennai.csv /incoming/sonde\n",
      "Uploading ../data/EKAMSAT_IMD/grid_sondes/20230704-23_Chennai.csv to /incoming/sonde/20230704-23_Chennai.csv\n"
     ]
    },
    {
     "name": "stderr",
     "output_type": "stream",
     "text": [
      "Connected to rendezvous.apl.washington.edu.\n"
     ]
    },
    {
     "name": "stdout",
     "output_type": "stream",
     "text": [
      "sftp> put ../data/EKAMSAT_IMD/grid_sondes/20230705-23_Chennai.csv /incoming/sonde\n",
      "Uploading ../data/EKAMSAT_IMD/grid_sondes/20230705-23_Chennai.csv to /incoming/sonde/20230705-23_Chennai.csv\n"
     ]
    },
    {
     "name": "stderr",
     "output_type": "stream",
     "text": [
      "Connected to rendezvous.apl.washington.edu.\n"
     ]
    },
    {
     "name": "stdout",
     "output_type": "stream",
     "text": [
      "sftp> put ../data/EKAMSAT_IMD/grid_sondes/20230630-00_Karaikal.csv /incoming/sonde\n"
     ]
    },
    {
     "name": "stderr",
     "output_type": "stream",
     "text": [
      "Connected to rendezvous.apl.washington.edu.\n"
     ]
    },
    {
     "name": "stdout",
     "output_type": "stream",
     "text": [
      "Uploading ../data/EKAMSAT_IMD/grid_sondes/20230630-00_Karaikal.csv to /incoming/sonde/20230630-00_Karaikal.csv\n",
      "sftp> put ../data/EKAMSAT_IMD/grid_sondes/20230629-23_Kochi.csv /incoming/sonde\n",
      "Uploading ../data/EKAMSAT_IMD/grid_sondes/20230629-23_Kochi.csv to /incoming/sonde/20230629-23_Kochi.csv\n"
     ]
    },
    {
     "name": "stderr",
     "output_type": "stream",
     "text": [
      "Connected to rendezvous.apl.washington.edu.\n"
     ]
    },
    {
     "name": "stdout",
     "output_type": "stream",
     "text": [
      "sftp> put ../data/EKAMSAT_IMD/grid_sondes/20230701-23_Kochi.csv /incoming/sonde\n",
      "Uploading ../data/EKAMSAT_IMD/grid_sondes/20230701-23_Kochi.csv to /incoming/sonde/20230701-23_Kochi.csv\n"
     ]
    },
    {
     "name": "stderr",
     "output_type": "stream",
     "text": [
      "Connected to rendezvous.apl.washington.edu.\n"
     ]
    },
    {
     "name": "stdout",
     "output_type": "stream",
     "text": [
      "sftp> put ../data/EKAMSAT_IMD/grid_sondes/20230630-00_Kolkata.csv /incoming/sonde\n",
      "Uploading ../data/EKAMSAT_IMD/grid_sondes/20230630-00_Kolkata.csv to /incoming/sonde/20230630-00_Kolkata.csv\n"
     ]
    },
    {
     "name": "stderr",
     "output_type": "stream",
     "text": [
      "Connected to rendezvous.apl.washington.edu.\n"
     ]
    },
    {
     "name": "stdout",
     "output_type": "stream",
     "text": [
      "sftp> put ../data/EKAMSAT_IMD/grid_sondes/20230702-23_Kolkata.csv /incoming/sonde\n"
     ]
    },
    {
     "name": "stderr",
     "output_type": "stream",
     "text": [
      "Connected to rendezvous.apl.washington.edu.\n"
     ]
    },
    {
     "name": "stdout",
     "output_type": "stream",
     "text": [
      "Uploading ../data/EKAMSAT_IMD/grid_sondes/20230702-23_Kolkata.csv to /incoming/sonde/20230702-23_Kolkata.csv\n",
      "sftp> put ../data/EKAMSAT_IMD/grid_sondes/20230629-00_Mangalore.csv /incoming/sonde\n",
      "Uploading ../data/EKAMSAT_IMD/grid_sondes/20230629-00_Mangalore.csv to /incoming/sonde/20230629-00_Mangalore.csv\n"
     ]
    },
    {
     "name": "stderr",
     "output_type": "stream",
     "text": [
      "Connected to rendezvous.apl.washington.edu.\n"
     ]
    },
    {
     "name": "stdout",
     "output_type": "stream",
     "text": [
      "sftp> put ../data/EKAMSAT_IMD/grid_sondes/20230630-00_Mangalore.csv /incoming/sonde\n",
      "Uploading ../data/EKAMSAT_IMD/grid_sondes/20230630-00_Mangalore.csv to /incoming/sonde/20230630-00_Mangalore.csv\n"
     ]
    },
    {
     "name": "stderr",
     "output_type": "stream",
     "text": [
      "Connected to rendezvous.apl.washington.edu.\n"
     ]
    },
    {
     "name": "stdout",
     "output_type": "stream",
     "text": [
      "sftp> put ../data/EKAMSAT_IMD/grid_sondes/20230703-00_PortBlair.csv /incoming/sonde\n",
      "Uploading ../data/EKAMSAT_IMD/grid_sondes/20230703-00_PortBlair.csv to /incoming/sonde/20230703-00_PortBlair.csv\n"
     ]
    },
    {
     "name": "stderr",
     "output_type": "stream",
     "text": [
      "Connected to rendezvous.apl.washington.edu.\n"
     ]
    },
    {
     "name": "stdout",
     "output_type": "stream",
     "text": [
      "sftp> put ../data/EKAMSAT_IMD/grid_sondes/20230704-00_PortBlair.csv /incoming/sonde\n",
      "Uploading ../data/EKAMSAT_IMD/grid_sondes/20230704-00_PortBlair.csv to /incoming/sonde/20230704-00_PortBlair.csv\n"
     ]
    },
    {
     "name": "stderr",
     "output_type": "stream",
     "text": [
      "Connected to rendezvous.apl.washington.edu.\n"
     ]
    },
    {
     "name": "stdout",
     "output_type": "stream",
     "text": [
      "sftp> put ../data/EKAMSAT_IMD/grid_sondes/20230629-23_Pune.csv /incoming/sonde\n",
      "Uploading ../data/EKAMSAT_IMD/grid_sondes/20230629-23_Pune.csv to /incoming/sonde/20230629-23_Pune.csv\n"
     ]
    },
    {
     "name": "stderr",
     "output_type": "stream",
     "text": [
      "Connected to rendezvous.apl.washington.edu.\n"
     ]
    },
    {
     "name": "stdout",
     "output_type": "stream",
     "text": [
      "sftp> put ../data/EKAMSAT_IMD/grid_sondes/20230630-12_Pune.csv /incoming/sonde\n",
      "Uploading ../data/EKAMSAT_IMD/grid_sondes/20230630-12_Pune.csv to /incoming/sonde/20230630-12_Pune.csv\n"
     ]
    },
    {
     "name": "stderr",
     "output_type": "stream",
     "text": [
      "Connected to rendezvous.apl.washington.edu.\n"
     ]
    },
    {
     "name": "stdout",
     "output_type": "stream",
     "text": [
      "sftp> put ../data/EKAMSAT_IMD/grid_sondes/20230701-00_Pune.csv /incoming/sonde\n"
     ]
    },
    {
     "name": "stderr",
     "output_type": "stream",
     "text": [
      "Connected to rendezvous.apl.washington.edu.\n"
     ]
    },
    {
     "name": "stdout",
     "output_type": "stream",
     "text": [
      "Uploading ../data/EKAMSAT_IMD/grid_sondes/20230701-00_Pune.csv to /incoming/sonde/20230701-00_Pune.csv\n",
      "sftp> put ../data/EKAMSAT_IMD/grid_sondes/20230701-12_Pune.csv /incoming/sonde\n",
      "Uploading ../data/EKAMSAT_IMD/grid_sondes/20230701-12_Pune.csv to /incoming/sonde/20230701-12_Pune.csv\n"
     ]
    },
    {
     "name": "stderr",
     "output_type": "stream",
     "text": [
      "Connected to rendezvous.apl.washington.edu.\n"
     ]
    },
    {
     "name": "stdout",
     "output_type": "stream",
     "text": [
      "sftp> put ../data/EKAMSAT_IMD/grid_sondes/20230702-00_Pune.csv /incoming/sonde\n",
      "Uploading ../data/EKAMSAT_IMD/grid_sondes/20230702-00_Pune.csv to /incoming/sonde/20230702-00_Pune.csv\n"
     ]
    },
    {
     "name": "stderr",
     "output_type": "stream",
     "text": [
      "Connected to rendezvous.apl.washington.edu.\n"
     ]
    },
    {
     "name": "stdout",
     "output_type": "stream",
     "text": [
      "sftp> put ../data/EKAMSAT_IMD/grid_sondes/20230702-12_Pune.csv /incoming/sonde\n",
      "Uploading ../data/EKAMSAT_IMD/grid_sondes/20230702-12_Pune.csv to /incoming/sonde/20230702-12_Pune.csv\n"
     ]
    },
    {
     "name": "stderr",
     "output_type": "stream",
     "text": [
      "Connected to rendezvous.apl.washington.edu.\n"
     ]
    },
    {
     "name": "stdout",
     "output_type": "stream",
     "text": [
      "sftp> put ../data/EKAMSAT_IMD/grid_sondes/20230703-00_Pune.csv /incoming/sonde\n",
      "Uploading ../data/EKAMSAT_IMD/grid_sondes/20230703-00_Pune.csv to /incoming/sonde/20230703-00_Pune.csv\n"
     ]
    },
    {
     "name": "stderr",
     "output_type": "stream",
     "text": [
      "Connected to rendezvous.apl.washington.edu.\n"
     ]
    },
    {
     "name": "stdout",
     "output_type": "stream",
     "text": [
      "sftp> put ../data/EKAMSAT_IMD/grid_sondes/20230705-12_Pune.csv /incoming/sonde\n",
      "Uploading ../data/EKAMSAT_IMD/grid_sondes/20230705-12_Pune.csv to /incoming/sonde/20230705-12_Pune.csv\n"
     ]
    },
    {
     "name": "stderr",
     "output_type": "stream",
     "text": [
      "Connected to rendezvous.apl.washington.edu.\n",
      "Connected to rendezvous.apl.washington.edu.\n"
     ]
    },
    {
     "name": "stdout",
     "output_type": "stream",
     "text": [
      "sftp> put ../data/EKAMSAT_IMD/grid_sondes/20230630-00_Visakhapatnam.csv /incoming/sonde\n",
      "Uploading ../data/EKAMSAT_IMD/grid_sondes/20230630-00_Visakhapatnam.csv to /incoming/sonde/20230630-00_Visakhapatnam.csv\n"
     ]
    },
    {
     "data": {
      "image/png": "[encoded data removed]",
      "text/plain": [
       "Figure(PyObject <Figure size 640x480 with 4 Axes>)"
      ]
     },
     "metadata": {},
     "output_type": "display_data"
    }
   ],
   "source": [
    "# do\n",
    "# a big loop to read all sounding files, interpolate data to consistent levels\n",
    "# output gridded files, and make plots\n",
    "\n",
    "# reiterate parameters for paths, names, and gridding\n",
    "reldatapath = \"../data/EKAMSAT_IMD/ekamsat\"\n",
    "plevs = 1020.0:-5.0:0.0\n",
    "CamelStations = [\"Ahmedabad\",\"Chennai\",\"Karaikal\",\"Kochi\",\"Kolkata\",\"Mangalore\",\"PortBlair\",\"Pune\",\"Visakhapatnam\"]\n",
    "stationnames = lowercase.(CamelStations)\n",
    "\n",
    "# allocate gridded data arrays (pressure, location, launch time)\n",
    "nt = count_max_unique_soundings(stationnames)\n",
    "# nt = 80 # allow for longest station mangalore?(37), extend & trim off extra later\n",
    "times = zeros(DateTime, length(stationnames), nt)\n",
    "T  = NaN.+zeros(Float64, length(plevs), length(stationnames), nt)\n",
    "Td = NaN.+zeros(Float64, length(plevs), length(stationnames), nt)\n",
    "rh = NaN.+zeros(Float64, length(plevs), length(stationnames), nt)\n",
    "z  = NaN.+zeros(Float64, length(plevs), length(stationnames), nt)\n",
    "u  = NaN.+zeros(Float64, length(plevs), length(stationnames), nt)\n",
    "v  = NaN.+zeros(Float64, length(plevs), length(stationnames), nt)\n",
    "\n",
    "grid_imd_soundings!( times, T, Td, rh, z, u, v; plevs=plevs, stationnames=stationnames, reldatapath=reldatapath )\n",
    "\n",
    "plot_timeheights( times, T, Td, rh, z, u, v )\n",
    "write_new_grid_sondes( times, T, Td, rh, z, u, v; stationnames )"
   ]
  },
  {
   "cell_type": "code",
   "execution_count": 15,
   "id": "16178a10-fd70-4a4d-9219-dfb0804f8849",
   "metadata": {
    "scrolled": true
   },
   "outputs": [
    {
     "ename": "LoadError",
     "evalue": "MethodError: no method matching isless(::DateTime, ::typeof(time))\n\u001b[0mClosest candidates are:\n\u001b[0m  isless(::T, \u001b[91m::T\u001b[39m) where T<:TimeType at /Applications/Julia-1.8.app/Contents/Resources/julia/share/julia/stdlib/v1.8/Dates/src/types.jl:461\n\u001b[0m  isless(::TimeType, \u001b[91m::TimeType\u001b[39m) at /Applications/Julia-1.8.app/Contents/Resources/julia/share/julia/stdlib/v1.8/Dates/src/types.jl:462\n\u001b[0m  isless(::Any, \u001b[91m::PyCall.PyObject\u001b[39m) at ~/.julia/packages/PyCall/ilqDX/src/pyoperators.jl:76\n\u001b[0m  ...",
     "output_type": "error",
     "traceback": [
      "MethodError: no method matching isless(::DateTime, ::typeof(time))\n\u001b[0mClosest candidates are:\n\u001b[0m  isless(::T, \u001b[91m::T\u001b[39m) where T<:TimeType at /Applications/Julia-1.8.app/Contents/Resources/julia/share/julia/stdlib/v1.8/Dates/src/types.jl:461\n\u001b[0m  isless(::TimeType, \u001b[91m::TimeType\u001b[39m) at /Applications/Julia-1.8.app/Contents/Resources/julia/share/julia/stdlib/v1.8/Dates/src/types.jl:462\n\u001b[0m  isless(::Any, \u001b[91m::PyCall.PyObject\u001b[39m) at ~/.julia/packages/PyCall/ilqDX/src/pyoperators.jl:76\n\u001b[0m  ...",
      "",
      "Stacktrace:",
      " [1] <(x::DateTime, y::Function)",
      "   @ Base ./operators.jl:356",
      " [2] >(x::Function, y::DateTime)",
      "   @ Base ./operators.jl:382",
      " [3] _broadcast_getindex_evalf",
      "   @ ./broadcast.jl:670 [inlined]",
      " [4] _broadcast_getindex",
      "   @ ./broadcast.jl:643 [inlined]",
      " [5] getindex",
      "   @ ./broadcast.jl:597 [inlined]",
      " [6] copy",
      "   @ ./broadcast.jl:875 [inlined]",
      " [7] materialize(bc::Base.Broadcast.Broadcasted{Base.Broadcast.DefaultArrayStyle{0}, Nothing, typeof(>), Tuple{Base.RefValue{typeof(time)}, Base.RefValue{DateTime}}})",
      "   @ Base.Broadcast ./broadcast.jl:860",
      " [8] top-level scope",
      "   @ In[15]:4"
     ]
    }
   ],
   "source": [
    "# tests\n",
    "\n",
    "# count times at each station\n",
    "nts = sum(times.>DateTime(1000), dims=2)\n",
    "@show cat(CamelStations, nts, dims=2)\n",
    "\n",
    "\n",
    "# test time-pressure plot at one station\n",
    "sj = 1\n",
    "@show size(u[:,sj,1:nts[sj]])\n",
    "\n",
    "clf()\n",
    "subplot(2,1,1)\n",
    "# pcolormesh( times[sj,:], plevs, anom(T[:,sj,:],dims=2) )\n",
    "# pcolormesh( times[sj,:], plevs, anom(th.(T[:,sj,:],plevs),dims=2), vmin=-7, vmax=7, cmap=ColorMap(\"RdYlBu_r\") )\n",
    "pcolormesh( times[sj,1:nts[sj]], plevs, u[:,sj,1:nts[sj]], vmin=-10, vmax=20, cmap=ColorMap(\"RdYlBu_r\") )\n",
    "ylim(1000, 100)\n",
    "colorbar()\n",
    "ylabel(\"u (m/s)\")\n",
    "title(CamelStations[sj])\n",
    "\n",
    "subplot(2,1,2)\n",
    "pcolormesh( times[sj,1:nts[sj]], plevs, rh[:,sj,1:nts[sj]], cmap=ColorMap(\"RdYlBu_r\"))\n",
    "ylim(1000, 100)\n",
    "ylabel(\"RH (%)\")\n",
    "colorbar()"
   ]
  },
  {
   "cell_type": "code",
   "execution_count": null,
   "id": "09cc4975-51c7-448e-ad84-c967cfc121e0",
   "metadata": {},
   "outputs": [],
   "source": []
  }
 ],
 "metadata": {
  "kernelspec": {
   "display_name": "Julia 1.8.5",
   "language": "julia",
   "name": "julia-1.8"
  },
  "language_info": {
   "file_extension": ".jl",
   "mimetype": "application/julia",
   "name": "julia",
   "version": "1.8.5"
  }
 },
 "nbformat": 4,
 "nbformat_minor": 5
}
