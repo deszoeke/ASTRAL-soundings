{
 "cells": [
  {
   "cell_type": "code",
   "execution_count": 5,
   "id": "172234aa-f093-4649-8af0-f03b6c234722",
   "metadata": {
    "tags": []
   },
   "outputs": [],
   "source": [
    "# ] activate ASTRAL_soundings\n",
    "\n",
    "using Revise\n",
    "using CSV, DataFrames\n",
    "using Dates"
   ]
  },
  {
   "cell_type": "code",
   "execution_count": 6,
   "id": "0fe992f1-ef10-4b76-ba8d-e3d83bd08d8a",
   "metadata": {
    "tags": []
   },
   "outputs": [
    {
     "data": {
      "text/plain": [
       "\"10May2023Karaikal.txt\""
      ]
     },
     "execution_count": 6,
     "metadata": {},
     "output_type": "execute_result"
    }
   ],
   "source": [
    "reldatapath = \"../data/EKAMSAT_IMD\"\n",
    "station = \"Karaikal\"\n",
    "\n",
    "files = readdir(joinpath(reldatapath, station))\n",
    "file = files[end]"
   ]
  },
  {
   "cell_type": "code",
   "execution_count": 15,
   "id": "29491c8b-47e4-42bb-aadc-b4c6ecd5d1d6",
   "metadata": {
    "tags": []
   },
   "outputs": [
    {
     "data": {
      "text/html": [
       "<div><div style = \"float: left;\"><span>3698×15 DataFrame</span></div><div style = \"float: right;\"><span style = \"font-style: italic;\">3673 rows omitted</span></div><div style = \"clear: both;\"></div></div><div class = \"data-frame\" style = \"overflow-x: scroll;\"><table class = \"data-frame\" style = \"margin-bottom: 6px;\"><thead><tr class = \"header\"><th class = \"rowNumber\" style = \"font-weight: bold; text-align: right;\">Row</th><th style = \"text-align: left;\">     Time</th><th style = \"text-align: left;\">     p(hPa)</th><th style = \"text-align: left;\">    T(\\xb0C)</th><th style = \"text-align: left;\">    U(%)</th><th style = \"text-align: left;\">      Dew(\\xb0C)</th><th style = \"text-align: left;\">     Geo(gpm)</th><th style = \"text-align: left;\">   Geo(gpft)</th><th style = \"text-align: left;\">    Wdir(\\xb0)</th><th style = \"text-align: left;\">    Wspd(m/s)</th><th style = \"text-align: left;\">    Asc(m/m)</th><th style = \"text-align: left;\">    Avg Asc(m/m)</th><th style = \"text-align: left;\">    Azimuth(\\xb0)</th><th style = \"text-align: left;\">   Range(m)</th><th style = \"text-align: left;\">    Elevation(\\xb0)</th><th style = \"text-align: left;\">Column15</th></tr><tr class = \"subheader headerLastRow\"><th class = \"rowNumber\" style = \"font-weight: bold; text-align: right;\"></th><th title = \"String15\" style = \"text-align: left;\">String15</th><th title = \"Float64\" style = \"text-align: left;\">Float64</th><th title = \"Float64\" style = \"text-align: left;\">Float64</th><th title = \"Float64\" style = \"text-align: left;\">Float64</th><th title = \"Float64\" style = \"text-align: left;\">Float64</th><th title = \"Float64\" style = \"text-align: left;\">Float64</th><th title = \"Float64\" style = \"text-align: left;\">Float64</th><th title = \"Float64\" style = \"text-align: left;\">Float64</th><th title = \"Float64\" style = \"text-align: left;\">Float64</th><th title = \"Float64\" style = \"text-align: left;\">Float64</th><th title = \"Float64\" style = \"text-align: left;\">Float64</th><th title = \"Float64\" style = \"text-align: left;\">Float64</th><th title = \"Float64\" style = \"text-align: left;\">Float64</th><th title = \"Float64\" style = \"text-align: left;\">Float64</th><th title = \"Missing\" style = \"text-align: left;\">Missing</th></tr></thead><tbody><tr><td class = \"rowNumber\" style = \"font-weight: bold; text-align: right;\">1</td><td style = \"text-align: left;\">000.00:00</td><td style = \"text-align: right;\">1004.0</td><td style = \"text-align: right;\">28.2</td><td style = \"text-align: right;\">89.0</td><td style = \"text-align: right;\">26.3</td><td style = \"text-align: right;\">10.4</td><td style = \"text-align: right;\">34.0</td><td style = \"text-align: right;\">180.0</td><td style = \"text-align: right;\">2.0</td><td style = \"text-align: right;\">6.0</td><td style = \"text-align: right;\">6.0</td><td style = \"text-align: right;\">78.9</td><td style = \"text-align: right;\">8.87907e6</td><td style = \"text-align: right;\">0.0</td><td style = \"font-style: italic; text-align: right;\">missing</td></tr><tr><td class = \"rowNumber\" style = \"font-weight: bold; text-align: right;\">2</td><td style = \"text-align: left;\">000.01:00</td><td style = \"text-align: right;\">1003.5</td><td style = \"text-align: right;\">28.1</td><td style = \"text-align: right;\">97.2</td><td style = \"text-align: right;\">27.6</td><td style = \"text-align: right;\">14.8</td><td style = \"text-align: right;\">48.4</td><td style = \"text-align: right;\">350.6</td><td style = \"text-align: right;\">1.8</td><td style = \"text-align: right;\">8.8</td><td style = \"text-align: right;\">7.4</td><td style = \"text-align: right;\">78.9</td><td style = \"text-align: right;\">8.87907e6</td><td style = \"text-align: right;\">0.0</td><td style = \"font-style: italic; text-align: right;\">missing</td></tr><tr><td class = \"rowNumber\" style = \"font-weight: bold; text-align: right;\">3</td><td style = \"text-align: left;\">000.02:00</td><td style = \"text-align: right;\">1003.0</td><td style = \"text-align: right;\">28.0</td><td style = \"text-align: right;\">97.8</td><td style = \"text-align: right;\">27.6</td><td style = \"text-align: right;\">19.5</td><td style = \"text-align: right;\">63.8</td><td style = \"text-align: right;\">348.0</td><td style = \"text-align: right;\">2.2</td><td style = \"text-align: right;\">11.8</td><td style = \"text-align: right;\">8.9</td><td style = \"text-align: right;\">78.9</td><td style = \"text-align: right;\">8.87908e6</td><td style = \"text-align: right;\">0.0</td><td style = \"font-style: italic; text-align: right;\">missing</td></tr><tr><td class = \"rowNumber\" style = \"font-weight: bold; text-align: right;\">4</td><td style = \"text-align: left;\">000.03:00</td><td style = \"text-align: right;\">1002.6</td><td style = \"text-align: right;\">27.9</td><td style = \"text-align: right;\">98.5</td><td style = \"text-align: right;\">27.6</td><td style = \"text-align: right;\">23.2</td><td style = \"text-align: right;\">76.3</td><td style = \"text-align: right;\">345.1</td><td style = \"text-align: right;\">2.7</td><td style = \"text-align: right;\">14.0</td><td style = \"text-align: right;\">10.1</td><td style = \"text-align: right;\">78.9</td><td style = \"text-align: right;\">8.87908e6</td><td style = \"text-align: right;\">0.0</td><td style = \"font-style: italic; text-align: right;\">missing</td></tr><tr><td class = \"rowNumber\" style = \"font-weight: bold; text-align: right;\">5</td><td style = \"text-align: left;\">000.04:00</td><td style = \"text-align: right;\">1002.0</td><td style = \"text-align: right;\">28.1</td><td style = \"text-align: right;\">99.3</td><td style = \"text-align: right;\">28.0</td><td style = \"text-align: right;\">28.6</td><td style = \"text-align: right;\">93.9</td><td style = \"text-align: right;\">343.1</td><td style = \"text-align: right;\">2.8</td><td style = \"text-align: right;\">17.4</td><td style = \"text-align: right;\">11.6</td><td style = \"text-align: right;\">78.9</td><td style = \"text-align: right;\">8.87908e6</td><td style = \"text-align: right;\">0.0</td><td style = \"font-style: italic; text-align: right;\">missing</td></tr><tr><td class = \"rowNumber\" style = \"font-weight: bold; text-align: right;\">6</td><td style = \"text-align: left;\">000.05:00</td><td style = \"text-align: right;\">1001.4</td><td style = \"text-align: right;\">28.0</td><td style = \"text-align: right;\">99.7</td><td style = \"text-align: right;\">28.0</td><td style = \"text-align: right;\">33.2</td><td style = \"text-align: right;\">109.0</td><td style = \"text-align: right;\">341.0</td><td style = \"text-align: right;\">2.8</td><td style = \"text-align: right;\">20.2</td><td style = \"text-align: right;\">13.0</td><td style = \"text-align: right;\">78.9</td><td style = \"text-align: right;\">8.87908e6</td><td style = \"text-align: right;\">0.0</td><td style = \"font-style: italic; text-align: right;\">missing</td></tr><tr><td class = \"rowNumber\" style = \"font-weight: bold; text-align: right;\">7</td><td style = \"text-align: left;\">000.06:00</td><td style = \"text-align: right;\">1000.9</td><td style = \"text-align: right;\">28.3</td><td style = \"text-align: right;\">100.0</td><td style = \"text-align: right;\">28.3</td><td style = \"text-align: right;\">38.1</td><td style = \"text-align: right;\">125.0</td><td style = \"text-align: right;\">338.7</td><td style = \"text-align: right;\">3.2</td><td style = \"text-align: right;\">22.9</td><td style = \"text-align: right;\">14.4</td><td style = \"text-align: right;\">78.9</td><td style = \"text-align: right;\">8.87908e6</td><td style = \"text-align: right;\">0.0</td><td style = \"font-style: italic; text-align: right;\">missing</td></tr><tr><td class = \"rowNumber\" style = \"font-weight: bold; text-align: right;\">8</td><td style = \"text-align: left;\">000.07:00</td><td style = \"text-align: right;\">1000.3</td><td style = \"text-align: right;\">28.5</td><td style = \"text-align: right;\">100.0</td><td style = \"text-align: right;\">28.5</td><td style = \"text-align: right;\">43.6</td><td style = \"text-align: right;\">143.0</td><td style = \"text-align: right;\">337.1</td><td style = \"text-align: right;\">3.9</td><td style = \"text-align: right;\">26.6</td><td style = \"text-align: right;\">16.0</td><td style = \"text-align: right;\">78.9</td><td style = \"text-align: right;\">8.87909e6</td><td style = \"text-align: right;\">0.0</td><td style = \"font-style: italic; text-align: right;\">missing</td></tr><tr><td class = \"rowNumber\" style = \"font-weight: bold; text-align: right;\">9</td><td style = \"text-align: left;\">000.08:00</td><td style = \"text-align: right;\">999.7</td><td style = \"text-align: right;\">28.8</td><td style = \"text-align: right;\">100.0</td><td style = \"text-align: right;\">28.8</td><td style = \"text-align: right;\">48.5</td><td style = \"text-align: right;\">159.0</td><td style = \"text-align: right;\">334.8</td><td style = \"text-align: right;\">4.1</td><td style = \"text-align: right;\">29.7</td><td style = \"text-align: right;\">17.5</td><td style = \"text-align: right;\">78.9</td><td style = \"text-align: right;\">8.87909e6</td><td style = \"text-align: right;\">0.0</td><td style = \"font-style: italic; text-align: right;\">missing</td></tr><tr><td class = \"rowNumber\" style = \"font-weight: bold; text-align: right;\">10</td><td style = \"text-align: left;\">000.09:00</td><td style = \"text-align: right;\">999.1</td><td style = \"text-align: right;\">29.1</td><td style = \"text-align: right;\">100.0</td><td style = \"text-align: right;\">29.1</td><td style = \"text-align: right;\">54.5</td><td style = \"text-align: right;\">178.7</td><td style = \"text-align: right;\">332.9</td><td style = \"text-align: right;\">4.2</td><td style = \"text-align: right;\">33.4</td><td style = \"text-align: right;\">19.1</td><td style = \"text-align: right;\">78.9</td><td style = \"text-align: right;\">8.87909e6</td><td style = \"text-align: right;\">0.0</td><td style = \"font-style: italic; text-align: right;\">missing</td></tr><tr><td class = \"rowNumber\" style = \"font-weight: bold; text-align: right;\">11</td><td style = \"text-align: left;\">000.10:00</td><td style = \"text-align: right;\">998.6</td><td style = \"text-align: right;\">29.6</td><td style = \"text-align: right;\">100.0</td><td style = \"text-align: right;\">29.6</td><td style = \"text-align: right;\">58.4</td><td style = \"text-align: right;\">191.4</td><td style = \"text-align: right;\">333.2</td><td style = \"text-align: right;\">3.9</td><td style = \"text-align: right;\">35.7</td><td style = \"text-align: right;\">20.6</td><td style = \"text-align: right;\">78.9</td><td style = \"text-align: right;\">8.87909e6</td><td style = \"text-align: right;\">0.0</td><td style = \"font-style: italic; text-align: right;\">missing</td></tr><tr><td class = \"rowNumber\" style = \"font-weight: bold; text-align: right;\">12</td><td style = \"text-align: left;\">000.11:00</td><td style = \"text-align: right;\">998.1</td><td style = \"text-align: right;\">29.8</td><td style = \"text-align: right;\">100.0</td><td style = \"text-align: right;\">29.8</td><td style = \"text-align: right;\">62.8</td><td style = \"text-align: right;\">206.2</td><td style = \"text-align: right;\">334.5</td><td style = \"text-align: right;\">3.2</td><td style = \"text-align: right;\">39.0</td><td style = \"text-align: right;\">22.1</td><td style = \"text-align: right;\">78.9</td><td style = \"text-align: right;\">8.87908e6</td><td style = \"text-align: right;\">0.0</td><td style = \"font-style: italic; text-align: right;\">missing</td></tr><tr><td class = \"rowNumber\" style = \"font-weight: bold; text-align: right;\">13</td><td style = \"text-align: left;\">000.12:00</td><td style = \"text-align: right;\">997.4</td><td style = \"text-align: right;\">29.9</td><td style = \"text-align: right;\">100.0</td><td style = \"text-align: right;\">29.9</td><td style = \"text-align: right;\">69.3</td><td style = \"text-align: right;\">227.4</td><td style = \"text-align: right;\">335.1</td><td style = \"text-align: right;\">3.0</td><td style = \"text-align: right;\">42.9</td><td style = \"text-align: right;\">23.7</td><td style = \"text-align: right;\">78.9</td><td style = \"text-align: right;\">8.87909e6</td><td style = \"text-align: right;\">0.0</td><td style = \"font-style: italic; text-align: right;\">missing</td></tr><tr><td style = \"text-align: right;\">&vellip;</td><td style = \"text-align: right;\">&vellip;</td><td style = \"text-align: right;\">&vellip;</td><td style = \"text-align: right;\">&vellip;</td><td style = \"text-align: right;\">&vellip;</td><td style = \"text-align: right;\">&vellip;</td><td style = \"text-align: right;\">&vellip;</td><td style = \"text-align: right;\">&vellip;</td><td style = \"text-align: right;\">&vellip;</td><td style = \"text-align: right;\">&vellip;</td><td style = \"text-align: right;\">&vellip;</td><td style = \"text-align: right;\">&vellip;</td><td style = \"text-align: right;\">&vellip;</td><td style = \"text-align: right;\">&vellip;</td><td style = \"text-align: right;\">&vellip;</td><td style = \"text-align: right;\">&vellip;</td></tr><tr><td class = \"rowNumber\" style = \"font-weight: bold; text-align: right;\">3687</td><td style = \"text-align: left;\">073.55:00</td><td style = \"text-align: right;\">47.5</td><td style = \"text-align: right;\">-67.5</td><td style = \"text-align: right;\">1.0</td><td style = \"text-align: right;\">-95.4</td><td style = \"text-align: right;\">20960.2</td><td style = \"text-align: right;\">68767.1</td><td style = \"text-align: right;\">164.6</td><td style = \"text-align: right;\">3.3</td><td style = \"text-align: right;\">334.2</td><td style = \"text-align: right;\">278.8</td><td style = \"text-align: right;\">79.0</td><td style = \"text-align: right;\">8.8483e6</td><td style = \"text-align: right;\">0.1</td><td style = \"font-style: italic; text-align: right;\">missing</td></tr><tr><td class = \"rowNumber\" style = \"font-weight: bold; text-align: right;\">3688</td><td style = \"text-align: left;\">073.56:00</td><td style = \"text-align: right;\">47.5</td><td style = \"text-align: right;\">-67.5</td><td style = \"text-align: right;\">1.0</td><td style = \"text-align: right;\">-95.4</td><td style = \"text-align: right;\">20966.0</td><td style = \"text-align: right;\">68786.2</td><td style = \"text-align: right;\">163.6</td><td style = \"text-align: right;\">3.5</td><td style = \"text-align: right;\">334.9</td><td style = \"text-align: right;\">278.8</td><td style = \"text-align: right;\">79.0</td><td style = \"text-align: right;\">8.8483e6</td><td style = \"text-align: right;\">0.1</td><td style = \"font-style: italic; text-align: right;\">missing</td></tr><tr><td class = \"rowNumber\" style = \"font-weight: bold; text-align: right;\">3689</td><td style = \"text-align: left;\">073.57:00</td><td style = \"text-align: right;\">47.4</td><td style = \"text-align: right;\">-67.6</td><td style = \"text-align: right;\">1.0</td><td style = \"text-align: right;\">-95.4</td><td style = \"text-align: right;\">20971.6</td><td style = \"text-align: right;\">68804.5</td><td style = \"text-align: right;\">162.1</td><td style = \"text-align: right;\">3.8</td><td style = \"text-align: right;\">335.1</td><td style = \"text-align: right;\">278.8</td><td style = \"text-align: right;\">79.0</td><td style = \"text-align: right;\">8.84829e6</td><td style = \"text-align: right;\">0.1</td><td style = \"font-style: italic; text-align: right;\">missing</td></tr><tr><td class = \"rowNumber\" style = \"font-weight: bold; text-align: right;\">3690</td><td style = \"text-align: left;\">073.58:00</td><td style = \"text-align: right;\">47.4</td><td style = \"text-align: right;\">-67.6</td><td style = \"text-align: right;\">1.0</td><td style = \"text-align: right;\">-95.4</td><td style = \"text-align: right;\">20977.3</td><td style = \"text-align: right;\">68823.3</td><td style = \"text-align: right;\">159.8</td><td style = \"text-align: right;\">4.1</td><td style = \"text-align: right;\">335.4</td><td style = \"text-align: right;\">278.8</td><td style = \"text-align: right;\">79.0</td><td style = \"text-align: right;\">8.84829e6</td><td style = \"text-align: right;\">0.1</td><td style = \"font-style: italic; text-align: right;\">missing</td></tr><tr><td class = \"rowNumber\" style = \"font-weight: bold; text-align: right;\">3691</td><td style = \"text-align: left;\">073.59:00</td><td style = \"text-align: right;\">47.3</td><td style = \"text-align: right;\">-67.6</td><td style = \"text-align: right;\">1.0</td><td style = \"text-align: right;\">-95.4</td><td style = \"text-align: right;\">20982.9</td><td style = \"text-align: right;\">68841.5</td><td style = \"text-align: right;\">157.4</td><td style = \"text-align: right;\">4.5</td><td style = \"text-align: right;\">336.1</td><td style = \"text-align: right;\">278.8</td><td style = \"text-align: right;\">79.0</td><td style = \"text-align: right;\">8.84829e6</td><td style = \"text-align: right;\">0.1</td><td style = \"font-style: italic; text-align: right;\">missing</td></tr><tr><td class = \"rowNumber\" style = \"font-weight: bold; text-align: right;\">3692</td><td style = \"text-align: left;\">074.00:00</td><td style = \"text-align: right;\">47.3</td><td style = \"text-align: right;\">-67.5</td><td style = \"text-align: right;\">1.0</td><td style = \"text-align: right;\">-95.4</td><td style = \"text-align: right;\">20988.1</td><td style = \"text-align: right;\">68858.7</td><td style = \"text-align: right;\">154.9</td><td style = \"text-align: right;\">4.9</td><td style = \"text-align: right;\">335.6</td><td style = \"text-align: right;\">278.8</td><td style = \"text-align: right;\">79.0</td><td style = \"text-align: right;\">8.84828e6</td><td style = \"text-align: right;\">0.1</td><td style = \"font-style: italic; text-align: right;\">missing</td></tr><tr><td class = \"rowNumber\" style = \"font-weight: bold; text-align: right;\">3693</td><td style = \"text-align: left;\">074.01:00</td><td style = \"text-align: right;\">47.2</td><td style = \"text-align: right;\">-67.5</td><td style = \"text-align: right;\">1.0</td><td style = \"text-align: right;\">-95.4</td><td style = \"text-align: right;\">20993.8</td><td style = \"text-align: right;\">68877.3</td><td style = \"text-align: right;\">152.3</td><td style = \"text-align: right;\">5.1</td><td style = \"text-align: right;\">336.0</td><td style = \"text-align: right;\">278.8</td><td style = \"text-align: right;\">79.0</td><td style = \"text-align: right;\">8.84828e6</td><td style = \"text-align: right;\">0.1</td><td style = \"font-style: italic; text-align: right;\">missing</td></tr><tr><td class = \"rowNumber\" style = \"font-weight: bold; text-align: right;\">3694</td><td style = \"text-align: left;\">074.02:00</td><td style = \"text-align: right;\">47.2</td><td style = \"text-align: right;\">-67.4</td><td style = \"text-align: right;\">1.0</td><td style = \"text-align: right;\">-95.4</td><td style = \"text-align: right;\">20998.8</td><td style = \"text-align: right;\">68893.9</td><td style = \"text-align: right;\">149.4</td><td style = \"text-align: right;\">5.3</td><td style = \"text-align: right;\">334.8</td><td style = \"text-align: right;\">278.9</td><td style = \"text-align: right;\">79.0</td><td style = \"text-align: right;\">8.84828e6</td><td style = \"text-align: right;\">0.1</td><td style = \"font-style: italic; text-align: right;\">missing</td></tr><tr><td class = \"rowNumber\" style = \"font-weight: bold; text-align: right;\">3695</td><td style = \"text-align: left;\">074.03:00</td><td style = \"text-align: right;\">47.2</td><td style = \"text-align: right;\">-67.4</td><td style = \"text-align: right;\">1.0</td><td style = \"text-align: right;\">-95.3</td><td style = \"text-align: right;\">21004.6</td><td style = \"text-align: right;\">68912.7</td><td style = \"text-align: right;\">147.3</td><td style = \"text-align: right;\">5.4</td><td style = \"text-align: right;\">335.0</td><td style = \"text-align: right;\">278.9</td><td style = \"text-align: right;\">79.0</td><td style = \"text-align: right;\">8.84827e6</td><td style = \"text-align: right;\">0.1</td><td style = \"font-style: italic; text-align: right;\">missing</td></tr><tr><td class = \"rowNumber\" style = \"font-weight: bold; text-align: right;\">3696</td><td style = \"text-align: left;\">074.04:00</td><td style = \"text-align: right;\">47.1</td><td style = \"text-align: right;\">-67.3</td><td style = \"text-align: right;\">1.0</td><td style = \"text-align: right;\">-95.2</td><td style = \"text-align: right;\">21009.9</td><td style = \"text-align: right;\">68930.3</td><td style = \"text-align: right;\">147.5</td><td style = \"text-align: right;\">5.7</td><td style = \"text-align: right;\">334.7</td><td style = \"text-align: right;\">278.9</td><td style = \"text-align: right;\">79.0</td><td style = \"text-align: right;\">8.84827e6</td><td style = \"text-align: right;\">0.1</td><td style = \"font-style: italic; text-align: right;\">missing</td></tr><tr><td class = \"rowNumber\" style = \"font-weight: bold; text-align: right;\">3697</td><td style = \"text-align: left;\">074.05:00</td><td style = \"text-align: right;\">47.1</td><td style = \"text-align: right;\">-67.2</td><td style = \"text-align: right;\">1.0</td><td style = \"text-align: right;\">-95.2</td><td style = \"text-align: right;\">21014.9</td><td style = \"text-align: right;\">68946.5</td><td style = \"text-align: right;\">148.1</td><td style = \"text-align: right;\">6.0</td><td style = \"text-align: right;\">334.7</td><td style = \"text-align: right;\">278.9</td><td style = \"text-align: right;\">79.0</td><td style = \"text-align: right;\">8.84827e6</td><td style = \"text-align: right;\">0.1</td><td style = \"font-style: italic; text-align: right;\">missing</td></tr><tr><td class = \"rowNumber\" style = \"font-weight: bold; text-align: right;\">3698</td><td style = \"text-align: left;\">074.07:00</td><td style = \"text-align: right;\">47.0</td><td style = \"text-align: right;\">-67.0</td><td style = \"text-align: right;\">1.0</td><td style = \"text-align: right;\">-95.0</td><td style = \"text-align: right;\">21021.0</td><td style = \"text-align: right;\">68966.7</td><td style = \"text-align: right;\">148.0</td><td style = \"text-align: right;\">6.3</td><td style = \"text-align: right;\">330.3</td><td style = \"text-align: right;\">278.9</td><td style = \"text-align: right;\">79.0</td><td style = \"text-align: right;\">8.84826e6</td><td style = \"text-align: right;\">0.1</td><td style = \"font-style: italic; text-align: right;\">missing</td></tr></tbody></table></div>"
      ],
      "text/latex": [
       "\\begin{tabular}{r|ccccccc}\n",
       "\t&      Time &      p(hPa) &     T(�C) &     U(\\%) &       Dew(�C) &      Geo(gpm) & \\\\\n",
       "\t\\hline\n",
       "\t& String15 & Float64 & Float64 & Float64 & Float64 & Float64 & \\\\\n",
       "\t\\hline\n",
       "\t1 & 000.00:00 & 1004.0 & 28.2 & 89.0 & 26.3 & 10.4 & $\\dots$ \\\\\n",
       "\t2 & 000.01:00 & 1003.5 & 28.1 & 97.2 & 27.6 & 14.8 & $\\dots$ \\\\\n",
       "\t3 & 000.02:00 & 1003.0 & 28.0 & 97.8 & 27.6 & 19.5 & $\\dots$ \\\\\n",
       "\t4 & 000.03:00 & 1002.6 & 27.9 & 98.5 & 27.6 & 23.2 & $\\dots$ \\\\\n",
       "\t5 & 000.04:00 & 1002.0 & 28.1 & 99.3 & 28.0 & 28.6 & $\\dots$ \\\\\n",
       "\t6 & 000.05:00 & 1001.4 & 28.0 & 99.7 & 28.0 & 33.2 & $\\dots$ \\\\\n",
       "\t7 & 000.06:00 & 1000.9 & 28.3 & 100.0 & 28.3 & 38.1 & $\\dots$ \\\\\n",
       "\t8 & 000.07:00 & 1000.3 & 28.5 & 100.0 & 28.5 & 43.6 & $\\dots$ \\\\\n",
       "\t9 & 000.08:00 & 999.7 & 28.8 & 100.0 & 28.8 & 48.5 & $\\dots$ \\\\\n",
       "\t10 & 000.09:00 & 999.1 & 29.1 & 100.0 & 29.1 & 54.5 & $\\dots$ \\\\\n",
       "\t11 & 000.10:00 & 998.6 & 29.6 & 100.0 & 29.6 & 58.4 & $\\dots$ \\\\\n",
       "\t12 & 000.11:00 & 998.1 & 29.8 & 100.0 & 29.8 & 62.8 & $\\dots$ \\\\\n",
       "\t13 & 000.12:00 & 997.4 & 29.9 & 100.0 & 29.9 & 69.3 & $\\dots$ \\\\\n",
       "\t14 & 000.13:00 & 997.0 & 29.9 & 100.0 & 29.9 & 72.8 & $\\dots$ \\\\\n",
       "\t15 & 000.14:00 & 996.7 & 29.9 & 100.0 & 29.9 & 75.9 & $\\dots$ \\\\\n",
       "\t16 & 000.15:00 & 996.3 & 29.7 & 100.0 & 29.7 & 79.8 & $\\dots$ \\\\\n",
       "\t17 & 000.16:00 & 995.9 & 29.7 & 100.0 & 29.7 & 82.8 & $\\dots$ \\\\\n",
       "\t18 & 000.17:00 & 995.4 & 29.7 & 99.7 & 29.6 & 87.5 & $\\dots$ \\\\\n",
       "\t19 & 000.18:00 & 994.8 & 29.6 & 98.5 & 29.3 & 92.6 & $\\dots$ \\\\\n",
       "\t20 & 000.19:00 & 994.3 & 29.3 & 97.2 & 28.8 & 98.0 & $\\dots$ \\\\\n",
       "\t21 & 000.20:00 & 993.5 & 28.6 & 92.5 & 27.3 & 104.6 & $\\dots$ \\\\\n",
       "\t22 & 000.21:00 & 992.9 & 28.1 & 91.4 & 26.6 & 109.7 & $\\dots$ \\\\\n",
       "\t23 & 000.22:00 & 992.5 & 27.9 & 88.0 & 25.7 & 113.5 & $\\dots$ \\\\\n",
       "\t24 & 000.23:00 & 992.0 & 27.9 & 86.7 & 25.5 & 118.1 & $\\dots$ \\\\\n",
       "\t25 & 000.24:00 & 991.6 & 28.0 & 84.8 & 25.2 & 122.2 & $\\dots$ \\\\\n",
       "\t26 & 000.25:00 & 991.0 & 28.1 & 84.2 & 25.2 & 127.1 & $\\dots$ \\\\\n",
       "\t27 & 000.26:00 & 990.5 & 28.4 & 84.8 & 25.6 & 131.4 & $\\dots$ \\\\\n",
       "\t28 & 000.27:00 & 990.1 & 28.6 & 85.3 & 25.9 & 135.8 & $\\dots$ \\\\\n",
       "\t29 & 000.28:00 & 989.7 & 28.7 & 85.9 & 26.1 & 139.4 & $\\dots$ \\\\\n",
       "\t30 & 000.29:00 & 989.2 & 28.7 & 87.0 & 26.3 & 143.6 & $\\dots$ \\\\\n",
       "\t$\\dots$ & $\\dots$ & $\\dots$ & $\\dots$ & $\\dots$ & $\\dots$ & $\\dots$ &  \\\\\n",
       "\\end{tabular}\n"
      ],
      "text/plain": [
       "\u001b[1m3698×15 DataFrame\u001b[0m\n",
       "\u001b[1m  Row \u001b[0m│\u001b[1m      Time \u001b[0m\u001b[1m      p(hPa) \u001b[0m\u001b[1m     T(\\xb0C) \u001b[0m\u001b[1m     U(%) \u001b[0m\u001b[1m       Dew(\\xb0C) \u001b[0m\u001b[1m     \u001b[0m ⋯\n",
       "      │\u001b[90m String15  \u001b[0m\u001b[90m Float64     \u001b[0m\u001b[90m Float64      \u001b[0m\u001b[90m Float64  \u001b[0m\u001b[90m Float64          \u001b[0m\u001b[90m Floa\u001b[0m ⋯\n",
       "──────┼─────────────────────────────────────────────────────────────────────────\n",
       "    1 │ 000.00:00       1004.0          28.2      89.0              26.3       ⋯\n",
       "    2 │ 000.01:00       1003.5          28.1      97.2              27.6\n",
       "    3 │ 000.02:00       1003.0          28.0      97.8              27.6\n",
       "    4 │ 000.03:00       1002.6          27.9      98.5              27.6\n",
       "    5 │ 000.04:00       1002.0          28.1      99.3              28.0       ⋯\n",
       "    6 │ 000.05:00       1001.4          28.0      99.7              28.0\n",
       "    7 │ 000.06:00       1000.9          28.3     100.0              28.3\n",
       "    8 │ 000.07:00       1000.3          28.5     100.0              28.5\n",
       "    9 │ 000.08:00        999.7          28.8     100.0              28.8       ⋯\n",
       "   10 │ 000.09:00        999.1          29.1     100.0              29.1\n",
       "   11 │ 000.10:00        998.6          29.6     100.0              29.6\n",
       "  ⋮   │     ⋮           ⋮            ⋮           ⋮             ⋮               ⋱\n",
       " 3689 │ 073.57:00         47.4         -67.6       1.0             -95.4\n",
       " 3690 │ 073.58:00         47.4         -67.6       1.0             -95.4       ⋯\n",
       " 3691 │ 073.59:00         47.3         -67.6       1.0             -95.4\n",
       " 3692 │ 074.00:00         47.3         -67.5       1.0             -95.4\n",
       " 3693 │ 074.01:00         47.2         -67.5       1.0             -95.4\n",
       " 3694 │ 074.02:00         47.2         -67.4       1.0             -95.4       ⋯\n",
       " 3695 │ 074.03:00         47.2         -67.4       1.0             -95.3\n",
       " 3696 │ 074.04:00         47.1         -67.3       1.0             -95.2\n",
       " 3697 │ 074.05:00         47.1         -67.2       1.0             -95.2\n",
       " 3698 │ 074.07:00         47.0         -67.0       1.0             -95.0       ⋯\n",
       "\u001b[36m                                                10 columns and 3677 rows omitted\u001b[0m"
      ]
     },
     "execution_count": 15,
     "metadata": {},
     "output_type": "execute_result"
    }
   ],
   "source": [
    "df = CSV.read(joinpath(reldatapath, station, file), DataFrame, header=4)"
   ]
  },
  {
   "cell_type": "code",
   "execution_count": 28,
   "id": "87e9d1b7-9a31-4192-84d6-c05fbd4b857c",
   "metadata": {
    "tags": []
   },
   "outputs": [
    {
     "data": {
      "text/plain": [
       "dateparse (generic function with 1 method)"
      ]
     },
     "execution_count": 28,
     "metadata": {},
     "output_type": "execute_result"
    }
   ],
   "source": [
    "dateparse(str) = freadf(str, \"%3i.%2i:00\")"
   ]
  },
  {
   "cell_type": "code",
   "execution_count": 25,
   "id": "e0dcb86d-2830-45df-915d-60d85f78f21c",
   "metadata": {
    "tags": []
   },
   "outputs": [
    {
     "data": {
      "text/plain": [
       "3698-element Vector{String15}:\n",
       " \"000.00:00\"\n",
       " \"000.01:00\"\n",
       " \"000.02:00\"\n",
       " \"000.03:00\"\n",
       " \"000.04:00\"\n",
       " \"000.05:00\"\n",
       " \"000.06:00\"\n",
       " \"000.07:00\"\n",
       " \"000.08:00\"\n",
       " \"000.09:00\"\n",
       " \"000.10:00\"\n",
       " \"000.11:00\"\n",
       " \"000.12:00\"\n",
       " ⋮\n",
       " \"073.55:00\"\n",
       " \"073.56:00\"\n",
       " \"073.57:00\"\n",
       " \"073.58:00\"\n",
       " \"073.59:00\"\n",
       " \"074.00:00\"\n",
       " \"074.01:00\"\n",
       " \"074.02:00\"\n",
       " \"074.03:00\"\n",
       " \"074.04:00\"\n",
       " \"074.05:00\"\n",
       " \"074.07:00\""
      ]
     },
     "execution_count": 25,
     "metadata": {},
     "output_type": "execute_result"
    }
   ],
   "source": [
    "df[!,1]"
   ]
  },
  {
   "cell_type": "code",
   "execution_count": 27,
   "id": "4f8a2249-555b-4261-a235-22a77f53bacd",
   "metadata": {
    "tags": []
   },
   "outputs": [
    {
     "ename": "LoadError",
     "evalue": "ArgumentError: Minute: 60 out of range (0:59)",
     "output_type": "error",
     "traceback": [
      "ArgumentError: Minute: 60 out of range (0:59)",
      "",
      "Stacktrace:",
      "  [1] DateTime",
      "    @ /Applications/Julia-1.8.app/Contents/Resources/julia/share/julia/stdlib/v1.8/Dates/src/types.jl:235 [inlined]",
      "  [2] parse(::Type{DateTime}, str::String15, df::DateFormat{Symbol(\"MMM.ss:00\"), Tuple{Dates.DatePart{'M'}, Dates.Delim{Char, 1}, Dates.DatePart{'s'}, Dates.Delim{String, 3}}})",
      "    @ Dates /Applications/Julia-1.8.app/Contents/Resources/julia/share/julia/stdlib/v1.8/Dates/src/parse.jl:285",
      "  [3] DateTime(dt::String15, format::String; locale::Dates.DateLocale)",
      "    @ Dates /Applications/Julia-1.8.app/Contents/Resources/julia/share/julia/stdlib/v1.8/Dates/src/io.jl:563",
      "  [4] DateTime",
      "    @ /Applications/Julia-1.8.app/Contents/Resources/julia/share/julia/stdlib/v1.8/Dates/src/io.jl:562 [inlined]",
      "  [5] _broadcast_getindex_evalf",
      "    @ ./broadcast.jl:670 [inlined]",
      "  [6] _broadcast_getindex",
      "    @ ./broadcast.jl:643 [inlined]",
      "  [7] getindex",
      "    @ ./broadcast.jl:597 [inlined]",
      "  [8] macro expansion",
      "    @ ./broadcast.jl:961 [inlined]",
      "  [9] macro expansion",
      "    @ ./simdloop.jl:77 [inlined]",
      " [10] copyto!",
      "    @ ./broadcast.jl:960 [inlined]",
      " [11] copyto!",
      "    @ ./broadcast.jl:913 [inlined]",
      " [12] copy",
      "    @ ./broadcast.jl:885 [inlined]",
      " [13] materialize(bc::Base.Broadcast.Broadcasted{Base.Broadcast.DefaultArrayStyle{1}, Nothing, Type{DateTime}, Tuple{Vector{String15}, Base.RefValue{String}}})",
      "    @ Base.Broadcast ./broadcast.jl:860",
      " [14] top-level scope",
      "    @ In[27]:1"
     ]
    }
   ],
   "source": [
    "Dates.DateTime.(df[!,1], \"MMM.ss:00\")"
   ]
  },
  {
   "cell_type": "code",
   "execution_count": null,
   "id": "4d555350-3fb2-4c2e-9e2a-1313303d2e0b",
   "metadata": {},
   "outputs": [],
   "source": []
  }
 ],
 "metadata": {
  "kernelspec": {
   "display_name": "Julia 1.8.5",
   "language": "julia",
   "name": "julia-1.8"
  },
  "language_info": {
   "file_extension": ".jl",
   "mimetype": "application/julia",
   "name": "julia",
   "version": "1.8.5"
  }
 },
 "nbformat": 4,
 "nbformat_minor": 5
}
