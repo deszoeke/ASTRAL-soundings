{
 "cells": [
  {
   "cell_type": "code",
   "execution_count": 40,
   "id": "1585f970-1b56-4fe8-80e5-69c316d603da",
   "metadata": {},
   "outputs": [
    {
     "name": "stderr",
     "output_type": "stream",
     "text": [
      "\u001b[32m\u001b[1m  Activating\u001b[22m\u001b[39m project at `~/Projects/ASTRAL/soundings`\n"
     ]
    }
   ],
   "source": [
    "#cd(\"~/Projects/ASTRAL/soundings/src/\")\n",
    "\n",
    "# activate the environment\n",
    "# an environment is just a path with Manifest.toml and Project.toml\n",
    "using Pkg; Pkg.activate(\"..\")\n",
    "\n",
    "using Revise\n",
    "#using Regex\n",
    "using CSV, DataFrames\n",
    "using Interpolations\n",
    "using Dates\n",
    "using PyPlot"
   ]
  },
  {
   "cell_type": "code",
   "execution_count": 45,
   "id": "fb829c1e-87f0-4d50-9ad6-5945b7be91c0",
   "metadata": {
    "tags": []
   },
   "outputs": [
    {
     "data": {
      "text/plain": [
       "imd_file_date"
      ]
     },
     "execution_count": 45,
     "metadata": {},
     "output_type": "execute_result"
    }
   ],
   "source": [
    "reldatapath = \"../data/EKAMSAT_IMD/ekamsat\"\n",
    "CamelStations = [\"Ahmedabad\",\"Chennai\",\"Karaikal\",\"Kochi\",\"Kolkata\",\"Mangalore\",\"PortBlair\",\"Pune\",\"Visakhapatnam\"]\n",
    "hdr = [4,4,4,4,4,4,7] # 7 header lines for Vsk, 4 for others\n",
    "\n",
    "# dates are formatted a variety of different ways\n",
    "\n",
    "#datematcher = [\"yyyymmdd-HH\", \"ddUyyyy\", \"dduuuyy\"]\n",
    "#ldm = length.(datematcher)\n",
    "#datefm = Dates.DateFormat.(datematcher)\n",
    "# doesn't handle undelimited month names\n",
    "\n",
    "\"Parse the various date formats in the file names. Only works for 3-letter month (or May).\"\n",
    "function imd_file_date(fn)\n",
    "    if fn[1:6]==\"43150-\" && all(isnumeric, fn[[7:14; 16:17]]) # 43150 Visakhap. WMO station ID\n",
    "        dt = Dates.DateTime(fn[7:17], \"yyyymmdd-HH\")\n",
    "    elseif fn[10:12]==\"VSK\" && all(isnumeric, fn[[1:2; 6:9]])  # Visakhap.\n",
    "        dt = Dates.DateTime(fn[1:9], \"ddUUUyyyy\")\n",
    "    elseif all(isnumeric, fn[[1:8; 10:11]])\n",
    "        dt = Dates.DateTime(fn[1:11], \"yyyymmdd-HH\")\n",
    "    else\n",
    "        # expect undelimited 3-letter month\n",
    "        if all(isnumeric, fn[[1:2; 6:7]])\n",
    "            if isletter(fn[8])\n",
    "                dt = DateTime( 2000+year(DateTime(fn[6:7], \"yy\")),\n",
    "                    month(DateTime(fn[3:5], \"U\")),\n",
    "                    day(DateTime(fn[1:2], \"d\")) )\n",
    "            elseif all(isnumeric, fn[8:9])\n",
    "                dt = DateTime( year(DateTime(fn[6:9], \"yyyy\")),\n",
    "                    month(DateTime(fn[3:5], \"U\")),\n",
    "                    day(DateTime(fn[1:2], \"d\")) )\n",
    "            end\n",
    "        end\n",
    "    end\n",
    "    return dt\n",
    "end\n"
   ]
  },
  {
   "cell_type": "code",
   "execution_count": 46,
   "id": "50490789-a2e6-4807-96a4-bc34beb08703",
   "metadata": {},
   "outputs": [
    {
     "data": {
      "text/plain": [
       "29-element Vector{Tuple{DateTime, String}}:\n",
       " (DateTime(\"2023-04-30T23:00:00\"), \"20230430-23-Standard Summary.txt\")\n",
       " (DateTime(\"2023-05-01T23:00:00\"), \"20230501-23-Standard Summary.txt\")\n",
       " (DateTime(\"2023-05-02T23:00:00\"), \"20230502-23-Standard Summary.txt\")\n",
       " (DateTime(\"2023-05-03T23:00:00\"), \"20230503-23-Standard Summary.txt\")\n",
       " (DateTime(\"2023-05-04T23:00:00\"), \"20230504-23-Standard Summary.txt\")\n",
       " (DateTime(\"2023-05-05T23:00:00\"), \"20230505-23-Standard Summary.txt\")\n",
       " (DateTime(\"2023-05-06T23:00:00\"), \"20230506-23-Standard Summary.txt\")\n",
       " (DateTime(\"2023-05-07T23:00:00\"), \"20230507-23-Standard Summary.txt\")\n",
       " (DateTime(\"2023-05-08T23:00:00\"), \"20230508-23-Standard Summary.txt\")\n",
       " (DateTime(\"2023-05-09T23:00:00\"), \"20230509-23-Standard Summary.txt\")\n",
       " (DateTime(\"2023-05-11T00:00:00\"), \"20230511-00-Standard Summary.txt\")\n",
       " (DateTime(\"2023-05-11T23:00:00\"), \"20230511-23-Standard Summary.txt\")\n",
       " (DateTime(\"2023-05-12T23:00:00\"), \"20230512-23-Standard Summary.txt\")\n",
       " ⋮\n",
       " (DateTime(\"2023-05-17T23:00:00\"), \"20230517-23-Standard Summary.txt\")\n",
       " (DateTime(\"2023-05-18T23:00:00\"), \"20230518-23-Standard Summary.txt\")\n",
       " (DateTime(\"2023-05-19T23:00:00\"), \"20230519-23-Standard Summary.txt\")\n",
       " (DateTime(\"2023-05-20T23:00:00\"), \"20230520-23-Standard Summary.txt\")\n",
       " (DateTime(\"2023-05-21T23:00:00\"), \"20230521-23-Standard Summary.txt\")\n",
       " (DateTime(\"2023-05-22T23:00:00\"), \"20230522-23-Standard Summary.txt\")\n",
       " (DateTime(\"2023-05-24T00:00:00\"), \"20230524-00-Standard Summary.txt\")\n",
       " (DateTime(\"2023-05-24T23:00:00\"), \"20230524-23-Standard Summary.txt\")\n",
       " (DateTime(\"2023-05-25T23:00:00\"), \"20230525-23-Standard Summary.txt\")\n",
       " (DateTime(\"2023-05-26T23:00:00\"), \"20230526-23-Standard Summary.txt\")\n",
       " (DateTime(\"2023-05-27T23:00:00\"), \"20230527-23-Standard Summary.txt\")\n",
       " (DateTime(\"2023-05-28T23:00:00\"), \"20230528-23-Standard Summary.txt\")"
      ]
     },
     "execution_count": 46,
     "metadata": {},
     "output_type": "execute_result"
    }
   ],
   "source": [
    "stationdir = lowercase(CamelStations[1]) # e.g., lowercase(\"Visakhapatnam\")\n",
    "\n",
    "# read standard named files in the station's directory\n",
    "soundingfiles(stationdir; reldatapath=reldatapath) = filter(x -> occursin(r\"(?i)(May|Standard_Summary|Standard-Summary|Standard Summary).*(\\.txt)$(?-i)\",x),\n",
    "               readdir(joinpath(reldatapath, stationdir)) ) \n",
    "files = soundingfiles( stationdir ) \n",
    "\n",
    "# remove duplicate times uniqueidx(v) = unique(i -> v[i], eachindex(v))\n",
    "uniqueidx(v) = unique(i -> v[i], eachindex(v))\n",
    "\n",
    "fdt = imd_file_date.(files)\n",
    "fdt12 = round.(fdt, Dates.Hour(12))\n",
    "ui = uniqueidx(fdt12)\n",
    "fdt[ui] # exact datetimes with duplicates removed\n",
    "ord = sortperm(fdt[ui]) # guarantees ascending order\n",
    "collect(zip(fdt[ui[ord]], files[ui[ord]]))"
   ]
  },
  {
   "cell_type": "code",
   "execution_count": 110,
   "id": "8e056403-7417-467f-aab3-6cdfaf3a4eb8",
   "metadata": {},
   "outputs": [
    {
     "data": {
      "text/plain": [
       "pavg"
      ]
     },
     "execution_count": 110,
     "metadata": {},
     "output_type": "execute_result"
    }
   ],
   "source": [
    "# Interpolation methods\n",
    "# Pressure is irregular and different for each sounding time.\n",
    "\n",
    "\"dv converts Datetimes to numeric values for Interpolations.\"\n",
    "dv(dt, offset=DateTime(2019,3,1)) = Dates.value(dt - offset)\n",
    "\n",
    "# interpolation functions\n",
    "function itp_sparse(x::Vector, p::Vector)\n",
    "    # knot-vectors must be unique and sorted in increasing order\n",
    "    ind = sortperm(p)\n",
    "    ii = isfinite.(p[ind])\n",
    "    extrapolate( interpolate( (p[ind][ii],), x[ind][ii], Gridded(Linear()) ), NaN )\n",
    "end\n",
    "\n",
    "\"Filter missing data from the input sounding before interpolating.\"\n",
    "function itp(x::Vector, p::Vector)\n",
    "    # knot-vectors must be unique and sorted in increasing order\n",
    "    ind = sortperm(p)\n",
    "    ii = isfinite.(p[ind] .+ x[ind]) # .& .!ismissing.(p[ind] .+ x[ind])\n",
    "    extrapolate( interpolate( (p[ind][ii],), x[ind][ii], Gridded(Linear()) ), NaN )\n",
    "end\n",
    "\n",
    "\"rectangular interval averaging onto a decreasing pressure coordinate\"\n",
    "function pavg(x::Vector, p::Vector; plevs=1020.0:-5.0:0.0)\n",
    "    s1 = zeros(Float64, size(plevs))\n",
    "    # s2 = zeros(Float64, size(p))\n",
    "    ns = zeros(Float64, size(plevs))\n",
    "    \n",
    "    for i in eachindex(p)\n",
    "        j = findfirst(x -> x < p[i], plevs) # j indexes plevs\n",
    "        s1[j] += isfinite(x[i]) ? x[i] : 0\n",
    "        # s2[j] += x[i]^2\n",
    "        ns[j] += 1.0*isfinite(x[i])\n",
    "    end\n",
    "    \n",
    "    s1 ./ ns # mean\n",
    "end"
   ]
  },
  {
   "cell_type": "code",
   "execution_count": 111,
   "id": "d82b9d93-fff4-4607-9787-66a33a1f01c6",
   "metadata": {},
   "outputs": [
    {
     "data": {
      "text/plain": [
       "true"
      ]
     },
     "execution_count": 111,
     "metadata": {},
     "output_type": "execute_result"
    }
   ],
   "source": [
    "# 1 file example\n",
    "\n",
    "station = lowercase(\"Ahmedabad\")\n",
    "files = soundingfiles(station)\n",
    "#filter(x -> occursin(r\"(?i)(May|Standard).*(\\.txt)$(?-i)\",x), readdir(joinpath(reldatapath, station) ))\n",
    "\n",
    "# dt = imd_file_date(files[ui[ord[8]]])\n",
    "\n",
    "# deduplicate sounding times\n",
    "fdt = imd_file_date.(files)\n",
    "fdt12 = round.(fdt, Dates.Hour(12))\n",
    "ui = uniqueidx(fdt12)\n",
    "fdt[ui] # exact datetimes with duplicates removed\n",
    "ord = sortperm(fdt[ui]) # guarantees ascending order\n",
    "\n",
    "# reader functions\n",
    "# handle \\u00b0 degree character °\n",
    "stripjunk(f) = IOBuffer(replace(read(f), UInt8('\\t') => UInt8(' '), UInt16('\\u00b0') => UInt8('d')) )\n",
    "function read_sonde(file; header=( station==\"visakhapatnam\" ? 7 : 3 ) )\n",
    "    CSV.read( stripjunk(file),\n",
    "        DataFrame, header=header, delim=\",\", stripwhitespace=true )\n",
    "end\n",
    "\n",
    "# test read\n",
    "df = read_sonde( joinpath(reldatapath, station, files[ui[ord[2]]]),\n",
    "                 header=( station==\"visakhapatnam\" ? 7 : 3 )      )\n",
    "isempty(df)"
   ]
  },
  {
   "cell_type": "markdown",
   "id": "6cfa1b52-0c3f-4f39-8901-10e198be829d",
   "metadata": {},
   "source": [
    "## Column headers \n",
    "\n",
    "Chennai, Karaikal, Kochi, Kolkata, Ahmedabad, Pune\n",
    "```\n",
    "Time,     p(hPa),    T(?C),    U(%),      Dew(?C),     Geo(gpm),   Geo(gpft),    Wdir(?),    Wspd(m/s),    Asc(m/m),    Avg Asc(m/m),    Azimuth(?),   Range(m),    Elevation(?),\n",
    "```\n",
    "Mangalore, PortBlair\n",
    "```\n",
    "Time,\tP(hPa),\tT(C),\tU(%),\tDew(C),\tGeo(gpm),\tGeo(gpft),\tWdir(d),\tWspd(m/s),\tAsc(m/m),\tAvgAsc(m/m)\n",
    "```\n",
    "Visakhapatnam\n",
    "43150-20230512-00-Standard-Summary.txt, 43150-20230520-00-Standard-Summary.txt: 3 headerlines\n",
    "```\n",
    "Time,\tP(hPa),\tT(C),\tU(%),\tDew(C),\tGeo(gpm),\tGeo(gpft),\tWdir(d),\tWspd(m/s),\tAsc(m/m),\tAvgAsc(m/m)\n",
    "```\n",
    "all other Visakhapatnam: 7 headerlines\n",
    "\n",
    "Simon edited the 2 Vsk files to make them have 7"
   ]
  },
  {
   "cell_type": "code",
   "execution_count": 112,
   "id": "6921bd02-0e4c-4592-8d56-7dbd8c9c5748",
   "metadata": {},
   "outputs": [
    {
     "data": {
      "text/plain": [
       "2-element Vector{Vector{String}}:\n",
       " [\"Time\", \"p(hPa)\", \"T(?C)\", \"U(%)\", \"Dew(?C)\", \"Geo(gpm)\", \"Geo(gpft)\", \"Wdir(?)\", \"Wspd(m/s)\", \"Asc(m/m)\", \"Avg Asc(m/m)\", \"Azimuth(?)\", \"Range(m)\", \"Elevation(?)\"]\n",
       " [\"Time\", \"P(hPa)\", \"T(C)\", \"U(%)\", \"Dew(C)\", \"Geo(gpm)\", \"Geo(gpft)\", \"Wdir(d)\", \"Wspd(m/s)\", \"Asc(m/m)\", \"AvgAsc(m/m)\"]"
      ]
     },
     "execution_count": 112,
     "metadata": {},
     "output_type": "execute_result"
    }
   ],
   "source": [
    "NamePatterns = [ \n",
    "    [\"Time\", \"p(hPa)\", \"T(?C)\", \"U(%)\", \"Dew(?C)\", \"Geo(gpm)\", \"Geo(gpft)\", \"Wdir(?)\", \"Wspd(m/s)\", \"Asc(m/m)\", \"Avg Asc(m/m)\", \"Azimuth(?)\", \"Range(m)\", \"Elevation(?)\"], #Visakhapatnam style 1\n",
    "    [\"Time\", \"P(hPa)\", \"T(C)\", \"U(%)\", \"Dew(C)\", \"Geo(gpm)\", \"Geo(gpft)\", \"Wdir(d)\", \"Wspd(m/s)\", \"Asc(m/m)\", \"AvgAsc(m/m)\"] # Mangalore, Visakhapatnam\n",
    "    ]"
   ]
  },
  {
   "cell_type": "code",
   "execution_count": 115,
   "id": "315e771f-6657-47d9-b0d1-77c3bdf32502",
   "metadata": {},
   "outputs": [
    {
     "data": {
      "image/png": "[encoded data removed]",
      "text/plain": [
       "Figure(PyObject <Figure size 640x480 with 1 Axes>)"
      ]
     },
     "metadata": {},
     "output_type": "display_data"
    },
    {
     "data": {
      "text/plain": [
       "\"ahmedabad\""
      ]
     },
     "execution_count": 115,
     "metadata": {},
     "output_type": "execute_result"
    }
   ],
   "source": [
    "\"extract column data by name\"\n",
    "function get_sounding_cols(df, station)\n",
    "    if isempty(df)\n",
    "        # p = [missing]\n",
    "        # T = [missing]\n",
    "        # Td = [missing]\n",
    "        # rh= [missing]\n",
    "        # z = [missing]\n",
    "        # wspd = [missing]\n",
    "        # wdir = [missing]\n",
    "        p = []\n",
    "        T = []\n",
    "        Td = []\n",
    "        rh= []\n",
    "        z = []\n",
    "        wspd = []\n",
    "        wdir = []\n",
    "    else\n",
    "        if in(station, [\"mangalore\", \"visakhapatnam\", \"portblair\"])\n",
    "            p = df[!,\"P(hPa)\"][:]\n",
    "            T = df[!,\"T(C)\"][:]\n",
    "            Td = df[!,\"Dew(C)\"][:]\n",
    "            rh = df[!,\"U(%)\"][:]\n",
    "            z = df[!,\"Geo(gpm)\"][:]\n",
    "            wspd = df[!,\"Wspd(m/s)\"][:]\n",
    "            wdir = df[!,\"Wdir(d)\"][:]\n",
    "        else # slightly different keys\n",
    "            p = df[!,\"p(hPa)\"][:]\n",
    "            T = df[!,\"T(dC)\"][:]\n",
    "            Td = df[!,\"Dew(dC)\"][:]\n",
    "            rh = df[!,\"U(%)\"][:]\n",
    "            z = df[!,\"Geo(gpm)\"][:]\n",
    "            wspd = df[!,\"Wspd(m/s)\"][:]\n",
    "            wdir = df[!,\"Wdir(d)\"][:]\n",
    "        end\n",
    "    end\n",
    "    u = -wspd .* sin.(pi/180.0*wdir)\n",
    "    v = -wspd .* cos.(pi/180.0*wdir)\n",
    "    \n",
    "    return p, T,Td, rh,z, wspd,wdir, u,v\n",
    "end\n",
    "\n",
    "p, T,Td, rh,z, wspd,wdir, u,v = get_sounding_cols(df, station)\n",
    "\n",
    "m2n(x) = ismissing(x) ? NaN : x\n",
    "\n",
    "# test plot\n",
    "clf()\n",
    "plot( m2n.(T), m2n.(p), label=\"Temperature (C)\")\n",
    "ylim(1000, 20)\n",
    "station"
   ]
  },
  {
   "cell_type": "markdown",
   "id": "169e26aa-aa7f-414d-a66d-ebf3a30f7600",
   "metadata": {},
   "source": [
    "# sounding variable functions\n",
    "\n",
    "meanfinite(x, dims) = sum(x, dims=dims)./sum(isfinite, x, dims=dims)\n",
    "anom(x; dims=ndims(x)) = x .- meanfinite(x, dims)\n",
    "\n",
    "\"Exner function T/θ = (p/p_0)^Rd/cp\"\n",
    "Exner(p) = (p/1000.0)^0.287 # = T/theta\n",
    "th(T,p) = T/Exner(p)"
   ]
  },
  {
   "cell_type": "code",
   "execution_count": 117,
   "id": "302bcbb0-1081-483c-9b4d-bf583a2a27f2",
   "metadata": {},
   "outputs": [],
   "source": [
    "# pressure levels to interploate to\n",
    "dp = 5.0\n",
    "plevs = 1020.0:-dp:0.0\n",
    "\n",
    "# test interpolation\n",
    "if !isempty(df)\n",
    "    upi = uniqueidx(p)\n",
    "    plot(plevs, m2n.(itp(u[upi], p[upi])[plevs]))\n",
    "    # test averaging\n",
    "    # plot(plevs, pavg(u, p plevs=plevs))\n",
    "    \n",
    "    plot(m2n.(p), m2n.(wspd))\n",
    "    u_pl = pavg(u, p, plevs=plevs)\n",
    "    # plev is the level geometrically above and dynamically (pressure) below the binned observations\n",
    "    # probably suitable for pcolormesh\n",
    "    plot(plevs.+dp/2, u_pl)\n",
    "end"
   ]
  },
  {
   "cell_type": "code",
   "execution_count": 118,
   "id": "e59ca829-d1bc-4207-9e21-c4f7ef3763dc",
   "metadata": {},
   "outputs": [
    {
     "data": {
      "text/plain": [
       "29×2 Matrix{Any}:\n",
       " \"20230430-23-Standard Summary.txt\"  2023-04-30T23:00:00\n",
       " \"20230501-23-Standard Summary.txt\"  2023-05-01T23:00:00\n",
       " \"20230502-23-Standard Summary.txt\"  2023-05-02T23:00:00\n",
       " \"20230503-23-Standard Summary.txt\"  2023-05-03T23:00:00\n",
       " \"20230504-23-Standard Summary.txt\"  2023-05-04T23:00:00\n",
       " \"20230505-23-Standard Summary.txt\"  2023-05-05T23:00:00\n",
       " \"20230506-23-Standard Summary.txt\"  2023-05-06T23:00:00\n",
       " \"20230507-23-Standard Summary.txt\"  2023-05-07T23:00:00\n",
       " \"20230508-23-Standard Summary.txt\"  2023-05-08T23:00:00\n",
       " \"20230509-23-Standard Summary.txt\"  2023-05-09T23:00:00\n",
       " \"20230511-00-Standard Summary.txt\"  2023-05-11T00:00:00\n",
       " \"20230511-23-Standard Summary.txt\"  2023-05-11T23:00:00\n",
       " \"20230512-23-Standard Summary.txt\"  2023-05-12T23:00:00\n",
       " ⋮                                   \n",
       " \"20230517-23-Standard Summary.txt\"  2023-05-17T23:00:00\n",
       " \"20230518-23-Standard Summary.txt\"  2023-05-18T23:00:00\n",
       " \"20230519-23-Standard Summary.txt\"  2023-05-19T23:00:00\n",
       " \"20230520-23-Standard Summary.txt\"  2023-05-20T23:00:00\n",
       " \"20230521-23-Standard Summary.txt\"  2023-05-21T23:00:00\n",
       " \"20230522-23-Standard Summary.txt\"  2023-05-22T23:00:00\n",
       " \"20230524-00-Standard Summary.txt\"  2023-05-24T00:00:00\n",
       " \"20230524-23-Standard Summary.txt\"  2023-05-24T23:00:00\n",
       " \"20230525-23-Standard Summary.txt\"  2023-05-25T23:00:00\n",
       " \"20230526-23-Standard Summary.txt\"  2023-05-26T23:00:00\n",
       " \"20230527-23-Standard Summary.txt\"  2023-05-27T23:00:00\n",
       " \"20230528-23-Standard Summary.txt\"  2023-05-28T23:00:00"
      ]
     },
     "execution_count": 118,
     "metadata": {},
     "output_type": "execute_result"
    }
   ],
   "source": [
    "# inventory files, times\n",
    "station=\"ahmedabad\" # \"visakhapatnam\"\n",
    "    # read standard named files in the station's directory\n",
    "    files = soundingfiles(station)\n",
    "    # deduplicate sounding times\n",
    "    fdt = imd_file_date.(files)\n",
    "    fdt12 = round.(fdt, Dates.Hour(12))\n",
    "    ui = uniqueidx(fdt12)\n",
    "    fdt[ui] # exact datetimes with duplicates removed\n",
    "    ord = sortperm(fdt[ui]) # guarantees ascending order\n",
    "    cat(files[ui[ord]], fdt[ui[ord]], dims=2)\n"
   ]
  },
  {
   "cell_type": "code",
   "execution_count": 119,
   "id": "32493e7d-05c2-474f-852a-5b719e705349",
   "metadata": {},
   "outputs": [
    {
     "name": "stdout",
     "output_type": "stream",
     "text": [
      "../data/EKAMSAT_IMD/ekamsat/ahmedabad/20230430-23-Standard Summary.txt../data/EKAMSAT_IMD/ekamsat/ahmedabad/20230501-23-Standard Summary.txt../data/EKAMSAT_IMD/ekamsat/ahmedabad/20230502-23-Standard Summary.txt../data/EKAMSAT_IMD/ekamsat/ahmedabad/20230503-23-Standard Summary.txt../data/EKAMSAT_IMD/ekamsat/ahmedabad/20230504-23-Standard Summary.txt../data/EKAMSAT_IMD/ekamsat/ahmedabad/20230505-23-Standard Summary.txt../data/EKAMSAT_IMD/ekamsat/ahmedabad/20230506-23-Standard Summary.txt../data/EKAMSAT_IMD/ekamsat/ahmedabad/20230507-23-Standard Summary.txt../data/EKAMSAT_IMD/ekamsat/ahmedabad/20230508-23-Standard Summary.txt../data/EKAMSAT_IMD/ekamsat/ahmedabad/20230509-23-Standard Summary.txt../data/EKAMSAT_IMD/ekamsat/ahmedabad/20230511-00-Standard Summary.txt../data/EKAMSAT_IMD/ekamsat/ahmedabad/20230511-23-Standard Summary.txt../data/EKAMSAT_IMD/ekamsat/ahmedabad/20230512-23-Standard Summary.txt../data/EKAMSAT_IMD/ekamsat/ahmedabad/20230513-23-Standard Summary.txt../data/EKAMSAT_IMD/ekamsat/ahmedabad/20230514-23-Standard Summary.txt../data/EKAMSAT_IMD/ekamsat/ahmedabad/20230515-23-Standard Summary.txt../data/EKAMSAT_IMD/ekamsat/ahmedabad/20230516-23-Standard Summary.txt../data/EKAMSAT_IMD/ekamsat/ahmedabad/20230517-23-Standard Summary.txt../data/EKAMSAT_IMD/ekamsat/ahmedabad/20230518-23-Standard Summary.txt../data/EKAMSAT_IMD/ekamsat/ahmedabad/20230519-23-Standard Summary.txt../data/EKAMSAT_IMD/ekamsat/ahmedabad/20230520-23-Standard Summary.txt../data/EKAMSAT_IMD/ekamsat/ahmedabad/20230521-23-Standard Summary.txt../data/EKAMSAT_IMD/ekamsat/ahmedabad/20230522-23-Standard Summary.txt../data/EKAMSAT_IMD/ekamsat/ahmedabad/20230524-00-Standard Summary.txt../data/EKAMSAT_IMD/ekamsat/ahmedabad/20230524-23-Standard Summary.txt../data/EKAMSAT_IMD/ekamsat/ahmedabad/20230525-23-Standard Summary.txt../data/EKAMSAT_IMD/ekamsat/ahmedabad/20230526-23-Standard Summary.txt../data/EKAMSAT_IMD/ekamsat/ahmedabad/20230527-23-Standard Summary.txt../data/EKAMSAT_IMD/ekamsat/ahmedabad/20230528-23-Standard Summary.txt../data/EKAMSAT_IMD/ekamsat/chennai/01MAY23Chennai.txt../data/EKAMSAT_IMD/ekamsat/chennai/02May23MayChennai.txt../data/EKAMSAT_IMD/ekamsat/chennai/03May23Chennai.txt../data/EKAMSAT_IMD/ekamsat/chennai/04May23Chennai.txt../data/EKAMSAT_IMD/ekamsat/chennai/05May2023Chennai.txt../data/EKAMSAT_IMD/ekamsat/chennai/06May2023Chennai.txt../data/EKAMSAT_IMD/ekamsat/chennai/07May2023Chennai.txt../data/EKAMSAT_IMD/ekamsat/chennai/08May2023Chennai.txt../data/EKAMSAT_IMD/ekamsat/chennai/09May2023Chennai.txt../data/EKAMSAT_IMD/ekamsat/chennai/10May2023Chennai.txt../data/EKAMSAT_IMD/ekamsat/chennai/20230510-23-Standard Summary.txt../data/EKAMSAT_IMD/ekamsat/chennai/20230511-23-Standard Summary.txt../data/EKAMSAT_IMD/ekamsat/chennai/20230512-23-Standard Summary.txt../data/EKAMSAT_IMD/ekamsat/chennai/20230513-11-Standard Summary.txt../data/EKAMSAT_IMD/ekamsat/chennai/20230513-23-Standard Summary.txt../data/EKAMSAT_IMD/ekamsat/chennai/20230514-23-Standard Summary.txt../data/EKAMSAT_IMD/ekamsat/chennai/20230515-23-Standard Summary.txt../data/EKAMSAT_IMD/ekamsat/chennai/20230516-23-Standard Summary.txt../data/EKAMSAT_IMD/ekamsat/chennai/20230517-23-Standard Summary.txt../data/EKAMSAT_IMD/ekamsat/chennai/20230518-23-Standard Summary.txt../data/EKAMSAT_IMD/ekamsat/chennai/20230519-11-Standard Summary.txt../data/EKAMSAT_IMD/ekamsat/chennai/20230519-23-Standard Summary.txt../data/EKAMSAT_IMD/ekamsat/chennai/20230520-23-Standard Summary.txt../data/EKAMSAT_IMD/ekamsat/chennai/20230521-11-Standard Summary.txt../data/EKAMSAT_IMD/ekamsat/chennai/20230521-23-Standard Summary.txt../data/EKAMSAT_IMD/ekamsat/chennai/20230522-23-Standard Summary.txt../data/EKAMSAT_IMD/ekamsat/chennai/20230523-23-Standard Summary.txt../data/EKAMSAT_IMD/ekamsat/chennai/20230524-23-Standard Summary.txt../data/EKAMSAT_IMD/ekamsat/chennai/20230525-11-Standard Summary.txt../data/EKAMSAT_IMD/ekamsat/chennai/20230525-23-Standard Summary.txt../data/EKAMSAT_IMD/ekamsat/chennai/20230526-23-Standard Summary.txt../data/EKAMSAT_IMD/ekamsat/chennai/20230527-23-Standard Summary.txt../data/EKAMSAT_IMD/ekamsat/chennai/20230528-11-Standard Summary.txt../data/EKAMSAT_IMD/ekamsat/karaikal/01May2023Karaikal.txt../data/EKAMSAT_IMD/ekamsat/karaikal/02May2023Karaikal.txt../data/EKAMSAT_IMD/ekamsat/karaikal/03May2023Karaikal.txt../data/EKAMSAT_IMD/ekamsat/karaikal/04May2023Karaikal.txt../data/EKAMSAT_IMD/ekamsat/karaikal/05May2023Karaikal.txt../data/EKAMSAT_IMD/ekamsat/karaikal/06May2023Karaikal.txt../data/EKAMSAT_IMD/ekamsat/karaikal/07May2023Karaikal.txt../data/EKAMSAT_IMD/ekamsat/karaikal/08May2023Karaikal.txt../data/EKAMSAT_IMD/ekamsat/karaikal/09May2023Karaikal.txt../data/EKAMSAT_IMD/ekamsat/karaikal/10May2023Karaikal.txt../data/EKAMSAT_IMD/ekamsat/karaikal/20230510-23-Standard Summary.txt../data/EKAMSAT_IMD/ekamsat/karaikal/20230511-23-Standard Summary.txt../data/EKAMSAT_IMD/ekamsat/karaikal/20230512-23-Standard Summary.txt../data/EKAMSAT_IMD/ekamsat/karaikal/20230514-23-Standard Summary.txt../data/EKAMSAT_IMD/ekamsat/karaikal/20230515-23-Standard Summary.txt../data/EKAMSAT_IMD/ekamsat/karaikal/20230516-23-Standard Summary.txt../data/EKAMSAT_IMD/ekamsat/karaikal/20230517-23-Standard Summary.txt../data/EKAMSAT_IMD/ekamsat/karaikal/20230519-00-Standard Summary.txt../data/EKAMSAT_IMD/ekamsat/karaikal/20230520-00-Standard Summary.txt../data/EKAMSAT_IMD/ekamsat/karaikal/20230520-23-Standard Summary.txt../data/EKAMSAT_IMD/ekamsat/karaikal/20230521-23-Standard Summary.txt../data/EKAMSAT_IMD/ekamsat/karaikal/20230522-23-Standard Summary.txt../data/EKAMSAT_IMD/ekamsat/karaikal/20230524-00-Standard Summary.txt../data/EKAMSAT_IMD/ekamsat/karaikal/20230524-23-Standard Summary.txt../data/EKAMSAT_IMD/ekamsat/karaikal/20230526-00-Standard Summary.txt../data/EKAMSAT_IMD/ekamsat/karaikal/20230527-00-Standard Summary.txt../data/EKAMSAT_IMD/ekamsat/karaikal/20230528-00-Standard Summary.txt../data/EKAMSAT_IMD/ekamsat/karaikal/20230529-00-Standard Summary.txt../data/EKAMSAT_IMD/ekamsat/kochi/01MAY23KOCHI.txt../data/EKAMSAT_IMD/ekamsat/kochi/02MAY23KOCHI.txt../data/EKAMSAT_IMD/ekamsat/kochi/03MAY23KOCHI.txt../data/EKAMSAT_IMD/ekamsat/kochi/04MAY23KOCHI.txt../data/EKAMSAT_IMD/ekamsat/kochi/05May2023Kochi.txt../data/EKAMSAT_IMD/ekamsat/kochi/06May2023Kochi.txt../data/EKAMSAT_IMD/ekamsat/kochi/07May2023Kochi.txt../data/EKAMSAT_IMD/ekamsat/kochi/08May2023Kochi.txt../data/EKAMSAT_IMD/ekamsat/kochi/09May2023Kochi.txt../data/EKAMSAT_IMD/ekamsat/kochi/10May2023Kochi.txt../data/EKAMSAT_IMD/ekamsat/kochi/20230510-23-Standard Summary.txt../data/EKAMSAT_IMD/ekamsat/kochi/20230511-23-Standard Summary.txt../data/EKAMSAT_IMD/ekamsat/kochi/20230512-23-Standard Summary.txt../data/EKAMSAT_IMD/ekamsat/kochi/20230513-23-Standard Summary.txt../data/EKAMSAT_IMD/ekamsat/kochi/20230514-23-Standard Summary.txt../data/EKAMSAT_IMD/ekamsat/kochi/20230515-23-Standard Summary.txt../data/EKAMSAT_IMD/ekamsat/kochi/20230516-23-Standard Summary.txt../data/EKAMSAT_IMD/ekamsat/kochi/20230517-23-Standard Summary.txt../data/EKAMSAT_IMD/ekamsat/kochi/20230518-23-Standard Summary.txt../data/EKAMSAT_IMD/ekamsat/kochi/20230519-23-Standard Summary.txt../data/EKAMSAT_IMD/ekamsat/kochi/20230520-23-Standard Summary.txt../data/EKAMSAT_IMD/ekamsat/kochi/20230522-23-Standard Summary.txt../data/EKAMSAT_IMD/ekamsat/kochi/20230523-23-Standard Summary.txt../data/EKAMSAT_IMD/ekamsat/kochi/20230524-23-Standard Summary.txt../data/EKAMSAT_IMD/ekamsat/kochi/20230525-23-Standard Summary.txt../data/EKAMSAT_IMD/ekamsat/kochi/20230526-23-Standard Summary.txt../data/EKAMSAT_IMD/ekamsat/kochi/20230527-23-Standard Summary.txt../data/EKAMSAT_IMD/ekamsat/kochi/20230528-23-Standard Summary.txt../data/EKAMSAT_IMD/ekamsat/kolkata/01May2023Kolkata.txt../data/EKAMSAT_IMD/ekamsat/kolkata/02May2023Kolkata.txt../data/EKAMSAT_IMD/ekamsat/kolkata/03May2023Kolkata.txt../data/EKAMSAT_IMD/ekamsat/kolkata/04May2023Kolkata.txt../data/EKAMSAT_IMD/ekamsat/kolkata/05May2023Kolkata.txt../data/EKAMSAT_IMD/ekamsat/kolkata/06May2023Kolkata.txt../data/EKAMSAT_IMD/ekamsat/kolkata/07May2023Kolkata.txt../data/EKAMSAT_IMD/ekamsat/kolkata/08May2023Kolkata.txt../data/EKAMSAT_IMD/ekamsat/kolkata/09May2023Kolkata.txt../data/EKAMSAT_IMD/ekamsat/kolkata/10May2023Kolkata.txt../data/EKAMSAT_IMD/ekamsat/kolkata/20230510-23-Standard Summary.txt../data/EKAMSAT_IMD/ekamsat/kolkata/20230512-00-Standard Summary.txt../data/EKAMSAT_IMD/ekamsat/kolkata/20230512-23-Standard Summary.txt../data/EKAMSAT_IMD/ekamsat/kolkata/20230513-23-Standard Summary.txt../data/EKAMSAT_IMD/ekamsat/kolkata/20230514-23-Standard Summary.txt../data/EKAMSAT_IMD/ekamsat/kolkata/20230515-23-Standard Summary.txt../data/EKAMSAT_IMD/ekamsat/kolkata/20230516-23-Standard Summary.txt../data/EKAMSAT_IMD/ekamsat/kolkata/20230518-00-Standard Summary.txt../data/EKAMSAT_IMD/ekamsat/kolkata/20230519-00-Standard Summary.txt../data/EKAMSAT_IMD/ekamsat/kolkata/20230520-00-Standard Summary.txt../data/EKAMSAT_IMD/ekamsat/kolkata/20230520-23-Standard Summary.txt../data/EKAMSAT_IMD/ekamsat/kolkata/20230521-23-Standard Summary.txt../data/EKAMSAT_IMD/ekamsat/kolkata/20230523-00-Standard Summary.txt../data/EKAMSAT_IMD/ekamsat/kolkata/20230523-23-Standard Summary.txt../data/EKAMSAT_IMD/ekamsat/kolkata/20230524-23-Standard Summary.txt../data/EKAMSAT_IMD/ekamsat/kolkata/20230526-00-Standard Summary.txt../data/EKAMSAT_IMD/ekamsat/kolkata/20230526-23-Standard Summary.txt../data/EKAMSAT_IMD/ekamsat/kolkata/20230527-23-Standard Summary.txt../data/EKAMSAT_IMD/ekamsat/kolkata/20230528-23-Standard Summary.txt../data/EKAMSAT_IMD/ekamsat/mangalore/01May2023Mangalore.txt../data/EKAMSAT_IMD/ekamsat/mangalore/02May2023Mangalore.txt"
     ]
    },
    {
     "name": "stderr",
     "output_type": "stream",
     "text": [
      "\u001b[33m\u001b[1m┌ \u001b[22m\u001b[39m\u001b[33m\u001b[1mWarning: \u001b[22m\u001b[39mthread = 1 warning: parsed expected 11 columns, but didn't reach end of line around data row: 1. Parsing extra columns and widening final columnset\n",
      "\u001b[33m\u001b[1m└ \u001b[22m\u001b[39m\u001b[90m@ CSV ~/.julia/packages/CSV/7lFhM/src/file.jl:577\u001b[39m\n"
     ]
    },
    {
     "name": "stdout",
     "output_type": "stream",
     "text": [
      "../data/EKAMSAT_IMD/ekamsat/mangalore/03May2023Mangalore.txt"
     ]
    },
    {
     "name": "stderr",
     "output_type": "stream",
     "text": [
      "\u001b[33m\u001b[1m┌ \u001b[22m\u001b[39m\u001b[33m\u001b[1mWarning: \u001b[22m\u001b[39mthread = 1 warning: parsed expected 11 columns, but didn't reach end of line around data row: 1. Parsing extra columns and widening final columnset\n",
      "\u001b[33m\u001b[1m└ \u001b[22m\u001b[39m\u001b[90m@ CSV ~/.julia/packages/CSV/7lFhM/src/file.jl:577\u001b[39m\n"
     ]
    },
    {
     "name": "stdout",
     "output_type": "stream",
     "text": [
      "../data/EKAMSAT_IMD/ekamsat/mangalore/04May2023Mangalore.txt"
     ]
    },
    {
     "name": "stderr",
     "output_type": "stream",
     "text": [
      "\u001b[33m\u001b[1m┌ \u001b[22m\u001b[39m\u001b[33m\u001b[1mWarning: \u001b[22m\u001b[39mthread = 1 warning: parsed expected 11 columns, but didn't reach end of line around data row: 1. Parsing extra columns and widening final columnset\n",
      "\u001b[33m\u001b[1m└ \u001b[22m\u001b[39m\u001b[90m@ CSV ~/.julia/packages/CSV/7lFhM/src/file.jl:577\u001b[39m\n"
     ]
    },
    {
     "name": "stdout",
     "output_type": "stream",
     "text": [
      "../data/EKAMSAT_IMD/ekamsat/mangalore/05May2023Mangalore.txt"
     ]
    },
    {
     "name": "stderr",
     "output_type": "stream",
     "text": [
      "\u001b[33m\u001b[1m┌ \u001b[22m\u001b[39m\u001b[33m\u001b[1mWarning: \u001b[22m\u001b[39mthread = 1 warning: parsed expected 11 columns, but didn't reach end of line around data row: 1. Parsing extra columns and widening final columnset\n",
      "\u001b[33m\u001b[1m└ \u001b[22m\u001b[39m\u001b[90m@ CSV ~/.julia/packages/CSV/7lFhM/src/file.jl:577\u001b[39m\n"
     ]
    },
    {
     "name": "stdout",
     "output_type": "stream",
     "text": [
      "../data/EKAMSAT_IMD/ekamsat/mangalore/06May2023Mangalore.txt"
     ]
    },
    {
     "name": "stderr",
     "output_type": "stream",
     "text": [
      "\u001b[33m\u001b[1m┌ \u001b[22m\u001b[39m\u001b[33m\u001b[1mWarning: \u001b[22m\u001b[39mthread = 1 warning: parsed expected 11 columns, but didn't reach end of line around data row: 1. Parsing extra columns and widening final columnset\n",
      "\u001b[33m\u001b[1m└ \u001b[22m\u001b[39m\u001b[90m@ CSV ~/.julia/packages/CSV/7lFhM/src/file.jl:577\u001b[39m\n"
     ]
    },
    {
     "name": "stdout",
     "output_type": "stream",
     "text": [
      "../data/EKAMSAT_IMD/ekamsat/mangalore/07May2023Mangalore.txt"
     ]
    },
    {
     "name": "stderr",
     "output_type": "stream",
     "text": [
      "\u001b[33m\u001b[1m┌ \u001b[22m\u001b[39m\u001b[33m\u001b[1mWarning: \u001b[22m\u001b[39mthread = 1 warning: parsed expected 11 columns, but didn't reach end of line around data row: 1. Parsing extra columns and widening final columnset\n",
      "\u001b[33m\u001b[1m└ \u001b[22m\u001b[39m\u001b[90m@ CSV ~/.julia/packages/CSV/7lFhM/src/file.jl:577\u001b[39m\n"
     ]
    },
    {
     "name": "stdout",
     "output_type": "stream",
     "text": [
      "../data/EKAMSAT_IMD/ekamsat/mangalore/08May2023Mangalore.txt"
     ]
    },
    {
     "name": "stderr",
     "output_type": "stream",
     "text": [
      "\u001b[33m\u001b[1m┌ \u001b[22m\u001b[39m\u001b[33m\u001b[1mWarning: \u001b[22m\u001b[39mthread = 1 warning: parsed expected 11 columns, but didn't reach end of line around data row: 1. Parsing extra columns and widening final columnset\n",
      "\u001b[33m\u001b[1m└ \u001b[22m\u001b[39m\u001b[90m@ CSV ~/.julia/packages/CSV/7lFhM/src/file.jl:577\u001b[39m\n"
     ]
    },
    {
     "name": "stdout",
     "output_type": "stream",
     "text": [
      "../data/EKAMSAT_IMD/ekamsat/mangalore/09May2023Mangalore.txt"
     ]
    },
    {
     "name": "stderr",
     "output_type": "stream",
     "text": [
      "\u001b[33m\u001b[1m┌ \u001b[22m\u001b[39m\u001b[33m\u001b[1mWarning: \u001b[22m\u001b[39mthread = 1 warning: parsed expected 11 columns, but didn't reach end of line around data row: 1. Parsing extra columns and widening final columnset\n",
      "\u001b[33m\u001b[1m└ \u001b[22m\u001b[39m\u001b[90m@ CSV ~/.julia/packages/CSV/7lFhM/src/file.jl:577\u001b[39m\n"
     ]
    },
    {
     "name": "stdout",
     "output_type": "stream",
     "text": [
      "../data/EKAMSAT_IMD/ekamsat/mangalore/10May2023Mangalore.txt"
     ]
    },
    {
     "name": "stderr",
     "output_type": "stream",
     "text": [
      "\u001b[33m\u001b[1m┌ \u001b[22m\u001b[39m\u001b[33m\u001b[1mWarning: \u001b[22m\u001b[39mthread = 1 warning: parsed expected 11 columns, but didn't reach end of line around data row: 1. Parsing extra columns and widening final columnset\n",
      "\u001b[33m\u001b[1m└ \u001b[22m\u001b[39m\u001b[90m@ CSV ~/.julia/packages/CSV/7lFhM/src/file.jl:577\u001b[39m\n"
     ]
    },
    {
     "name": "stdout",
     "output_type": "stream",
     "text": [
      "../data/EKAMSAT_IMD/ekamsat/mangalore/20230511-00-Standard-Summary.txt"
     ]
    },
    {
     "name": "stderr",
     "output_type": "stream",
     "text": [
      "\u001b[33m\u001b[1m┌ \u001b[22m\u001b[39m\u001b[33m\u001b[1mWarning: \u001b[22m\u001b[39mthread = 1 warning: parsed expected 11 columns, but didn't reach end of line around data row: 1. Parsing extra columns and widening final columnset\n",
      "\u001b[33m\u001b[1m└ \u001b[22m\u001b[39m\u001b[90m@ CSV ~/.julia/packages/CSV/7lFhM/src/file.jl:577\u001b[39m\n"
     ]
    },
    {
     "name": "stdout",
     "output_type": "stream",
     "text": [
      "../data/EKAMSAT_IMD/ekamsat/mangalore/20230512-00-Standard-Summary.txt"
     ]
    },
    {
     "name": "stderr",
     "output_type": "stream",
     "text": [
      "\u001b[33m\u001b[1m┌ \u001b[22m\u001b[39m\u001b[33m\u001b[1mWarning: \u001b[22m\u001b[39mthread = 1 warning: parsed expected 11 columns, but didn't reach end of line around data row: 1. Parsing extra columns and widening final columnset\n",
      "\u001b[33m\u001b[1m└ \u001b[22m\u001b[39m\u001b[90m@ CSV ~/.julia/packages/CSV/7lFhM/src/file.jl:577\u001b[39m\n"
     ]
    },
    {
     "name": "stdout",
     "output_type": "stream",
     "text": [
      "../data/EKAMSAT_IMD/ekamsat/mangalore/20230513-00-Standard-Summary.txt"
     ]
    },
    {
     "name": "stderr",
     "output_type": "stream",
     "text": [
      "\u001b[33m\u001b[1m┌ \u001b[22m\u001b[39m\u001b[33m\u001b[1mWarning: \u001b[22m\u001b[39mthread = 1 warning: parsed expected 11 columns, but didn't reach end of line around data row: 1. Parsing extra columns and widening final columnset\n",
      "\u001b[33m\u001b[1m└ \u001b[22m\u001b[39m\u001b[90m@ CSV ~/.julia/packages/CSV/7lFhM/src/file.jl:577\u001b[39m\n"
     ]
    },
    {
     "name": "stdout",
     "output_type": "stream",
     "text": [
      "../data/EKAMSAT_IMD/ekamsat/mangalore/20230514-00-Standard-Summary.txt"
     ]
    },
    {
     "name": "stderr",
     "output_type": "stream",
     "text": [
      "\u001b[33m\u001b[1m┌ \u001b[22m\u001b[39m\u001b[33m\u001b[1mWarning: \u001b[22m\u001b[39mthread = 1 warning: parsed expected 11 columns, but didn't reach end of line around data row: 1. Parsing extra columns and widening final columnset\n",
      "\u001b[33m\u001b[1m└ \u001b[22m\u001b[39m\u001b[90m@ CSV ~/.julia/packages/CSV/7lFhM/src/file.jl:577\u001b[39m\n"
     ]
    },
    {
     "name": "stdout",
     "output_type": "stream",
     "text": [
      "../data/EKAMSAT_IMD/ekamsat/mangalore/20230515-00-Standard-Summary.txt"
     ]
    },
    {
     "name": "stderr",
     "output_type": "stream",
     "text": [
      "\u001b[33m\u001b[1m┌ \u001b[22m\u001b[39m\u001b[33m\u001b[1mWarning: \u001b[22m\u001b[39mthread = 1 warning: parsed expected 11 columns, but didn't reach end of line around data row: 1. Parsing extra columns and widening final columnset\n",
      "\u001b[33m\u001b[1m└ \u001b[22m\u001b[39m\u001b[90m@ CSV ~/.julia/packages/CSV/7lFhM/src/file.jl:577\u001b[39m\n"
     ]
    },
    {
     "name": "stdout",
     "output_type": "stream",
     "text": [
      "../data/EKAMSAT_IMD/ekamsat/mangalore/20230516-00-Standard-Summary.txt"
     ]
    },
    {
     "name": "stderr",
     "output_type": "stream",
     "text": [
      "\u001b[33m\u001b[1m┌ \u001b[22m\u001b[39m\u001b[33m\u001b[1mWarning: \u001b[22m\u001b[39mthread = 1 warning: parsed expected 11 columns, but didn't reach end of line around data row: 1. Parsing extra columns and widening final columnset\n",
      "\u001b[33m\u001b[1m└ \u001b[22m\u001b[39m\u001b[90m@ CSV ~/.julia/packages/CSV/7lFhM/src/file.jl:577\u001b[39m\n"
     ]
    },
    {
     "name": "stdout",
     "output_type": "stream",
     "text": [
      "../data/EKAMSAT_IMD/ekamsat/mangalore/20230517-00-Standard-Summary.txt"
     ]
    },
    {
     "name": "stderr",
     "output_type": "stream",
     "text": [
      "\u001b[33m\u001b[1m┌ \u001b[22m\u001b[39m\u001b[33m\u001b[1mWarning: \u001b[22m\u001b[39mthread = 1 warning: parsed expected 11 columns, but didn't reach end of line around data row: 1. Parsing extra columns and widening final columnset\n",
      "\u001b[33m\u001b[1m└ \u001b[22m\u001b[39m\u001b[90m@ CSV ~/.julia/packages/CSV/7lFhM/src/file.jl:577\u001b[39m\n"
     ]
    },
    {
     "name": "stdout",
     "output_type": "stream",
     "text": [
      "../data/EKAMSAT_IMD/ekamsat/mangalore/20230518-00-Standard-Summary.txt"
     ]
    },
    {
     "name": "stderr",
     "output_type": "stream",
     "text": [
      "\u001b[33m\u001b[1m┌ \u001b[22m\u001b[39m\u001b[33m\u001b[1mWarning: \u001b[22m\u001b[39mthread = 1 warning: parsed expected 11 columns, but didn't reach end of line around data row: 1. Parsing extra columns and widening final columnset\n",
      "\u001b[33m\u001b[1m└ \u001b[22m\u001b[39m\u001b[90m@ CSV ~/.julia/packages/CSV/7lFhM/src/file.jl:577\u001b[39m\n"
     ]
    },
    {
     "name": "stdout",
     "output_type": "stream",
     "text": [
      "../data/EKAMSAT_IMD/ekamsat/mangalore/20230519-00-Standard-Summary.txt"
     ]
    },
    {
     "name": "stderr",
     "output_type": "stream",
     "text": [
      "\u001b[33m\u001b[1m┌ \u001b[22m\u001b[39m\u001b[33m\u001b[1mWarning: \u001b[22m\u001b[39mthread = 1 warning: parsed expected 11 columns, but didn't reach end of line around data row: 1. Parsing extra columns and widening final columnset\n",
      "\u001b[33m\u001b[1m└ \u001b[22m\u001b[39m\u001b[90m@ CSV ~/.julia/packages/CSV/7lFhM/src/file.jl:577\u001b[39m\n"
     ]
    },
    {
     "name": "stdout",
     "output_type": "stream",
     "text": [
      "../data/EKAMSAT_IMD/ekamsat/mangalore/20230520-00-Standard-Summary.txt"
     ]
    },
    {
     "name": "stderr",
     "output_type": "stream",
     "text": [
      "\u001b[33m\u001b[1m┌ \u001b[22m\u001b[39m\u001b[33m\u001b[1mWarning: \u001b[22m\u001b[39mthread = 1 warning: parsed expected 11 columns, but didn't reach end of line around data row: 1. Parsing extra columns and widening final columnset\n",
      "\u001b[33m\u001b[1m└ \u001b[22m\u001b[39m\u001b[90m@ CSV ~/.julia/packages/CSV/7lFhM/src/file.jl:577\u001b[39m\n"
     ]
    },
    {
     "name": "stdout",
     "output_type": "stream",
     "text": [
      "../data/EKAMSAT_IMD/ekamsat/mangalore/20230521-00-Standard-Summary.txt"
     ]
    },
    {
     "name": "stderr",
     "output_type": "stream",
     "text": [
      "\u001b[33m\u001b[1m┌ \u001b[22m\u001b[39m\u001b[33m\u001b[1mWarning: \u001b[22m\u001b[39mthread = 1 warning: parsed expected 11 columns, but didn't reach end of line around data row: 1. Parsing extra columns and widening final columnset\n",
      "\u001b[33m\u001b[1m└ \u001b[22m\u001b[39m\u001b[90m@ CSV ~/.julia/packages/CSV/7lFhM/src/file.jl:577\u001b[39m\n"
     ]
    },
    {
     "name": "stdout",
     "output_type": "stream",
     "text": [
      "../data/EKAMSAT_IMD/ekamsat/mangalore/20230522-00-Standard-Summary.txt"
     ]
    },
    {
     "name": "stderr",
     "output_type": "stream",
     "text": [
      "\u001b[33m\u001b[1m┌ \u001b[22m\u001b[39m\u001b[33m\u001b[1mWarning: \u001b[22m\u001b[39mthread = 1 warning: parsed expected 11 columns, but didn't reach end of line around data row: 1. Parsing extra columns and widening final columnset\n",
      "\u001b[33m\u001b[1m└ \u001b[22m\u001b[39m\u001b[90m@ CSV ~/.julia/packages/CSV/7lFhM/src/file.jl:577\u001b[39m\n"
     ]
    },
    {
     "name": "stdout",
     "output_type": "stream",
     "text": [
      "../data/EKAMSAT_IMD/ekamsat/mangalore/20230523-00-Standard-Summary.txt"
     ]
    },
    {
     "name": "stderr",
     "output_type": "stream",
     "text": [
      "\u001b[33m\u001b[1m┌ \u001b[22m\u001b[39m\u001b[33m\u001b[1mWarning: \u001b[22m\u001b[39mthread = 1 warning: parsed expected 11 columns, but didn't reach end of line around data row: 1. Parsing extra columns and widening final columnset\n",
      "\u001b[33m\u001b[1m└ \u001b[22m\u001b[39m\u001b[90m@ CSV ~/.julia/packages/CSV/7lFhM/src/file.jl:577\u001b[39m\n"
     ]
    },
    {
     "name": "stdout",
     "output_type": "stream",
     "text": [
      "../data/EKAMSAT_IMD/ekamsat/mangalore/20230524-00-Standard-Summary.txt"
     ]
    },
    {
     "name": "stderr",
     "output_type": "stream",
     "text": [
      "\u001b[33m\u001b[1m┌ \u001b[22m\u001b[39m\u001b[33m\u001b[1mWarning: \u001b[22m\u001b[39mthread = 1 warning: parsed expected 11 columns, but didn't reach end of line around data row: 1. Parsing extra columns and widening final columnset\n",
      "\u001b[33m\u001b[1m└ \u001b[22m\u001b[39m\u001b[90m@ CSV ~/.julia/packages/CSV/7lFhM/src/file.jl:577\u001b[39m\n"
     ]
    },
    {
     "name": "stdout",
     "output_type": "stream",
     "text": [
      "../data/EKAMSAT_IMD/ekamsat/mangalore/20230525-00-Standard-Summary.txt"
     ]
    },
    {
     "name": "stderr",
     "output_type": "stream",
     "text": [
      "\u001b[33m\u001b[1m┌ \u001b[22m\u001b[39m\u001b[33m\u001b[1mWarning: \u001b[22m\u001b[39mthread = 1 warning: parsed expected 11 columns, but didn't reach end of line around data row: 1. Parsing extra columns and widening final columnset\n",
      "\u001b[33m\u001b[1m└ \u001b[22m\u001b[39m\u001b[90m@ CSV ~/.julia/packages/CSV/7lFhM/src/file.jl:577\u001b[39m\n"
     ]
    },
    {
     "name": "stdout",
     "output_type": "stream",
     "text": [
      "../data/EKAMSAT_IMD/ekamsat/mangalore/20230526-00-Standard-Summary.txt"
     ]
    },
    {
     "name": "stderr",
     "output_type": "stream",
     "text": [
      "\u001b[33m\u001b[1m┌ \u001b[22m\u001b[39m\u001b[33m\u001b[1mWarning: \u001b[22m\u001b[39mthread = 1 warning: parsed expected 11 columns, but didn't reach end of line around data row: 1. Parsing extra columns and widening final columnset\n",
      "\u001b[33m\u001b[1m└ \u001b[22m\u001b[39m\u001b[90m@ CSV ~/.julia/packages/CSV/7lFhM/src/file.jl:577\u001b[39m\n"
     ]
    },
    {
     "name": "stdout",
     "output_type": "stream",
     "text": [
      "../data/EKAMSAT_IMD/ekamsat/mangalore/20230527-00-Standard-Summary.txt"
     ]
    },
    {
     "name": "stderr",
     "output_type": "stream",
     "text": [
      "\u001b[33m\u001b[1m┌ \u001b[22m\u001b[39m\u001b[33m\u001b[1mWarning: \u001b[22m\u001b[39mthread = 1 warning: parsed expected 11 columns, but didn't reach end of line around data row: 1. Parsing extra columns and widening final columnset\n",
      "\u001b[33m\u001b[1m└ \u001b[22m\u001b[39m\u001b[90m@ CSV ~/.julia/packages/CSV/7lFhM/src/file.jl:577\u001b[39m\n"
     ]
    },
    {
     "name": "stdout",
     "output_type": "stream",
     "text": [
      "../data/EKAMSAT_IMD/ekamsat/mangalore/20230528-00-Standard-Summary.txt"
     ]
    },
    {
     "name": "stderr",
     "output_type": "stream",
     "text": [
      "\u001b[33m\u001b[1m┌ \u001b[22m\u001b[39m\u001b[33m\u001b[1mWarning: \u001b[22m\u001b[39mthread = 1 warning: parsed expected 11 columns, but didn't reach end of line around data row: 1. Parsing extra columns and widening final columnset\n",
      "\u001b[33m\u001b[1m└ \u001b[22m\u001b[39m\u001b[90m@ CSV ~/.julia/packages/CSV/7lFhM/src/file.jl:577\u001b[39m\n"
     ]
    },
    {
     "name": "stdout",
     "output_type": "stream",
     "text": [
      "../data/EKAMSAT_IMD/ekamsat/mangalore/20230529-00-Standard-Summary.txt"
     ]
    },
    {
     "name": "stderr",
     "output_type": "stream",
     "text": [
      "\u001b[33m\u001b[1m┌ \u001b[22m\u001b[39m\u001b[33m\u001b[1mWarning: \u001b[22m\u001b[39mthread = 1 warning: parsed expected 11 columns, but didn't reach end of line around data row: 1. Parsing extra columns and widening final columnset\n",
      "\u001b[33m\u001b[1m└ \u001b[22m\u001b[39m\u001b[90m@ CSV ~/.julia/packages/CSV/7lFhM/src/file.jl:577\u001b[39m\n",
      "\u001b[33m\u001b[1m┌ \u001b[22m\u001b[39m\u001b[33m\u001b[1mWarning: \u001b[22m\u001b[39mthread = 1 warning: parsed expected 11 columns, but didn't reach end of line around data row: 1. Parsing extra columns and widening final columnset\n",
      "\u001b[33m\u001b[1m└ \u001b[22m\u001b[39m\u001b[90m@ CSV ~/.julia/packages/CSV/7lFhM/src/file.jl:577\u001b[39m\n"
     ]
    },
    {
     "name": "stdout",
     "output_type": "stream",
     "text": [
      "../data/EKAMSAT_IMD/ekamsat/portblair/20230430-00-Standard-Summary.txt../data/EKAMSAT_IMD/ekamsat/portblair/20230501-00-Standard-Summary.txt"
     ]
    },
    {
     "name": "stderr",
     "output_type": "stream",
     "text": [
      "\u001b[33m\u001b[1m┌ \u001b[22m\u001b[39m\u001b[33m\u001b[1mWarning: \u001b[22m\u001b[39mthread = 1 warning: parsed expected 11 columns, but didn't reach end of line around data row: 1. Parsing extra columns and widening final columnset\n",
      "\u001b[33m\u001b[1m└ \u001b[22m\u001b[39m\u001b[90m@ CSV ~/.julia/packages/CSV/7lFhM/src/file.jl:577\u001b[39m\n"
     ]
    },
    {
     "name": "stdout",
     "output_type": "stream",
     "text": [
      "../data/EKAMSAT_IMD/ekamsat/portblair/02May2023PortBlair.txt"
     ]
    },
    {
     "name": "stderr",
     "output_type": "stream",
     "text": [
      "\u001b[33m\u001b[1m┌ \u001b[22m\u001b[39m\u001b[33m\u001b[1mWarning: \u001b[22m\u001b[39mthread = 1 warning: parsed expected 11 columns, but didn't reach end of line around data row: 1. Parsing extra columns and widening final columnset\n",
      "\u001b[33m\u001b[1m└ \u001b[22m\u001b[39m\u001b[90m@ CSV ~/.julia/packages/CSV/7lFhM/src/file.jl:577\u001b[39m\n"
     ]
    },
    {
     "name": "stdout",
     "output_type": "stream",
     "text": [
      "../data/EKAMSAT_IMD/ekamsat/portblair/03May2023PortBlair.txt"
     ]
    },
    {
     "name": "stderr",
     "output_type": "stream",
     "text": [
      "\u001b[33m\u001b[1m┌ \u001b[22m\u001b[39m\u001b[33m\u001b[1mWarning: \u001b[22m\u001b[39mthread = 1 warning: parsed expected 11 columns, but didn't reach end of line around data row: 1. Parsing extra columns and widening final columnset\n",
      "\u001b[33m\u001b[1m└ \u001b[22m\u001b[39m\u001b[90m@ CSV ~/.julia/packages/CSV/7lFhM/src/file.jl:577\u001b[39m\n"
     ]
    },
    {
     "name": "stdout",
     "output_type": "stream",
     "text": [
      "../data/EKAMSAT_IMD/ekamsat/portblair/04May2023PortBlair.txt"
     ]
    },
    {
     "name": "stderr",
     "output_type": "stream",
     "text": [
      "\u001b[33m\u001b[1m┌ \u001b[22m\u001b[39m\u001b[33m\u001b[1mWarning: \u001b[22m\u001b[39mthread = 1 warning: parsed expected 11 columns, but didn't reach end of line around data row: 1. Parsing extra columns and widening final columnset\n",
      "\u001b[33m\u001b[1m└ \u001b[22m\u001b[39m\u001b[90m@ CSV ~/.julia/packages/CSV/7lFhM/src/file.jl:577\u001b[39m\n"
     ]
    },
    {
     "name": "stdout",
     "output_type": "stream",
     "text": [
      "../data/EKAMSAT_IMD/ekamsat/portblair/05May2023PortBlair.txt"
     ]
    },
    {
     "name": "stderr",
     "output_type": "stream",
     "text": [
      "\u001b[33m\u001b[1m┌ \u001b[22m\u001b[39m\u001b[33m\u001b[1mWarning: \u001b[22m\u001b[39mthread = 1 warning: parsed expected 11 columns, but didn't reach end of line around data row: 1. Parsing extra columns and widening final columnset\n",
      "\u001b[33m\u001b[1m└ \u001b[22m\u001b[39m\u001b[90m@ CSV ~/.julia/packages/CSV/7lFhM/src/file.jl:577\u001b[39m\n"
     ]
    },
    {
     "name": "stdout",
     "output_type": "stream",
     "text": [
      "../data/EKAMSAT_IMD/ekamsat/portblair/06May2023PortBlair.txt"
     ]
    },
    {
     "name": "stderr",
     "output_type": "stream",
     "text": [
      "\u001b[33m\u001b[1m┌ \u001b[22m\u001b[39m\u001b[33m\u001b[1mWarning: \u001b[22m\u001b[39mthread = 1 warning: parsed expected 11 columns, but didn't reach end of line around data row: 1. Parsing extra columns and widening final columnset\n",
      "\u001b[33m\u001b[1m└ \u001b[22m\u001b[39m\u001b[90m@ CSV ~/.julia/packages/CSV/7lFhM/src/file.jl:577\u001b[39m\n"
     ]
    },
    {
     "name": "stdout",
     "output_type": "stream",
     "text": [
      "../data/EKAMSAT_IMD/ekamsat/portblair/07May2023PortBlair.txt"
     ]
    },
    {
     "name": "stderr",
     "output_type": "stream",
     "text": [
      "\u001b[33m\u001b[1m┌ \u001b[22m\u001b[39m\u001b[33m\u001b[1mWarning: \u001b[22m\u001b[39mthread = 1 warning: parsed expected 11 columns, but didn't reach end of line around data row: 1. Parsing extra columns and widening final columnset\n",
      "\u001b[33m\u001b[1m└ \u001b[22m\u001b[39m\u001b[90m@ CSV ~/.julia/packages/CSV/7lFhM/src/file.jl:577\u001b[39m\n"
     ]
    },
    {
     "name": "stdout",
     "output_type": "stream",
     "text": [
      "../data/EKAMSAT_IMD/ekamsat/portblair/08May2023PortBlair.txt"
     ]
    },
    {
     "name": "stderr",
     "output_type": "stream",
     "text": [
      "\u001b[33m\u001b[1m┌ \u001b[22m\u001b[39m\u001b[33m\u001b[1mWarning: \u001b[22m\u001b[39mthread = 1 warning: parsed expected 11 columns, but didn't reach end of line around data row: 1. Parsing extra columns and widening final columnset\n",
      "\u001b[33m\u001b[1m└ \u001b[22m\u001b[39m\u001b[90m@ CSV ~/.julia/packages/CSV/7lFhM/src/file.jl:577\u001b[39m\n"
     ]
    },
    {
     "name": "stdout",
     "output_type": "stream",
     "text": [
      "../data/EKAMSAT_IMD/ekamsat/portblair/09May2023PortBlair.txt"
     ]
    },
    {
     "name": "stderr",
     "output_type": "stream",
     "text": [
      "\u001b[33m\u001b[1m┌ \u001b[22m\u001b[39m\u001b[33m\u001b[1mWarning: \u001b[22m\u001b[39mthread = 1 warning: parsed expected 11 columns, but didn't reach end of line around data row: 1. Parsing extra columns and widening final columnset\n",
      "\u001b[33m\u001b[1m└ \u001b[22m\u001b[39m\u001b[90m@ CSV ~/.julia/packages/CSV/7lFhM/src/file.jl:577\u001b[39m\n"
     ]
    },
    {
     "name": "stdout",
     "output_type": "stream",
     "text": [
      "../data/EKAMSAT_IMD/ekamsat/portblair/10May2023PortBlair.txt"
     ]
    },
    {
     "name": "stderr",
     "output_type": "stream",
     "text": [
      "\u001b[33m\u001b[1m┌ \u001b[22m\u001b[39m\u001b[33m\u001b[1mWarning: \u001b[22m\u001b[39mthread = 1 warning: parsed expected 11 columns, but didn't reach end of line around data row: 1. Parsing extra columns and widening final columnset\n",
      "\u001b[33m\u001b[1m└ \u001b[22m\u001b[39m\u001b[90m@ CSV ~/.julia/packages/CSV/7lFhM/src/file.jl:577\u001b[39m\n"
     ]
    },
    {
     "name": "stdout",
     "output_type": "stream",
     "text": [
      "../data/EKAMSAT_IMD/ekamsat/portblair/20230510-11-Standard-Summary.txt"
     ]
    },
    {
     "name": "stderr",
     "output_type": "stream",
     "text": [
      "\u001b[33m\u001b[1m┌ \u001b[22m\u001b[39m\u001b[33m\u001b[1mWarning: \u001b[22m\u001b[39mthread = 1 warning: parsed expected 11 columns, but didn't reach end of line around data row: 1. Parsing extra columns and widening final columnset\n",
      "\u001b[33m\u001b[1m└ \u001b[22m\u001b[39m\u001b[90m@ CSV ~/.julia/packages/CSV/7lFhM/src/file.jl:577\u001b[39m\n"
     ]
    },
    {
     "name": "stdout",
     "output_type": "stream",
     "text": [
      "../data/EKAMSAT_IMD/ekamsat/portblair/20230511-00-Standard-Summary.txt"
     ]
    },
    {
     "name": "stderr",
     "output_type": "stream",
     "text": [
      "\u001b[33m\u001b[1m┌ \u001b[22m\u001b[39m\u001b[33m\u001b[1mWarning: \u001b[22m\u001b[39mthread = 1 warning: parsed expected 11 columns, but didn't reach end of line around data row: 1. Parsing extra columns and widening final columnset\n",
      "\u001b[33m\u001b[1m└ \u001b[22m\u001b[39m\u001b[90m@ CSV ~/.julia/packages/CSV/7lFhM/src/file.jl:577\u001b[39m\n"
     ]
    },
    {
     "name": "stdout",
     "output_type": "stream",
     "text": [
      "../data/EKAMSAT_IMD/ekamsat/portblair/20230511-12-Standard-Summary.txt"
     ]
    },
    {
     "name": "stderr",
     "output_type": "stream",
     "text": [
      "\u001b[33m\u001b[1m┌ \u001b[22m\u001b[39m\u001b[33m\u001b[1mWarning: \u001b[22m\u001b[39mthread = 1 warning: parsed expected 11 columns, but didn't reach end of line around data row: 1. Parsing extra columns and widening final columnset\n",
      "\u001b[33m\u001b[1m└ \u001b[22m\u001b[39m\u001b[90m@ CSV ~/.julia/packages/CSV/7lFhM/src/file.jl:577\u001b[39m\n"
     ]
    },
    {
     "name": "stdout",
     "output_type": "stream",
     "text": [
      "../data/EKAMSAT_IMD/ekamsat/portblair/20230512-00-Standard-Summary.txt"
     ]
    },
    {
     "name": "stderr",
     "output_type": "stream",
     "text": [
      "\u001b[33m\u001b[1m┌ \u001b[22m\u001b[39m\u001b[33m\u001b[1mWarning: \u001b[22m\u001b[39mthread = 1 warning: parsed expected 11 columns, but didn't reach end of line around data row: 1. Parsing extra columns and widening final columnset\n",
      "\u001b[33m\u001b[1m└ \u001b[22m\u001b[39m\u001b[90m@ CSV ~/.julia/packages/CSV/7lFhM/src/file.jl:577\u001b[39m\n"
     ]
    },
    {
     "name": "stdout",
     "output_type": "stream",
     "text": [
      "../data/EKAMSAT_IMD/ekamsat/portblair/20230512-11-Standard-Summary.txt"
     ]
    },
    {
     "name": "stderr",
     "output_type": "stream",
     "text": [
      "\u001b[33m\u001b[1m┌ \u001b[22m\u001b[39m\u001b[33m\u001b[1mWarning: \u001b[22m\u001b[39mthread = 1 warning: parsed expected 11 columns, but didn't reach end of line around data row: 1. Parsing extra columns and widening final columnset\n",
      "\u001b[33m\u001b[1m└ \u001b[22m\u001b[39m\u001b[90m@ CSV ~/.julia/packages/CSV/7lFhM/src/file.jl:577\u001b[39m\n"
     ]
    },
    {
     "name": "stdout",
     "output_type": "stream",
     "text": [
      "../data/EKAMSAT_IMD/ekamsat/portblair/20230513-00-Standard-Summary.txt"
     ]
    },
    {
     "name": "stderr",
     "output_type": "stream",
     "text": [
      "\u001b[33m\u001b[1m┌ \u001b[22m\u001b[39m\u001b[33m\u001b[1mWarning: \u001b[22m\u001b[39mthread = 1 warning: parsed expected 11 columns, but didn't reach end of line around data row: 1. Parsing extra columns and widening final columnset\n",
      "\u001b[33m\u001b[1m└ \u001b[22m\u001b[39m\u001b[90m@ CSV ~/.julia/packages/CSV/7lFhM/src/file.jl:577\u001b[39m\n"
     ]
    },
    {
     "name": "stdout",
     "output_type": "stream",
     "text": [
      "../data/EKAMSAT_IMD/ekamsat/portblair/20230513-11-Standard-Summary.txt"
     ]
    },
    {
     "name": "stderr",
     "output_type": "stream",
     "text": [
      "\u001b[33m\u001b[1m┌ \u001b[22m\u001b[39m\u001b[33m\u001b[1mWarning: \u001b[22m\u001b[39mthread = 1 warning: parsed expected 11 columns, but didn't reach end of line around data row: 1. Parsing extra columns and widening final columnset\n",
      "\u001b[33m\u001b[1m└ \u001b[22m\u001b[39m\u001b[90m@ CSV ~/.julia/packages/CSV/7lFhM/src/file.jl:577\u001b[39m\n"
     ]
    },
    {
     "name": "stdout",
     "output_type": "stream",
     "text": [
      "../data/EKAMSAT_IMD/ekamsat/portblair/20230516-00-Standard-Summary.txt"
     ]
    },
    {
     "name": "stderr",
     "output_type": "stream",
     "text": [
      "\u001b[33m\u001b[1m┌ \u001b[22m\u001b[39m\u001b[33m\u001b[1mWarning: \u001b[22m\u001b[39mthread = 1 warning: parsed expected 11 columns, but didn't reach end of line around data row: 1. Parsing extra columns and widening final columnset\n",
      "\u001b[33m\u001b[1m└ \u001b[22m\u001b[39m\u001b[90m@ CSV ~/.julia/packages/CSV/7lFhM/src/file.jl:577\u001b[39m\n"
     ]
    },
    {
     "name": "stdout",
     "output_type": "stream",
     "text": [
      "../data/EKAMSAT_IMD/ekamsat/portblair/20230517-00-Standard-Summary.txt"
     ]
    },
    {
     "name": "stderr",
     "output_type": "stream",
     "text": [
      "\u001b[33m\u001b[1m┌ \u001b[22m\u001b[39m\u001b[33m\u001b[1mWarning: \u001b[22m\u001b[39mthread = 1 warning: parsed expected 11 columns, but didn't reach end of line around data row: 1. Parsing extra columns and widening final columnset\n",
      "\u001b[33m\u001b[1m└ \u001b[22m\u001b[39m\u001b[90m@ CSV ~/.julia/packages/CSV/7lFhM/src/file.jl:577\u001b[39m\n"
     ]
    },
    {
     "name": "stdout",
     "output_type": "stream",
     "text": [
      "../data/EKAMSAT_IMD/ekamsat/portblair/20230518-00-Standard-Summary.txt"
     ]
    },
    {
     "name": "stderr",
     "output_type": "stream",
     "text": [
      "\u001b[33m\u001b[1m┌ \u001b[22m\u001b[39m\u001b[33m\u001b[1mWarning: \u001b[22m\u001b[39mthread = 1 warning: parsed expected 11 columns, but didn't reach end of line around data row: 1. Parsing extra columns and widening final columnset\n",
      "\u001b[33m\u001b[1m└ \u001b[22m\u001b[39m\u001b[90m@ CSV ~/.julia/packages/CSV/7lFhM/src/file.jl:577\u001b[39m\n"
     ]
    },
    {
     "name": "stdout",
     "output_type": "stream",
     "text": [
      "../data/EKAMSAT_IMD/ekamsat/portblair/20230519-00-Standard-Summary.txt"
     ]
    },
    {
     "name": "stderr",
     "output_type": "stream",
     "text": [
      "\u001b[33m\u001b[1m┌ \u001b[22m\u001b[39m\u001b[33m\u001b[1mWarning: \u001b[22m\u001b[39mthread = 1 warning: parsed expected 11 columns, but didn't reach end of line around data row: 1. Parsing extra columns and widening final columnset\n",
      "\u001b[33m\u001b[1m└ \u001b[22m\u001b[39m\u001b[90m@ CSV ~/.julia/packages/CSV/7lFhM/src/file.jl:577\u001b[39m\n"
     ]
    },
    {
     "name": "stdout",
     "output_type": "stream",
     "text": [
      "../data/EKAMSAT_IMD/ekamsat/portblair/20230520-00-Standard-Summary.txt"
     ]
    },
    {
     "name": "stderr",
     "output_type": "stream",
     "text": [
      "\u001b[33m\u001b[1m┌ \u001b[22m\u001b[39m\u001b[33m\u001b[1mWarning: \u001b[22m\u001b[39mthread = 1 warning: parsed expected 11 columns, but didn't reach end of line around data row: 1. Parsing extra columns and widening final columnset\n",
      "\u001b[33m\u001b[1m└ \u001b[22m\u001b[39m\u001b[90m@ CSV ~/.julia/packages/CSV/7lFhM/src/file.jl:577\u001b[39m\n"
     ]
    },
    {
     "name": "stdout",
     "output_type": "stream",
     "text": [
      "../data/EKAMSAT_IMD/ekamsat/portblair/20230521-00-Standard-Summary.txt"
     ]
    },
    {
     "name": "stderr",
     "output_type": "stream",
     "text": [
      "\u001b[33m\u001b[1m┌ \u001b[22m\u001b[39m\u001b[33m\u001b[1mWarning: \u001b[22m\u001b[39mthread = 1 warning: parsed expected 11 columns, but didn't reach end of line around data row: 1. Parsing extra columns and widening final columnset\n",
      "\u001b[33m\u001b[1m└ \u001b[22m\u001b[39m\u001b[90m@ CSV ~/.julia/packages/CSV/7lFhM/src/file.jl:577\u001b[39m\n"
     ]
    },
    {
     "name": "stdout",
     "output_type": "stream",
     "text": [
      "../data/EKAMSAT_IMD/ekamsat/portblair/20230522-00-Standard-Summary.txt"
     ]
    },
    {
     "name": "stderr",
     "output_type": "stream",
     "text": [
      "\u001b[33m\u001b[1m┌ \u001b[22m\u001b[39m\u001b[33m\u001b[1mWarning: \u001b[22m\u001b[39mthread = 1 warning: parsed expected 11 columns, but didn't reach end of line around data row: 1. Parsing extra columns and widening final columnset\n",
      "\u001b[33m\u001b[1m└ \u001b[22m\u001b[39m\u001b[90m@ CSV ~/.julia/packages/CSV/7lFhM/src/file.jl:577\u001b[39m\n"
     ]
    },
    {
     "name": "stdout",
     "output_type": "stream",
     "text": [
      "../data/EKAMSAT_IMD/ekamsat/portblair/20230523-00-Standard-Summary.txt"
     ]
    },
    {
     "name": "stderr",
     "output_type": "stream",
     "text": [
      "\u001b[33m\u001b[1m┌ \u001b[22m\u001b[39m\u001b[33m\u001b[1mWarning: \u001b[22m\u001b[39mthread = 1 warning: parsed expected 11 columns, but didn't reach end of line around data row: 1. Parsing extra columns and widening final columnset\n",
      "\u001b[33m\u001b[1m└ \u001b[22m\u001b[39m\u001b[90m@ CSV ~/.julia/packages/CSV/7lFhM/src/file.jl:577\u001b[39m\n"
     ]
    },
    {
     "name": "stdout",
     "output_type": "stream",
     "text": [
      "../data/EKAMSAT_IMD/ekamsat/portblair/20230524-00-Standard-Summary.txt"
     ]
    },
    {
     "name": "stderr",
     "output_type": "stream",
     "text": [
      "\u001b[33m\u001b[1m┌ \u001b[22m\u001b[39m\u001b[33m\u001b[1mWarning: \u001b[22m\u001b[39mthread = 1 warning: parsed expected 11 columns, but didn't reach end of line around data row: 1. Parsing extra columns and widening final columnset\n",
      "\u001b[33m\u001b[1m└ \u001b[22m\u001b[39m\u001b[90m@ CSV ~/.julia/packages/CSV/7lFhM/src/file.jl:577\u001b[39m\n"
     ]
    },
    {
     "name": "stdout",
     "output_type": "stream",
     "text": [
      "../data/EKAMSAT_IMD/ekamsat/portblair/20230525-00-Standard-Summary.txt"
     ]
    },
    {
     "name": "stderr",
     "output_type": "stream",
     "text": [
      "\u001b[33m\u001b[1m┌ \u001b[22m\u001b[39m\u001b[33m\u001b[1mWarning: \u001b[22m\u001b[39mthread = 1 warning: parsed expected 11 columns, but didn't reach end of line around data row: 1. Parsing extra columns and widening final columnset\n",
      "\u001b[33m\u001b[1m└ \u001b[22m\u001b[39m\u001b[90m@ CSV ~/.julia/packages/CSV/7lFhM/src/file.jl:577\u001b[39m\n"
     ]
    },
    {
     "name": "stdout",
     "output_type": "stream",
     "text": [
      "../data/EKAMSAT_IMD/ekamsat/portblair/20230526-00-Standard-Summary.txt"
     ]
    },
    {
     "name": "stderr",
     "output_type": "stream",
     "text": [
      "\u001b[33m\u001b[1m┌ \u001b[22m\u001b[39m\u001b[33m\u001b[1mWarning: \u001b[22m\u001b[39mthread = 1 warning: parsed expected 11 columns, but didn't reach end of line around data row: 1. Parsing extra columns and widening final columnset\n",
      "\u001b[33m\u001b[1m└ \u001b[22m\u001b[39m\u001b[90m@ CSV ~/.julia/packages/CSV/7lFhM/src/file.jl:577\u001b[39m\n"
     ]
    },
    {
     "name": "stdout",
     "output_type": "stream",
     "text": [
      "../data/EKAMSAT_IMD/ekamsat/portblair/20230527-00-Standard-Summary.txt"
     ]
    },
    {
     "name": "stderr",
     "output_type": "stream",
     "text": [
      "\u001b[33m\u001b[1m┌ \u001b[22m\u001b[39m\u001b[33m\u001b[1mWarning: \u001b[22m\u001b[39mthread = 1 warning: parsed expected 11 columns, but didn't reach end of line around data row: 1. Parsing extra columns and widening final columnset\n",
      "\u001b[33m\u001b[1m└ \u001b[22m\u001b[39m\u001b[90m@ CSV ~/.julia/packages/CSV/7lFhM/src/file.jl:577\u001b[39m\n"
     ]
    },
    {
     "name": "stdout",
     "output_type": "stream",
     "text": [
      "../data/EKAMSAT_IMD/ekamsat/portblair/20230528-00-Standard-Summary.txt"
     ]
    },
    {
     "name": "stderr",
     "output_type": "stream",
     "text": [
      "\u001b[33m\u001b[1m┌ \u001b[22m\u001b[39m\u001b[33m\u001b[1mWarning: \u001b[22m\u001b[39mthread = 1 warning: parsed expected 11 columns, but didn't reach end of line around data row: 1. Parsing extra columns and widening final columnset\n",
      "\u001b[33m\u001b[1m└ \u001b[22m\u001b[39m\u001b[90m@ CSV ~/.julia/packages/CSV/7lFhM/src/file.jl:577\u001b[39m\n"
     ]
    },
    {
     "name": "stdout",
     "output_type": "stream",
     "text": [
      "../data/EKAMSAT_IMD/ekamsat/pune/20230501-00-Standard Summary.txt../data/EKAMSAT_IMD/ekamsat/pune/20230502-00-Standard Summary.txt"
     ]
    },
    {
     "name": "stderr",
     "output_type": "stream",
     "text": [
      "\u001b[33m\u001b[1m┌ \u001b[22m\u001b[39m\u001b[33m\u001b[1mWarning: \u001b[22m\u001b[39mthread = 1 warning: parsed expected 11 columns, but didn't reach end of line around data row: 1. Parsing extra columns and widening final columnset\n",
      "\u001b[33m\u001b[1m└ \u001b[22m\u001b[39m\u001b[90m@ CSV ~/.julia/packages/CSV/7lFhM/src/file.jl:577\u001b[39m\n"
     ]
    },
    {
     "name": "stdout",
     "output_type": "stream",
     "text": [
      "../data/EKAMSAT_IMD/ekamsat/pune/20230503-00-Standard Summary.txt../data/EKAMSAT_IMD/ekamsat/pune/20230504-00-Standard Summary.txt../data/EKAMSAT_IMD/ekamsat/pune/20230505-00-Standard Summary.txt../data/EKAMSAT_IMD/ekamsat/pune/20230506-00-Standard Summary.txt../data/EKAMSAT_IMD/ekamsat/pune/20230507-00-Standard Summary.txt../data/EKAMSAT_IMD/ekamsat/pune/20230508-00-Standard Summary.txt../data/EKAMSAT_IMD/ekamsat/pune/20230509-00-Standard Summary.txt../data/EKAMSAT_IMD/ekamsat/pune/20230510-00-Standard Summary.txt../data/EKAMSAT_IMD/ekamsat/pune/20230511-00-Standard Summary.txt../data/EKAMSAT_IMD/ekamsat/pune/20230512-00-Standard Summary.txt../data/EKAMSAT_IMD/ekamsat/pune/20230513-00-Standard Summary.txt../data/EKAMSAT_IMD/ekamsat/pune/20230514-00-Standard Summary.txt../data/EKAMSAT_IMD/ekamsat/pune/20230515-00-Standard Summary.txt../data/EKAMSAT_IMD/ekamsat/pune/20230516-00-Standard Summary.txt../data/EKAMSAT_IMD/ekamsat/pune/20230517-00-Standard Summary.txt../data/EKAMSAT_IMD/ekamsat/pune/20230518-00-Standard Summary.txt../data/EKAMSAT_IMD/ekamsat/pune/20230519-00-Standard Summary.txt../data/EKAMSAT_IMD/ekamsat/pune/20230520-00-Standard Summary.txt../data/EKAMSAT_IMD/ekamsat/pune/20230521-00-Standard Summary.txt../data/EKAMSAT_IMD/ekamsat/pune/20230522-00-Standard Summary.txt../data/EKAMSAT_IMD/ekamsat/pune/20230523-00-Standard Summary.txt../data/EKAMSAT_IMD/ekamsat/pune/20230524-00-Standard Summary.txt../data/EKAMSAT_IMD/ekamsat/pune/20230525-00-Standard Summary.txt../data/EKAMSAT_IMD/ekamsat/pune/20230526-00-Standard Summary.txt../data/EKAMSAT_IMD/ekamsat/pune/20230527-00-Standard Summary.txt../data/EKAMSAT_IMD/ekamsat/pune/20230528-00-Standard Summary.txt../data/EKAMSAT_IMD/ekamsat/pune/20230529-00-Standard Summary.txt../data/EKAMSAT_IMD/ekamsat/visakhapatnam/01MAY2023VSK.txt../data/EKAMSAT_IMD/ekamsat/visakhapatnam/02MAY2023VSK.txt"
     ]
    },
    {
     "name": "stderr",
     "output_type": "stream",
     "text": [
      "\u001b[33m\u001b[1m┌ \u001b[22m\u001b[39m\u001b[33m\u001b[1mWarning: \u001b[22m\u001b[39mthread = 1 warning: parsed expected 11 columns, but didn't reach end of line around data row: 1. Parsing extra columns and widening final columnset\n",
      "\u001b[33m\u001b[1m└ \u001b[22m\u001b[39m\u001b[90m@ CSV ~/.julia/packages/CSV/7lFhM/src/file.jl:577\u001b[39m\n"
     ]
    },
    {
     "name": "stdout",
     "output_type": "stream",
     "text": [
      "../data/EKAMSAT_IMD/ekamsat/visakhapatnam/03MAY2023VSK.txt"
     ]
    },
    {
     "name": "stderr",
     "output_type": "stream",
     "text": [
      "\u001b[33m\u001b[1m┌ \u001b[22m\u001b[39m\u001b[33m\u001b[1mWarning: \u001b[22m\u001b[39mthread = 1 warning: parsed expected 11 columns, but didn't reach end of line around data row: 1. Parsing extra columns and widening final columnset\n",
      "\u001b[33m\u001b[1m└ \u001b[22m\u001b[39m\u001b[90m@ CSV ~/.julia/packages/CSV/7lFhM/src/file.jl:577\u001b[39m\n"
     ]
    },
    {
     "name": "stdout",
     "output_type": "stream",
     "text": [
      "../data/EKAMSAT_IMD/ekamsat/visakhapatnam/04MAY2023VSK.txt"
     ]
    },
    {
     "name": "stderr",
     "output_type": "stream",
     "text": [
      "\u001b[33m\u001b[1m┌ \u001b[22m\u001b[39m\u001b[33m\u001b[1mWarning: \u001b[22m\u001b[39mthread = 1 warning: parsed expected 11 columns, but didn't reach end of line around data row: 1. Parsing extra columns and widening final columnset\n",
      "\u001b[33m\u001b[1m└ \u001b[22m\u001b[39m\u001b[90m@ CSV ~/.julia/packages/CSV/7lFhM/src/file.jl:577\u001b[39m\n"
     ]
    },
    {
     "name": "stdout",
     "output_type": "stream",
     "text": [
      "../data/EKAMSAT_IMD/ekamsat/visakhapatnam/05MAY2023VSK.txt"
     ]
    },
    {
     "name": "stderr",
     "output_type": "stream",
     "text": [
      "\u001b[33m\u001b[1m┌ \u001b[22m\u001b[39m\u001b[33m\u001b[1mWarning: \u001b[22m\u001b[39mthread = 1 warning: parsed expected 11 columns, but didn't reach end of line around data row: 1. Parsing extra columns and widening final columnset\n",
      "\u001b[33m\u001b[1m└ \u001b[22m\u001b[39m\u001b[90m@ CSV ~/.julia/packages/CSV/7lFhM/src/file.jl:577\u001b[39m\n"
     ]
    },
    {
     "name": "stdout",
     "output_type": "stream",
     "text": [
      "../data/EKAMSAT_IMD/ekamsat/visakhapatnam/06MAY2023VSK.txt"
     ]
    },
    {
     "name": "stderr",
     "output_type": "stream",
     "text": [
      "\u001b[33m\u001b[1m┌ \u001b[22m\u001b[39m\u001b[33m\u001b[1mWarning: \u001b[22m\u001b[39mthread = 1 warning: parsed expected 11 columns, but didn't reach end of line around data row: 1. Parsing extra columns and widening final columnset\n",
      "\u001b[33m\u001b[1m└ \u001b[22m\u001b[39m\u001b[90m@ CSV ~/.julia/packages/CSV/7lFhM/src/file.jl:577\u001b[39m\n"
     ]
    },
    {
     "name": "stdout",
     "output_type": "stream",
     "text": [
      "../data/EKAMSAT_IMD/ekamsat/visakhapatnam/07MAY2023VSK.txt"
     ]
    },
    {
     "name": "stderr",
     "output_type": "stream",
     "text": [
      "\u001b[33m\u001b[1m┌ \u001b[22m\u001b[39m\u001b[33m\u001b[1mWarning: \u001b[22m\u001b[39mthread = 1 warning: parsed expected 11 columns, but didn't reach end of line around data row: 1. Parsing extra columns and widening final columnset\n",
      "\u001b[33m\u001b[1m└ \u001b[22m\u001b[39m\u001b[90m@ CSV ~/.julia/packages/CSV/7lFhM/src/file.jl:577\u001b[39m\n"
     ]
    },
    {
     "name": "stdout",
     "output_type": "stream",
     "text": [
      "../data/EKAMSAT_IMD/ekamsat/visakhapatnam/08MAY2023VSK.txt"
     ]
    },
    {
     "name": "stderr",
     "output_type": "stream",
     "text": [
      "\u001b[33m\u001b[1m┌ \u001b[22m\u001b[39m\u001b[33m\u001b[1mWarning: \u001b[22m\u001b[39mthread = 1 warning: parsed expected 11 columns, but didn't reach end of line around data row: 1. Parsing extra columns and widening final columnset\n",
      "\u001b[33m\u001b[1m└ \u001b[22m\u001b[39m\u001b[90m@ CSV ~/.julia/packages/CSV/7lFhM/src/file.jl:577\u001b[39m\n"
     ]
    },
    {
     "name": "stdout",
     "output_type": "stream",
     "text": [
      "../data/EKAMSAT_IMD/ekamsat/visakhapatnam/09MAY2023VSK.txt"
     ]
    },
    {
     "name": "stderr",
     "output_type": "stream",
     "text": [
      "\u001b[33m\u001b[1m┌ \u001b[22m\u001b[39m\u001b[33m\u001b[1mWarning: \u001b[22m\u001b[39mthread = 1 warning: parsed expected 11 columns, but didn't reach end of line around data row: 1. Parsing extra columns and widening final columnset\n",
      "\u001b[33m\u001b[1m└ \u001b[22m\u001b[39m\u001b[90m@ CSV ~/.julia/packages/CSV/7lFhM/src/file.jl:577\u001b[39m\n"
     ]
    },
    {
     "name": "stdout",
     "output_type": "stream",
     "text": [
      "../data/EKAMSAT_IMD/ekamsat/visakhapatnam/10MAY2023VSK.txt"
     ]
    },
    {
     "name": "stderr",
     "output_type": "stream",
     "text": [
      "\u001b[33m\u001b[1m┌ \u001b[22m\u001b[39m\u001b[33m\u001b[1mWarning: \u001b[22m\u001b[39mthread = 1 warning: parsed expected 11 columns, but didn't reach end of line around data row: 1. Parsing extra columns and widening final columnset\n",
      "\u001b[33m\u001b[1m└ \u001b[22m\u001b[39m\u001b[90m@ CSV ~/.julia/packages/CSV/7lFhM/src/file.jl:577\u001b[39m\n"
     ]
    },
    {
     "name": "stdout",
     "output_type": "stream",
     "text": [
      "../data/EKAMSAT_IMD/ekamsat/visakhapatnam/43150-20230511-00-Standard-Summary.txt"
     ]
    },
    {
     "name": "stderr",
     "output_type": "stream",
     "text": [
      "\u001b[33m\u001b[1m┌ \u001b[22m\u001b[39m\u001b[33m\u001b[1mWarning: \u001b[22m\u001b[39mthread = 1 warning: parsed expected 11 columns, but didn't reach end of line around data row: 1. Parsing extra columns and widening final columnset\n",
      "\u001b[33m\u001b[1m└ \u001b[22m\u001b[39m\u001b[90m@ CSV ~/.julia/packages/CSV/7lFhM/src/file.jl:577\u001b[39m\n"
     ]
    },
    {
     "name": "stdout",
     "output_type": "stream",
     "text": [
      "../data/EKAMSAT_IMD/ekamsat/visakhapatnam/43150-20230512-00-Standard-Summary.txt"
     ]
    },
    {
     "name": "stderr",
     "output_type": "stream",
     "text": [
      "\u001b[33m\u001b[1m┌ \u001b[22m\u001b[39m\u001b[33m\u001b[1mWarning: \u001b[22m\u001b[39mthread = 1 warning: parsed expected 11 columns, but didn't reach end of line around data row: 1. Parsing extra columns and widening final columnset\n",
      "\u001b[33m\u001b[1m└ \u001b[22m\u001b[39m\u001b[90m@ CSV ~/.julia/packages/CSV/7lFhM/src/file.jl:577\u001b[39m\n"
     ]
    },
    {
     "name": "stdout",
     "output_type": "stream",
     "text": [
      "../data/EKAMSAT_IMD/ekamsat/visakhapatnam/43150-20230513-00-Standard-Summary.txt"
     ]
    },
    {
     "name": "stderr",
     "output_type": "stream",
     "text": [
      "\u001b[33m\u001b[1m┌ \u001b[22m\u001b[39m\u001b[33m\u001b[1mWarning: \u001b[22m\u001b[39mthread = 1 warning: parsed expected 11 columns, but didn't reach end of line around data row: 1. Parsing extra columns and widening final columnset\n",
      "\u001b[33m\u001b[1m└ \u001b[22m\u001b[39m\u001b[90m@ CSV ~/.julia/packages/CSV/7lFhM/src/file.jl:577\u001b[39m\n"
     ]
    },
    {
     "name": "stdout",
     "output_type": "stream",
     "text": [
      "../data/EKAMSAT_IMD/ekamsat/visakhapatnam/43150-20230514-00-Standard-Summary.txt"
     ]
    },
    {
     "name": "stderr",
     "output_type": "stream",
     "text": [
      "\u001b[33m\u001b[1m┌ \u001b[22m\u001b[39m\u001b[33m\u001b[1mWarning: \u001b[22m\u001b[39mthread = 1 warning: parsed expected 11 columns, but didn't reach end of line around data row: 1. Parsing extra columns and widening final columnset\n",
      "\u001b[33m\u001b[1m└ \u001b[22m\u001b[39m\u001b[90m@ CSV ~/.julia/packages/CSV/7lFhM/src/file.jl:577\u001b[39m\n"
     ]
    },
    {
     "name": "stdout",
     "output_type": "stream",
     "text": [
      "../data/EKAMSAT_IMD/ekamsat/visakhapatnam/43150-20230515-00-Standard-Summary.txt"
     ]
    },
    {
     "name": "stderr",
     "output_type": "stream",
     "text": [
      "\u001b[33m\u001b[1m┌ \u001b[22m\u001b[39m\u001b[33m\u001b[1mWarning: \u001b[22m\u001b[39mthread = 1 warning: parsed expected 11 columns, but didn't reach end of line around data row: 1. Parsing extra columns and widening final columnset\n",
      "\u001b[33m\u001b[1m└ \u001b[22m\u001b[39m\u001b[90m@ CSV ~/.julia/packages/CSV/7lFhM/src/file.jl:577\u001b[39m\n"
     ]
    },
    {
     "name": "stdout",
     "output_type": "stream",
     "text": [
      "../data/EKAMSAT_IMD/ekamsat/visakhapatnam/43150-20230516-00-Standard-Summary.txt"
     ]
    },
    {
     "name": "stderr",
     "output_type": "stream",
     "text": [
      "\u001b[33m\u001b[1m┌ \u001b[22m\u001b[39m\u001b[33m\u001b[1mWarning: \u001b[22m\u001b[39mthread = 1 warning: parsed expected 11 columns, but didn't reach end of line around data row: 1. Parsing extra columns and widening final columnset\n",
      "\u001b[33m\u001b[1m└ \u001b[22m\u001b[39m\u001b[90m@ CSV ~/.julia/packages/CSV/7lFhM/src/file.jl:577\u001b[39m\n"
     ]
    },
    {
     "name": "stdout",
     "output_type": "stream",
     "text": [
      "../data/EKAMSAT_IMD/ekamsat/visakhapatnam/43150-20230517-00-Standard-Summary.txt"
     ]
    },
    {
     "name": "stderr",
     "output_type": "stream",
     "text": [
      "\u001b[33m\u001b[1m┌ \u001b[22m\u001b[39m\u001b[33m\u001b[1mWarning: \u001b[22m\u001b[39mthread = 1 warning: parsed expected 11 columns, but didn't reach end of line around data row: 1. Parsing extra columns and widening final columnset\n",
      "\u001b[33m\u001b[1m└ \u001b[22m\u001b[39m\u001b[90m@ CSV ~/.julia/packages/CSV/7lFhM/src/file.jl:577\u001b[39m\n"
     ]
    },
    {
     "name": "stdout",
     "output_type": "stream",
     "text": [
      "../data/EKAMSAT_IMD/ekamsat/visakhapatnam/43150-20230518-00-Standard-Summary.txt"
     ]
    },
    {
     "name": "stderr",
     "output_type": "stream",
     "text": [
      "\u001b[33m\u001b[1m┌ \u001b[22m\u001b[39m\u001b[33m\u001b[1mWarning: \u001b[22m\u001b[39mthread = 1 warning: parsed expected 11 columns, but didn't reach end of line around data row: 1. Parsing extra columns and widening final columnset\n",
      "\u001b[33m\u001b[1m└ \u001b[22m\u001b[39m\u001b[90m@ CSV ~/.julia/packages/CSV/7lFhM/src/file.jl:577\u001b[39m\n"
     ]
    },
    {
     "name": "stdout",
     "output_type": "stream",
     "text": [
      "../data/EKAMSAT_IMD/ekamsat/visakhapatnam/43150-20230519-00-Standard-Summary.txt"
     ]
    },
    {
     "name": "stderr",
     "output_type": "stream",
     "text": [
      "\u001b[33m\u001b[1m┌ \u001b[22m\u001b[39m\u001b[33m\u001b[1mWarning: \u001b[22m\u001b[39mthread = 1 warning: parsed expected 11 columns, but didn't reach end of line around data row: 1. Parsing extra columns and widening final columnset\n",
      "\u001b[33m\u001b[1m└ \u001b[22m\u001b[39m\u001b[90m@ CSV ~/.julia/packages/CSV/7lFhM/src/file.jl:577\u001b[39m\n"
     ]
    },
    {
     "name": "stdout",
     "output_type": "stream",
     "text": [
      "../data/EKAMSAT_IMD/ekamsat/visakhapatnam/43150-20230520-00-Standard-Summary.txt"
     ]
    },
    {
     "name": "stderr",
     "output_type": "stream",
     "text": [
      "\u001b[33m\u001b[1m┌ \u001b[22m\u001b[39m\u001b[33m\u001b[1mWarning: \u001b[22m\u001b[39mthread = 1 warning: parsed expected 11 columns, but didn't reach end of line around data row: 1. Parsing extra columns and widening final columnset\n",
      "\u001b[33m\u001b[1m└ \u001b[22m\u001b[39m\u001b[90m@ CSV ~/.julia/packages/CSV/7lFhM/src/file.jl:577\u001b[39m\n"
     ]
    },
    {
     "name": "stdout",
     "output_type": "stream",
     "text": [
      "../data/EKAMSAT_IMD/ekamsat/visakhapatnam/43150-20230521-00-Standard-Summary.txt"
     ]
    },
    {
     "name": "stderr",
     "output_type": "stream",
     "text": [
      "\u001b[33m\u001b[1m┌ \u001b[22m\u001b[39m\u001b[33m\u001b[1mWarning: \u001b[22m\u001b[39mthread = 1 warning: parsed expected 11 columns, but didn't reach end of line around data row: 1. Parsing extra columns and widening final columnset\n",
      "\u001b[33m\u001b[1m└ \u001b[22m\u001b[39m\u001b[90m@ CSV ~/.julia/packages/CSV/7lFhM/src/file.jl:577\u001b[39m\n"
     ]
    },
    {
     "name": "stdout",
     "output_type": "stream",
     "text": [
      "../data/EKAMSAT_IMD/ekamsat/visakhapatnam/43150-20230522-00-Standard-Summary.txt"
     ]
    },
    {
     "name": "stderr",
     "output_type": "stream",
     "text": [
      "\u001b[33m\u001b[1m┌ \u001b[22m\u001b[39m\u001b[33m\u001b[1mWarning: \u001b[22m\u001b[39mthread = 1 warning: parsed expected 11 columns, but didn't reach end of line around data row: 1. Parsing extra columns and widening final columnset\n",
      "\u001b[33m\u001b[1m└ \u001b[22m\u001b[39m\u001b[90m@ CSV ~/.julia/packages/CSV/7lFhM/src/file.jl:577\u001b[39m\n"
     ]
    },
    {
     "name": "stdout",
     "output_type": "stream",
     "text": [
      "../data/EKAMSAT_IMD/ekamsat/visakhapatnam/43150-20230523-00-Standard-Summary.txt"
     ]
    },
    {
     "name": "stderr",
     "output_type": "stream",
     "text": [
      "\u001b[33m\u001b[1m┌ \u001b[22m\u001b[39m\u001b[33m\u001b[1mWarning: \u001b[22m\u001b[39mthread = 1 warning: parsed expected 11 columns, but didn't reach end of line around data row: 1. Parsing extra columns and widening final columnset\n",
      "\u001b[33m\u001b[1m└ \u001b[22m\u001b[39m\u001b[90m@ CSV ~/.julia/packages/CSV/7lFhM/src/file.jl:577\u001b[39m\n"
     ]
    },
    {
     "name": "stdout",
     "output_type": "stream",
     "text": [
      "../data/EKAMSAT_IMD/ekamsat/visakhapatnam/43150-20230524-00-Standard-Summary.txt"
     ]
    },
    {
     "name": "stderr",
     "output_type": "stream",
     "text": [
      "\u001b[33m\u001b[1m┌ \u001b[22m\u001b[39m\u001b[33m\u001b[1mWarning: \u001b[22m\u001b[39mthread = 1 warning: parsed expected 11 columns, but didn't reach end of line around data row: 1. Parsing extra columns and widening final columnset\n",
      "\u001b[33m\u001b[1m└ \u001b[22m\u001b[39m\u001b[90m@ CSV ~/.julia/packages/CSV/7lFhM/src/file.jl:577\u001b[39m\n"
     ]
    },
    {
     "name": "stdout",
     "output_type": "stream",
     "text": [
      "../data/EKAMSAT_IMD/ekamsat/visakhapatnam/43150-20230525-00-Standard-Summary.txt"
     ]
    },
    {
     "name": "stderr",
     "output_type": "stream",
     "text": [
      "\u001b[33m\u001b[1m┌ \u001b[22m\u001b[39m\u001b[33m\u001b[1mWarning: \u001b[22m\u001b[39mthread = 1 warning: parsed expected 11 columns, but didn't reach end of line around data row: 1. Parsing extra columns and widening final columnset\n",
      "\u001b[33m\u001b[1m└ \u001b[22m\u001b[39m\u001b[90m@ CSV ~/.julia/packages/CSV/7lFhM/src/file.jl:577\u001b[39m\n"
     ]
    },
    {
     "name": "stdout",
     "output_type": "stream",
     "text": [
      "../data/EKAMSAT_IMD/ekamsat/visakhapatnam/43150-20230526-00-Standard-Summary.txt"
     ]
    },
    {
     "name": "stderr",
     "output_type": "stream",
     "text": [
      "\u001b[33m\u001b[1m┌ \u001b[22m\u001b[39m\u001b[33m\u001b[1mWarning: \u001b[22m\u001b[39mthread = 1 warning: parsed expected 11 columns, but didn't reach end of line around data row: 1. Parsing extra columns and widening final columnset\n",
      "\u001b[33m\u001b[1m└ \u001b[22m\u001b[39m\u001b[90m@ CSV ~/.julia/packages/CSV/7lFhM/src/file.jl:577\u001b[39m\n"
     ]
    },
    {
     "name": "stdout",
     "output_type": "stream",
     "text": [
      "../data/EKAMSAT_IMD/ekamsat/visakhapatnam/43150-20230527-00-Standard-Summary.txt"
     ]
    },
    {
     "name": "stderr",
     "output_type": "stream",
     "text": [
      "\u001b[33m\u001b[1m┌ \u001b[22m\u001b[39m\u001b[33m\u001b[1mWarning: \u001b[22m\u001b[39mthread = 1 warning: parsed expected 11 columns, but didn't reach end of line around data row: 1. Parsing extra columns and widening final columnset\n",
      "\u001b[33m\u001b[1m└ \u001b[22m\u001b[39m\u001b[90m@ CSV ~/.julia/packages/CSV/7lFhM/src/file.jl:577\u001b[39m\n"
     ]
    },
    {
     "ename": "LoadError",
     "evalue": "ArgumentError: column name :P(hPa) not found in the data frame",
     "output_type": "error",
     "traceback": [
      "ArgumentError: column name :P(hPa) not found in the data frame",
      "",
      "Stacktrace:",
      " [1] lookupname",
      "   @ ~/.julia/packages/DataFrames/LteEl/src/other/index.jl:404 [inlined]",
      " [2] getindex",
      "   @ ~/.julia/packages/DataFrames/LteEl/src/other/index.jl:413 [inlined]",
      " [3] getindex",
      "   @ ~/.julia/packages/DataFrames/LteEl/src/other/index.jl:414 [inlined]",
      " [4] getindex(df::DataFrame, #unused#::typeof(!), col_ind::String)",
      "   @ DataFrames ~/.julia/packages/DataFrames/LteEl/src/dataframe/dataframe.jl:551",
      " [5] get_sounding_cols(df::DataFrame, station::String)",
      "   @ Main ./In[115]:20",
      " [6] top-level scope",
      "   @ ./In[119]:40"
     ]
    }
   ],
   "source": [
    "# start over and do a big loop to load and interpolate data to consistent levels\n",
    "\n",
    "reldatapath = \"../data/EKAMSAT_IMD/ekamsat\"\n",
    "plevs = 1020.0:-5.0:0.0\n",
    "\n",
    "CamelStations = [\"Ahmedabad\",\"Chennai\",\"Karaikal\",\"Kochi\",\"Kolkata\",\"Mangalore\",\"PortBlair\",\"Pune\",\"Visakhapatnam\"]\n",
    "stationnames = lowercase.(CamelStations)\n",
    "\n",
    "# allocate gridded data arrays (pressure, location, launch time)\n",
    "nt = 40 # allow for longest station mangalore?(37), extend & trim off extra later\n",
    "T  = NaN.+zeros(Float64, length(plevs), length(stationnames), nt)\n",
    "Td = NaN.+zeros(Float64, length(plevs), length(stationnames), nt)\n",
    "rh = NaN.+zeros(Float64, length(plevs), length(stationnames), nt)\n",
    "z  = NaN.+zeros(Float64, length(plevs), length(stationnames), nt)\n",
    "u  = NaN.+zeros(Float64, length(plevs), length(stationnames), nt)\n",
    "v  = NaN.+zeros(Float64, length(plevs), length(stationnames), nt)\n",
    "time = zeros(DateTime, length(stationnames), nt)\n",
    "\n",
    "sj = 0\n",
    "for station in stationnames\n",
    "    # read standard named files in the station's directory\n",
    "    files = soundingfiles(station)\n",
    "    sj += 1 # gridded station index\n",
    "    # deduplicate sounding times\n",
    "    fdt = imd_file_date.(files)\n",
    "    fdt12 = round.(fdt, Dates.Hour(12))\n",
    "    ui = uniqueidx(fdt12)\n",
    "    fdt[ui] # exact datetimes with duplicates removed\n",
    "    ord = sortperm(fdt[ui]) # guarantees ascending order\n",
    "    #collect(zip( files[ui[ord]]], fdt[ui[ord]] ))\n",
    "    \n",
    "    tj = 0\n",
    "    for ti in ui[ord]\n",
    "        fn = joinpath(reldatapath, station, files[ti])\n",
    "        df = read_sonde( joinpath(reldatapath, station, files[ti]),\n",
    "                 header=( station==\"visakhapatnam\" ? 7 : 3 )      )\n",
    "        if !isempty(df)\n",
    "            # extract ungridded hi-res data\n",
    "            p_, T_,Td_, rh_,z_, wspd_,wdir_, u_,v_ = get_sounding_cols(df, station)\n",
    "            # avg variables at the next time level\n",
    "            tj += 1\n",
    "            time[sj,tj] = fdt[ti]\n",
    "            T[  :, sj, tj] .= pavg(T_ , p_, plevs=plevs)\n",
    "            Td[ :, sj, tj] .= pavg(Td_, p_, plevs=plevs)\n",
    "            rh[ :, sj, tj] .= pavg(rh_, p_, plevs=plevs)\n",
    "            z[  :, sj, tj] .= pavg(z_ , p_, plevs=plevs)\n",
    "            u[  :, sj, tj] .= pavg(u_ , p_, plevs=plevs)\n",
    "            v[  :, sj, tj] .= pavg(v_ , p_, plevs=plevs)\n",
    "        else\n",
    "            tj += 1\n",
    "            time[sj,tj] =fdt[ti]\n",
    "            # leave an empty sounding\n",
    "        end\n",
    "    end\n",
    "end"
   ]
  },
  {
   "cell_type": "code",
   "execution_count": 127,
   "id": "c80231da-cf31-4ce6-897b-7d2988580cfc",
   "metadata": {},
   "outputs": [
    {
     "data": {
      "text/plain": [
       "9-element Vector{Tuple{String, Int64}}:\n",
       " (\"Ahmedabad\", 28)\n",
       " (\"Chennai\", 33)\n",
       " (\"Karaikal\", 28)\n",
       " (\"Kochi\", 28)\n",
       " (\"Kolkata\", 29)\n",
       " (\"Mangalore\", 29)\n",
       " (\"PortBlair\", 31)\n",
       " (\"Pune\", 29)\n",
       " (\"Visakhapatnam\", 26)"
      ]
     },
     "execution_count": 127,
     "metadata": {},
     "output_type": "execute_result"
    }
   ],
   "source": [
    "# count times at each station\n",
    "nt = sum(time.>DateTime(1000), dims=2)\n",
    "collect(zip(CamelStations, nt))"
   ]
  },
  {
   "cell_type": "code",
   "execution_count": 121,
   "id": "7aa2751c-1650-4c9e-a041-98010a71a066",
   "metadata": {},
   "outputs": [
    {
     "data": {
      "image/png": "[encoded data removed]",
      "text/plain": [
       "Figure(PyObject <Figure size 640x480 with 1 Axes>)"
      ]
     },
     "metadata": {},
     "output_type": "display_data"
    },
    {
     "data": {
      "text/plain": [
       "PyObject <matplotlib.collections.QuadMesh object at 0x11c5a90f0>"
      ]
     },
     "execution_count": 121,
     "metadata": {},
     "output_type": "execute_result"
    }
   ],
   "source": [
    "pcolormesh( time[sj,1:nt[sj]], plevs, u[:,sj,1:nt[sj]], vmin=-10, vmax=20, cmap=ColorMap(\"RdYlBu_r\") )"
   ]
  },
  {
   "cell_type": "code",
   "execution_count": 128,
   "id": "e1d2a6c1-bccc-4c6e-92b8-95cfb2a6e2dc",
   "metadata": {},
   "outputs": [
    {
     "data": {
      "image/png": "[encoded data removed]",
      "text/plain": [
       "Figure(PyObject <Figure size 640x480 with 4 Axes>)"
      ]
     },
     "metadata": {},
     "output_type": "display_data"
    },
    {
     "data": {
      "text/plain": [
       "PyObject <matplotlib.colorbar.Colorbar object at 0x11c7cf910>"
      ]
     },
     "execution_count": 128,
     "metadata": {},
     "output_type": "execute_result"
    }
   ],
   "source": [
    "# test time-pressure plot\n",
    "sj = 6\n",
    "\n",
    "clf()\n",
    "subplot(2,1,1)\n",
    "# pcolormesh( time[sj,:], plevs, anom(T[:,sj,:],dims=2) )\n",
    "# pcolormesh( time[sj,:], plevs, anom(th.(T[:,sj,:],plevs),dims=2), vmin=-7, vmax=7, cmap=ColorMap(\"RdYlBu_r\") )\n",
    "pcolormesh( time[sj,1:nt[sj]], plevs, u[:,sj,1:nt[sj]], vmin=-10, vmax=20, cmap=ColorMap(\"RdYlBu_r\") )\n",
    "ylim(1000, 100)\n",
    "colorbar()\n",
    "title(CamelStations[sj])\n",
    "\n",
    "subplot(2,1,2)\n",
    "pcolormesh( time[sj,1:nt[sj]], plevs, rh[:,sj,1:nt[sj]], cmap=ColorMap(\"RdYlBu_r\"))\n",
    "ylim(1000, 100)\n",
    "ylabel(\"RH (%)\")\n",
    "colorbar()"
   ]
  },
  {
   "cell_type": "code",
   "execution_count": 131,
   "id": "e4739f9b-d286-418e-9456-eeb59808ded0",
   "metadata": {},
   "outputs": [
    {
     "data": {
      "text/plain": [
       "2023-05-01T23:00:00"
      ]
     },
     "execution_count": 131,
     "metadata": {},
     "output_type": "execute_result"
    }
   ],
   "source": [
    "time[1,2] = DateTime(2023,5,1,23,0,0)"
   ]
  },
  {
   "cell_type": "code",
   "execution_count": 135,
   "id": "c7d99010-15fb-49b3-9b6f-850350e9595d",
   "metadata": {},
   "outputs": [
    {
     "data": {
      "image/png": "[encoded data removed]",
      "text/plain": [
       "Figure(PyObject <Figure size 640x480 with 4 Axes>)"
      ]
     },
     "metadata": {},
     "output_type": "display_data"
    }
   ],
   "source": [
    "mpldate(timestamp, offset=DateTime(2023,4,30,0,0,0)) = Dates.value(timestamp-offset)/1000/60/60/24\n",
    "\n",
    "for sj in 1:9\n",
    "    clf()\n",
    "    subplot(2,1,1)\n",
    "    pcolormesh( mpldate.(time[sj,1:nt[sj]]), plevs, u[:,sj,1:nt[sj]], vmin=-10, vmax=10, cmap=ColorMap(\"RdYlBu_r\") )\n",
    "    ylim(1000, 100)\n",
    "    ylabel(\"u (m/s)\")\n",
    "    colorbar()\n",
    "    title(CamelStations[sj])\n",
    "\n",
    "    subplot(2,1,2)\n",
    "    pcolormesh( mpldate.(time[sj,1:nt[sj]]), plevs, rh[:,sj,1:nt[sj]], cmap=ColorMap(\"RdYlBu_r\"))\n",
    "    ylim(1000, 100)\n",
    "    ylabel(\"RH (%)\")\n",
    "    xlabel(Dates.format(time[sj,1], \"yyyy U\"))\n",
    "    colorbar()\n",
    "    \n",
    "    savefig(\"../plot/$(CamelStations[sj])_u_rh.svg\")\n",
    "end"
   ]
  },
  {
   "cell_type": "code",
   "execution_count": 124,
   "id": "2c446bf7-3403-405b-bb92-a5ee028996b9",
   "metadata": {},
   "outputs": [
    {
     "data": {
      "text/plain": [
       "9-element Vector{Vector{Any}}:\n",
       " [\"Ahmedabad\", 23.03, 72.58]\n",
       " [\"Chennai\", 13.0825, 80.275]\n",
       " [\"Karaikal\", 10.93, 79.83]\n",
       " [\"Kochi\", 9.97, 76.28]\n",
       " [\"Kolkata\", 22.5675, 88.37]\n",
       " [\"Mangalore\", 12.868055555555555, 74.8425]\n",
       " [\"Port Blair\", 11.668333333333333, 92.73777777777778]\n",
       " [\"Pune\", 18.52027777777778, 73.85666666666667]\n",
       " [\"Visakhapatnam\", 17.704166666666666, 83.29777777777778]"
      ]
     },
     "execution_count": 124,
     "metadata": {},
     "output_type": "execute_result"
    }
   ],
   "source": [
    "# station locations\n",
    "# station, lat, lon\n",
    "Loc = [\n",
    "  [ \"Ahmedabad\", 23.03, 72.58],\n",
    "  [ \"Chennai\", 13+(4+57/60)/60, 80+(16+30/60)/60 ],\n",
    "  [ \"Karaikal\", 10.93, 79.83 ],\n",
    "  [ \"Kochi\", 9.97, 76.28 ],\n",
    "  [ \"Kolkata\", 22+(34+3/60)/60, 88+(22+12/60)/60 ], \n",
    "  [ \"Mangalore\", 12+(52+5/60)/60, 74+(50+33/60)/60 ],\n",
    "  [ \"Port Blair\", 11+(40+6/60)/60, 92+(44+16/60)/60 ],\n",
    "  [ \"Pune\", 18+(31+13/60)/60, 73+(51+24/60)/60 ],\n",
    "  [ \"Visakhapatnam\", 17+(42+15/60)/60, 83+(17+52/60)/60 ]\n",
    "      ]"
   ]
  },
  {
   "cell_type": "code",
   "execution_count": 125,
   "id": "7b447168-9169-4e4f-9907-d3db1c7e1754",
   "metadata": {},
   "outputs": [
    {
     "data": {
      "image/png": "[encoded data removed]",
      "text/plain": [
       "Figure(PyObject <Figure size 640x480 with 1 Axes>)"
      ]
     },
     "metadata": {},
     "output_type": "display_data"
    },
    {
     "data": {
      "text/plain": [
       "1-element Vector{PyCall.PyObject}:\n",
       " PyObject <matplotlib.lines.Line2D object at 0x11c666da0>"
      ]
     },
     "execution_count": 125,
     "metadata": {},
     "output_type": "execute_result"
    }
   ],
   "source": [
    "plot( map(l -> l[3], Loc), map(l -> l[2], Loc), linestyle=\"\", marker=\"*\")"
   ]
  },
  {
   "cell_type": "code",
   "execution_count": null,
   "id": "c700b89d-150e-43c8-8378-b373b93ca987",
   "metadata": {},
   "outputs": [],
   "source": []
  }
 ],
 "metadata": {
  "kernelspec": {
   "display_name": "astral_soundings 1.8.5",
   "language": "julia",
   "name": "astral_soundings-1.8"
  },
  "language_info": {
   "file_extension": ".jl",
   "mimetype": "application/julia",
   "name": "julia",
   "version": "1.8.5"
  }
 },
 "nbformat": 4,
 "nbformat_minor": 5
}
