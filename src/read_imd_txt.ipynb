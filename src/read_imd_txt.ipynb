{
 "cells": [
  {
   "cell_type": "code",
   "execution_count": 6,
   "id": "1585f970-1b56-4fe8-80e5-69c316d603da",
   "metadata": {},
   "outputs": [
    {
     "name": "stderr",
     "output_type": "stream",
     "text": [
      "\u001b[32m\u001b[1m  Activating\u001b[22m\u001b[39m project at `~/Projects/ASTRAL/soundings/ASTRAL_soundings`\n"
     ]
    }
   ],
   "source": [
    "# cwd(~/Projects/ASTRAL/soundings/src/\")\n",
    "using Pkg; Pkg.activate(\"../ASTRAL_soundings\")\n",
    "\n",
    "using Revise\n",
    "#using Regex\n",
    "using CSV, DataFrames\n",
    "using Dates\n",
    "using PyPlot"
   ]
  },
  {
   "cell_type": "code",
   "execution_count": 7,
   "id": "fb829c1e-87f0-4d50-9ad6-5945b7be91c0",
   "metadata": {},
   "outputs": [
    {
     "data": {
      "text/plain": [
       "32-element Vector{String}:\n",
       " \"01MAY2023VSK.txt\"\n",
       " \"02MAY2023VSK.txt\"\n",
       " \"03MAY2023VSK.txt\"\n",
       " \"04MAY2023VSK.txt\"\n",
       " \"05MAY2023VSK.txt\"\n",
       " \"06MAY2023VSK.txt\"\n",
       " \"07MAY2023VSK.txt\"\n",
       " \"08MAY2023VSK.txt\"\n",
       " \"09MAY2023VSK.txt\"\n",
       " \"10MAY2023VSK.txt\"\n",
       " \"43150-20230501-00-Standard-Summary.txt\"\n",
       " \"43150-20230502-00-Standard-Summary.txt\"\n",
       " \"43150-20230503-00-Standard-Summary.txt\"\n",
       " ⋮\n",
       " \"43150-20230511-00-Standard-Summary.txt\"\n",
       " \"43150-20230512-00-Standard-Summary.txt\"\n",
       " \"43150-20230513-00-Standard-Summary.txt\"\n",
       " \"43150-20230514-00-Standard-Summary.txt\"\n",
       " \"43150-20230515-00-Standard-Summary.txt\"\n",
       " \"43150-20230516-00-Standard-Summary.txt\"\n",
       " \"43150-20230517-00-Standard-Summary.txt\"\n",
       " \"43150-20230518-00-Standard-Summary.txt\"\n",
       " \"43150-20230519-00-Standard-Summary.txt\"\n",
       " \"43150-20230520-00-Standard-Summary.txt\"\n",
       " \"43150-20230521-00-Standard-Summary.txt\"\n",
       " \"43150-20230522-00-Standard-Summary.txt\""
      ]
     },
     "execution_count": 7,
     "metadata": {},
     "output_type": "execute_result"
    }
   ],
   "source": [
    "reldatapath = \"../data/EKAMSAT_IMD/ekamsat\"\n",
    "stations = [\"Chennai\",\"Karaikal\",\"Kochi\",\"Kolkata\",\"Mangalore\",\"PortBlair\",\"Visakhapatnam\"]\n",
    "hdr = [4,4,4,4,4,4,7] # 7 header lines for Vsk, 4 for others\n",
    "\n",
    "stationdir = lowercase(stations[7])\n",
    "\n",
    "# read standard named files in the station's directory\n",
    "files = filter(x -> occursin(r\"(?i)(May|Standard).*(\\.txt)$(?-i)\",x),\n",
    "               readdir(joinpath(reldatapath, stationdir)) ) "
   ]
  },
  {
   "cell_type": "code",
   "execution_count": null,
   "id": "7a263c75-2f1a-40f0-b9ae-0aaabf443702",
   "metadata": {},
   "outputs": [],
   "source": [
    "# dates are formatted a variety of different ways\n",
    "datematcher = [\"yyyymmdd-HH\", \"ddUyyyy\", \"dduuuyy\"]\n",
    "ldm = length.(datematcher)\n",
    "datefm = Dates.DateFormat.(datematcher)\n",
    "# doesn't handle undelimited month names\n",
    "\n",
    "\"Parse the various date formats in the file names. Only works for May or 3-letter month.\"\n",
    "function imd_file_date(fn)\n",
    "    if fn[1:6]==\"43150-\" && all(isnumeric, fn[[7:14; 16:17]]) # 43150 Visakhap. WMO station ID\n",
    "        dt = Dates.DateTime(fn[7:17], \"yyyymmdd-HH\")\n",
    "    elseif fn[10:12]==\"VSK\" && all(isnumeric, fn[[1:2; 6:9]])  # Visakhap.\n",
    "        dt = Dates.DateTime(fn[1:9], \"ddUUUyyyy\")\n",
    "    elseif all(isnumeric, fn[[1:8; 10:11]])\n",
    "        dt = Dates.DateTime(fn[1:11], \"yyyymmdd-HH\")\n",
    "    else\n",
    "        if all(isnumeric, fn[[1:2; 6:7]])\n",
    "            if isletter(fn[8])\n",
    "                dt = DateTime( 2000+year(DateTime(fn[6:7], \"yy\")),\n",
    "                    month(DateTime(fn[3:5], \"U\")),\n",
    "                    day(DateTime(fn[1:2], \"d\")) )\n",
    "            elseif all(isnumeric, fn[8:9])\n",
    "                dt = DateTime( year(DateTime(fn[6:7], \"yyyy\")),\n",
    "                    month(DateTime(fn[3:5], \"U\")),\n",
    "                    day(DateTime(fn[1:2], \"d\")) )\n",
    "            end\n",
    "        end\n",
    "    end\n",
    "    return dt\n",
    "end"
   ]
  },
  {
   "cell_type": "code",
   "execution_count": 16,
   "id": "50490789-a2e6-4807-96a4-bc34beb08703",
   "metadata": {},
   "outputs": [
    {
     "ename": "LoadError",
     "evalue": "MethodError: no method matching iterate(::DateTime)\n\u001b[0mClosest candidates are:\n\u001b[0m  iterate(\u001b[91m::Union{LinRange, StepRangeLen}\u001b[39m) at range.jl:872\n\u001b[0m  iterate(\u001b[91m::Union{LinRange, StepRangeLen}\u001b[39m, \u001b[91m::Integer\u001b[39m) at range.jl:872\n\u001b[0m  iterate(\u001b[91m::T\u001b[39m) where T<:Union{Base.KeySet{<:Any, <:Dict}, Base.ValueIterator{<:Dict}} at dict.jl:712\n\u001b[0m  ...",
     "output_type": "error",
     "traceback": [
      "MethodError: no method matching iterate(::DateTime)\n\u001b[0mClosest candidates are:\n\u001b[0m  iterate(\u001b[91m::Union{LinRange, StepRangeLen}\u001b[39m) at range.jl:872\n\u001b[0m  iterate(\u001b[91m::Union{LinRange, StepRangeLen}\u001b[39m, \u001b[91m::Integer\u001b[39m) at range.jl:872\n\u001b[0m  iterate(\u001b[91m::T\u001b[39m) where T<:Union{Base.KeySet{<:Any, <:Dict}, Base.ValueIterator{<:Dict}} at dict.jl:712\n\u001b[0m  ...",
      "",
      "Stacktrace:",
      "  [1] unique(itr::DateTime)",
      "    @ Base ./set.jl:139",
      "  [2] _broadcast_getindex_evalf",
      "    @ ./broadcast.jl:670 [inlined]",
      "  [3] _broadcast_getindex",
      "    @ ./broadcast.jl:643 [inlined]",
      "  [4] _getindex",
      "    @ ./broadcast.jl:667 [inlined]",
      "  [5] _broadcast_getindex",
      "    @ ./broadcast.jl:642 [inlined]",
      "  [6] _getindex",
      "    @ ./broadcast.jl:666 [inlined]",
      "  [7] _broadcast_getindex",
      "    @ ./broadcast.jl:642 [inlined]",
      "  [8] getindex",
      "    @ ./broadcast.jl:597 [inlined]",
      "  [9] copy",
      "    @ ./broadcast.jl:899 [inlined]",
      " [10] materialize(bc::Base.Broadcast.Broadcasted{Base.Broadcast.DefaultArrayStyle{1}, Nothing, typeof(findfirst), Tuple{Base.Broadcast.Broadcasted{Base.Broadcast.DefaultArrayStyle{1}, Nothing, typeof(isequal), Tuple{Base.Broadcast.Broadcasted{Base.Broadcast.DefaultArrayStyle{1}, Nothing, typeof(unique), Tuple{Vector{DateTime}}}}}, Vector{DateTime}}})",
      "    @ Base.Broadcast ./broadcast.jl:860",
      " [11] top-level scope",
      "    @ In[16]:5"
     ]
    }
   ],
   "source": [
    "fdt = imd_file_date.(files)\n",
    "ord = sortperm(fdt)\n",
    "fdt12 = round.(fdt[ord], Dates.Hour(12))\n",
    "\n",
    "findfirst.(isequal.(unique.(fdt12)), fdt12)"
   ]
  },
  {
   "cell_type": "code",
   "execution_count": 127,
   "id": "ec3952ec-e2cd-4465-a687-d5cb06ecdef6",
   "metadata": {},
   "outputs": [],
   "source": [
    "reldatapath = \"../data/EKAMSAT_IMD/ekamsat\"\n",
    "for station in [\"Chennai\",\"Karaikal\",\"Kochi\",\"Kolkata\",\"Mangalore\",\"PortBlair\",\"Visakhapatnam\"]\n",
    "    # read standard named files in the station's directory\n",
    "    files = filter(x -> occursin(r\"(?i)(May|Standard).*(\\.txt)$(?-i)\",x),\n",
    "                   readdir(joinpath(reldatapath, lowercase(station))) )\n",
    "    dts = imd_file_date.(files)\n",
    "end"
   ]
  },
  {
   "cell_type": "code",
   "execution_count": 146,
   "id": "f22b89ef-b165-460f-b1ac-7b0fd40ed0ea",
   "metadata": {},
   "outputs": [
    {
     "name": "stderr",
     "output_type": "stream",
     "text": [
      "\u001b[33m\u001b[1m┌ \u001b[22m\u001b[39m\u001b[33m\u001b[1mWarning: \u001b[22m\u001b[39mthread = 1 warning: parsed expected 11 columns, but didn't reach end of line around data row: 1. Parsing extra columns and widening final columnset\n",
      "\u001b[33m\u001b[1m└ \u001b[22m\u001b[39m\u001b[90m@ CSV ~/.julia/packages/CSV/7lFhM/src/file.jl:577\u001b[39m\n"
     ]
    },
    {
     "data": {
      "text/html": [
       "<div><div style = \"float: left;\"><span>5155×12 DataFrame</span></div><div style = \"float: right;\"><span style = \"font-style: italic;\">5130 rows omitted</span></div><div style = \"clear: both;\"></div></div><div class = \"data-frame\" style = \"overflow-x: scroll;\"><table class = \"data-frame\" style = \"margin-bottom: 6px;\"><thead><tr class = \"header\"><th class = \"rowNumber\" style = \"font-weight: bold; text-align: right;\">Row</th><th style = \"text-align: left;\">Time</th><th style = \"text-align: left;\"> P(hPa)</th><th style = \"text-align: left;\"> T(C)</th><th style = \"text-align: left;\"> U(%)</th><th style = \"text-align: left;\"> Dew(C)</th><th style = \"text-align: left;\"> Geo(gpm)</th><th style = \"text-align: left;\"> Geo(gpft)</th><th style = \"text-align: left;\"> Wdir(d)</th><th style = \"text-align: left;\"> Wspd(m/s)</th><th style = \"text-align: left;\"> Asc(m/m)</th><th style = \"text-align: left;\"> AvgAsc(m/m)</th><th style = \"text-align: left;\">Column12</th></tr><tr class = \"subheader headerLastRow\"><th class = \"rowNumber\" style = \"font-weight: bold; text-align: right;\"></th><th title = \"String15\" style = \"text-align: left;\">String15</th><th title = \"Float64\" style = \"text-align: left;\">Float64</th><th title = \"Float64\" style = \"text-align: left;\">Float64</th><th title = \"Float64\" style = \"text-align: left;\">Float64</th><th title = \"Float64\" style = \"text-align: left;\">Float64</th><th title = \"Float64\" style = \"text-align: left;\">Float64</th><th title = \"Float64\" style = \"text-align: left;\">Float64</th><th title = \"Float64\" style = \"text-align: left;\">Float64</th><th title = \"Float64\" style = \"text-align: left;\">Float64</th><th title = \"Float64\" style = \"text-align: left;\">Float64</th><th title = \"Float64\" style = \"text-align: left;\">Float64</th><th title = \"Missing\" style = \"text-align: left;\">Missing</th></tr></thead><tbody><tr><td class = \"rowNumber\" style = \"font-weight: bold; text-align: right;\">1</td><td style = \"text-align: left;\">000:00.00</td><td style = \"text-align: right;\">999.1</td><td style = \"text-align: right;\">29.0</td><td style = \"text-align: right;\">89.0</td><td style = \"text-align: right;\">27.0</td><td style = \"text-align: right;\">60.0</td><td style = \"text-align: right;\">196.9</td><td style = \"text-align: right;\">240.0</td><td style = \"text-align: right;\">1.0</td><td style = \"text-align: right;\">0.0</td><td style = \"text-align: right;\">0.0</td><td style = \"font-style: italic; text-align: right;\">missing</td></tr><tr><td class = \"rowNumber\" style = \"font-weight: bold; text-align: right;\">2</td><td style = \"text-align: left;\">000:01.00</td><td style = \"text-align: right;\">998.9</td><td style = \"text-align: right;\">28.6</td><td style = \"text-align: right;\">87.4</td><td style = \"text-align: right;\">26.3</td><td style = \"text-align: right;\">60.9</td><td style = \"text-align: right;\">199.9</td><td style = \"text-align: right;\">240.4</td><td style = \"text-align: right;\">1.0</td><td style = \"text-align: right;\">64.0</td><td style = \"text-align: right;\">55.6</td><td style = \"font-style: italic; text-align: right;\">missing</td></tr><tr><td class = \"rowNumber\" style = \"font-weight: bold; text-align: right;\">3</td><td style = \"text-align: left;\">000:02.00</td><td style = \"text-align: right;\">998.5</td><td style = \"text-align: right;\">28.5</td><td style = \"text-align: right;\">87.3</td><td style = \"text-align: right;\">26.2</td><td style = \"text-align: right;\">64.1</td><td style = \"text-align: right;\">210.3</td><td style = \"text-align: right;\">240.9</td><td style = \"text-align: right;\">1.1</td><td style = \"text-align: right;\">189.4</td><td style = \"text-align: right;\">121.9</td><td style = \"font-style: italic; text-align: right;\">missing</td></tr><tr><td class = \"rowNumber\" style = \"font-weight: bold; text-align: right;\">4</td><td style = \"text-align: left;\">000:03.00</td><td style = \"text-align: right;\">998.1</td><td style = \"text-align: right;\">28.5</td><td style = \"text-align: right;\">87.3</td><td style = \"text-align: right;\">26.2</td><td style = \"text-align: right;\">68.3</td><td style = \"text-align: right;\">224.1</td><td style = \"text-align: right;\">241.3</td><td style = \"text-align: right;\">1.1</td><td style = \"text-align: right;\">197.2</td><td style = \"text-align: right;\">165.9</td><td style = \"font-style: italic; text-align: right;\">missing</td></tr><tr><td class = \"rowNumber\" style = \"font-weight: bold; text-align: right;\">5</td><td style = \"text-align: left;\">000:04.00</td><td style = \"text-align: right;\">997.5</td><td style = \"text-align: right;\">28.4</td><td style = \"text-align: right;\">87.3</td><td style = \"text-align: right;\">26.1</td><td style = \"text-align: right;\">73.3</td><td style = \"text-align: right;\">240.5</td><td style = \"text-align: right;\">241.6</td><td style = \"text-align: right;\">1.1</td><td style = \"text-align: right;\">226.3</td><td style = \"text-align: right;\">199.2</td><td style = \"font-style: italic; text-align: right;\">missing</td></tr><tr><td class = \"rowNumber\" style = \"font-weight: bold; text-align: right;\">6</td><td style = \"text-align: left;\">000:05.00</td><td style = \"text-align: right;\">997.0</td><td style = \"text-align: right;\">28.4</td><td style = \"text-align: right;\">87.3</td><td style = \"text-align: right;\">26.1</td><td style = \"text-align: right;\">78.2</td><td style = \"text-align: right;\">256.6</td><td style = \"text-align: right;\">242.0</td><td style = \"text-align: right;\">1.2</td><td style = \"text-align: right;\">242.4</td><td style = \"text-align: right;\">218.1</td><td style = \"font-style: italic; text-align: right;\">missing</td></tr><tr><td class = \"rowNumber\" style = \"font-weight: bold; text-align: right;\">7</td><td style = \"text-align: left;\">000:06.00</td><td style = \"text-align: right;\">996.4</td><td style = \"text-align: right;\">28.4</td><td style = \"text-align: right;\">87.4</td><td style = \"text-align: right;\">26.0</td><td style = \"text-align: right;\">82.8</td><td style = \"text-align: right;\">271.7</td><td style = \"text-align: right;\">242.3</td><td style = \"text-align: right;\">1.2</td><td style = \"text-align: right;\">242.9</td><td style = \"text-align: right;\">227.8</td><td style = \"font-style: italic; text-align: right;\">missing</td></tr><tr><td class = \"rowNumber\" style = \"font-weight: bold; text-align: right;\">8</td><td style = \"text-align: left;\">000:07.00</td><td style = \"text-align: right;\">996.0</td><td style = \"text-align: right;\">28.3</td><td style = \"text-align: right;\">87.4</td><td style = \"text-align: right;\">26.0</td><td style = \"text-align: right;\">87.2</td><td style = \"text-align: right;\">286.0</td><td style = \"text-align: right;\">242.7</td><td style = \"text-align: right;\">1.2</td><td style = \"text-align: right;\">244.9</td><td style = \"text-align: right;\">232.6</td><td style = \"font-style: italic; text-align: right;\">missing</td></tr><tr><td class = \"rowNumber\" style = \"font-weight: bold; text-align: right;\">9</td><td style = \"text-align: left;\">000:08.00</td><td style = \"text-align: right;\">995.5</td><td style = \"text-align: right;\">28.3</td><td style = \"text-align: right;\">87.4</td><td style = \"text-align: right;\">26.0</td><td style = \"text-align: right;\">91.3</td><td style = \"text-align: right;\">299.7</td><td style = \"text-align: right;\">243.0</td><td style = \"text-align: right;\">1.2</td><td style = \"text-align: right;\">246.0</td><td style = \"text-align: right;\">234.8</td><td style = \"font-style: italic; text-align: right;\">missing</td></tr><tr><td class = \"rowNumber\" style = \"font-weight: bold; text-align: right;\">10</td><td style = \"text-align: left;\">000:09.00</td><td style = \"text-align: right;\">995.0</td><td style = \"text-align: right;\">28.3</td><td style = \"text-align: right;\">87.4</td><td style = \"text-align: right;\">26.0</td><td style = \"text-align: right;\">95.4</td><td style = \"text-align: right;\">313.1</td><td style = \"text-align: right;\">243.2</td><td style = \"text-align: right;\">1.3</td><td style = \"text-align: right;\">247.9</td><td style = \"text-align: right;\">235.9</td><td style = \"font-style: italic; text-align: right;\">missing</td></tr><tr><td class = \"rowNumber\" style = \"font-weight: bold; text-align: right;\">11</td><td style = \"text-align: left;\">000:10.00</td><td style = \"text-align: right;\">994.6</td><td style = \"text-align: right;\">28.3</td><td style = \"text-align: right;\">87.4</td><td style = \"text-align: right;\">26.0</td><td style = \"text-align: right;\">99.5</td><td style = \"text-align: right;\">326.4</td><td style = \"text-align: right;\">243.5</td><td style = \"text-align: right;\">1.3</td><td style = \"text-align: right;\">252.0</td><td style = \"text-align: right;\">236.7</td><td style = \"font-style: italic; text-align: right;\">missing</td></tr><tr><td class = \"rowNumber\" style = \"font-weight: bold; text-align: right;\">12</td><td style = \"text-align: left;\">000:11.00</td><td style = \"text-align: right;\">994.1</td><td style = \"text-align: right;\">28.3</td><td style = \"text-align: right;\">87.5</td><td style = \"text-align: right;\">26.0</td><td style = \"text-align: right;\">103.7</td><td style = \"text-align: right;\">340.1</td><td style = \"text-align: right;\">243.9</td><td style = \"text-align: right;\">1.3</td><td style = \"text-align: right;\">256.8</td><td style = \"text-align: right;\">238.0</td><td style = \"font-style: italic; text-align: right;\">missing</td></tr><tr><td class = \"rowNumber\" style = \"font-weight: bold; text-align: right;\">13</td><td style = \"text-align: left;\">000:12.00</td><td style = \"text-align: right;\">993.6</td><td style = \"text-align: right;\">28.2</td><td style = \"text-align: right;\">87.5</td><td style = \"text-align: right;\">25.9</td><td style = \"text-align: right;\">108.0</td><td style = \"text-align: right;\">354.3</td><td style = \"text-align: right;\">244.4</td><td style = \"text-align: right;\">1.4</td><td style = \"text-align: right;\">261.0</td><td style = \"text-align: right;\">239.8</td><td style = \"font-style: italic; text-align: right;\">missing</td></tr><tr><td style = \"text-align: right;\">&vellip;</td><td style = \"text-align: right;\">&vellip;</td><td style = \"text-align: right;\">&vellip;</td><td style = \"text-align: right;\">&vellip;</td><td style = \"text-align: right;\">&vellip;</td><td style = \"text-align: right;\">&vellip;</td><td style = \"text-align: right;\">&vellip;</td><td style = \"text-align: right;\">&vellip;</td><td style = \"text-align: right;\">&vellip;</td><td style = \"text-align: right;\">&vellip;</td><td style = \"text-align: right;\">&vellip;</td><td style = \"text-align: right;\">&vellip;</td><td style = \"text-align: right;\">&vellip;</td></tr><tr><td class = \"rowNumber\" style = \"font-weight: bold; text-align: right;\">5144</td><td style = \"text-align: left;\">085:43.00</td><td style = \"text-align: right;\">35.3</td><td style = \"text-align: right;\">-60.6</td><td style = \"text-align: right;\">25.7</td><td style = \"text-align: right;\">-70.6</td><td style = \"text-align: right;\">22795.4</td><td style = \"text-align: right;\">74788.0</td><td style = \"text-align: right;\">57.0</td><td style = \"text-align: right;\">7.8</td><td style = \"text-align: right;\">291.6</td><td style = \"text-align: right;\">265.2</td><td style = \"font-style: italic; text-align: right;\">missing</td></tr><tr><td class = \"rowNumber\" style = \"font-weight: bold; text-align: right;\">5145</td><td style = \"text-align: left;\">085:44.00</td><td style = \"text-align: right;\">35.3</td><td style = \"text-align: right;\">-60.5</td><td style = \"text-align: right;\">25.6</td><td style = \"text-align: right;\">-70.6</td><td style = \"text-align: right;\">22800.2</td><td style = \"text-align: right;\">74803.6</td><td style = \"text-align: right;\">57.7</td><td style = \"text-align: right;\">7.8</td><td style = \"text-align: right;\">293.0</td><td style = \"text-align: right;\">265.2</td><td style = \"font-style: italic; text-align: right;\">missing</td></tr><tr><td class = \"rowNumber\" style = \"font-weight: bold; text-align: right;\">5146</td><td style = \"text-align: left;\">085:45.00</td><td style = \"text-align: right;\">35.3</td><td style = \"text-align: right;\">-60.5</td><td style = \"text-align: right;\">25.5</td><td style = \"text-align: right;\">-70.5</td><td style = \"text-align: right;\">22804.9</td><td style = \"text-align: right;\">74819.3</td><td style = \"text-align: right;\">58.3</td><td style = \"text-align: right;\">7.8</td><td style = \"text-align: right;\">296.0</td><td style = \"text-align: right;\">265.2</td><td style = \"font-style: italic; text-align: right;\">missing</td></tr><tr><td class = \"rowNumber\" style = \"font-weight: bold; text-align: right;\">5147</td><td style = \"text-align: left;\">085:46.00</td><td style = \"text-align: right;\">35.2</td><td style = \"text-align: right;\">-60.4</td><td style = \"text-align: right;\">25.5</td><td style = \"text-align: right;\">-70.5</td><td style = \"text-align: right;\">22809.7</td><td style = \"text-align: right;\">74835.0</td><td style = \"text-align: right;\">58.9</td><td style = \"text-align: right;\">7.8</td><td style = \"text-align: right;\">300.3</td><td style = \"text-align: right;\">265.3</td><td style = \"font-style: italic; text-align: right;\">missing</td></tr><tr><td class = \"rowNumber\" style = \"font-weight: bold; text-align: right;\">5148</td><td style = \"text-align: left;\">085:47.00</td><td style = \"text-align: right;\">35.2</td><td style = \"text-align: right;\">-60.4</td><td style = \"text-align: right;\">25.4</td><td style = \"text-align: right;\">-70.5</td><td style = \"text-align: right;\">22814.7</td><td style = \"text-align: right;\">74851.5</td><td style = \"text-align: right;\">59.4</td><td style = \"text-align: right;\">7.8</td><td style = \"text-align: right;\">303.7</td><td style = \"text-align: right;\">265.3</td><td style = \"font-style: italic; text-align: right;\">missing</td></tr><tr><td class = \"rowNumber\" style = \"font-weight: bold; text-align: right;\">5149</td><td style = \"text-align: left;\">085:48.00</td><td style = \"text-align: right;\">35.2</td><td style = \"text-align: right;\">-60.4</td><td style = \"text-align: right;\">25.4</td><td style = \"text-align: right;\">-70.5</td><td style = \"text-align: right;\">22819.9</td><td style = \"text-align: right;\">74868.4</td><td style = \"text-align: right;\">59.8</td><td style = \"text-align: right;\">7.7</td><td style = \"text-align: right;\">301.1</td><td style = \"text-align: right;\">265.3</td><td style = \"font-style: italic; text-align: right;\">missing</td></tr><tr><td class = \"rowNumber\" style = \"font-weight: bold; text-align: right;\">5150</td><td style = \"text-align: left;\">085:49.00</td><td style = \"text-align: right;\">35.1</td><td style = \"text-align: right;\">-60.3</td><td style = \"text-align: right;\">25.3</td><td style = \"text-align: right;\">-70.5</td><td style = \"text-align: right;\">22825.1</td><td style = \"text-align: right;\">74885.5</td><td style = \"text-align: right;\">60.2</td><td style = \"text-align: right;\">7.7</td><td style = \"text-align: right;\">290.0</td><td style = \"text-align: right;\">265.3</td><td style = \"font-style: italic; text-align: right;\">missing</td></tr><tr><td class = \"rowNumber\" style = \"font-weight: bold; text-align: right;\">5151</td><td style = \"text-align: left;\">085:50.00</td><td style = \"text-align: right;\">35.1</td><td style = \"text-align: right;\">-60.3</td><td style = \"text-align: right;\">25.3</td><td style = \"text-align: right;\">-70.4</td><td style = \"text-align: right;\">22830.1</td><td style = \"text-align: right;\">74902.0</td><td style = \"text-align: right;\">60.5</td><td style = \"text-align: right;\">7.7</td><td style = \"text-align: right;\">267.2</td><td style = \"text-align: right;\">265.3</td><td style = \"font-style: italic; text-align: right;\">missing</td></tr><tr><td class = \"rowNumber\" style = \"font-weight: bold; text-align: right;\">5152</td><td style = \"text-align: left;\">085:51.00</td><td style = \"text-align: right;\">35.1</td><td style = \"text-align: right;\">-60.3</td><td style = \"text-align: right;\">25.4</td><td style = \"text-align: right;\">-70.4</td><td style = \"text-align: right;\">22834.7</td><td style = \"text-align: right;\">74916.9</td><td style = \"text-align: right;\">60.8</td><td style = \"text-align: right;\">7.7</td><td style = \"text-align: right;\">230.3</td><td style = \"text-align: right;\">265.3</td><td style = \"font-style: italic; text-align: right;\">missing</td></tr><tr><td class = \"rowNumber\" style = \"font-weight: bold; text-align: right;\">5153</td><td style = \"text-align: left;\">085:52.00</td><td style = \"text-align: right;\">35.1</td><td style = \"text-align: right;\">-60.3</td><td style = \"text-align: right;\">25.4</td><td style = \"text-align: right;\">-70.4</td><td style = \"text-align: right;\">22838.5</td><td style = \"text-align: right;\">74929.3</td><td style = \"text-align: right;\">60.9</td><td style = \"text-align: right;\">7.6</td><td style = \"text-align: right;\">177.8</td><td style = \"text-align: right;\">265.3</td><td style = \"font-style: italic; text-align: right;\">missing</td></tr><tr><td class = \"rowNumber\" style = \"font-weight: bold; text-align: right;\">5154</td><td style = \"text-align: left;\">085:53.00</td><td style = \"text-align: right;\">35.0</td><td style = \"text-align: right;\">-60.3</td><td style = \"text-align: right;\">25.4</td><td style = \"text-align: right;\">-70.4</td><td style = \"text-align: right;\">22841.2</td><td style = \"text-align: right;\">74938.4</td><td style = \"text-align: right;\">61.0</td><td style = \"text-align: right;\">7.6</td><td style = \"text-align: right;\">108.2</td><td style = \"text-align: right;\">265.3</td><td style = \"font-style: italic; text-align: right;\">missing</td></tr><tr><td class = \"rowNumber\" style = \"font-weight: bold; text-align: right;\">5155</td><td style = \"text-align: left;\">085:54.00</td><td style = \"text-align: right;\">35.0</td><td style = \"text-align: right;\">-60.3</td><td style = \"text-align: right;\">25.4</td><td style = \"text-align: right;\">-70.4</td><td style = \"text-align: right;\">22842.6</td><td style = \"text-align: right;\">74942.8</td><td style = \"text-align: right;\">61.1</td><td style = \"text-align: right;\">7.6</td><td style = \"text-align: right;\">16.3</td><td style = \"text-align: right;\">265.2</td><td style = \"font-style: italic; text-align: right;\">missing</td></tr></tbody></table></div>"
      ],
      "text/latex": [
       "\\begin{tabular}{r|ccccccccc}\n",
       "\t& Time &  P(hPa) &  T(C) &  U(\\%) &  Dew(C) &  Geo(gpm) &  Geo(gpft) &  Wdir(d) & \\\\\n",
       "\t\\hline\n",
       "\t& String15 & Float64 & Float64 & Float64 & Float64 & Float64 & Float64 & Float64 & \\\\\n",
       "\t\\hline\n",
       "\t1 & 000:00.00 & 999.1 & 29.0 & 89.0 & 27.0 & 60.0 & 196.9 & 240.0 & $\\dots$ \\\\\n",
       "\t2 & 000:01.00 & 998.9 & 28.6 & 87.4 & 26.3 & 60.9 & 199.9 & 240.4 & $\\dots$ \\\\\n",
       "\t3 & 000:02.00 & 998.5 & 28.5 & 87.3 & 26.2 & 64.1 & 210.3 & 240.9 & $\\dots$ \\\\\n",
       "\t4 & 000:03.00 & 998.1 & 28.5 & 87.3 & 26.2 & 68.3 & 224.1 & 241.3 & $\\dots$ \\\\\n",
       "\t5 & 000:04.00 & 997.5 & 28.4 & 87.3 & 26.1 & 73.3 & 240.5 & 241.6 & $\\dots$ \\\\\n",
       "\t6 & 000:05.00 & 997.0 & 28.4 & 87.3 & 26.1 & 78.2 & 256.6 & 242.0 & $\\dots$ \\\\\n",
       "\t7 & 000:06.00 & 996.4 & 28.4 & 87.4 & 26.0 & 82.8 & 271.7 & 242.3 & $\\dots$ \\\\\n",
       "\t8 & 000:07.00 & 996.0 & 28.3 & 87.4 & 26.0 & 87.2 & 286.0 & 242.7 & $\\dots$ \\\\\n",
       "\t9 & 000:08.00 & 995.5 & 28.3 & 87.4 & 26.0 & 91.3 & 299.7 & 243.0 & $\\dots$ \\\\\n",
       "\t10 & 000:09.00 & 995.0 & 28.3 & 87.4 & 26.0 & 95.4 & 313.1 & 243.2 & $\\dots$ \\\\\n",
       "\t11 & 000:10.00 & 994.6 & 28.3 & 87.4 & 26.0 & 99.5 & 326.4 & 243.5 & $\\dots$ \\\\\n",
       "\t12 & 000:11.00 & 994.1 & 28.3 & 87.5 & 26.0 & 103.7 & 340.1 & 243.9 & $\\dots$ \\\\\n",
       "\t13 & 000:12.00 & 993.6 & 28.2 & 87.5 & 25.9 & 108.0 & 354.3 & 244.4 & $\\dots$ \\\\\n",
       "\t14 & 000:13.00 & 993.1 & 28.2 & 87.5 & 25.9 & 112.5 & 369.0 & 244.8 & $\\dots$ \\\\\n",
       "\t15 & 000:14.00 & 992.6 & 28.1 & 87.6 & 25.9 & 117.0 & 383.8 & 244.9 & $\\dots$ \\\\\n",
       "\t16 & 000:15.00 & 992.1 & 28.1 & 87.7 & 25.9 & 121.5 & 398.5 & 244.5 & $\\dots$ \\\\\n",
       "\t17 & 000:16.00 & 991.6 & 28.1 & 87.7 & 25.9 & 125.9 & 413.1 & 243.4 & $\\dots$ \\\\\n",
       "\t18 & 000:17.00 & 991.2 & 28.1 & 87.7 & 25.8 & 130.3 & 427.6 & 241.7 & $\\dots$ \\\\\n",
       "\t19 & 000:18.00 & 990.7 & 28.0 & 87.7 & 25.8 & 134.7 & 442.1 & 239.4 & $\\dots$ \\\\\n",
       "\t20 & 000:19.00 & 990.2 & 28.0 & 87.7 & 25.8 & 139.1 & 456.5 & 236.9 & $\\dots$ \\\\\n",
       "\t21 & 000:20.00 & 989.7 & 28.0 & 87.5 & 25.8 & 143.5 & 470.9 & 234.1 & $\\dots$ \\\\\n",
       "\t22 & 000:21.00 & 989.2 & 28.0 & 87.4 & 25.7 & 148.0 & 485.4 & 231.3 & $\\dots$ \\\\\n",
       "\t23 & 000:22.00 & 988.7 & 28.0 & 87.2 & 25.7 & 152.4 & 500.1 & 228.2 & $\\dots$ \\\\\n",
       "\t24 & 000:23.00 & 988.2 & 28.0 & 87.0 & 25.7 & 156.9 & 514.9 & 225.0 & $\\dots$ \\\\\n",
       "\t25 & 000:24.00 & 987.7 & 28.0 & 86.8 & 25.6 & 161.5 & 529.9 & 221.7 & $\\dots$ \\\\\n",
       "\t26 & 000:25.00 & 987.2 & 28.0 & 86.7 & 25.6 & 166.2 & 545.1 & 218.3 & $\\dots$ \\\\\n",
       "\t27 & 000:26.00 & 986.7 & 28.0 & 86.7 & 25.5 & 170.9 & 560.6 & 215.1 & $\\dots$ \\\\\n",
       "\t28 & 000:27.00 & 986.2 & 27.9 & 86.6 & 25.5 & 175.5 & 575.9 & 212.2 & $\\dots$ \\\\\n",
       "\t29 & 000:28.00 & 985.6 & 27.9 & 86.6 & 25.5 & 180.1 & 590.9 & 209.8 & $\\dots$ \\\\\n",
       "\t30 & 000:29.00 & 985.2 & 27.9 & 86.7 & 25.4 & 184.6 & 605.5 & 207.9 & $\\dots$ \\\\\n",
       "\t$\\dots$ & $\\dots$ & $\\dots$ & $\\dots$ & $\\dots$ & $\\dots$ & $\\dots$ & $\\dots$ & $\\dots$ &  \\\\\n",
       "\\end{tabular}\n"
      ],
      "text/plain": [
       "\u001b[1m5155×12 DataFrame\u001b[0m\n",
       "\u001b[1m  Row \u001b[0m│\u001b[1m Time      \u001b[0m\u001b[1m  P(hPa) \u001b[0m\u001b[1m  T(C)   \u001b[0m\u001b[1m  U(%)   \u001b[0m\u001b[1m  Dew(C) \u001b[0m\u001b[1m  Geo(gpm) \u001b[0m\u001b[1m  Geo(gpft) \u001b[0m\u001b[1m \u001b[0m ⋯\n",
       "      │\u001b[90m String15  \u001b[0m\u001b[90m Float64 \u001b[0m\u001b[90m Float64 \u001b[0m\u001b[90m Float64 \u001b[0m\u001b[90m Float64 \u001b[0m\u001b[90m Float64   \u001b[0m\u001b[90m Float64    \u001b[0m\u001b[90m \u001b[0m ⋯\n",
       "──────┼─────────────────────────────────────────────────────────────────────────\n",
       "    1 │ 000:00.00    999.1     29.0     89.0     27.0       60.0       196.9   ⋯\n",
       "    2 │ 000:01.00    998.9     28.6     87.4     26.3       60.9       199.9\n",
       "    3 │ 000:02.00    998.5     28.5     87.3     26.2       64.1       210.3\n",
       "    4 │ 000:03.00    998.1     28.5     87.3     26.2       68.3       224.1\n",
       "    5 │ 000:04.00    997.5     28.4     87.3     26.1       73.3       240.5   ⋯\n",
       "    6 │ 000:05.00    997.0     28.4     87.3     26.1       78.2       256.6\n",
       "    7 │ 000:06.00    996.4     28.4     87.4     26.0       82.8       271.7\n",
       "    8 │ 000:07.00    996.0     28.3     87.4     26.0       87.2       286.0\n",
       "    9 │ 000:08.00    995.5     28.3     87.4     26.0       91.3       299.7   ⋯\n",
       "   10 │ 000:09.00    995.0     28.3     87.4     26.0       95.4       313.1\n",
       "   11 │ 000:10.00    994.6     28.3     87.4     26.0       99.5       326.4\n",
       "  ⋮   │     ⋮         ⋮        ⋮        ⋮        ⋮         ⋮          ⋮        ⋱\n",
       " 5146 │ 085:45.00     35.3    -60.5     25.5    -70.5    22804.9     74819.3\n",
       " 5147 │ 085:46.00     35.2    -60.4     25.5    -70.5    22809.7     74835.0   ⋯\n",
       " 5148 │ 085:47.00     35.2    -60.4     25.4    -70.5    22814.7     74851.5\n",
       " 5149 │ 085:48.00     35.2    -60.4     25.4    -70.5    22819.9     74868.4\n",
       " 5150 │ 085:49.00     35.1    -60.3     25.3    -70.5    22825.1     74885.5\n",
       " 5151 │ 085:50.00     35.1    -60.3     25.3    -70.4    22830.1     74902.0   ⋯\n",
       " 5152 │ 085:51.00     35.1    -60.3     25.4    -70.4    22834.7     74916.9\n",
       " 5153 │ 085:52.00     35.1    -60.3     25.4    -70.4    22838.5     74929.3\n",
       " 5154 │ 085:53.00     35.0    -60.3     25.4    -70.4    22841.2     74938.4\n",
       " 5155 │ 085:54.00     35.0    -60.3     25.4    -70.4    22842.6     74942.8   ⋯\n",
       "\u001b[36m                                                 5 columns and 5134 rows omitted\u001b[0m"
      ]
     },
     "execution_count": 146,
     "metadata": {},
     "output_type": "execute_result"
    }
   ],
   "source": [
    "station = lowercase(\"visakhapatnam\")\n",
    "\n",
    "files = filter(x -> occursin(r\"(?i)(May|Standard).*(\\.txt)$(?-i)\",x),\n",
    "               readdir(joinpath(reldatapath, station) ))\n",
    "dt = imd_file_date(files[8])\n",
    "\n",
    "striptabs(f) = IOBuffer(replace(read(f), UInt8('\\t') => UInt8(' ')))\n",
    "df = CSV.read(striptabs(joinpath(reldatapath, station, files[8])), DataFrame, header=7)"
   ]
  },
  {
   "cell_type": "code",
   "execution_count": 158,
   "id": "b206581b-05e2-4e65-92da-e669c4f5b7dc",
   "metadata": {},
   "outputs": [
    {
     "data": {
      "text/plain": [
       "5155-element Vector{Float64}:\n",
       " -229.63526017382577\n",
       " -226.0452657333047\n",
       " -207.99198814117128\n",
       " -173.2838756502575\n",
       " -118.96953212099766\n",
       "  -56.08299264558598\n",
       "    7.188130941822289\n",
       "   66.89718625678569\n",
       "  120.39645642907499\n",
       "  166.17218175917043\n",
       "  202.81632211290918\n",
       "  229.33627417784123\n",
       "  243.19158129852372\n",
       "    ⋮\n",
       "   -1.9892713120425551\n",
       "   13.567699926025142\n",
       "   28.530996936960317\n",
       "   41.64858941188765\n",
       "   52.201736492120745\n",
       "   58.57859992603955\n",
       "   59.92285114170417\n",
       "   56.09462320129064\n",
       "   48.62082723601881\n",
       "   39.71279279326854\n",
       "   31.963140264180108\n",
       "   27.928683343283453"
      ]
     },
     "execution_count": 158,
     "metadata": {},
     "output_type": "execute_result"
    }
   ],
   "source": [
    "p = df[!,3][:]\n",
    "T = df[!,2][:]\n",
    "rh = df[!,4][:]\n",
    "Td = df[!,5][:]\n",
    "z = df[!,6][:]\n",
    "wspd = df[!,8]\n",
    "wdir = df[!,7]\n",
    "u = wspd .* sind.(wdir)\n",
    "v = wspd .* cosd.(wdir)"
   ]
  },
  {
   "cell_type": "code",
   "execution_count": 156,
   "id": "31f2a267-6a73-4f46-9737-64df9c7144e2",
   "metadata": {},
   "outputs": [
    {
     "data": {
      "image/png": "[encoded data removed]",
      "text/plain": [
       "Figure(PyObject <Figure size 640x480 with 1 Axes>)"
      ]
     },
     "metadata": {},
     "output_type": "display_data"
    },
    {
     "data": {
      "text/plain": [
       "(1000.0, 20.0)"
      ]
     },
     "execution_count": 156,
     "metadata": {},
     "output_type": "execute_result"
    }
   ],
   "source": [
    "plot( p, T, label=\"Temperature (C)\")\n",
    "ylim(1000, 20)"
   ]
  },
  {
   "cell_type": "code",
   "execution_count": null,
   "id": "e0de0bdf-0d66-4744-b6bf-263d6506b019",
   "metadata": {},
   "outputs": [],
   "source": []
  }
 ],
 "metadata": {
  "kernelspec": {
   "display_name": "astral_soundings 1.8.5",
   "language": "julia",
   "name": "astral_soundings-1.8"
  },
  "language_info": {
   "file_extension": ".jl",
   "mimetype": "application/julia",
   "name": "julia",
   "version": "1.8.5"
  }
 },
 "nbformat": 4,
 "nbformat_minor": 5
}
