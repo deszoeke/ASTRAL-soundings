{
 "cells": [
  {
   "cell_type": "code",
   "execution_count": 1,
   "id": "1585f970-1b56-4fe8-80e5-69c316d603da",
   "metadata": {},
   "outputs": [
    {
     "name": "stderr",
     "output_type": "stream",
     "text": [
      "\u001b[32m\u001b[1m  Activating\u001b[22m\u001b[39m project at `~/Projects/ASTRAL/soundings`\n"
     ]
    }
   ],
   "source": [
    "#cd(\"~/Projects/ASTRAL/soundings/src/\")\n",
    "\n",
    "# activate the environment\n",
    "# an environment is just a path with Manifest.toml and Project.toml\n",
    "using Pkg; Pkg.activate(\"..\")\n",
    "\n",
    "using Revise\n",
    "#using Regex\n",
    "using CSV, DataFrames\n",
    "using Interpolations\n",
    "using Dates\n",
    "using PyPlot"
   ]
  },
  {
   "cell_type": "code",
   "execution_count": 2,
   "id": "fb829c1e-87f0-4d50-9ad6-5945b7be91c0",
   "metadata": {
    "tags": []
   },
   "outputs": [
    {
     "data": {
      "text/plain": [
       "imd_file_date"
      ]
     },
     "execution_count": 2,
     "metadata": {},
     "output_type": "execute_result"
    }
   ],
   "source": [
    "reldatapath = \"../data/EKAMSAT_IMD/ekamsat\"\n",
    "CamelStations = [\"Ahmedabad\",\"Chennai\",\"Karaikal\",\"Kochi\",\"Kolkata\",\"Mangalore\",\"PortBlair\",\"Pune\",\"Visakhapatnam\"]\n",
    "hdr = [4,4,4,4,4,4,7] # 7 header lines for Vsk, 4 for others\n",
    "\n",
    "# dates are formatted a variety of different ways\n",
    "\n",
    "#datematcher = [\"yyyymmdd-HH\", \"ddUyyyy\", \"dduuuyy\"]\n",
    "#ldm = length.(datematcher)\n",
    "#datefm = Dates.DateFormat.(datematcher)\n",
    "# doesn't handle undelimited month names\n",
    "\n",
    "\"Parse the various date formats in the file names. Only works for 3-letter month (or May).\"\n",
    "function imd_file_date(fn)\n",
    "    if fn[1:6]==\"43150-\" && all(isnumeric, fn[[7:14; 16:17]]) # 43150 Visakhap. WMO station ID\n",
    "        dt = Dates.DateTime(fn[7:17], \"yyyymmdd-HH\")\n",
    "    elseif fn[10:12]==\"VSK\" && all(isnumeric, fn[[1:2; 6:9]])  # Visakhap.\n",
    "        dt = Dates.DateTime(fn[1:9], \"ddUUUyyyy\")\n",
    "    elseif all(isnumeric, fn[[1:8; 10:11]])\n",
    "        dt = Dates.DateTime(fn[1:11], \"yyyymmdd-HH\")\n",
    "    else\n",
    "        # expect undelimited 3-letter month\n",
    "        if all(isnumeric, fn[[1:2; 6:7]])\n",
    "            if isletter(fn[8])\n",
    "                dt = DateTime( 2000+year(DateTime(fn[6:7], \"yy\")),\n",
    "                    month(DateTime(fn[3:5], \"U\")),\n",
    "                    day(DateTime(fn[1:2], \"d\")) )\n",
    "            elseif all(isnumeric, fn[8:9])\n",
    "                dt = DateTime( year(DateTime(fn[6:9], \"yyyy\")),\n",
    "                    month(DateTime(fn[3:5], \"U\")),\n",
    "                    day(DateTime(fn[1:2], \"d\")) )\n",
    "            end\n",
    "        end\n",
    "    end\n",
    "    return dt\n",
    "end\n"
   ]
  },
  {
   "cell_type": "code",
   "execution_count": 3,
   "id": "50490789-a2e6-4807-96a4-bc34beb08703",
   "metadata": {},
   "outputs": [
    {
     "data": {
      "text/plain": [
       "37-element Vector{Tuple{DateTime, String}}:\n",
       " (DateTime(\"2023-04-30T23:00:00\"), \"20230430-23-Standard Summary.txt\")\n",
       " (DateTime(\"2023-05-01T23:00:00\"), \"20230501-23-Standard Summary.txt\")\n",
       " (DateTime(\"2023-05-02T23:00:00\"), \"20230502-23-Standard Summary.txt\")\n",
       " (DateTime(\"2023-05-03T23:00:00\"), \"20230503-23-Standard Summary.txt\")\n",
       " (DateTime(\"2023-05-04T23:00:00\"), \"20230504-23-Standard Summary.txt\")\n",
       " (DateTime(\"2023-05-05T23:00:00\"), \"20230505-23-Standard Summary.txt\")\n",
       " (DateTime(\"2023-05-06T23:00:00\"), \"20230506-23-Standard Summary.txt\")\n",
       " (DateTime(\"2023-05-07T23:00:00\"), \"20230507-23-Standard Summary.txt\")\n",
       " (DateTime(\"2023-05-08T23:00:00\"), \"20230508-23-Standard Summary.txt\")\n",
       " (DateTime(\"2023-05-09T23:00:00\"), \"20230509-23-Standard Summary.txt\")\n",
       " (DateTime(\"2023-05-11T00:00:00\"), \"20230511-00-Standard Summary.txt\")\n",
       " (DateTime(\"2023-05-11T23:00:00\"), \"20230511-23-Standard Summary.txt\")\n",
       " (DateTime(\"2023-05-12T23:00:00\"), \"20230512-23-Standard Summary.txt\")\n",
       " ⋮\n",
       " (DateTime(\"2023-05-25T23:00:00\"), \"20230525-23-Standard Summary.txt\")\n",
       " (DateTime(\"2023-05-26T23:00:00\"), \"20230526-23-Standard Summary.txt\")\n",
       " (DateTime(\"2023-05-27T23:00:00\"), \"20230527-23-Standard Summary.txt\")\n",
       " (DateTime(\"2023-05-28T23:00:00\"), \"20230528-23-Standard Summary.txt\")\n",
       " (DateTime(\"2023-05-30T00:00:00\"), \"20230530-00-Standard_Summary.txt\")\n",
       " (DateTime(\"2023-05-30T23:00:00\"), \"20230530-23-Standard_Summary.txt\")\n",
       " (DateTime(\"2023-05-31T23:00:00\"), \"20230531-23-Standard_Summary.txt\")\n",
       " (DateTime(\"2023-06-01T23:00:00\"), \"20230601-23-Standard_Summary.txt\")\n",
       " (DateTime(\"2023-06-02T23:00:00\"), \"20230602-23-Standard_Summary.txt\")\n",
       " (DateTime(\"2023-06-03T23:00:00\"), \"20230603-23-Standard_Summary.txt\")\n",
       " (DateTime(\"2023-06-04T23:00:00\"), \"20230604-23-Standard_Summary.txt\")\n",
       " (DateTime(\"2023-06-05T23:00:00\"), \"20230605-23-Standard_Summary.txt\")"
      ]
     },
     "execution_count": 3,
     "metadata": {},
     "output_type": "execute_result"
    }
   ],
   "source": [
    "stationdir = lowercase(CamelStations[1]) # e.g., lowercase(\"Visakhapatnam\")\n",
    "\n",
    "# read standard named files in the station's directory\n",
    "soundingfiles(stationdir; reldatapath=reldatapath) = filter(x -> occursin(r\"(?i)(May|Standard_Summary|Standard-Summary|Standard Summary).*(\\.txt)$(?-i)\",x),\n",
    "               readdir(joinpath(reldatapath, stationdir)) ) \n",
    "files = soundingfiles( stationdir ) \n",
    "\n",
    "# remove duplicate times uniqueidx(v) = unique(i -> v[i], eachindex(v))\n",
    "uniqueidx(v) = unique(i -> v[i], eachindex(v))\n",
    "\n",
    "fdt = imd_file_date.(files)\n",
    "fdt12 = round.(fdt, Dates.Hour(12))\n",
    "ui = uniqueidx(fdt12)\n",
    "fdt[ui] # exact datetimes with duplicates removed\n",
    "ord = sortperm(fdt[ui]) # guarantees ascending order\n",
    "collect(zip(fdt[ui[ord]], files[ui[ord]]))"
   ]
  },
  {
   "cell_type": "code",
   "execution_count": 4,
   "id": "8e056403-7417-467f-aab3-6cdfaf3a4eb8",
   "metadata": {},
   "outputs": [
    {
     "data": {
      "text/plain": [
       "pavg"
      ]
     },
     "execution_count": 4,
     "metadata": {},
     "output_type": "execute_result"
    }
   ],
   "source": [
    "# Interpolation methods\n",
    "# Pressure is irregular and different for each sounding time.\n",
    "\n",
    "\"dv converts Datetimes to numeric values for Interpolations.\"\n",
    "dv(dt, offset=DateTime(2019,3,1)) = Dates.value(dt - offset)\n",
    "\n",
    "# interpolation functions\n",
    "function itp_sparse(x::Vector, p::Vector)\n",
    "    # knot-vectors must be unique and sorted in increasing order\n",
    "    ind = sortperm(p)\n",
    "    ii = isfinite.(p[ind])\n",
    "    extrapolate( interpolate( (p[ind][ii],), x[ind][ii], Gridded(Linear()) ), NaN )\n",
    "end\n",
    "\n",
    "\"Filter missing data from the input sounding before interpolating.\"\n",
    "function itp(x::Vector, p::Vector)\n",
    "    # knot-vectors must be unique and sorted in increasing order\n",
    "    ind = sortperm(p)\n",
    "    ii = isfinite.(p[ind] .+ x[ind]) # .& .!ismissing.(p[ind] .+ x[ind])\n",
    "    extrapolate( interpolate( (p[ind][ii],), x[ind][ii], Gridded(Linear()) ), NaN )\n",
    "end\n",
    "\n",
    "\"rectangular interval averaging onto a decreasing pressure coordinate\"\n",
    "function pavg(x::Vector, p::Vector; plevs=1020.0:-5.0:0.0)\n",
    "    s1 = zeros(Float64, size(plevs))\n",
    "    # s2 = zeros(Float64, size(p))\n",
    "    ns = zeros(Float64, size(plevs))\n",
    "    \n",
    "    for i in eachindex(p)\n",
    "        j = findfirst(x -> x < p[i], plevs) # j indexes plevs\n",
    "        s1[j] += isfinite(x[i]) ? x[i] : 0\n",
    "        # s2[j] += x[i]^2\n",
    "        ns[j] += 1.0*isfinite(x[i])\n",
    "    end\n",
    "    \n",
    "    s1 ./ ns # mean\n",
    "end"
   ]
  },
  {
   "cell_type": "code",
   "execution_count": 5,
   "id": "d82b9d93-fff4-4607-9787-66a33a1f01c6",
   "metadata": {},
   "outputs": [
    {
     "data": {
      "text/plain": [
       "true"
      ]
     },
     "execution_count": 5,
     "metadata": {},
     "output_type": "execute_result"
    }
   ],
   "source": [
    "# 1 file example\n",
    "\n",
    "station = lowercase(\"Ahmedabad\")\n",
    "files = soundingfiles(station)\n",
    "#filter(x -> occursin(r\"(?i)(May|Standard).*(\\.txt)$(?-i)\",x), readdir(joinpath(reldatapath, station) ))\n",
    "\n",
    "# dt = imd_file_date(files[ui[ord[8]]])\n",
    "\n",
    "# deduplicate sounding times\n",
    "fdt = imd_file_date.(files)\n",
    "fdt12 = round.(fdt, Dates.Hour(12))\n",
    "ui = uniqueidx(fdt12)\n",
    "fdt[ui] # exact datetimes with duplicates removed\n",
    "ord = sortperm(fdt[ui]) # guarantees ascending order\n",
    "\n",
    "# reader functions\n",
    "# single-character replacer\n",
    "# handles tabs and \\u00b0 degree character °\n",
    "stripjunk(f) = IOBuffer(replace(read(f), UInt8('\\t') => UInt8(' '), UInt16('\\u00b0') => UInt8('d')) )\n",
    "function read_sonde(file; header=( station==\"visakhapatnam\" ? 7 : 3 ) )\n",
    "    CSV.read( stripjunk(file),\n",
    "        DataFrame, header=header, delim=\",\", stripwhitespace=true, ignorerepeated=true )\n",
    "end\n",
    "\n",
    "# test read\n",
    "df = read_sonde( joinpath(reldatapath, station, files[ui[ord[2]]]),\n",
    "                 header=( station==\"visakhapatnam\" ? 7 : 3 )      )\n",
    "isempty(df)"
   ]
  },
  {
   "cell_type": "markdown",
   "id": "6cfa1b52-0c3f-4f39-8901-10e198be829d",
   "metadata": {},
   "source": [
    "# Column headers \n",
    "\n",
    "Chennai, Karaikal, Kochi, Kolkata, Ahmedabad, Pune\n",
    "```\n",
    "Time,     p(hPa),    T(?C),    U(%),      Dew(?C),     Geo(gpm),   Geo(gpft),    Wdir(?),    Wspd(m/s),    Asc(m/m),    Avg Asc(m/m),    Azimuth(?),   Range(m),    Elevation(?),\n",
    "```\n",
    "Mangalore, PortBlair\n",
    "```\n",
    "Time,\tP(hPa),\tT(C),\tU(%),\tDew(C),\tGeo(gpm),\tGeo(gpft),\tWdir(d),\tWspd(m/s),\tAsc(m/m),\tAvgAsc(m/m)\n",
    "```\n",
    "Visakhapatnam\n",
    "43150-20230512-00-Standard-Summary.txt, 43150-20230520-00-Standard-Summary.txt: 3 headerlines\n",
    "```\n",
    "Time,\tP(hPa),\tT(C),\tU(%),\tDew(C),\tGeo(gpm),\tGeo(gpft),\tWdir(d),\tWspd(m/s),\tAsc(m/m),\tAvgAsc(m/m)\n",
    "```\n",
    "all other Visakhapatnam: 7 headerlines\n",
    "\n",
    "Simon edited the 2 Vsk files to make them have 7"
   ]
  },
  {
   "cell_type": "code",
   "execution_count": 6,
   "id": "6921bd02-0e4c-4592-8d56-7dbd8c9c5748",
   "metadata": {},
   "outputs": [
    {
     "data": {
      "text/plain": [
       "2-element Vector{Vector{String}}:\n",
       " [\"Time\", \"p(hPa)\", \"T(?C)\", \"U(%)\", \"Dew(?C)\", \"Geo(gpm)\", \"Geo(gpft)\", \"Wdir(?)\", \"Wspd(m/s)\", \"Asc(m/m)\", \"Avg Asc(m/m)\", \"Azimuth(?)\", \"Range(m)\", \"Elevation(?)\"]\n",
       " [\"Time\", \"P(hPa)\", \"T(C)\", \"U(%)\", \"Dew(C)\", \"Geo(gpm)\", \"Geo(gpft)\", \"Wdir(d)\", \"Wspd(m/s)\", \"Asc(m/m)\", \"AvgAsc(m/m)\"]"
      ]
     },
     "execution_count": 6,
     "metadata": {},
     "output_type": "execute_result"
    }
   ],
   "source": [
    "NamePatterns = [ \n",
    "    [\"Time\", \"p(hPa)\", \"T(?C)\", \"U(%)\", \"Dew(?C)\", \"Geo(gpm)\", \"Geo(gpft)\", \"Wdir(?)\", \"Wspd(m/s)\", \"Asc(m/m)\", \"Avg Asc(m/m)\", \"Azimuth(?)\", \"Range(m)\", \"Elevation(?)\"], #Visakhapatnam style 1\n",
    "    [\"Time\", \"P(hPa)\", \"T(C)\", \"U(%)\", \"Dew(C)\", \"Geo(gpm)\", \"Geo(gpft)\", \"Wdir(d)\", \"Wspd(m/s)\", \"Asc(m/m)\", \"AvgAsc(m/m)\"] # Mangalore, Visakhapatnam\n",
    "    ]"
   ]
  },
  {
   "cell_type": "code",
   "execution_count": 7,
   "id": "315e771f-6657-47d9-b0d1-77c3bdf32502",
   "metadata": {},
   "outputs": [
    {
     "data": {
      "text/plain": [
       "m2n (generic function with 1 method)"
      ]
     },
     "execution_count": 7,
     "metadata": {},
     "output_type": "execute_result"
    }
   ],
   "source": [
    "\"extract column data by name\"\n",
    "function get_sounding_cols(df, station)\n",
    "    if isempty(df)\n",
    "        # p = [missing]\n",
    "        # T = [missing]\n",
    "        # Td = [missing]\n",
    "        # rh= [missing]\n",
    "        # z = [missing]\n",
    "        # wspd = [missing]\n",
    "        # wdir = [missing]\n",
    "        p = []\n",
    "        T = []\n",
    "        Td = []\n",
    "        rh= []\n",
    "        z = []\n",
    "        wspd = []\n",
    "        wdir = []\n",
    "    else\n",
    "        if in(station, [\"mangalore\", \"visakhapatnam\", \"portblair\"])\n",
    "            p = df[!,\"P(hPa)\"][:]\n",
    "            T = df[!,\"T(C)\"][:]\n",
    "            Td = df[!,\"Dew(C)\"][:]\n",
    "            rh = df[!,\"U(%)\"][:]\n",
    "            z = df[!,\"Geo(gpm)\"][:]\n",
    "            wspd = df[!,\"Wspd(m/s)\"][:]\n",
    "            wdir = df[!,\"Wdir(d)\"][:]\n",
    "        else # slightly different keys\n",
    "            p = df[!,\"p(hPa)\"][:]\n",
    "            rh = df[!,\"U(%)\"][:]\n",
    "            z = df[!,\"Geo(gpm)\"][:]\n",
    "            wspd = df[!,\"Wspd(m/s)\"][:]\n",
    "            if \"T(dC)\" in names(df)\n",
    "                T = df[!,\"T(dC)\"][:]\n",
    "                Td = df[!,\"Dew(dC)\"][:]\n",
    "                wdir = df[!,\"Wdir(d)\"][:]\n",
    "            elseif \"T(Deg.C)\" in names(df) # another variation\n",
    "                T = df[!,\"T(Deg.C)\"][:]\n",
    "                Td = df[!,\"Dew(Deg.C)\"][:]\n",
    "                wdir = df[!,\"Wdir(Deg)\"][:]\n",
    "            end\n",
    "\n",
    "        end\n",
    "    end\n",
    "    u = -wspd .* sin.(pi/180.0*wdir)\n",
    "    v = -wspd .* cos.(pi/180.0*wdir)\n",
    "    \n",
    "    return p, T,Td, rh,z, wspd,wdir, u,v\n",
    "end\n",
    "\n",
    "p, T,Td, rh,z, wspd,wdir, u,v = get_sounding_cols(df, station)\n",
    "\n",
    "m2n(x) = ismissing(x) ? NaN : x\n",
    "\n",
    "#=\n",
    "# test plot\n",
    "clf()\n",
    "plot( m2n.(T), m2n.(p), label=\"Temperature (C)\")\n",
    "ylim(1000, 20)\n",
    "station\n",
    "=#"
   ]
  },
  {
   "cell_type": "code",
   "execution_count": 22,
   "id": "c700bd3d-fa82-40c0-a6cf-b5fa44a62768",
   "metadata": {},
   "outputs": [
    {
     "data": {
      "text/plain": [
       "th (generic function with 1 method)"
      ]
     },
     "execution_count": 22,
     "metadata": {},
     "output_type": "execute_result"
    }
   ],
   "source": [
    "# sounding variable functions\n",
    "\n",
    "meanfinite(x, dims) = sum(isfinite(x) ? x : 0, dims=dims)./sum(isfinite, x, dims=dims)\n",
    "anom(x; dims=ndims(x)) = x .- meanfinite(x, dims)\n",
    "\n",
    "\"Exner function T/θ = (p/p_0)^Rd/cp\"\n",
    "Exner(p) = (p/1000.0)^0.287 # = T/theta\n",
    "th(T,p) = T/Exner(p)"
   ]
  },
  {
   "cell_type": "code",
   "execution_count": 9,
   "id": "302bcbb0-1081-483c-9b4d-bf583a2a27f2",
   "metadata": {},
   "outputs": [],
   "source": [
    "# pressure levels to interploate to\n",
    "dp = 5.0\n",
    "plevs = 1020.0:-dp:0.0\n",
    "\n",
    "# test interpolation\n",
    "if !isempty(df)\n",
    "    upi = uniqueidx(p)\n",
    "    plot(plevs, m2n.(itp(u[upi], p[upi])[plevs]))\n",
    "    # test averaging\n",
    "    # plot(plevs, pavg(u, p plevs=plevs))\n",
    "    \n",
    "    plot(m2n.(p), m2n.(wspd))\n",
    "    u_pl = pavg(u, p, plevs=plevs)\n",
    "    # plev is the level geometrically above and dynamically (pressure) below the binned observations\n",
    "    # probably suitable for pcolormesh\n",
    "    plot(plevs.+dp/2, u_pl)\n",
    "end"
   ]
  },
  {
   "cell_type": "code",
   "execution_count": 10,
   "id": "80945a7f-368a-411c-860b-e3211116ce1e",
   "metadata": {},
   "outputs": [
    {
     "data": {
      "text/plain": [
       "38×2 Matrix{Any}:\n",
       " \"01MAY2023VSK.txt\"                        2023-05-01T00:00:00\n",
       " \"02MAY2023VSK.txt\"                        2023-05-02T00:00:00\n",
       " \"03MAY2023VSK.txt\"                        2023-05-03T00:00:00\n",
       " \"04MAY2023VSK.txt\"                        2023-05-04T00:00:00\n",
       " \"05MAY2023VSK.txt\"                        2023-05-05T00:00:00\n",
       " \"06MAY2023VSK.txt\"                        2023-05-06T00:00:00\n",
       " \"07MAY2023VSK.txt\"                        2023-05-07T00:00:00\n",
       " \"08MAY2023VSK.txt\"                        2023-05-08T00:00:00\n",
       " \"09MAY2023VSK.txt\"                        2023-05-09T00:00:00\n",
       " \"10MAY2023VSK.txt\"                        2023-05-10T00:00:00\n",
       " \"43150-20230511-00-Standard-Summary.txt\"  2023-05-11T00:00:00\n",
       " \"43150-20230512-00-Standard-Summary.txt\"  2023-05-12T00:00:00\n",
       " \"43150-20230513-00-Standard-Summary.txt\"  2023-05-13T00:00:00\n",
       " ⋮                                         \n",
       " \"43150-20230527-00-Standard-Summary.txt\"  2023-05-27T00:00:00\n",
       " \"43150-20230528-00-Standard-Summary.txt\"  2023-05-28T00:00:00\n",
       " \"43150-20230529-00-Standard-Summary.txt\"  2023-05-29T00:00:00\n",
       " \"43150-20230530-00-Standard-Summary.txt\"  2023-05-30T00:00:00\n",
       " \"43150-20230531-00-Standard-Summary.txt\"  2023-05-31T00:00:00\n",
       " \"43150-20230601-00-Standard-Summary.txt\"  2023-06-01T00:00:00\n",
       " \"43150-20230602-00-Standard-Summary.txt\"  2023-06-02T00:00:00\n",
       " \"43150-20230603-00-Standard-Summary.txt\"  2023-06-03T00:00:00\n",
       " \"43150-20230604-00-Standard-Summary.txt\"  2023-06-04T00:00:00\n",
       " \"43150-20230605-00-Standard-Summary.txt\"  2023-06-05T00:00:00\n",
       " \"43150-20230606-00-Standard-Summary.txt\"  2023-06-06T00:00:00\n",
       " \"43150-20230607-00-Standard-Summary.txt\"  2023-06-07T00:00:00"
      ]
     },
     "execution_count": 10,
     "metadata": {},
     "output_type": "execute_result"
    }
   ],
   "source": [
    "# inventory files, times\n",
    "station=\"visakhapatnam\" # \"visakhapatnam\"\n",
    "    # read standard named files in the station's directory\n",
    "    files = soundingfiles(station)\n",
    "    # deduplicate sounding times\n",
    "    fdt = imd_file_date.(files)\n",
    "    fdt12 = round.(fdt, Dates.Hour(12))\n",
    "    ui = uniqueidx(fdt12)\n",
    "    fdt[ui] # exact datetimes with duplicates removed\n",
    "    ord = sortperm(fdt[ui]) # guarantees ascending order\n",
    "    cat(files[ui[ord]], fdt[ui[ord]], dims=2)"
   ]
  },
  {
   "cell_type": "code",
   "execution_count": 24,
   "id": "f1299acb-b370-4b09-b224-1b946db4a454",
   "metadata": {},
   "outputs": [
    {
     "name": "stdout",
     "output_type": "stream",
     "text": [
      "files[ti] = \"01MAY2023VSK.txt\"\n",
      "files[ti] = \"02MAY2023VSK.txt\"\n",
      "files[ti] = \"03MAY2023VSK.txt\"\n",
      "files[ti] = \"04MAY2023VSK.txt\"\n",
      "files[ti] = \"05MAY2023VSK.txt\"\n",
      "files[ti] = \"06MAY2023VSK.txt\"\n",
      "files[ti] = \"07MAY2023VSK.txt\"\n",
      "files[ti] = \"08MAY2023VSK.txt\"\n",
      "files[ti] = \"09MAY2023VSK.txt\"\n",
      "files[ti] = \"10MAY2023VSK.txt\"\n",
      "files[ti] = \"43150-20230511-00-Standard-Summary.txt\"\n",
      "files[ti] = \"43150-20230512-00-Standard-Summary.txt\"\n",
      "files[ti] = \"43150-20230513-00-Standard-Summary.txt\"\n",
      "files[ti] = \"43150-20230514-00-Standard-Summary.txt\"\n",
      "files[ti] = \"43150-20230515-00-Standard-Summary.txt\"\n",
      "files[ti] = \"43150-20230516-00-Standard-Summary.txt\"\n",
      "files[ti] = \"43150-20230517-00-Standard-Summary.txt\"\n",
      "files[ti] = \"43150-20230518-00-Standard-Summary.txt\"\n",
      "files[ti] = \"43150-20230519-00-Standard-Summary.txt\"\n",
      "files[ti] = \"43150-20230520-00-Standard-Summary.txt\"\n",
      "files[ti] = \"43150-20230521-00-Standard-Summary.txt\"\n",
      "files[ti] = \"43150-20230522-00-Standard-Summary.txt\"\n",
      "files[ti] = \"43150-20230523-00-Standard-Summary.txt\"\n",
      "files[ti] = \"43150-20230524-00-Standard-Summary.txt\"\n",
      "files[ti] = \"43150-20230525-00-Standard-Summary.txt\"\n",
      "files[ti] = \"43150-20230526-00-Standard-Summary.txt\"\n",
      "files[ti] = \"43150-20230527-00-Standard-Summary.txt\"\n",
      "files[ti] = \"43150-20230528-00-Standard-Summary.txt\"\n",
      "files[ti] = \"43150-20230529-00-Standard-Summary.txt\"\n",
      "files[ti] = \"43150-20230530-00-Standard-Summary.txt\"\n",
      "files[ti] = \"43150-20230531-00-Standard-Summary.txt\"\n",
      "files[ti] = \"43150-20230601-00-Standard-Summary.txt\"\n",
      "files[ti] = \"43150-20230602-00-Standard-Summary.txt\"\n",
      "files[ti] = \"43150-20230603-00-Standard-Summary.txt\"\n",
      "files[ti] = \"43150-20230604-00-Standard-Summary.txt\"\n",
      "files[ti] = \"43150-20230605-00-Standard-Summary.txt\"\n",
      "files[ti] = \"43150-20230606-00-Standard-Summary.txt\"\n",
      "files[ti] = \"43150-20230607-00-Standard-Summary.txt\"\n"
     ]
    }
   ],
   "source": [
    "# test read visakhapatanm\n",
    "\"number of headerlines\"\n",
    "function hdrs( station, file )\n",
    "    # these visakhapatnam files have fewer headerlines\n",
    "    bollox = [\"43150-20230527-00-Standard-Summary.txt\",\n",
    "              ] # have 3 headerlines\n",
    "    alpha = \"43150-20230605-00-Standard-Summary.txt\" # files later than this have 3 headerlines\n",
    "    (station==\"visakhapatnam\" && file<alpha && !(file in bollox) ) ? 7 : 3\n",
    "end\n",
    "\n",
    "for ti in ui[ord]\n",
    "    fn = joinpath(reldatapath, station, files[ti])\n",
    "    df = read_sonde( joinpath(reldatapath, station, files[ti]), header=hdrs( station, files[ti] ) )\n",
    "    @show files[ti]\n",
    "    if !isempty(df)\n",
    "        # extract ungridded hi-res data\n",
    "        p_, T_,Td_, rh_,z_, wspd_,wdir_, u_,v_ = get_sounding_cols(df, station)\n",
    "    end\n",
    "end"
   ]
  },
  {
   "cell_type": "code",
   "execution_count": 25,
   "id": "45c7a8bc-7e3a-44fa-952e-93ed838e455b",
   "metadata": {},
   "outputs": [
    {
     "data": {
      "text/plain": [
       "count_max_unique_soundings"
      ]
     },
     "execution_count": 25,
     "metadata": {},
     "output_type": "execute_result"
    }
   ],
   "source": [
    "\"count unique soundings from each station, return maximum\"\n",
    "function count_max_unique_soundings(stationnames)\n",
    "    nts = zeros(Int32, length(stationnames))\n",
    "    \n",
    "    for (sj, station) in enumerate(stationnames)\n",
    "        # read standard named files in the station's directory\n",
    "        files = soundingfiles(station)\n",
    "        # deduplicate sounding times\n",
    "        fdt = imd_file_date.(files)\n",
    "        fdt12 = round.(fdt, Dates.Hour(12))\n",
    "        ui = uniqueidx(fdt12)\n",
    "        fdt[ui] # exact datetimes with duplicates removed\n",
    "        ord = sortperm(fdt[ui]) # guarantees ascending order\n",
    "        nts[sj] = length(ui)\n",
    "        # @show station, nts[sj]\n",
    "    end\n",
    "    \n",
    "    nt = maximum(nts)\n",
    "end"
   ]
  },
  {
   "cell_type": "code",
   "execution_count": 26,
   "id": "32493e7d-05c2-474f-852a-5b719e705349",
   "metadata": {},
   "outputs": [
    {
     "name": "stdout",
     "output_type": "stream",
     "text": [
      "station = \"ahmedabad\"\n",
      "station = \"chennai\"\n",
      "station = \"karaikal\"\n",
      "station = \"kochi\"\n",
      "station = \"kolkata\"\n",
      "station = \"mangalore\"\n",
      "station = \"portblair\"\n",
      "station = \"pune\"\n",
      "station = \"visakhapatnam\"\n"
     ]
    }
   ],
   "source": [
    "# start over and do a big loop to load and interpolate data to consistent levels\n",
    "\n",
    "reldatapath = \"../data/EKAMSAT_IMD/ekamsat\"\n",
    "plevs = 1020.0:-5.0:0.0\n",
    "\n",
    "CamelStations = [\"Ahmedabad\",\"Chennai\",\"Karaikal\",\"Kochi\",\"Kolkata\",\"Mangalore\",\"PortBlair\",\"Pune\",\"Visakhapatnam\"]\n",
    "stationnames = lowercase.(CamelStations)\n",
    "\n",
    "# allocate gridded data arrays (pressure, location, launch time)\n",
    "nt = count_max_unique_soundings(stationnames)\n",
    "# nt = 80 # allow for longest station mangalore?(37), extend & trim off extra later\n",
    "T  = NaN.+zeros(Float64, length(plevs), length(stationnames), nt)\n",
    "Td = NaN.+zeros(Float64, length(plevs), length(stationnames), nt)\n",
    "rh = NaN.+zeros(Float64, length(plevs), length(stationnames), nt)\n",
    "z  = NaN.+zeros(Float64, length(plevs), length(stationnames), nt)\n",
    "u  = NaN.+zeros(Float64, length(plevs), length(stationnames), nt)\n",
    "v  = NaN.+zeros(Float64, length(plevs), length(stationnames), nt)\n",
    "time = zeros(DateTime, length(stationnames), nt)\n",
    "\n",
    "sj = 0\n",
    "for station in stationnames\n",
    "    @show station\n",
    "    # read standard named files in the station's directory\n",
    "    files = soundingfiles(station)\n",
    "    sj += 1 # gridded station index\n",
    "    # deduplicate sounding times\n",
    "    fdt = imd_file_date.(files)\n",
    "    fdt12 = round.(fdt, Dates.Hour(12))\n",
    "    ui = uniqueidx(fdt12)\n",
    "    fdt[ui] # exact datetimes with duplicates removed\n",
    "    ord = sortperm(fdt[ui]) # guarantees ascending order\n",
    "    #collect(zip( files[ui[ord]]], fdt[ui[ord]] ))\n",
    "    \n",
    "    tj = 0\n",
    "    for ti in ui[ord]\n",
    "        fn = joinpath(reldatapath, station, files[ti])\n",
    "        df = read_sonde( joinpath(reldatapath, station, files[ti]),\n",
    "                 header=hdrs( station, files[ti]  ) )\n",
    "        if !isempty(df)\n",
    "            # extract ungridded hi-res data\n",
    "            p_, T_,Td_, rh_,z_, wspd_,wdir_, u_,v_ = get_sounding_cols(df, station)\n",
    "            # avg variables at the next time level\n",
    "            tj += 1\n",
    "            time[sj,tj] = fdt[ti]\n",
    "            T[  :, sj, tj] .= pavg(T_ , p_, plevs=plevs)\n",
    "            Td[ :, sj, tj] .= pavg(Td_, p_, plevs=plevs)\n",
    "            rh[ :, sj, tj] .= pavg(rh_, p_, plevs=plevs)\n",
    "            z[  :, sj, tj] .= pavg(z_ , p_, plevs=plevs)\n",
    "            u[  :, sj, tj] .= pavg(u_ , p_, plevs=plevs)\n",
    "            v[  :, sj, tj] .= pavg(v_ , p_, plevs=plevs)\n",
    "        else\n",
    "            tj += 1\n",
    "            time[sj,tj] =fdt[ti]\n",
    "            # leave an empty sounding when missing\n",
    "        end\n",
    "    end\n",
    "end\n"
   ]
  },
  {
   "cell_type": "code",
   "execution_count": 43,
   "id": "c80231da-cf31-4ce6-897b-7d2988580cfc",
   "metadata": {},
   "outputs": [
    {
     "name": "stdout",
     "output_type": "stream",
     "text": [
      "cat(CamelStations, nts, dims = 2) = Any[\"Ahmedabad\" 37; \"Chennai\" 41; \"Karaikal\" 36; \"Kochi\" 36; \"Kolkata\" 38; \"Mangalore\" 38; \"PortBlair\" 40; \"Pune\" 38; \"Visakhapatnam\" 38]\n"
     ]
    },
    {
     "data": {
      "text/plain": [
       "9-element Vector{DateTime}:\n",
       " 2023-06-05T23:00:00\n",
       " 2023-06-05T23:00:00\n",
       " 2023-06-07T00:00:00\n",
       " 2023-06-06T23:00:00\n",
       " 2023-06-07T00:00:00\n",
       " 2023-06-07T00:00:00\n",
       " 2023-06-07T00:00:00\n",
       " 2023-06-07T00:00:00\n",
       " 2023-06-07T00:00:00"
      ]
     },
     "execution_count": 43,
     "metadata": {},
     "output_type": "execute_result"
    }
   ],
   "source": [
    "# count times at each station\n",
    "nts = sum(time.>DateTime(1000), dims=2)\n",
    "@show cat(CamelStations, nts, dims=2)\n",
    "\n",
    "# show the latest time of a sounding for each station\n",
    "lasttime = [ time[sj,nts[sj]] for sj in axes(time,1) ]"
   ]
  },
  {
   "cell_type": "code",
   "execution_count": 42,
   "id": "b7832e26-a0ae-4f91-b6bb-20679280091a",
   "metadata": {},
   "outputs": [
    {
     "data": {
      "text/plain": [
       "9-element Vector{DateTime}:\n",
       " 2023-06-05T23:00:00\n",
       " 2023-06-05T23:00:00\n",
       " 2023-06-07T00:00:00\n",
       " 2023-06-06T23:00:00\n",
       " 2023-06-07T00:00:00\n",
       " 2023-06-07T00:00:00\n",
       " 2023-06-07T00:00:00\n",
       " 2023-06-07T00:00:00\n",
       " 2023-06-07T00:00:00"
      ]
     },
     "execution_count": 42,
     "metadata": {},
     "output_type": "execute_result"
    }
   ],
   "source": []
  },
  {
   "cell_type": "code",
   "execution_count": 47,
   "id": "e1d2a6c1-bccc-4c6e-92b8-95cfb2a6e2dc",
   "metadata": {},
   "outputs": [
    {
     "name": "stdout",
     "output_type": "stream",
     "text": [
      "size(u[:, sj, 1:nts[sj]]) = (205, 37)\n"
     ]
    },
    {
     "data": {
      "image/png": "[encoded data removed]",
      "text/plain": [
       "Figure(PyObject <Figure size 640x480 with 4 Axes>)"
      ]
     },
     "metadata": {},
     "output_type": "display_data"
    },
    {
     "data": {
      "text/plain": [
       "PyObject <matplotlib.colorbar.Colorbar object at 0x117dcf520>"
      ]
     },
     "execution_count": 47,
     "metadata": {},
     "output_type": "execute_result"
    }
   ],
   "source": [
    "# test time-pressure plot\n",
    "sj = 1\n",
    "@show size(u[:,sj,1:nts[sj]])\n",
    "\n",
    "clf()\n",
    "subplot(2,1,1)\n",
    "# pcolormesh( time[sj,:], plevs, anom(T[:,sj,:],dims=2) )\n",
    "# pcolormesh( time[sj,:], plevs, anom(th.(T[:,sj,:],plevs),dims=2), vmin=-7, vmax=7, cmap=ColorMap(\"RdYlBu_r\") )\n",
    "pcolormesh( time[sj,1:nts[sj]], plevs, u[:,sj,1:nts[sj]], vmin=-10, vmax=20, cmap=ColorMap(\"RdYlBu_r\") )\n",
    "ylim(1000, 100)\n",
    "colorbar()\n",
    "ylabel(\"u (m/s)\")\n",
    "title(CamelStations[sj])\n",
    "\n",
    "subplot(2,1,2)\n",
    "pcolormesh( time[sj,1:nts[sj]], plevs, rh[:,sj,1:nts[sj]], cmap=ColorMap(\"RdYlBu_r\"))\n",
    "ylim(1000, 100)\n",
    "ylabel(\"RH (%)\")\n",
    "colorbar()"
   ]
  },
  {
   "cell_type": "code",
   "execution_count": 105,
   "id": "c7d99010-15fb-49b3-9b6f-850350e9595d",
   "metadata": {},
   "outputs": [
    {
     "name": "stderr",
     "output_type": "stream",
     "text": [
      "Connected to rendezvous.apl.washington.edu.\n"
     ]
    },
    {
     "name": "stdout",
     "output_type": "stream",
     "text": [
      "sftp> put ../plot/Ahmedabad_u_rh.svg /incoming/sonde\n",
      "Uploading ../plot/Ahmedabad_u_rh.svg to /incoming/sonde/Ahmedabad_u_rh.svg\n",
      "sftp> put ../plot/Chennai_u_rh.svg /incoming/sonde\n",
      "Uploading ../plot/Chennai_u_rh.svg to /incoming/sonde/Chennai_u_rh.svg\n"
     ]
    },
    {
     "name": "stderr",
     "output_type": "stream",
     "text": [
      "Connected to rendezvous.apl.washington.edu.\n"
     ]
    },
    {
     "name": "stdout",
     "output_type": "stream",
     "text": [
      "sftp> put ../plot/Karaikal_u_rh.svg /incoming/sonde\n",
      "Uploading ../plot/Karaikal_u_rh.svg to /incoming/sonde/Karaikal_u_rh.svg\n"
     ]
    },
    {
     "name": "stderr",
     "output_type": "stream",
     "text": [
      "Connected to rendezvous.apl.washington.edu.\n"
     ]
    },
    {
     "name": "stdout",
     "output_type": "stream",
     "text": [
      "sftp> put ../plot/Kochi_u_rh.svg /incoming/sonde\n",
      "Uploading ../plot/Kochi_u_rh.svg to /incoming/sonde/Kochi_u_rh.svg\n"
     ]
    },
    {
     "name": "stderr",
     "output_type": "stream",
     "text": [
      "Connected to rendezvous.apl.washington.edu.\n"
     ]
    },
    {
     "name": "stdout",
     "output_type": "stream",
     "text": [
      "sftp> put ../plot/Kolkata_u_rh.svg /incoming/sonde\n",
      "Uploading ../plot/Kolkata_u_rh.svg to /incoming/sonde/Kolkata_u_rh.svg\n"
     ]
    },
    {
     "name": "stderr",
     "output_type": "stream",
     "text": [
      "Connected to rendezvous.apl.washington.edu.\n"
     ]
    },
    {
     "name": "stdout",
     "output_type": "stream",
     "text": [
      "sftp> put ../plot/Mangalore_u_rh.svg /incoming/sonde\n",
      "Uploading ../plot/Mangalore_u_rh.svg to /incoming/sonde/Mangalore_u_rh.svg\n"
     ]
    },
    {
     "name": "stderr",
     "output_type": "stream",
     "text": [
      "Connected to rendezvous.apl.washington.edu.\n"
     ]
    },
    {
     "name": "stdout",
     "output_type": "stream",
     "text": [
      "sftp> put ../plot/PortBlair_u_rh.svg /incoming/sonde\n",
      "Uploading ../plot/PortBlair_u_rh.svg to /incoming/sonde/PortBlair_u_rh.svg\n"
     ]
    },
    {
     "name": "stderr",
     "output_type": "stream",
     "text": [
      "Connected to rendezvous.apl.washington.edu.\n",
      "Connected to rendezvous.apl.washington.edu.\n"
     ]
    },
    {
     "name": "stdout",
     "output_type": "stream",
     "text": [
      "sftp> put ../plot/Pune_u_rh.svg /incoming/sonde\n",
      "Uploading ../plot/Pune_u_rh.svg to /incoming/sonde/Pune_u_rh.svg\n",
      "sftp> put ../plot/Visakhapatnam_u_rh.svg /incoming/sonde\n",
      "Uploading ../plot/Visakhapatnam_u_rh.svg to /incoming/sonde/Visakhapatnam_u_rh.svg\n"
     ]
    },
    {
     "name": "stderr",
     "output_type": "stream",
     "text": [
      "Connected to rendezvous.apl.washington.edu.\n"
     ]
    },
    {
     "data": {
      "image/png": "[encoded data removed]",
      "text/plain": [
       "Figure(PyObject <Figure size 640x480 with 4 Axes>)"
      ]
     },
     "metadata": {},
     "output_type": "display_data"
    }
   ],
   "source": [
    "# make time-height plot for each station\n",
    "\n",
    "\"sftp put file f to rendezvous.apl.washington.edu /incoming/sonde\" # clunky, works\n",
    "function put_file_apl( f )\n",
    "    sftp_str = \"sftp -P 2022 -i ~/.ssh/id_ed25519 sdeszoek@rendezvous.apl.washington.edu <<< 'put $(f) /incoming/sonde'\"\n",
    "    run(`sh -c $(sftp_str)`)\n",
    "end\n",
    "\n",
    "\"output days from offset\"\n",
    "mpldate(timestamp, offset=DateTime(2023,4,30,0,0,0)) = Dates.value(timestamp-offset)/1000/60/60/24\n",
    "#invmpldate( mlpd, offset=DateTime(2023,4,30,0,0,0) ) = mpldate+Dates.value(offset)/1000/60/60/24\n",
    "mplday(d; offset=Date(2023,4,30)) = day(Day(d) + offset) # ticks\n",
    "\n",
    "for sj in 1:9\n",
    "    clf()\n",
    "    subplot(2,1,1)\n",
    "    pcolormesh( mpldate.(time[sj,1:nts[sj]]), plevs, u[:,sj,1:nts[sj]], vmin=-10, vmax=10, cmap=ColorMap(\"RdYlBu_r\") )\n",
    "    ylim(1000, 100)\n",
    "    ylabel(\"u (m/s)\")\n",
    "    xtl,~ = xticks()\n",
    "    xticks( xtl, mplday.(xtl,offset=Date(2023,4,30)) )\n",
    "    colorbar()\n",
    "    title(CamelStations[sj])\n",
    "\n",
    "    subplot(2,1,2)\n",
    "    pcolormesh( mpldate.(time[sj,1:nts[sj]]), plevs, rh[:,sj,1:nts[sj]], cmap=ColorMap(\"RdYlBu_r\"))\n",
    "    ylim(1000, 100)\n",
    "    ylabel(\"RH (%)\")\n",
    "    xtl,~ = xticks()\n",
    "    xticks( xtl, mplday.(xtl,offset=Date(2023,4,30)) )\n",
    "    colorbar()\n",
    "    xlabel(Dates.format(time[sj,1], \"yyyy U\"))\n",
    "\n",
    "    figfile = \"../plot/$(CamelStations[sj])_u_rh.svg\"\n",
    "    savefig( figfile )\n",
    "    put_file_apl( figfile )\n",
    "end"
   ]
  },
  {
   "cell_type": "markdown",
   "id": "fe5f14a6-e4e8-4f7d-8da2-ae7593f7903a",
   "metadata": {},
   "source": [
    "## write out the pressure-gridded data as consistently named and formatted CSV files"
   ]
  },
  {
   "cell_type": "code",
   "execution_count": 50,
   "id": "1586c664-c4dd-4155-8ab1-315241ab2b2b",
   "metadata": {},
   "outputs": [
    {
     "name": "stdout",
     "output_type": "stream",
     "text": [
      "fileout = \"../data/EKAMSAT_IMD/grid_sondes/20230607-00_Karaikal.csv\"\n",
      "fileout = \"../data/EKAMSAT_IMD/grid_sondes/20230606-23_Kochi.csv\"\n",
      "fileout = \"../data/EKAMSAT_IMD/grid_sondes/20230607-00_Kolkata.csv\"\n",
      "fileout = \"../data/EKAMSAT_IMD/grid_sondes/20230607-00_Mangalore.csv\"\n",
      "fileout = \"../data/EKAMSAT_IMD/grid_sondes/20230607-00_PortBlair.csv\"\n",
      "fileout = \"../data/EKAMSAT_IMD/grid_sondes/20230607-00_Pune.csv\"\n",
      "fileout = \"../data/EKAMSAT_IMD/grid_sondes/20230607-00_Visakhapatnam.csv\"\n"
     ]
    }
   ],
   "source": [
    "# write out, and push only new files, let old ones stand\n",
    "\n",
    "for (sj, station) in enumerate(stationnames)\n",
    "    for tj in 1:nts[sj]\n",
    "        fileout = joinpath(\"../data/EKAMSAT_IMD/grid_sondes/\", Dates.format(time[sj,tj], \"yyyymmdd-HH\")*\"_$(CamelStations[sj]).csv\")\n",
    "        if !isfile(fileout)\n",
    "            # @show fileout\n",
    "            dfo = DataFrame(  p=plevs,\n",
    "                              T=T[  :, sj, tj],\n",
    "                              Td=Td[:, sj, tj],\n",
    "                              rh=rh[:, sj, tj],\n",
    "                              z=z[  :, sj, tj],\n",
    "                              u=u[  :, sj, tj],\n",
    "                              v=v[  :, sj, tj]  )\n",
    "            CSV.write( fileout, dfo )\n",
    "            put_file_apl( fileout )\n",
    "        end\n",
    "    end\n",
    "end"
   ]
  },
  {
   "cell_type": "code",
   "execution_count": null,
   "id": "c9778d50-8707-41e2-9da6-ffb31dc2f1ef",
   "metadata": {},
   "outputs": [],
   "source": []
  }
 ],
 "metadata": {
  "kernelspec": {
   "display_name": "astral_soundings 1.8.5",
   "language": "julia",
   "name": "astral_soundings-1.8"
  },
  "language_info": {
   "file_extension": ".jl",
   "mimetype": "application/julia",
   "name": "julia",
   "version": "1.8.5"
  }
 },
 "nbformat": 4,
 "nbformat_minor": 5
}
