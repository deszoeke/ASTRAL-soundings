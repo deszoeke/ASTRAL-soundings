{
 "cells": [
  {
   "cell_type": "code",
   "execution_count": 1,
   "id": "1585f970-1b56-4fe8-80e5-69c316d603da",
   "metadata": {},
   "outputs": [
    {
     "name": "stderr",
     "output_type": "stream",
     "text": [
      "\u001b[32m\u001b[1m  Activating\u001b[22m\u001b[39m project at `~/Projects/ASTRAL/soundings`\n",
      "\u001b[36m\u001b[1m[ \u001b[22m\u001b[39m\u001b[36m\u001b[1mInfo: \u001b[22m\u001b[39mPrecompiling CSV [336ed68f-0bac-5ca0-87d4-7b16caf5d00b]\n",
      "\u001b[36m\u001b[1m[ \u001b[22m\u001b[39m\u001b[36m\u001b[1mInfo: \u001b[22m\u001b[39mPrecompiling DataFrames [a93c6f00-e57d-5684-b7b6-d8193f3e46c0]\n"
     ]
    }
   ],
   "source": [
    "#cd(\"~/Projects/ASTRAL/soundings/src/\")\n",
    "\n",
    "# activate the environment\n",
    "# an environment is just a path with Manifest.toml and Project.toml\n",
    "using Pkg; Pkg.activate(\"..\")\n",
    "\n",
    "using Revise\n",
    "#using Regex\n",
    "using CSV, DataFrames\n",
    "using Interpolations\n",
    "using Dates\n",
    "using PyPlot"
   ]
  },
  {
   "cell_type": "code",
   "execution_count": 2,
   "id": "fb829c1e-87f0-4d50-9ad6-5945b7be91c0",
   "metadata": {
    "tags": []
   },
   "outputs": [
    {
     "data": {
      "text/plain": [
       "imd_file_date"
      ]
     },
     "execution_count": 2,
     "metadata": {},
     "output_type": "execute_result"
    }
   ],
   "source": [
    "reldatapath = \"../data/EKAMSAT_IMD/ekamsat\"\n",
    "CamelStations = [\"Ahmedabad\",\"Chennai\",\"Karaikal\",\"Kochi\",\"Kolkata\",\"Mangalore\",\"PortBlair\",\"Pune\",\"Visakhapatnam\"]\n",
    "hdr = [4,4,4,4,4,4,7] # 7 header lines for Vsk, 4 for others\n",
    "\n",
    "# dates are formatted a variety of different ways\n",
    "\n",
    "#datematcher = [\"yyyymmdd-HH\", \"ddUyyyy\", \"dduuuyy\"]\n",
    "#ldm = length.(datematcher)\n",
    "#datefm = Dates.DateFormat.(datematcher)\n",
    "# doesn't handle undelimited month names\n",
    "\n",
    "\"Parse the various date formats in the file names. Only works for 3-letter month (or May).\"\n",
    "function imd_file_date(fn)\n",
    "    if fn[1:6]==\"43150-\" && all(isnumeric, fn[[7:14; 16:17]]) # 43150 Visakhap. WMO station ID\n",
    "        dt = Dates.DateTime(fn[7:17], \"yyyymmdd-HH\")\n",
    "    elseif fn[10:12]==\"VSK\" && all(isnumeric, fn[[1:2; 6:9]])  # Visakhap.\n",
    "        dt = Dates.DateTime(fn[1:9], \"ddUUUyyyy\")\n",
    "    elseif all(isnumeric, fn[[1:8; 10:11]])\n",
    "        dt = Dates.DateTime(fn[1:11], \"yyyymmdd-HH\")\n",
    "    else\n",
    "        # expect undelimited 3-letter month\n",
    "        if all(isnumeric, fn[[1:2; 6:7]])\n",
    "            if isletter(fn[8])\n",
    "                dt = DateTime( 2000+year(DateTime(fn[6:7], \"yy\")),\n",
    "                    month(DateTime(fn[3:5], \"U\")),\n",
    "                    day(DateTime(fn[1:2], \"d\")) )\n",
    "            elseif all(isnumeric, fn[8:9])\n",
    "                dt = DateTime( year(DateTime(fn[6:9], \"yyyy\")),\n",
    "                    month(DateTime(fn[3:5], \"U\")),\n",
    "                    day(DateTime(fn[1:2], \"d\")) )\n",
    "            end\n",
    "        end\n",
    "    end\n",
    "    return dt\n",
    "end\n"
   ]
  },
  {
   "cell_type": "code",
   "execution_count": 3,
   "id": "9b173fe5-be01-4a17-b754-9048b68dc502",
   "metadata": {},
   "outputs": [
    {
     "name": "stdout",
     "output_type": "stream",
     "text": [
      "stationdir = \"ahmedabad\"\n",
      "files = [\"20230430-23-Standard Summary.txt\", \"20230501-23-Standard Summary.txt\", \"20230502-23-Standard Summary.txt\", \"20230503-23-Standard Summary.txt\", \"20230504-23-Standard Summary.txt\", \"20230505-23-Standard Summary.txt\", \"20230506-23-Standard Summary.txt\", \"20230507-23-Standard Summary.txt\", \"20230508-23-Standard Summary.txt\", \"20230509-23-Standard Summary.txt\", \"20230511-00-Standard Summary.txt\", \"20230511-23-Standard Summary.txt\", \"20230512-23-Standard Summary.txt\", \"20230513-23-Standard Summary.txt\", \"20230514-23-Standard Summary.txt\", \"20230515-23-Standard Summary.txt\", \"20230516-23-Standard Summary.txt\", \"20230517-23-Standard Summary.txt\", \"20230518-23-Standard Summary.txt\", \"20230519-23-Standard Summary.txt\", \"20230520-23-Standard Summary.txt\", \"20230521-23-Standard Summary.txt\", \"20230522-23-Standard Summary.txt\", \"20230524-00-Standard Summary.txt\", \"20230524-23-Standard Summary.txt\", \"20230525-23-Standard Summary.txt\", \"20230526-23-Standard Summary.txt\", \"20230527-23-Standard Summary.txt\", \"20230528-23-Standard Summary.txt\", \"20230530-00-Standard_Summary.txt\", \"20230530-23-Standard_Summary.txt\", \"20230531-23-Standard Summary.txt\", \"20230531-23-Standard_Summary.txt\", \"20230601-23-Standard Summary.txt\", \"20230601-23-Standard_Summary.txt\", \"20230602-23-Standard Summary.txt\", \"20230602-23-Standard_Summary.txt\", \"20230603-23-Standard Summary.txt\", \"20230603-23-Standard_Summary.txt\", \"20230604-23-Standard Summary.txt\", \"20230604-23-Standard_Summary.txt\", \"20230605-23-Standard Summary.txt\", \"20230605-23-Standard_Summary.txt\", \"20230606-23-Standard Summary.txt\", \"20230608-00-Standard Summary.txt\", \"20230608-23-Standard_Summary.txt\", \"20230609-23-Standard_Summary.txt\", \"20230612-23-Standard_Summary.txt\", \"20230613-23-Standard_Summary.txt\"]\n"
     ]
    },
    {
     "data": {
      "text/plain": [
       "49-element Vector{String}:\n",
       " \"20230430-23-Standard Summary.txt\"\n",
       " \"20230501-23-Standard Summary.txt\"\n",
       " \"20230502-23-Standard Summary.txt\"\n",
       " \"20230503-23-Standard Summary.txt\"\n",
       " \"20230504-23-Standard Summary.txt\"\n",
       " \"20230505-23-Standard Summary.txt\"\n",
       " \"20230506-23-Standard Summary.txt\"\n",
       " \"20230507-23-Standard Summary.txt\"\n",
       " \"20230508-23-Standard Summary.txt\"\n",
       " \"20230509-23-Standard Summary.txt\"\n",
       " \"20230511-00-Standard Summary.txt\"\n",
       " \"20230511-23-Standard Summary.txt\"\n",
       " \"20230512-23-Standard Summary.txt\"\n",
       " ⋮\n",
       " \"20230603-23-Standard Summary.txt\"\n",
       " \"20230603-23-Standard_Summary.txt\"\n",
       " \"20230604-23-Standard Summary.txt\"\n",
       " \"20230604-23-Standard_Summary.txt\"\n",
       " \"20230605-23-Standard Summary.txt\"\n",
       " \"20230605-23-Standard_Summary.txt\"\n",
       " \"20230606-23-Standard Summary.txt\"\n",
       " \"20230608-00-Standard Summary.txt\"\n",
       " \"20230608-23-Standard_Summary.txt\"\n",
       " \"20230609-23-Standard_Summary.txt\"\n",
       " \"20230612-23-Standard_Summary.txt\"\n",
       " \"20230613-23-Standard_Summary.txt\""
      ]
     },
     "execution_count": 3,
     "metadata": {},
     "output_type": "execute_result"
    }
   ],
   "source": [
    "stationdir = lowercase(CamelStations[1]) # e.g., lowercase(\"Visakhapatnam\")\n",
    "\n",
    "# read standard named files in the station's directory\n",
    "soundingfiles(stationdir; reldatapath=reldatapath) = filter(x -> occursin(r\"(?i)(May|Standard_Summary|Standard-Summary|Standard Summary).*(\\.txt)$(?-i)\",x),\n",
    "               readdir(joinpath(reldatapath, stationdir)) ) \n",
    "files = soundingfiles( stationdir ) \n",
    "\n",
    "# remove duplicate times uniqueidx(v) = unique(i -> v[i], eachindex(v))\n",
    "uniqueidx(v) = unique(i -> v[i], eachindex(v))\n",
    "@show stationdir\n",
    "@show files"
   ]
  },
  {
   "cell_type": "code",
   "execution_count": 4,
   "id": "81b6fab7-104d-4f02-97e9-073baf4c428c",
   "metadata": {},
   "outputs": [
    {
     "data": {
      "text/plain": [
       "43-element Vector{Tuple{DateTime, String}}:\n",
       " (DateTime(\"2023-04-30T23:00:00\"), \"20230430-23-Standard Summary.txt\")\n",
       " (DateTime(\"2023-05-01T23:00:00\"), \"20230501-23-Standard Summary.txt\")\n",
       " (DateTime(\"2023-05-02T23:00:00\"), \"20230502-23-Standard Summary.txt\")\n",
       " (DateTime(\"2023-05-03T23:00:00\"), \"20230503-23-Standard Summary.txt\")\n",
       " (DateTime(\"2023-05-04T23:00:00\"), \"20230504-23-Standard Summary.txt\")\n",
       " (DateTime(\"2023-05-05T23:00:00\"), \"20230505-23-Standard Summary.txt\")\n",
       " (DateTime(\"2023-05-06T23:00:00\"), \"20230506-23-Standard Summary.txt\")\n",
       " (DateTime(\"2023-05-07T23:00:00\"), \"20230507-23-Standard Summary.txt\")\n",
       " (DateTime(\"2023-05-08T23:00:00\"), \"20230508-23-Standard Summary.txt\")\n",
       " (DateTime(\"2023-05-09T23:00:00\"), \"20230509-23-Standard Summary.txt\")\n",
       " (DateTime(\"2023-05-11T00:00:00\"), \"20230511-00-Standard Summary.txt\")\n",
       " (DateTime(\"2023-05-11T23:00:00\"), \"20230511-23-Standard Summary.txt\")\n",
       " (DateTime(\"2023-05-12T23:00:00\"), \"20230512-23-Standard Summary.txt\")\n",
       " ⋮\n",
       " (DateTime(\"2023-05-31T23:00:00\"), \"20230531-23-Standard Summary.txt\")\n",
       " (DateTime(\"2023-06-01T23:00:00\"), \"20230601-23-Standard Summary.txt\")\n",
       " (DateTime(\"2023-06-02T23:00:00\"), \"20230602-23-Standard Summary.txt\")\n",
       " (DateTime(\"2023-06-03T23:00:00\"), \"20230603-23-Standard Summary.txt\")\n",
       " (DateTime(\"2023-06-04T23:00:00\"), \"20230604-23-Standard Summary.txt\")\n",
       " (DateTime(\"2023-06-05T23:00:00\"), \"20230605-23-Standard Summary.txt\")\n",
       " (DateTime(\"2023-06-06T23:00:00\"), \"20230606-23-Standard Summary.txt\")\n",
       " (DateTime(\"2023-06-08T00:00:00\"), \"20230608-00-Standard Summary.txt\")\n",
       " (DateTime(\"2023-06-08T23:00:00\"), \"20230608-23-Standard_Summary.txt\")\n",
       " (DateTime(\"2023-06-09T23:00:00\"), \"20230609-23-Standard_Summary.txt\")\n",
       " (DateTime(\"2023-06-12T23:00:00\"), \"20230612-23-Standard_Summary.txt\")\n",
       " (DateTime(\"2023-06-13T23:00:00\"), \"20230613-23-Standard_Summary.txt\")"
      ]
     },
     "execution_count": 4,
     "metadata": {},
     "output_type": "execute_result"
    }
   ],
   "source": [
    "fdt = imd_file_date.(files)\n",
    "fdt12 = round.(fdt, Dates.Hour(12))\n",
    "ui = uniqueidx(fdt12)\n",
    "fdt[ui] # exact datetimes with duplicates removed\n",
    "ord = sortperm(fdt[ui]) # guarantees ascending order\n",
    "collect(zip(fdt[ui[ord]], files[ui[ord]]))"
   ]
  },
  {
   "cell_type": "code",
   "execution_count": 5,
   "id": "8e056403-7417-467f-aab3-6cdfaf3a4eb8",
   "metadata": {},
   "outputs": [
    {
     "data": {
      "text/plain": [
       "pavg"
      ]
     },
     "execution_count": 5,
     "metadata": {},
     "output_type": "execute_result"
    }
   ],
   "source": [
    "# Interpolation methods\n",
    "# Pressure is irregular and different for each sounding time.\n",
    "\n",
    "\"dv converts Datetimes to numeric values for Interpolations.\"\n",
    "dv(dt, offset=DateTime(2019,3,1)) = Dates.value(dt - offset)\n",
    "\n",
    "# interpolation functions\n",
    "function itp_sparse(x::Vector, p::Vector)\n",
    "    # knot-vectors must be unique and sorted in increasing order\n",
    "    ind = sortperm(p)\n",
    "    ii = isfinite.(p[ind])\n",
    "    extrapolate( interpolate( (p[ind][ii],), x[ind][ii], Gridded(Linear()) ), NaN )\n",
    "end\n",
    "\n",
    "\"Filter missing data from the input sounding before interpolating.\"\n",
    "function itp(x::Vector, p::Vector)\n",
    "    # knot-vectors must be unique and sorted in increasing order\n",
    "    ind = sortperm(p)\n",
    "    ii = isfinite.(p[ind] .+ x[ind]) # .& .!ismissing.(p[ind] .+ x[ind])\n",
    "    extrapolate( interpolate( (p[ind][ii],), x[ind][ii], Gridded(Linear()) ), NaN )\n",
    "end\n",
    "\n",
    "\"rectangular interval averaging onto a decreasing pressure coordinate\"\n",
    "function pavg(x::Vector, p::Vector; plevs=1020.0:-5.0:0.0)\n",
    "    s1 = zeros(Float64, size(plevs))\n",
    "    # s2 = zeros(Float64, size(p))\n",
    "    ns = zeros(Float64, size(plevs))\n",
    "    \n",
    "    for i in eachindex(p)\n",
    "        j = findfirst(x -> x < p[i], plevs) # j indexes plevs\n",
    "        s1[j] += isfinite(x[i]) ? x[i] : 0\n",
    "        # s2[j] += x[i]^2\n",
    "        ns[j] += 1.0*isfinite(x[i])\n",
    "    end\n",
    "    \n",
    "    s1 ./ ns # mean\n",
    "end"
   ]
  },
  {
   "cell_type": "code",
   "execution_count": 6,
   "id": "d82b9d93-fff4-4607-9787-66a33a1f01c6",
   "metadata": {},
   "outputs": [
    {
     "name": "stdout",
     "output_type": "stream",
     "text": [
      "joinpath(reldatapath, station, files[ui[ord[2]]]) = \"../data/EKAMSAT_IMD/ekamsat/chennai/02May23MayChennai.txt\"\n"
     ]
    },
    {
     "data": {
      "text/html": [
       "<div><div style = \"float: left;\"><span>3495×14 DataFrame</span></div><div style = \"float: right;\"><span style = \"font-style: italic;\">3470 rows omitted</span></div><div style = \"clear: both;\"></div></div><div class = \"data-frame\" style = \"overflow-x: scroll;\"><table class = \"data-frame\" style = \"margin-bottom: 6px;\"><thead><tr class = \"header\"><th class = \"rowNumber\" style = \"font-weight: bold; text-align: right;\">Row</th><th style = \"text-align: left;\">Time</th><th style = \"text-align: left;\">p(hPa)</th><th style = \"text-align: left;\">T(dC)</th><th style = \"text-align: left;\">U(%)</th><th style = \"text-align: left;\">Dew(dC)</th><th style = \"text-align: left;\">Geo(gpm)</th><th style = \"text-align: left;\">Geo(gpft)</th><th style = \"text-align: left;\">Wdir(d)</th><th style = \"text-align: left;\">Wspd(m/s)</th><th style = \"text-align: left;\">Asc(m/m)</th><th style = \"text-align: left;\">Avg Asc(m/m)</th><th style = \"text-align: left;\">Azimuth(d)</th><th style = \"text-align: left;\">Range(m)</th><th style = \"text-align: left;\">Elevation(d)</th></tr><tr class = \"subheader headerLastRow\"><th class = \"rowNumber\" style = \"font-weight: bold; text-align: right;\"></th><th title = \"String15\" style = \"text-align: left;\">String15</th><th title = \"Float64\" style = \"text-align: left;\">Float64</th><th title = \"Float64\" style = \"text-align: left;\">Float64</th><th title = \"Float64\" style = \"text-align: left;\">Float64</th><th title = \"Float64\" style = \"text-align: left;\">Float64</th><th title = \"Float64\" style = \"text-align: left;\">Float64</th><th title = \"Float64\" style = \"text-align: left;\">Float64</th><th title = \"Float64\" style = \"text-align: left;\">Float64</th><th title = \"Float64\" style = \"text-align: left;\">Float64</th><th title = \"Float64\" style = \"text-align: left;\">Float64</th><th title = \"Float64\" style = \"text-align: left;\">Float64</th><th title = \"Float64\" style = \"text-align: left;\">Float64</th><th title = \"Float64\" style = \"text-align: left;\">Float64</th><th title = \"Float64\" style = \"text-align: left;\">Float64</th></tr></thead><tbody><tr><td class = \"rowNumber\" style = \"font-weight: bold; text-align: right;\">1</td><td style = \"text-align: left;\">000.00:00</td><td style = \"text-align: right;\">1006.3</td><td style = \"text-align: right;\">24.2</td><td style = \"text-align: right;\">98.0</td><td style = \"text-align: right;\">23.8</td><td style = \"text-align: right;\">15.0</td><td style = \"text-align: right;\">49.1</td><td style = \"text-align: right;\">135.0</td><td style = \"text-align: right;\">4.0</td><td style = \"text-align: right;\">81.4</td><td style = \"text-align: right;\">81.4</td><td style = \"text-align: right;\">37.4</td><td style = \"text-align: right;\">12758.6</td><td style = \"text-align: right;\">0.1</td></tr><tr><td class = \"rowNumber\" style = \"font-weight: bold; text-align: right;\">2</td><td style = \"text-align: left;\">000.01:00</td><td style = \"text-align: right;\">1005.8</td><td style = \"text-align: right;\">24.2</td><td style = \"text-align: right;\">98.9</td><td style = \"text-align: right;\">24.0</td><td style = \"text-align: right;\">19.7</td><td style = \"text-align: right;\">64.5</td><td style = \"text-align: right;\">199.2</td><td style = \"text-align: right;\">5.6</td><td style = \"text-align: right;\">86.1</td><td style = \"text-align: right;\">83.7</td><td style = \"text-align: right;\">37.4</td><td style = \"text-align: right;\">12764.4</td><td style = \"text-align: right;\">0.1</td></tr><tr><td class = \"rowNumber\" style = \"font-weight: bold; text-align: right;\">3</td><td style = \"text-align: left;\">000.02:00</td><td style = \"text-align: right;\">1005.3</td><td style = \"text-align: right;\">24.1</td><td style = \"text-align: right;\">98.9</td><td style = \"text-align: right;\">23.9</td><td style = \"text-align: right;\">24.0</td><td style = \"text-align: right;\">78.9</td><td style = \"text-align: right;\">201.4</td><td style = \"text-align: right;\">5.6</td><td style = \"text-align: right;\">90.6</td><td style = \"text-align: right;\">86.0</td><td style = \"text-align: right;\">37.4</td><td style = \"text-align: right;\">12769.7</td><td style = \"text-align: right;\">0.1</td></tr><tr><td class = \"rowNumber\" style = \"font-weight: bold; text-align: right;\">4</td><td style = \"text-align: left;\">000.03:00</td><td style = \"text-align: right;\">1004.8</td><td style = \"text-align: right;\">24.2</td><td style = \"text-align: right;\">99.1</td><td style = \"text-align: right;\">24.1</td><td style = \"text-align: right;\">28.3</td><td style = \"text-align: right;\">93.0</td><td style = \"text-align: right;\">202.2</td><td style = \"text-align: right;\">5.8</td><td style = \"text-align: right;\">94.9</td><td style = \"text-align: right;\">88.2</td><td style = \"text-align: right;\">37.4</td><td style = \"text-align: right;\">12775.1</td><td style = \"text-align: right;\">0.1</td></tr><tr><td class = \"rowNumber\" style = \"font-weight: bold; text-align: right;\">5</td><td style = \"text-align: left;\">000.04:00</td><td style = \"text-align: right;\">1004.3</td><td style = \"text-align: right;\">24.3</td><td style = \"text-align: right;\">98.9</td><td style = \"text-align: right;\">24.1</td><td style = \"text-align: right;\">32.4</td><td style = \"text-align: right;\">106.4</td><td style = \"text-align: right;\">202.5</td><td style = \"text-align: right;\">6.0</td><td style = \"text-align: right;\">98.9</td><td style = \"text-align: right;\">90.4</td><td style = \"text-align: right;\">37.4</td><td style = \"text-align: right;\">12780.8</td><td style = \"text-align: right;\">0.1</td></tr><tr><td class = \"rowNumber\" style = \"font-weight: bold; text-align: right;\">6</td><td style = \"text-align: left;\">000.05:00</td><td style = \"text-align: right;\">1003.9</td><td style = \"text-align: right;\">24.4</td><td style = \"text-align: right;\">99.1</td><td style = \"text-align: right;\">24.3</td><td style = \"text-align: right;\">36.2</td><td style = \"text-align: right;\">118.8</td><td style = \"text-align: right;\">200.9</td><td style = \"text-align: right;\">6.3</td><td style = \"text-align: right;\">103.4</td><td style = \"text-align: right;\">92.5</td><td style = \"text-align: right;\">37.4</td><td style = \"text-align: right;\">12786.8</td><td style = \"text-align: right;\">0.2</td></tr><tr><td class = \"rowNumber\" style = \"font-weight: bold; text-align: right;\">7</td><td style = \"text-align: left;\">000.06:00</td><td style = \"text-align: right;\">1003.4</td><td style = \"text-align: right;\">24.6</td><td style = \"text-align: right;\">99.1</td><td style = \"text-align: right;\">24.4</td><td style = \"text-align: right;\">40.2</td><td style = \"text-align: right;\">131.9</td><td style = \"text-align: right;\">200.3</td><td style = \"text-align: right;\">6.3</td><td style = \"text-align: right;\">107.5</td><td style = \"text-align: right;\">94.7</td><td style = \"text-align: right;\">37.3</td><td style = \"text-align: right;\">12792.1</td><td style = \"text-align: right;\">0.2</td></tr><tr><td class = \"rowNumber\" style = \"font-weight: bold; text-align: right;\">8</td><td style = \"text-align: left;\">000.07:00</td><td style = \"text-align: right;\">1003.0</td><td style = \"text-align: right;\">24.8</td><td style = \"text-align: right;\">99.3</td><td style = \"text-align: right;\">24.6</td><td style = \"text-align: right;\">44.2</td><td style = \"text-align: right;\">145.0</td><td style = \"text-align: right;\">200.6</td><td style = \"text-align: right;\">6.3</td><td style = \"text-align: right;\">112.1</td><td style = \"text-align: right;\">96.9</td><td style = \"text-align: right;\">37.3</td><td style = \"text-align: right;\">12796.8</td><td style = \"text-align: right;\">0.2</td></tr><tr><td class = \"rowNumber\" style = \"font-weight: bold; text-align: right;\">9</td><td style = \"text-align: left;\">000.08:00</td><td style = \"text-align: right;\">1002.6</td><td style = \"text-align: right;\">24.8</td><td style = \"text-align: right;\">99.3</td><td style = \"text-align: right;\">24.7</td><td style = \"text-align: right;\">47.8</td><td style = \"text-align: right;\">156.8</td><td style = \"text-align: right;\">201.0</td><td style = \"text-align: right;\">6.3</td><td style = \"text-align: right;\">115.8</td><td style = \"text-align: right;\">99.0</td><td style = \"text-align: right;\">37.3</td><td style = \"text-align: right;\">12801.5</td><td style = \"text-align: right;\">0.2</td></tr><tr><td class = \"rowNumber\" style = \"font-weight: bold; text-align: right;\">10</td><td style = \"text-align: left;\">000.09:00</td><td style = \"text-align: right;\">1002.2</td><td style = \"text-align: right;\">25.0</td><td style = \"text-align: right;\">99.1</td><td style = \"text-align: right;\">24.9</td><td style = \"text-align: right;\">50.7</td><td style = \"text-align: right;\">166.3</td><td style = \"text-align: right;\">201.8</td><td style = \"text-align: right;\">6.4</td><td style = \"text-align: right;\">118.9</td><td style = \"text-align: right;\">101.0</td><td style = \"text-align: right;\">37.3</td><td style = \"text-align: right;\">12806.4</td><td style = \"text-align: right;\">0.2</td></tr><tr><td class = \"rowNumber\" style = \"font-weight: bold; text-align: right;\">11</td><td style = \"text-align: left;\">000.10:00</td><td style = \"text-align: right;\">1001.9</td><td style = \"text-align: right;\">25.2</td><td style = \"text-align: right;\">99.3</td><td style = \"text-align: right;\">25.0</td><td style = \"text-align: right;\">53.6</td><td style = \"text-align: right;\">175.8</td><td style = \"text-align: right;\">202.6</td><td style = \"text-align: right;\">6.5</td><td style = \"text-align: right;\">122.2</td><td style = \"text-align: right;\">102.9</td><td style = \"text-align: right;\">37.3</td><td style = \"text-align: right;\">12812.1</td><td style = \"text-align: right;\">0.2</td></tr><tr><td class = \"rowNumber\" style = \"font-weight: bold; text-align: right;\">12</td><td style = \"text-align: left;\">000.11:00</td><td style = \"text-align: right;\">1001.7</td><td style = \"text-align: right;\">25.4</td><td style = \"text-align: right;\">99.3</td><td style = \"text-align: right;\">25.3</td><td style = \"text-align: right;\">55.8</td><td style = \"text-align: right;\">183.0</td><td style = \"text-align: right;\">202.7</td><td style = \"text-align: right;\">6.6</td><td style = \"text-align: right;\">124.7</td><td style = \"text-align: right;\">104.7</td><td style = \"text-align: right;\">37.3</td><td style = \"text-align: right;\">12818.5</td><td style = \"text-align: right;\">0.2</td></tr><tr><td class = \"rowNumber\" style = \"font-weight: bold; text-align: right;\">13</td><td style = \"text-align: left;\">000.12:00</td><td style = \"text-align: right;\">1001.3</td><td style = \"text-align: right;\">25.4</td><td style = \"text-align: right;\">99.3</td><td style = \"text-align: right;\">25.3</td><td style = \"text-align: right;\">59.2</td><td style = \"text-align: right;\">194.1</td><td style = \"text-align: right;\">201.3</td><td style = \"text-align: right;\">6.5</td><td style = \"text-align: right;\">128.3</td><td style = \"text-align: right;\">106.5</td><td style = \"text-align: right;\">37.3</td><td style = \"text-align: right;\">12825.5</td><td style = \"text-align: right;\">0.3</td></tr><tr><td style = \"text-align: right;\">&vellip;</td><td style = \"text-align: right;\">&vellip;</td><td style = \"text-align: right;\">&vellip;</td><td style = \"text-align: right;\">&vellip;</td><td style = \"text-align: right;\">&vellip;</td><td style = \"text-align: right;\">&vellip;</td><td style = \"text-align: right;\">&vellip;</td><td style = \"text-align: right;\">&vellip;</td><td style = \"text-align: right;\">&vellip;</td><td style = \"text-align: right;\">&vellip;</td><td style = \"text-align: right;\">&vellip;</td><td style = \"text-align: right;\">&vellip;</td><td style = \"text-align: right;\">&vellip;</td><td style = \"text-align: right;\">&vellip;</td><td style = \"text-align: right;\">&vellip;</td></tr><tr><td class = \"rowNumber\" style = \"font-weight: bold; text-align: right;\">3484</td><td style = \"text-align: left;\">083.22:00</td><td style = \"text-align: right;\">93.0</td><td style = \"text-align: right;\">-83.0</td><td style = \"text-align: right;\">27.5</td><td style = \"text-align: right;\">-90.4</td><td style = \"text-align: right;\">16979.8</td><td style = \"text-align: right;\">55708.0</td><td style = \"text-align: right;\">115.7</td><td style = \"text-align: right;\">15.7</td><td style = \"text-align: right;\">179.8</td><td style = \"text-align: right;\">211.5</td><td style = \"text-align: right;\">2.3</td><td style = \"text-align: right;\">25154.4</td><td style = \"text-align: right;\">34.0</td></tr><tr><td class = \"rowNumber\" style = \"font-weight: bold; text-align: right;\">3485</td><td style = \"text-align: left;\">083.23:00</td><td style = \"text-align: right;\">92.9</td><td style = \"text-align: right;\">-83.0</td><td style = \"text-align: right;\">27.5</td><td style = \"text-align: right;\">-90.4</td><td style = \"text-align: right;\">16982.1</td><td style = \"text-align: right;\">55715.5</td><td style = \"text-align: right;\">115.6</td><td style = \"text-align: right;\">15.4</td><td style = \"text-align: right;\">179.7</td><td style = \"text-align: right;\">211.5</td><td style = \"text-align: right;\">2.2</td><td style = \"text-align: right;\">25177.4</td><td style = \"text-align: right;\">34.0</td></tr><tr><td class = \"rowNumber\" style = \"font-weight: bold; text-align: right;\">3486</td><td style = \"text-align: left;\">083.24:00</td><td style = \"text-align: right;\">92.9</td><td style = \"text-align: right;\">-83.1</td><td style = \"text-align: right;\">27.5</td><td style = \"text-align: right;\">-90.4</td><td style = \"text-align: right;\">16985.3</td><td style = \"text-align: right;\">55725.9</td><td style = \"text-align: right;\">115.4</td><td style = \"text-align: right;\">15.2</td><td style = \"text-align: right;\">180.0</td><td style = \"text-align: right;\">211.5</td><td style = \"text-align: right;\">2.2</td><td style = \"text-align: right;\">25200.3</td><td style = \"text-align: right;\">34.0</td></tr><tr><td class = \"rowNumber\" style = \"font-weight: bold; text-align: right;\">3487</td><td style = \"text-align: left;\">083.25:00</td><td style = \"text-align: right;\">92.8</td><td style = \"text-align: right;\">-83.2</td><td style = \"text-align: right;\">27.5</td><td style = \"text-align: right;\">-90.5</td><td style = \"text-align: right;\">16988.1</td><td style = \"text-align: right;\">55735.3</td><td style = \"text-align: right;\">115.2</td><td style = \"text-align: right;\">14.9</td><td style = \"text-align: right;\">180.2</td><td style = \"text-align: right;\">211.5</td><td style = \"text-align: right;\">2.2</td><td style = \"text-align: right;\">25222.7</td><td style = \"text-align: right;\">34.0</td></tr><tr><td class = \"rowNumber\" style = \"font-weight: bold; text-align: right;\">3488</td><td style = \"text-align: left;\">083.26:00</td><td style = \"text-align: right;\">92.8</td><td style = \"text-align: right;\">-83.2</td><td style = \"text-align: right;\">27.5</td><td style = \"text-align: right;\">-90.6</td><td style = \"text-align: right;\">16990.8</td><td style = \"text-align: right;\">55744.1</td><td style = \"text-align: right;\">114.9</td><td style = \"text-align: right;\">14.7</td><td style = \"text-align: right;\">180.4</td><td style = \"text-align: right;\">211.5</td><td style = \"text-align: right;\">2.1</td><td style = \"text-align: right;\">25244.9</td><td style = \"text-align: right;\">33.9</td></tr><tr><td class = \"rowNumber\" style = \"font-weight: bold; text-align: right;\">3489</td><td style = \"text-align: left;\">083.27:00</td><td style = \"text-align: right;\">92.7</td><td style = \"text-align: right;\">-83.3</td><td style = \"text-align: right;\">27.5</td><td style = \"text-align: right;\">-90.6</td><td style = \"text-align: right;\">16993.6</td><td style = \"text-align: right;\">55753.2</td><td style = \"text-align: right;\">114.8</td><td style = \"text-align: right;\">14.8</td><td style = \"text-align: right;\">180.6</td><td style = \"text-align: right;\">211.4</td><td style = \"text-align: right;\">2.1</td><td style = \"text-align: right;\">25265.4</td><td style = \"text-align: right;\">33.9</td></tr><tr><td class = \"rowNumber\" style = \"font-weight: bold; text-align: right;\">3490</td><td style = \"text-align: left;\">083.28:00</td><td style = \"text-align: right;\">92.7</td><td style = \"text-align: right;\">-83.2</td><td style = \"text-align: right;\">27.5</td><td style = \"text-align: right;\">-90.6</td><td style = \"text-align: right;\">16996.3</td><td style = \"text-align: right;\">55762.0</td><td style = \"text-align: right;\">114.9</td><td style = \"text-align: right;\">14.9</td><td style = \"text-align: right;\">181.7</td><td style = \"text-align: right;\">211.4</td><td style = \"text-align: right;\">2.1</td><td style = \"text-align: right;\">25271.0</td><td style = \"text-align: right;\">33.9</td></tr><tr><td class = \"rowNumber\" style = \"font-weight: bold; text-align: right;\">3491</td><td style = \"text-align: left;\">083.29:00</td><td style = \"text-align: right;\">92.7</td><td style = \"text-align: right;\">-83.2</td><td style = \"text-align: right;\">27.5</td><td style = \"text-align: right;\">-90.5</td><td style = \"text-align: right;\">16998.5</td><td style = \"text-align: right;\">55769.5</td><td style = \"text-align: right;\">115.0</td><td style = \"text-align: right;\">15.0</td><td style = \"text-align: right;\">181.2</td><td style = \"text-align: right;\">211.4</td><td style = \"text-align: right;\">2.0</td><td style = \"text-align: right;\">25276.2</td><td style = \"text-align: right;\">33.9</td></tr><tr><td class = \"rowNumber\" style = \"font-weight: bold; text-align: right;\">3492</td><td style = \"text-align: left;\">083.30:00</td><td style = \"text-align: right;\">92.6</td><td style = \"text-align: right;\">-83.1</td><td style = \"text-align: right;\">27.5</td><td style = \"text-align: right;\">-90.5</td><td style = \"text-align: right;\">17001.1</td><td style = \"text-align: right;\">55778.0</td><td style = \"text-align: right;\">114.9</td><td style = \"text-align: right;\">15.1</td><td style = \"text-align: right;\">180.9</td><td style = \"text-align: right;\">211.4</td><td style = \"text-align: right;\">2.0</td><td style = \"text-align: right;\">25281.3</td><td style = \"text-align: right;\">33.9</td></tr><tr><td class = \"rowNumber\" style = \"font-weight: bold; text-align: right;\">3493</td><td style = \"text-align: left;\">083.31:00</td><td style = \"text-align: right;\">92.6</td><td style = \"text-align: right;\">-83.1</td><td style = \"text-align: right;\">27.5</td><td style = \"text-align: right;\">-90.4</td><td style = \"text-align: right;\">17004.0</td><td style = \"text-align: right;\">55787.4</td><td style = \"text-align: right;\">114.7</td><td style = \"text-align: right;\">15.2</td><td style = \"text-align: right;\">180.6</td><td style = \"text-align: right;\">211.4</td><td style = \"text-align: right;\">2.0</td><td style = \"text-align: right;\">25286.5</td><td style = \"text-align: right;\">33.9</td></tr><tr><td class = \"rowNumber\" style = \"font-weight: bold; text-align: right;\">3494</td><td style = \"text-align: left;\">083.32:00</td><td style = \"text-align: right;\">92.5</td><td style = \"text-align: right;\">-83.0</td><td style = \"text-align: right;\">27.7</td><td style = \"text-align: right;\">-90.4</td><td style = \"text-align: right;\">17006.5</td><td style = \"text-align: right;\">55795.6</td><td style = \"text-align: right;\">114.4</td><td style = \"text-align: right;\">15.4</td><td style = \"text-align: right;\">180.1</td><td style = \"text-align: right;\">211.4</td><td style = \"text-align: right;\">1.9</td><td style = \"text-align: right;\">25291.9</td><td style = \"text-align: right;\">33.9</td></tr><tr><td class = \"rowNumber\" style = \"font-weight: bold; text-align: right;\">3495</td><td style = \"text-align: left;\">083.33:00</td><td style = \"text-align: right;\">92.5</td><td style = \"text-align: right;\">-83.0</td><td style = \"text-align: right;\">27.7</td><td style = \"text-align: right;\">-90.4</td><td style = \"text-align: right;\">17008.9</td><td style = \"text-align: right;\">55803.4</td><td style = \"text-align: right;\">114.3</td><td style = \"text-align: right;\">15.5</td><td style = \"text-align: right;\">179.7</td><td style = \"text-align: right;\">211.4</td><td style = \"text-align: right;\">1.9</td><td style = \"text-align: right;\">25297.4</td><td style = \"text-align: right;\">33.9</td></tr></tbody></table></div>"
      ],
      "text/latex": [
       "\\begin{tabular}{r|cccccccccc}\n",
       "\t& Time & p(hPa) & T(dC) & U(\\%) & Dew(dC) & Geo(gpm) & Geo(gpft) & Wdir(d) & Wspd(m/s) & \\\\\n",
       "\t\\hline\n",
       "\t& String15 & Float64 & Float64 & Float64 & Float64 & Float64 & Float64 & Float64 & Float64 & \\\\\n",
       "\t\\hline\n",
       "\t1 & 000.00:00 & 1006.3 & 24.2 & 98.0 & 23.8 & 15.0 & 49.1 & 135.0 & 4.0 & $\\dots$ \\\\\n",
       "\t2 & 000.01:00 & 1005.8 & 24.2 & 98.9 & 24.0 & 19.7 & 64.5 & 199.2 & 5.6 & $\\dots$ \\\\\n",
       "\t3 & 000.02:00 & 1005.3 & 24.1 & 98.9 & 23.9 & 24.0 & 78.9 & 201.4 & 5.6 & $\\dots$ \\\\\n",
       "\t4 & 000.03:00 & 1004.8 & 24.2 & 99.1 & 24.1 & 28.3 & 93.0 & 202.2 & 5.8 & $\\dots$ \\\\\n",
       "\t5 & 000.04:00 & 1004.3 & 24.3 & 98.9 & 24.1 & 32.4 & 106.4 & 202.5 & 6.0 & $\\dots$ \\\\\n",
       "\t6 & 000.05:00 & 1003.9 & 24.4 & 99.1 & 24.3 & 36.2 & 118.8 & 200.9 & 6.3 & $\\dots$ \\\\\n",
       "\t7 & 000.06:00 & 1003.4 & 24.6 & 99.1 & 24.4 & 40.2 & 131.9 & 200.3 & 6.3 & $\\dots$ \\\\\n",
       "\t8 & 000.07:00 & 1003.0 & 24.8 & 99.3 & 24.6 & 44.2 & 145.0 & 200.6 & 6.3 & $\\dots$ \\\\\n",
       "\t9 & 000.08:00 & 1002.6 & 24.8 & 99.3 & 24.7 & 47.8 & 156.8 & 201.0 & 6.3 & $\\dots$ \\\\\n",
       "\t10 & 000.09:00 & 1002.2 & 25.0 & 99.1 & 24.9 & 50.7 & 166.3 & 201.8 & 6.4 & $\\dots$ \\\\\n",
       "\t11 & 000.10:00 & 1001.9 & 25.2 & 99.3 & 25.0 & 53.6 & 175.8 & 202.6 & 6.5 & $\\dots$ \\\\\n",
       "\t12 & 000.11:00 & 1001.7 & 25.4 & 99.3 & 25.3 & 55.8 & 183.0 & 202.7 & 6.6 & $\\dots$ \\\\\n",
       "\t13 & 000.12:00 & 1001.3 & 25.4 & 99.3 & 25.3 & 59.2 & 194.1 & 201.3 & 6.5 & $\\dots$ \\\\\n",
       "\t14 & 000.13:00 & 1000.9 & 25.4 & 99.1 & 25.3 & 62.5 & 205.2 & 200.6 & 6.5 & $\\dots$ \\\\\n",
       "\t15 & 000.14:00 & 1000.5 & 25.4 & 99.5 & 25.3 & 66.0 & 216.7 & 200.4 & 6.6 & $\\dots$ \\\\\n",
       "\t16 & 000.15:00 & 1000.1 & 25.4 & 99.3 & 25.3 & 69.7 & 228.8 & 200.2 & 6.9 & $\\dots$ \\\\\n",
       "\t17 & 000.16:00 & 999.7 & 25.5 & 99.3 & 25.3 & 73.1 & 239.9 & 199.5 & 7.3 & $\\dots$ \\\\\n",
       "\t18 & 000.17:00 & 999.4 & 25.4 & 99.3 & 25.3 & 76.0 & 249.4 & 198.7 & 7.8 & $\\dots$ \\\\\n",
       "\t19 & 000.18:00 & 999.1 & 25.4 & 99.1 & 25.2 & 78.6 & 257.9 & 199.5 & 8.0 & $\\dots$ \\\\\n",
       "\t20 & 000.19:00 & 998.7 & 25.3 & 99.3 & 25.2 & 82.3 & 270.0 & 199.7 & 7.9 & $\\dots$ \\\\\n",
       "\t21 & 000.20:00 & 998.3 & 25.3 & 99.3 & 25.2 & 85.8 & 281.5 & 199.7 & 7.8 & $\\dots$ \\\\\n",
       "\t22 & 000.21:00 & 997.9 & 25.3 & 98.9 & 25.1 & 88.6 & 290.6 & 199.6 & 7.8 & $\\dots$ \\\\\n",
       "\t23 & 000.22:00 & 997.5 & 25.2 & 99.3 & 25.1 & 92.5 & 303.4 & 199.4 & 8.0 & $\\dots$ \\\\\n",
       "\t24 & 000.23:00 & 997.1 & 25.2 & 99.5 & 25.1 & 96.4 & 316.2 & 199.3 & 8.3 & $\\dots$ \\\\\n",
       "\t25 & 000.24:00 & 996.6 & 25.1 & 99.5 & 25.0 & 100.7 & 330.2 & 198.5 & 8.5 & $\\dots$ \\\\\n",
       "\t26 & 000.25:00 & 996.1 & 25.1 & 98.9 & 24.9 & 104.8 & 344.0 & 197.4 & 8.5 & $\\dots$ \\\\\n",
       "\t27 & 000.26:00 & 995.7 & 25.1 & 98.7 & 24.8 & 108.3 & 355.4 & 197.1 & 8.3 & $\\dots$ \\\\\n",
       "\t28 & 000.27:00 & 995.3 & 25.0 & 98.9 & 24.8 & 111.6 & 366.2 & 197.1 & 8.0 & $\\dots$ \\\\\n",
       "\t29 & 000.28:00 & 995.0 & 25.1 & 98.9 & 24.9 & 114.8 & 376.7 & 197.3 & 7.9 & $\\dots$ \\\\\n",
       "\t30 & 000.29:00 & 994.7 & 25.2 & 99.1 & 25.0 & 117.6 & 385.9 & 197.0 & 8.1 & $\\dots$ \\\\\n",
       "\t$\\dots$ & $\\dots$ & $\\dots$ & $\\dots$ & $\\dots$ & $\\dots$ & $\\dots$ & $\\dots$ & $\\dots$ & $\\dots$ &  \\\\\n",
       "\\end{tabular}\n"
      ],
      "text/plain": [
       "\u001b[1m3495×14 DataFrame\u001b[0m\n",
       "\u001b[1m  Row \u001b[0m│\u001b[1m Time      \u001b[0m\u001b[1m p(hPa)  \u001b[0m\u001b[1m T(dC)   \u001b[0m\u001b[1m U(%)    \u001b[0m\u001b[1m Dew(dC) \u001b[0m\u001b[1m Geo(gpm) \u001b[0m\u001b[1m Geo(gpft) \u001b[0m\u001b[1m Wd\u001b[0m ⋯\n",
       "      │\u001b[90m String15  \u001b[0m\u001b[90m Float64 \u001b[0m\u001b[90m Float64 \u001b[0m\u001b[90m Float64 \u001b[0m\u001b[90m Float64 \u001b[0m\u001b[90m Float64  \u001b[0m\u001b[90m Float64   \u001b[0m\u001b[90m Fl\u001b[0m ⋯\n",
       "──────┼─────────────────────────────────────────────────────────────────────────\n",
       "    1 │ 000.00:00   1006.3     24.2     98.0     23.8      15.0       49.1     ⋯\n",
       "    2 │ 000.01:00   1005.8     24.2     98.9     24.0      19.7       64.5\n",
       "    3 │ 000.02:00   1005.3     24.1     98.9     23.9      24.0       78.9\n",
       "    4 │ 000.03:00   1004.8     24.2     99.1     24.1      28.3       93.0\n",
       "    5 │ 000.04:00   1004.3     24.3     98.9     24.1      32.4      106.4     ⋯\n",
       "    6 │ 000.05:00   1003.9     24.4     99.1     24.3      36.2      118.8\n",
       "    7 │ 000.06:00   1003.4     24.6     99.1     24.4      40.2      131.9\n",
       "    8 │ 000.07:00   1003.0     24.8     99.3     24.6      44.2      145.0\n",
       "    9 │ 000.08:00   1002.6     24.8     99.3     24.7      47.8      156.8     ⋯\n",
       "   10 │ 000.09:00   1002.2     25.0     99.1     24.9      50.7      166.3\n",
       "   11 │ 000.10:00   1001.9     25.2     99.3     25.0      53.6      175.8\n",
       "  ⋮   │     ⋮         ⋮        ⋮        ⋮        ⋮        ⋮          ⋮         ⋱\n",
       " 3486 │ 083.24:00     92.9    -83.1     27.5    -90.4   16985.3    55725.9\n",
       " 3487 │ 083.25:00     92.8    -83.2     27.5    -90.5   16988.1    55735.3     ⋯\n",
       " 3488 │ 083.26:00     92.8    -83.2     27.5    -90.6   16990.8    55744.1\n",
       " 3489 │ 083.27:00     92.7    -83.3     27.5    -90.6   16993.6    55753.2\n",
       " 3490 │ 083.28:00     92.7    -83.2     27.5    -90.6   16996.3    55762.0\n",
       " 3491 │ 083.29:00     92.7    -83.2     27.5    -90.5   16998.5    55769.5     ⋯\n",
       " 3492 │ 083.30:00     92.6    -83.1     27.5    -90.5   17001.1    55778.0\n",
       " 3493 │ 083.31:00     92.6    -83.1     27.5    -90.4   17004.0    55787.4\n",
       " 3494 │ 083.32:00     92.5    -83.0     27.7    -90.4   17006.5    55795.6\n",
       " 3495 │ 083.33:00     92.5    -83.0     27.7    -90.4   17008.9    55803.4     ⋯\n",
       "\u001b[36m                                                 7 columns and 3474 rows omitted\u001b[0m"
      ]
     },
     "execution_count": 6,
     "metadata": {},
     "output_type": "execute_result"
    }
   ],
   "source": [
    "# 1 file example\n",
    "\n",
    "station = lowercase(\"Chennai\") # Ahmedabad #2 is MISDA DUE TO SIGNAL FAILED\n",
    "files = soundingfiles(station)\n",
    "#filter(x -> occursin(r\"(?i)(May|Standard).*(\\.txt)$(?-i)\",x), readdir(joinpath(reldatapath, station) ))\n",
    "\n",
    "# dt = imd_file_date(files[ui[ord[8]]])\n",
    "\n",
    "# deduplicate sounding times\n",
    "fdt = imd_file_date.(files)\n",
    "fdt12 = round.(fdt, Dates.Hour(12))\n",
    "ui = uniqueidx(fdt12)\n",
    "fdt[ui] # exact datetimes with duplicates removed\n",
    "ord = sortperm(fdt[ui]) # guarantees ascending order\n",
    "\n",
    "# reader functions\n",
    "\n",
    "\n",
    "\"number of headerlines\" # no longer needed\n",
    "function hdrs( station, file )\n",
    "    # these visakhapatnam files have fewer headerlines\n",
    "    bollox = [\"43150-20230527-00-Standard-Summary.txt\",\n",
    "              ] # have 3 headerlines\n",
    "    alpharng = [\"43150-20230605-00-Standard-Summary.txt\", \"43150-20230609-00-Standard-Summary.txt\"] # files later than this have 3 headerlines\n",
    "    (station==\"visakhapatnam\" && file<alpha && !(file in bollox) ) ? 7 : 3\n",
    "end\n",
    "\n",
    "\"single-character replacer handles tabs and \\u00b0 degree character °\"\n",
    "stripjunk(f) = IOBuffer(replace(read(f), UInt8('\\t') => UInt8(' '), UInt16('\\u00b0') => UInt8('d')) )\n",
    "\n",
    "\"read the file and return a DataFrame\"\n",
    "# function read_sonde( station, file; header=hdrs(station,file) )\n",
    "function read_sonde( file )\n",
    "    open( file, \"r\" ) do io\n",
    "        # skip header by reading up through a blank line\n",
    "        hdln = readline( io )\n",
    "        while !isempty(hdln)\n",
    "            hdln = readline( io )\n",
    "        end\n",
    "        CSV.read( stripjunk( io ),\n",
    "            DataFrame, delim=\",\", stripwhitespace=true, ignorerepeated=true ) # header=header\n",
    "    end\n",
    "end\n",
    "\n",
    "# test read\n",
    "@show joinpath(reldatapath, station, files[ui[ord[2]]])\n",
    "df = read_sonde( joinpath(reldatapath, station, files[ui[ord[2]]]) )\n",
    "df"
   ]
  },
  {
   "cell_type": "markdown",
   "id": "6cfa1b52-0c3f-4f39-8901-10e198be829d",
   "metadata": {},
   "source": [
    "# Column headers \n",
    "\n",
    "Chennai, Karaikal, Kochi, Kolkata, Ahmedabad, Pune\n",
    "```\n",
    "Time,     p(hPa),    T(?C),    U(%),      Dew(?C),     Geo(gpm),   Geo(gpft),    Wdir(?),    Wspd(m/s),    Asc(m/m),    Avg Asc(m/m),    Azimuth(?),   Range(m),    Elevation(?),\n",
    "```\n",
    "Mangalore, PortBlair\n",
    "```\n",
    "Time,\tP(hPa),\tT(C),\tU(%),\tDew(C),\tGeo(gpm),\tGeo(gpft),\tWdir(d),\tWspd(m/s),\tAsc(m/m),\tAvgAsc(m/m)\n",
    "```\n",
    "Visakhapatnam\n",
    "43150-20230512-00-Standard-Summary.txt, 43150-20230520-00-Standard-Summary.txt: 3 headerlines\n",
    "```\n",
    "Time,\tP(hPa),\tT(C),\tU(%),\tDew(C),\tGeo(gpm),\tGeo(gpft),\tWdir(d),\tWspd(m/s),\tAsc(m/m),\tAvgAsc(m/m)\n",
    "```\n",
    "all other Visakhapatnam: 7 headerlines\n",
    "\n",
    "Simon edited the 2 Vsk files to make them have 7"
   ]
  },
  {
   "cell_type": "code",
   "execution_count": 7,
   "id": "6921bd02-0e4c-4592-8d56-7dbd8c9c5748",
   "metadata": {},
   "outputs": [
    {
     "data": {
      "text/plain": [
       "2-element Vector{Vector{String}}:\n",
       " [\"Time\", \"p(hPa)\", \"T(?C)\", \"U(%)\", \"Dew(?C)\", \"Geo(gpm)\", \"Geo(gpft)\", \"Wdir(?)\", \"Wspd(m/s)\", \"Asc(m/m)\", \"Avg Asc(m/m)\", \"Azimuth(?)\", \"Range(m)\", \"Elevation(?)\"]\n",
       " [\"Time\", \"P(hPa)\", \"T(C)\", \"U(%)\", \"Dew(C)\", \"Geo(gpm)\", \"Geo(gpft)\", \"Wdir(d)\", \"Wspd(m/s)\", \"Asc(m/m)\", \"AvgAsc(m/m)\"]"
      ]
     },
     "execution_count": 7,
     "metadata": {},
     "output_type": "execute_result"
    }
   ],
   "source": [
    "NamePatterns = [ \n",
    "    [\"Time\", \"p(hPa)\", \"T(?C)\", \"U(%)\", \"Dew(?C)\", \"Geo(gpm)\", \"Geo(gpft)\", \"Wdir(?)\", \"Wspd(m/s)\", \"Asc(m/m)\", \"Avg Asc(m/m)\", \"Azimuth(?)\", \"Range(m)\", \"Elevation(?)\"], #Visakhapatnam style 1\n",
    "    [\"Time\", \"P(hPa)\", \"T(C)\", \"U(%)\", \"Dew(C)\", \"Geo(gpm)\", \"Geo(gpft)\", \"Wdir(d)\", \"Wspd(m/s)\", \"Asc(m/m)\", \"AvgAsc(m/m)\"] # Mangalore, Visakhapatnam\n",
    "    ]"
   ]
  },
  {
   "cell_type": "code",
   "execution_count": 8,
   "id": "315e771f-6657-47d9-b0d1-77c3bdf32502",
   "metadata": {},
   "outputs": [
    {
     "data": {
      "text/plain": [
       "m2n (generic function with 1 method)"
      ]
     },
     "execution_count": 8,
     "metadata": {},
     "output_type": "execute_result"
    }
   ],
   "source": [
    "\"extract column data by name\"\n",
    "function get_sounding_cols(df, station)\n",
    "    if isempty(df)\n",
    "        # p = [missing]\n",
    "        # T = [missing]\n",
    "        # Td = [missing]\n",
    "        # rh= [missing]\n",
    "        # z = [missing]\n",
    "        # wspd = [missing]\n",
    "        # wdir = [missing]\n",
    "        p = []\n",
    "        T = []\n",
    "        Td = []\n",
    "        rh= []\n",
    "        z = []\n",
    "        wspd = []\n",
    "        wdir = []\n",
    "    else\n",
    "        if in(station, [\"mangalore\", \"visakhapatnam\", \"portblair\"])\n",
    "            p = df[!,\"P(hPa)\"][:]\n",
    "            T = df[!,\"T(C)\"][:]\n",
    "            Td = df[!,\"Dew(C)\"][:]\n",
    "            rh = df[!,\"U(%)\"][:]\n",
    "            z = df[!,\"Geo(gpm)\"][:]\n",
    "            wspd = df[!,\"Wspd(m/s)\"][:]\n",
    "            wdir = df[!,\"Wdir(d)\"][:]\n",
    "        else # slightly different keys\n",
    "            p = df[!,\"p(hPa)\"][:]\n",
    "            rh = df[!,\"U(%)\"][:]\n",
    "            z = df[!,\"Geo(gpm)\"][:]\n",
    "            wspd = df[!,\"Wspd(m/s)\"][:]\n",
    "            if \"T(dC)\" in names(df)\n",
    "                T = df[!,\"T(dC)\"][:]\n",
    "                Td = df[!,\"Dew(dC)\"][:]\n",
    "                wdir = df[!,\"Wdir(d)\"][:]\n",
    "            elseif \"T(Deg.C)\" in names(df) # another variation\n",
    "                T = df[!,\"T(Deg.C)\"][:]\n",
    "                Td = df[!,\"Dew(Deg.C)\"][:]\n",
    "                wdir = df[!,\"Wdir(Deg)\"][:]\n",
    "            end\n",
    "\n",
    "        end\n",
    "    end\n",
    "    u = -wspd .* sin.(pi/180.0*wdir)\n",
    "    v = -wspd .* cos.(pi/180.0*wdir)\n",
    "    \n",
    "    return p, T,Td, rh,z, wspd,wdir, u,v\n",
    "end\n",
    "\n",
    "p, T,Td, rh,z, wspd,wdir, u,v = get_sounding_cols(df, station)\n",
    "\n",
    "m2n(x) = ismissing(x) ? NaN : x\n",
    "\n",
    "#=\n",
    "# test plot\n",
    "clf()\n",
    "plot( m2n.(T), m2n.(p), label=\"Temperature (C)\")\n",
    "ylim(1000, 20)\n",
    "station\n",
    "=#"
   ]
  },
  {
   "cell_type": "code",
   "execution_count": 9,
   "id": "c700bd3d-fa82-40c0-a6cf-b5fa44a62768",
   "metadata": {},
   "outputs": [
    {
     "data": {
      "text/plain": [
       "th (generic function with 1 method)"
      ]
     },
     "execution_count": 9,
     "metadata": {},
     "output_type": "execute_result"
    }
   ],
   "source": [
    "# sounding variable functions\n",
    "\n",
    "meanfinite(x, dims) = sum(isfinite(x) ? x : 0, dims=dims)./sum(isfinite, x, dims=dims)\n",
    "anom(x; dims=ndims(x)) = x .- meanfinite(x, dims)\n",
    "\n",
    "\"Exner function T/θ = (p/p_0)^Rd/cp\"\n",
    "Exner(p) = (p/1000.0)^0.287 # = T/theta\n",
    "th(T,p) = T/Exner(p)"
   ]
  },
  {
   "cell_type": "code",
   "execution_count": 10,
   "id": "302bcbb0-1081-483c-9b4d-bf583a2a27f2",
   "metadata": {},
   "outputs": [
    {
     "data": {
      "image/png": "[encoded data removed]",
      "text/plain": [
       "Figure(PyObject <Figure size 640x480 with 1 Axes>)"
      ]
     },
     "metadata": {},
     "output_type": "display_data"
    },
    {
     "data": {
      "text/plain": [
       "1-element Vector{PyCall.PyObject}:\n",
       " PyObject <matplotlib.lines.Line2D object at 0x123764610>"
      ]
     },
     "execution_count": 10,
     "metadata": {},
     "output_type": "execute_result"
    }
   ],
   "source": [
    "# pressure levels to interploate to\n",
    "dp = 5.0\n",
    "plevs = 1020.0:-dp:0.0\n",
    "\n",
    "# test interpolation\n",
    "if !isempty(df)\n",
    "    upi = uniqueidx(p)\n",
    "    plot(plevs, m2n.(itp(u[upi], p[upi])[plevs]))\n",
    "    # test averaging\n",
    "    # plot(plevs, pavg(u, p plevs=plevs))\n",
    "    \n",
    "    plot(m2n.(p), m2n.(wspd))\n",
    "    u_pl = pavg(u, p, plevs=plevs)\n",
    "    # plev is the level geometrically above and dynamically (pressure) below the binned observations\n",
    "    # probably suitable for pcolormesh\n",
    "    plot(plevs.+dp/2, u_pl)\n",
    "end"
   ]
  },
  {
   "cell_type": "code",
   "execution_count": 11,
   "id": "80945a7f-368a-411c-860b-e3211116ce1e",
   "metadata": {},
   "outputs": [
    {
     "data": {
      "text/plain": [
       "45×2 Matrix{Any}:\n",
       " \"01MAY2023VSK.txt\"                        2023-05-01T00:00:00\n",
       " \"02MAY2023VSK.txt\"                        2023-05-02T00:00:00\n",
       " \"03MAY2023VSK.txt\"                        2023-05-03T00:00:00\n",
       " \"04MAY2023VSK.txt\"                        2023-05-04T00:00:00\n",
       " \"05MAY2023VSK.txt\"                        2023-05-05T00:00:00\n",
       " \"06MAY2023VSK.txt\"                        2023-05-06T00:00:00\n",
       " \"07MAY2023VSK.txt\"                        2023-05-07T00:00:00\n",
       " \"08MAY2023VSK.txt\"                        2023-05-08T00:00:00\n",
       " \"09MAY2023VSK.txt\"                        2023-05-09T00:00:00\n",
       " \"10MAY2023VSK.txt\"                        2023-05-10T00:00:00\n",
       " \"43150-20230511-00-Standard-Summary.txt\"  2023-05-11T00:00:00\n",
       " \"43150-20230512-00-Standard-Summary.txt\"  2023-05-12T00:00:00\n",
       " \"43150-20230513-00-Standard-Summary.txt\"  2023-05-13T00:00:00\n",
       " ⋮                                         \n",
       " \"43150-20230603-00-Standard-Summary.txt\"  2023-06-03T00:00:00\n",
       " \"43150-20230604-00-Standard-Summary.txt\"  2023-06-04T00:00:00\n",
       " \"43150-20230605-00-Standard-Summary.txt\"  2023-06-05T00:00:00\n",
       " \"43150-20230606-00-Standard-Summary.txt\"  2023-06-06T00:00:00\n",
       " \"43150-20230607-00-Standard-Summary.txt\"  2023-06-07T00:00:00\n",
       " \"43150-20230608-00-Standard-Summary.txt\"  2023-06-08T00:00:00\n",
       " \"43150-20230609-00-Standard-Summary.txt\"  2023-06-09T00:00:00\n",
       " \"43150-20230610-00-Standard-Summary.txt\"  2023-06-10T00:00:00\n",
       " \"43150-20230611-00-Standard-Summary.txt\"  2023-06-11T00:00:00\n",
       " \"43150-20230612-00-Standard-Summary.txt\"  2023-06-12T00:00:00\n",
       " \"43150-20230613-00-Standard-Summary.txt\"  2023-06-13T00:00:00\n",
       " \"43150-20230614-00-Standard-Summary.txt\"  2023-06-14T00:00:00"
      ]
     },
     "execution_count": 11,
     "metadata": {},
     "output_type": "execute_result"
    }
   ],
   "source": [
    "# inventory files, times\n",
    "station=\"visakhapatnam\" # \"visakhapatnam\"\n",
    "    # read standard named files in the station's directory\n",
    "    files = soundingfiles(station)\n",
    "    # deduplicate sounding times\n",
    "    fdt = imd_file_date.(files)\n",
    "    fdt12 = round.(fdt, Dates.Hour(12))\n",
    "    ui = uniqueidx(fdt12)\n",
    "    fdt[ui] # exact datetimes with duplicates removed\n",
    "    ord = sortperm(fdt[ui]) # guarantees ascending order\n",
    "    cat(files[ui[ord]], fdt[ui[ord]], dims=2)"
   ]
  },
  {
   "cell_type": "code",
   "execution_count": 12,
   "id": "f1299acb-b370-4b09-b224-1b946db4a454",
   "metadata": {},
   "outputs": [
    {
     "name": "stdout",
     "output_type": "stream",
     "text": [
      "files[ti] = \"01MAY2023VSK.txt\"\n",
      "files[ti] = \"02MAY2023VSK.txt\"\n",
      "files[ti] = \"03MAY2023VSK.txt\"\n",
      "files[ti] = \"04MAY2023VSK.txt\"\n",
      "files[ti] = \"05MAY2023VSK.txt\"\n",
      "files[ti] = \"06MAY2023VSK.txt\"\n",
      "files[ti] = \"07MAY2023VSK.txt\"\n",
      "files[ti] = \"08MAY2023VSK.txt\"\n",
      "files[ti] = \"09MAY2023VSK.txt\"\n",
      "files[ti] = \"10MAY2023VSK.txt\"\n",
      "files[ti] = \"43150-20230511-00-Standard-Summary.txt\"\n",
      "files[ti] = \"43150-20230512-00-Standard-Summary.txt\"\n",
      "files[ti] = \"43150-20230513-00-Standard-Summary.txt\"\n",
      "files[ti] = \"43150-20230514-00-Standard-Summary.txt\"\n",
      "files[ti] = \"43150-20230515-00-Standard-Summary.txt\"\n",
      "files[ti] = \"43150-20230516-00-Standard-Summary.txt\"\n",
      "files[ti] = \"43150-20230517-00-Standard-Summary.txt\"\n",
      "files[ti] = \"43150-20230518-00-Standard-Summary.txt\"\n",
      "files[ti] = \"43150-20230519-00-Standard-Summary.txt\"\n",
      "files[ti] = \"43150-20230520-00-Standard-Summary.txt\"\n",
      "files[ti] = \"43150-20230521-00-Standard-Summary.txt\"\n",
      "files[ti] = \"43150-20230522-00-Standard-Summary.txt\"\n",
      "files[ti] = \"43150-20230523-00-Standard-Summary.txt\"\n",
      "files[ti] = \"43150-20230524-00-Standard-Summary.txt\"\n",
      "files[ti] = \"43150-20230525-00-Standard-Summary.txt\"\n",
      "files[ti] = \"43150-20230526-00-Standard-Summary.txt\"\n",
      "files[ti] = \"43150-20230527-00-Standard-Summary.txt\"\n",
      "files[ti] = \"43150-20230528-00-Standard-Summary.txt\"\n",
      "files[ti] = \"43150-20230529-00-Standard-Summary.txt\"\n",
      "files[ti] = \"43150-20230530-00-Standard-Summary.txt\"\n",
      "files[ti] = \"43150-20230531-00-Standard-Summary.txt\"\n",
      "files[ti] = \"43150-20230601-00-Standard-Summary.txt\"\n",
      "files[ti] = \"43150-20230602-00-Standard-Summary.txt\"\n",
      "files[ti] = \"43150-20230603-00-Standard-Summary.txt\"\n",
      "files[ti] = \"43150-20230604-00-Standard-Summary.txt\"\n",
      "files[ti] = \"43150-20230605-00-Standard-Summary.txt\"\n",
      "files[ti] = \"43150-20230606-00-Standard-Summary.txt\"\n",
      "files[ti] = \"43150-20230607-00-Standard-Summary.txt\"\n",
      "files[ti] = \"43150-20230608-00-Standard-Summary.txt\"\n",
      "files[ti] = \"43150-20230609-00-Standard-Summary.txt\"\n",
      "files[ti] = \"43150-20230610-00-Standard-Summary.txt\"\n",
      "files[ti] = \"43150-20230611-00-Standard-Summary.txt\"\n",
      "files[ti] = \"43150-20230612-00-Standard-Summary.txt\"\n",
      "files[ti] = \"43150-20230613-00-Standard-Summary.txt\"\n",
      "files[ti] = \"43150-20230614-00-Standard-Summary.txt\"\n"
     ]
    }
   ],
   "source": [
    "\n",
    "# test read visakhapatanm\n",
    "for ti in ui[ord]\n",
    "    fn = joinpath(reldatapath, station, files[ti])\n",
    "    df = read_sonde( joinpath(reldatapath, station, files[ti]) )\n",
    "    @show files[ti]\n",
    "    if !isempty(df)\n",
    "        # extract ungridded hi-res data\n",
    "        p_, T_,Td_, rh_,z_, wspd_,wdir_, u_,v_ = get_sounding_cols(df, station)\n",
    "    end\n",
    "end"
   ]
  },
  {
   "cell_type": "code",
   "execution_count": 13,
   "id": "45c7a8bc-7e3a-44fa-952e-93ed838e455b",
   "metadata": {},
   "outputs": [
    {
     "data": {
      "text/plain": [
       "count_max_unique_soundings"
      ]
     },
     "execution_count": 13,
     "metadata": {},
     "output_type": "execute_result"
    }
   ],
   "source": [
    "\"count unique soundings from each station, return maximum\"\n",
    "function count_max_unique_soundings(stationnames)\n",
    "    nts = zeros(Int32, length(stationnames))\n",
    "    \n",
    "    for (sj, station) in enumerate(stationnames)\n",
    "        # read standard named files in the station's directory\n",
    "        files = soundingfiles(station)\n",
    "        # deduplicate sounding times\n",
    "        fdt = imd_file_date.(files)\n",
    "        fdt12 = round.(fdt, Dates.Hour(12))\n",
    "        ui = uniqueidx(fdt12)\n",
    "        fdt[ui] # exact datetimes with duplicates removed\n",
    "        ord = sortperm(fdt[ui]) # guarantees ascending order\n",
    "        nts[sj] = length(ui)\n",
    "        # @show station, nts[sj]\n",
    "    end\n",
    "    \n",
    "    nt = maximum(nts)\n",
    "end"
   ]
  },
  {
   "cell_type": "code",
   "execution_count": 14,
   "id": "32493e7d-05c2-474f-852a-5b719e705349",
   "metadata": {},
   "outputs": [
    {
     "data": {
      "text/plain": [
       "grid_imd_soundings!"
      ]
     },
     "execution_count": 14,
     "metadata": {},
     "output_type": "execute_result"
    }
   ],
   "source": [
    "# start over and do a big loop to load and interpolate data to consistent levels\n",
    "\n",
    "# lexical defaults for grid_imd_sondes\n",
    "reldatapath = \"../data/EKAMSAT_IMD/ekamsat\"\n",
    "plevs = 1020.0:-5.0:0.0\n",
    "CamelStations = [\"Ahmedabad\",\"Chennai\",\"Karaikal\",\"Kochi\",\"Kolkata\",\"Mangalore\",\"PortBlair\",\"Pune\",\"Visakhapatnam\"]\n",
    "stationnames = lowercase.(CamelStations)\n",
    "\n",
    "#=\n",
    "# allocate gridded data arrays (pressure, location, launch time)\n",
    "# for grid_imd_soundings! to update in-place.\n",
    "nt = count_max_unique_soundings(stationnames)\n",
    "# nt = 80 # allow for longest station mangalore?(37), extend & trim off extra later\n",
    "time = zeros(DateTime, length(stationnames), nt)\n",
    "T  = NaN.+zeros(Float64, length(plevs), length(stationnames), nt)\n",
    "Td = NaN.+zeros(Float64, length(plevs), length(stationnames), nt)\n",
    "rh = NaN.+zeros(Float64, length(plevs), length(stationnames), nt)\n",
    "z  = NaN.+zeros(Float64, length(plevs), length(stationnames), nt)\n",
    "u  = NaN.+zeros(Float64, length(plevs), length(stationnames), nt)\n",
    "v  = NaN.+zeros(Float64, length(plevs), length(stationnames), nt)\n",
    "=#\n",
    "\n",
    "\"read and grid IMD soundings to pressure levels.\"\n",
    "function grid_imd_soundings!( time, T, Td, rh, z, u, v; \n",
    "                              plevs=plevs, stationnames=stationnames, reldatapath=reldatapath )\n",
    "    for (sj, station) in enumerate(stationnames)\n",
    "        @show station\n",
    "        # read standard named files in the station's directory\n",
    "        files = soundingfiles(station)\n",
    "        # sj += 1 # gridded station index\n",
    "        # deduplicate sounding times\n",
    "        fdt = imd_file_date.(files)\n",
    "        fdt12 = round.(fdt, Dates.Hour(12))\n",
    "        ui = uniqueidx(fdt12)\n",
    "        fdt[ui] # exact datetimes with duplicates removed\n",
    "        ord = sortperm(fdt[ui]) # guarantees ascending order\n",
    "        #collect(zip( files[ui[ord]]], fdt[ui[ord]] ))\n",
    "        \n",
    "        tj = 0\n",
    "        for ti in ui[ord]\n",
    "            fn = joinpath(reldatapath, station, files[ti])\n",
    "            df = read_sonde( joinpath(reldatapath, station, files[ti]) )\n",
    "            if !isempty(df)\n",
    "                # extract ungridded hi-res data\n",
    "                p_, T_,Td_, rh_,z_, wspd_,wdir_, u_,v_ = get_sounding_cols(df, station)\n",
    "                # avg variables at the next time level\n",
    "                tj += 1\n",
    "                # update arrays in place\n",
    "                time[sj,tj] = fdt[ti]\n",
    "                T[  :, sj, tj] .= pavg(T_ , p_, plevs=plevs)\n",
    "                Td[ :, sj, tj] .= pavg(Td_, p_, plevs=plevs)\n",
    "                rh[ :, sj, tj] .= pavg(rh_, p_, plevs=plevs)\n",
    "                z[  :, sj, tj] .= pavg(z_ , p_, plevs=plevs)\n",
    "                u[  :, sj, tj] .= pavg(u_ , p_, plevs=plevs)\n",
    "                v[  :, sj, tj] .= pavg(v_ , p_, plevs=plevs)\n",
    "            else\n",
    "                tj += 1\n",
    "                time[sj,tj] =fdt[ti]\n",
    "                # leave an empty sounding when missing\n",
    "            end\n",
    "        end\n",
    "    end\n",
    "    return # nothing\n",
    "end"
   ]
  },
  {
   "cell_type": "code",
   "execution_count": 15,
   "id": "c7d99010-15fb-49b3-9b6f-850350e9595d",
   "metadata": {},
   "outputs": [
    {
     "data": {
      "text/plain": [
       "plot_timeheights"
      ]
     },
     "execution_count": 15,
     "metadata": {},
     "output_type": "execute_result"
    }
   ],
   "source": [
    "# make time-height plot for each station\n",
    "\n",
    "\"sftp put file f to rendezvous.apl.washington.edu /incoming/sonde\" # clunky, works\n",
    "function put_file_apl( f )\n",
    "    sftp_str = \"sftp -P 2022 -i ~/.ssh/id_ed25519 sdeszoek@rendezvous.apl.washington.edu <<< 'put $(f) /incoming/sonde'\"\n",
    "    run(`sh -c $(sftp_str)`)\n",
    "end\n",
    "\n",
    "\"output days from offset\"\n",
    "mpldate(timestamp, offset=DateTime(2023,4,30,0,0,0)) = Dates.value(timestamp-offset)/1000/60/60/24\n",
    "#invmpldate( mlpd, offset=DateTime(2023,4,30,0,0,0) ) = mpldate+Dates.value(offset)/1000/60/60/24\n",
    "mplday(d; offset=Date(2023,4,30)) = day(Day(d) + offset) # ticks\n",
    "\n",
    "\"Update plot all u,rh sounding timeheight profiles and put to APL.\"\n",
    "function plot_timeheights( time, T, Td, rh, z, u, v )\n",
    "    # count times at each station\n",
    "    nts = sum(time.>DateTime(1000), dims=2)\n",
    "    for sj in 1:9\n",
    "        clf()\n",
    "        subplot(2,1,1)\n",
    "        pcolormesh( mpldate.(time[sj,1:nts[sj]]), plevs, u[:,sj,1:nts[sj]], vmin=-10, vmax=10, cmap=ColorMap(\"RdYlBu_r\") )\n",
    "        ylim(1000, 100)\n",
    "        ylabel(\"u (m/s)\")\n",
    "        xtl,~ = xticks()\n",
    "        xticks( xtl, mplday.(xtl,offset=Date(2023,4,30)) )\n",
    "        colorbar()\n",
    "        title(CamelStations[sj])\n",
    "    \n",
    "        subplot(2,1,2)\n",
    "        pcolormesh( mpldate.(time[sj,1:nts[sj]]), plevs, rh[:,sj,1:nts[sj]], cmap=ColorMap(\"RdYlBu_r\"))\n",
    "        ylim(1000, 100)\n",
    "        ylabel(\"RH (%)\")\n",
    "        xtl,~ = xticks()\n",
    "        xticks( xtl, mplday.(xtl,offset=Date(2023,4,30)) )\n",
    "        colorbar()\n",
    "        xlabel(Dates.format(time[sj,1], \"yyyy U\"))\n",
    "    \n",
    "        figfile = \"../plot/$(CamelStations[sj])_u_rh.svg\"\n",
    "        savefig( figfile )\n",
    "        put_file_apl( figfile )\n",
    "    end\n",
    "end"
   ]
  },
  {
   "cell_type": "code",
   "execution_count": 21,
   "id": "1586c664-c4dd-4155-8ab1-315241ab2b2b",
   "metadata": {},
   "outputs": [
    {
     "data": {
      "text/plain": [
       "write_new_grid_sondes"
      ]
     },
     "execution_count": 21,
     "metadata": {},
     "output_type": "execute_result"
    }
   ],
   "source": [
    "\"Write out pressure-gridded sonde data. Push new files to APL. Let old files stand.\"\n",
    "function write_new_grid_sondes( time, T, Td, rh, z, u, v; stationnames )\n",
    "    # count times at each station\n",
    "    nts = sum(time.>DateTime(1000), dims=2)\n",
    "    for (sj, station) in enumerate(stationnames)\n",
    "        for tj in 1:nts[sj]\n",
    "            fileout = joinpath(\"../data/EKAMSAT_IMD/grid_sondes/\", Dates.format(time[sj,tj], \"yyyymmdd-HH\")*\"_$(CamelStations[sj]).csv\")\n",
    "            if !isfile(fileout)\n",
    "                # @show fileout\n",
    "                dfo = DataFrame(  p=plevs,\n",
    "                                  T=T[  :, sj, tj],\n",
    "                                  Td=Td[:, sj, tj],\n",
    "                                  rh=rh[:, sj, tj],\n",
    "                                  z=z[  :, sj, tj],\n",
    "                                  u=u[  :, sj, tj],\n",
    "                                  v=v[  :, sj, tj]  )\n",
    "                CSV.write( fileout, dfo )\n",
    "                put_file_apl( fileout )\n",
    "            end\n",
    "        end\n",
    "    end\n",
    "end\n"
   ]
  },
  {
   "cell_type": "code",
   "execution_count": 22,
   "id": "c9778d50-8707-41e2-9da6-ffb31dc2f1ef",
   "metadata": {},
   "outputs": [
    {
     "name": "stdout",
     "output_type": "stream",
     "text": [
      "station = \"ahmedabad\"\n",
      "station = \"chennai\"\n",
      "station = \"karaikal\"\n",
      "station = \"kochi\"\n",
      "station = \"kolkata\"\n",
      "station = \"mangalore\"\n",
      "station = \"portblair\"\n",
      "station = \"pune\"\n",
      "station = \"visakhapatnam\"\n",
      "sftp> put ../plot/Ahmedabad_u_rh.svg /incoming/sonde\n",
      "Uploading ../plot/Ahmedabad_u_rh.svg to /incoming/sonde/Ahmedabad_u_rh.svg\n"
     ]
    },
    {
     "name": "stderr",
     "output_type": "stream",
     "text": [
      "Connected to rendezvous.apl.washington.edu.\n"
     ]
    },
    {
     "name": "stdout",
     "output_type": "stream",
     "text": [
      "sftp> put ../plot/Chennai_u_rh.svg /incoming/sonde\n",
      "Uploading ../plot/Chennai_u_rh.svg to /incoming/sonde/Chennai_u_rh.svg\n"
     ]
    },
    {
     "name": "stderr",
     "output_type": "stream",
     "text": [
      "Connected to rendezvous.apl.washington.edu.\n"
     ]
    },
    {
     "name": "stdout",
     "output_type": "stream",
     "text": [
      "sftp> put ../plot/Karaikal_u_rh.svg /incoming/sonde\n",
      "Uploading ../plot/Karaikal_u_rh.svg to /incoming/sonde/Karaikal_u_rh.svg\n"
     ]
    },
    {
     "name": "stderr",
     "output_type": "stream",
     "text": [
      "Connected to rendezvous.apl.washington.edu.\n"
     ]
    },
    {
     "name": "stdout",
     "output_type": "stream",
     "text": [
      "sftp> put ../plot/Kochi_u_rh.svg /incoming/sonde\n",
      "Uploading ../plot/Kochi_u_rh.svg to /incoming/sonde/Kochi_u_rh.svg\n"
     ]
    },
    {
     "name": "stderr",
     "output_type": "stream",
     "text": [
      "Connected to rendezvous.apl.washington.edu.\n"
     ]
    },
    {
     "name": "stdout",
     "output_type": "stream",
     "text": [
      "sftp> put ../plot/Kolkata_u_rh.svg /incoming/sonde\n",
      "Uploading ../plot/Kolkata_u_rh.svg to /incoming/sonde/Kolkata_u_rh.svg\n"
     ]
    },
    {
     "name": "stderr",
     "output_type": "stream",
     "text": [
      "Connected to rendezvous.apl.washington.edu.\n"
     ]
    },
    {
     "name": "stdout",
     "output_type": "stream",
     "text": [
      "sftp> put ../plot/Mangalore_u_rh.svg /incoming/sonde\n",
      "Uploading ../plot/Mangalore_u_rh.svg to /incoming/sonde/Mangalore_u_rh.svg\n"
     ]
    },
    {
     "name": "stderr",
     "output_type": "stream",
     "text": [
      "Connected to rendezvous.apl.washington.edu.\n"
     ]
    },
    {
     "name": "stdout",
     "output_type": "stream",
     "text": [
      "sftp> put ../plot/PortBlair_u_rh.svg /incoming/sonde\n",
      "Uploading ../plot/PortBlair_u_rh.svg to /incoming/sonde/PortBlair_u_rh.svg\n"
     ]
    },
    {
     "name": "stderr",
     "output_type": "stream",
     "text": [
      "Connected to rendezvous.apl.washington.edu.\n"
     ]
    },
    {
     "name": "stdout",
     "output_type": "stream",
     "text": [
      "sftp> put ../plot/Pune_u_rh.svg /incoming/sonde\n",
      "Uploading ../plot/Pune_u_rh.svg to /incoming/sonde/Pune_u_rh.svg\n"
     ]
    },
    {
     "name": "stderr",
     "output_type": "stream",
     "text": [
      "Connected to rendezvous.apl.washington.edu.\n"
     ]
    },
    {
     "name": "stdout",
     "output_type": "stream",
     "text": [
      "sftp> put ../plot/Visakhapatnam_u_rh.svg /incoming/sonde\n",
      "Uploading ../plot/Visakhapatnam_u_rh.svg to /incoming/sonde/Visakhapatnam_u_rh.svg\n"
     ]
    },
    {
     "name": "stderr",
     "output_type": "stream",
     "text": [
      "Connected to rendezvous.apl.washington.edu.\n"
     ]
    },
    {
     "name": "stdout",
     "output_type": "stream",
     "text": [
      "sftp> put ../data/EKAMSAT_IMD/grid_sondes/20230608-23_Ahmedabad.csv /incoming/sonde\n",
      "Uploading ../data/EKAMSAT_IMD/grid_sondes/20230608-23_Ahmedabad.csv to /incoming/sonde/20230608-23_Ahmedabad.csv\n"
     ]
    },
    {
     "name": "stderr",
     "output_type": "stream",
     "text": [
      "Connected to rendezvous.apl.washington.edu.\n"
     ]
    },
    {
     "name": "stdout",
     "output_type": "stream",
     "text": [
      "sftp> put ../data/EKAMSAT_IMD/grid_sondes/20230609-23_Ahmedabad.csv /incoming/sonde\n",
      "Uploading ../data/EKAMSAT_IMD/grid_sondes/20230609-23_Ahmedabad.csv to /incoming/sonde/20230609-23_Ahmedabad.csv\n"
     ]
    },
    {
     "name": "stderr",
     "output_type": "stream",
     "text": [
      "Connected to rendezvous.apl.washington.edu.\n"
     ]
    },
    {
     "name": "stdout",
     "output_type": "stream",
     "text": [
      "sftp> put ../data/EKAMSAT_IMD/grid_sondes/20230612-23_Ahmedabad.csv /incoming/sonde\n",
      "Uploading ../data/EKAMSAT_IMD/grid_sondes/20230612-23_Ahmedabad.csv to /incoming/sonde/20230612-23_Ahmedabad.csv\n"
     ]
    },
    {
     "name": "stderr",
     "output_type": "stream",
     "text": [
      "Connected to rendezvous.apl.washington.edu.\n",
      "Connected to rendezvous.apl.washington.edu.\n"
     ]
    },
    {
     "name": "stdout",
     "output_type": "stream",
     "text": [
      "sftp> put ../data/EKAMSAT_IMD/grid_sondes/20230613-23_Ahmedabad.csv /incoming/sonde\n",
      "Uploading ../data/EKAMSAT_IMD/grid_sondes/20230613-23_Ahmedabad.csv to /incoming/sonde/20230613-23_Ahmedabad.csv\n",
      "sftp> put ../data/EKAMSAT_IMD/grid_sondes/20230609-23_Chennai.csv /incoming/sonde\n",
      "Uploading ../data/EKAMSAT_IMD/grid_sondes/20230609-23_Chennai.csv to /incoming/sonde/20230609-23_Chennai.csv\n"
     ]
    },
    {
     "name": "stderr",
     "output_type": "stream",
     "text": [
      "Connected to rendezvous.apl.washington.edu.\n"
     ]
    },
    {
     "name": "stdout",
     "output_type": "stream",
     "text": [
      "sftp> put ../data/EKAMSAT_IMD/grid_sondes/20230610-23_Chennai.csv /incoming/sonde\n",
      "Uploading ../data/EKAMSAT_IMD/grid_sondes/20230610-23_Chennai.csv to /incoming/sonde/20230610-23_Chennai.csv\n"
     ]
    },
    {
     "name": "stderr",
     "output_type": "stream",
     "text": [
      "Connected to rendezvous.apl.washington.edu.\n"
     ]
    },
    {
     "name": "stdout",
     "output_type": "stream",
     "text": [
      "sftp> put ../data/EKAMSAT_IMD/grid_sondes/20230611-23_Chennai.csv /incoming/sonde\n",
      "Uploading ../data/EKAMSAT_IMD/grid_sondes/20230611-23_Chennai.csv to /incoming/sonde/20230611-23_Chennai.csv\n"
     ]
    },
    {
     "name": "stderr",
     "output_type": "stream",
     "text": [
      "Connected to rendezvous.apl.washington.edu.\n"
     ]
    },
    {
     "name": "stdout",
     "output_type": "stream",
     "text": [
      "sftp> put ../data/EKAMSAT_IMD/grid_sondes/20230612-23_Chennai.csv /incoming/sonde\n",
      "Uploading ../data/EKAMSAT_IMD/grid_sondes/20230612-23_Chennai.csv to /incoming/sonde/20230612-23_Chennai.csv\n"
     ]
    },
    {
     "name": "stderr",
     "output_type": "stream",
     "text": [
      "Connected to rendezvous.apl.washington.edu.\n"
     ]
    },
    {
     "name": "stdout",
     "output_type": "stream",
     "text": [
      "sftp> put ../data/EKAMSAT_IMD/grid_sondes/20230609-00_Karaikal.csv /incoming/sonde\n",
      "Uploading ../data/EKAMSAT_IMD/grid_sondes/20230609-00_Karaikal.csv to /incoming/sonde/20230609-00_Karaikal.csv\n"
     ]
    },
    {
     "name": "stderr",
     "output_type": "stream",
     "text": [
      "Connected to rendezvous.apl.washington.edu.\n"
     ]
    },
    {
     "name": "stdout",
     "output_type": "stream",
     "text": [
      "sftp> put ../data/EKAMSAT_IMD/grid_sondes/20230610-00_Karaikal.csv /incoming/sonde\n",
      "Uploading ../data/EKAMSAT_IMD/grid_sondes/20230610-00_Karaikal.csv to /incoming/sonde/20230610-00_Karaikal.csv\n"
     ]
    },
    {
     "name": "stderr",
     "output_type": "stream",
     "text": [
      "Connected to rendezvous.apl.washington.edu.\n"
     ]
    },
    {
     "name": "stdout",
     "output_type": "stream",
     "text": [
      "sftp> put ../data/EKAMSAT_IMD/grid_sondes/20230611-00_Karaikal.csv /incoming/sonde\n",
      "Uploading ../data/EKAMSAT_IMD/grid_sondes/20230611-00_Karaikal.csv to /incoming/sonde/20230611-00_Karaikal.csv\n"
     ]
    },
    {
     "name": "stderr",
     "output_type": "stream",
     "text": [
      "Connected to rendezvous.apl.washington.edu.\n"
     ]
    },
    {
     "name": "stdout",
     "output_type": "stream",
     "text": [
      "sftp> put ../data/EKAMSAT_IMD/grid_sondes/20230611-23_Karaikal.csv /incoming/sonde\n",
      "Uploading ../data/EKAMSAT_IMD/grid_sondes/20230611-23_Karaikal.csv to /incoming/sonde/20230611-23_Karaikal.csv\n"
     ]
    },
    {
     "name": "stderr",
     "output_type": "stream",
     "text": [
      "Connected to rendezvous.apl.washington.edu.\n"
     ]
    },
    {
     "name": "stdout",
     "output_type": "stream",
     "text": [
      "sftp> put ../data/EKAMSAT_IMD/grid_sondes/20230612-23_Karaikal.csv /incoming/sonde\n",
      "Uploading ../data/EKAMSAT_IMD/grid_sondes/20230612-23_Karaikal.csv to /incoming/sonde/20230612-23_Karaikal.csv\n"
     ]
    },
    {
     "name": "stderr",
     "output_type": "stream",
     "text": [
      "Connected to rendezvous.apl.washington.edu.\n"
     ]
    },
    {
     "name": "stdout",
     "output_type": "stream",
     "text": [
      "sftp> put ../data/EKAMSAT_IMD/grid_sondes/20230614-00_Karaikal.csv /incoming/sonde\n",
      "Uploading ../data/EKAMSAT_IMD/grid_sondes/20230614-00_Karaikal.csv to /incoming/sonde/20230614-00_Karaikal.csv\n"
     ]
    },
    {
     "name": "stderr",
     "output_type": "stream",
     "text": [
      "Connected to rendezvous.apl.washington.edu.\n",
      "Connected to rendezvous.apl.washington.edu.\n"
     ]
    },
    {
     "name": "stdout",
     "output_type": "stream",
     "text": [
      "sftp> put ../data/EKAMSAT_IMD/grid_sondes/20230608-23_Kochi.csv /incoming/sonde\n",
      "Uploading ../data/EKAMSAT_IMD/grid_sondes/20230608-23_Kochi.csv to /incoming/sonde/20230608-23_Kochi.csv\n",
      "sftp> put ../data/EKAMSAT_IMD/grid_sondes/20230609-23_Kochi.csv /incoming/sonde\n",
      "Uploading ../data/EKAMSAT_IMD/grid_sondes/20230609-23_Kochi.csv to /incoming/sonde/20230609-23_Kochi.csv\n"
     ]
    },
    {
     "name": "stderr",
     "output_type": "stream",
     "text": [
      "Connected to rendezvous.apl.washington.edu.\n"
     ]
    },
    {
     "name": "stdout",
     "output_type": "stream",
     "text": [
      "sftp> put ../data/EKAMSAT_IMD/grid_sondes/20230610-23_Kochi.csv /incoming/sonde\n",
      "Uploading ../data/EKAMSAT_IMD/grid_sondes/20230610-23_Kochi.csv to /incoming/sonde/20230610-23_Kochi.csv\n"
     ]
    },
    {
     "name": "stderr",
     "output_type": "stream",
     "text": [
      "Connected to rendezvous.apl.washington.edu.\n"
     ]
    },
    {
     "name": "stdout",
     "output_type": "stream",
     "text": [
      "sftp> put ../data/EKAMSAT_IMD/grid_sondes/20230611-23_Kochi.csv /incoming/sonde\n",
      "Uploading ../data/EKAMSAT_IMD/grid_sondes/20230611-23_Kochi.csv to /incoming/sonde/20230611-23_Kochi.csv\n"
     ]
    },
    {
     "name": "stderr",
     "output_type": "stream",
     "text": [
      "Connected to rendezvous.apl.washington.edu.\n"
     ]
    },
    {
     "name": "stdout",
     "output_type": "stream",
     "text": [
      "sftp> put ../data/EKAMSAT_IMD/grid_sondes/20230612-23_Kochi.csv /incoming/sonde\n",
      "Uploading ../data/EKAMSAT_IMD/grid_sondes/20230612-23_Kochi.csv to /incoming/sonde/20230612-23_Kochi.csv\n"
     ]
    },
    {
     "name": "stderr",
     "output_type": "stream",
     "text": [
      "Connected to rendezvous.apl.washington.edu.\n"
     ]
    },
    {
     "name": "stdout",
     "output_type": "stream",
     "text": [
      "sftp> put ../data/EKAMSAT_IMD/grid_sondes/20230613-23_Kochi.csv /incoming/sonde\n",
      "Uploading ../data/EKAMSAT_IMD/grid_sondes/20230613-23_Kochi.csv to /incoming/sonde/20230613-23_Kochi.csv\n"
     ]
    },
    {
     "name": "stderr",
     "output_type": "stream",
     "text": [
      "Connected to rendezvous.apl.washington.edu.\n"
     ]
    },
    {
     "name": "stdout",
     "output_type": "stream",
     "text": [
      "sftp> put ../data/EKAMSAT_IMD/grid_sondes/20230609-00_Kolkata.csv /incoming/sonde\n"
     ]
    },
    {
     "name": "stderr",
     "output_type": "stream",
     "text": [
      "Connected to rendezvous.apl.washington.edu.\n"
     ]
    },
    {
     "name": "stdout",
     "output_type": "stream",
     "text": [
      "Uploading ../data/EKAMSAT_IMD/grid_sondes/20230609-00_Kolkata.csv to /incoming/sonde/20230609-00_Kolkata.csv\n",
      "sftp> put ../data/EKAMSAT_IMD/grid_sondes/20230610-00_Kolkata.csv /incoming/sonde\n",
      "Uploading ../data/EKAMSAT_IMD/grid_sondes/20230610-00_Kolkata.csv to /incoming/sonde/20230610-00_Kolkata.csv\n"
     ]
    },
    {
     "name": "stderr",
     "output_type": "stream",
     "text": [
      "Connected to rendezvous.apl.washington.edu.\n"
     ]
    },
    {
     "name": "stdout",
     "output_type": "stream",
     "text": [
      "sftp> put ../data/EKAMSAT_IMD/grid_sondes/20230611-00_Kolkata.csv /incoming/sonde\n",
      "Uploading ../data/EKAMSAT_IMD/grid_sondes/20230611-00_Kolkata.csv to /incoming/sonde/20230611-00_Kolkata.csv\n"
     ]
    },
    {
     "name": "stderr",
     "output_type": "stream",
     "text": [
      "Connected to rendezvous.apl.washington.edu.\n"
     ]
    },
    {
     "name": "stdout",
     "output_type": "stream",
     "text": [
      "sftp> put ../data/EKAMSAT_IMD/grid_sondes/20230611-23_Kolkata.csv /incoming/sonde\n"
     ]
    },
    {
     "name": "stderr",
     "output_type": "stream",
     "text": [
      "Connected to rendezvous.apl.washington.edu.\n"
     ]
    },
    {
     "name": "stdout",
     "output_type": "stream",
     "text": [
      "Uploading ../data/EKAMSAT_IMD/grid_sondes/20230611-23_Kolkata.csv to /incoming/sonde/20230611-23_Kolkata.csv\n",
      "sftp> put ../data/EKAMSAT_IMD/grid_sondes/20230612-23_Kolkata.csv /incoming/sonde\n",
      "Uploading ../data/EKAMSAT_IMD/grid_sondes/20230612-23_Kolkata.csv to /incoming/sonde/20230612-23_Kolkata.csv\n"
     ]
    },
    {
     "name": "stderr",
     "output_type": "stream",
     "text": [
      "Connected to rendezvous.apl.washington.edu.\n"
     ]
    },
    {
     "name": "stdout",
     "output_type": "stream",
     "text": [
      "sftp> put ../data/EKAMSAT_IMD/grid_sondes/20230614-00_Kolkata.csv /incoming/sonde\n",
      "Uploading ../data/EKAMSAT_IMD/grid_sondes/20230614-00_Kolkata.csv to /incoming/sonde/20230614-00_Kolkata.csv\n"
     ]
    },
    {
     "name": "stderr",
     "output_type": "stream",
     "text": [
      "Connected to rendezvous.apl.washington.edu.\n"
     ]
    },
    {
     "name": "stdout",
     "output_type": "stream",
     "text": [
      "sftp> put ../data/EKAMSAT_IMD/grid_sondes/20230609-00_Mangalore.csv /incoming/sonde\n"
     ]
    },
    {
     "name": "stderr",
     "output_type": "stream",
     "text": [
      "Connected to rendezvous.apl.washington.edu.\n"
     ]
    },
    {
     "name": "stdout",
     "output_type": "stream",
     "text": [
      "Uploading ../data/EKAMSAT_IMD/grid_sondes/20230609-00_Mangalore.csv to /incoming/sonde/20230609-00_Mangalore.csv\n",
      "sftp> put ../data/EKAMSAT_IMD/grid_sondes/20230610-00_Mangalore.csv /incoming/sonde\n",
      "Uploading ../data/EKAMSAT_IMD/grid_sondes/20230610-00_Mangalore.csv to /incoming/sonde/20230610-00_Mangalore.csv\n"
     ]
    },
    {
     "name": "stderr",
     "output_type": "stream",
     "text": [
      "Connected to rendezvous.apl.washington.edu.\n"
     ]
    },
    {
     "name": "stdout",
     "output_type": "stream",
     "text": [
      "sftp> put ../data/EKAMSAT_IMD/grid_sondes/20230612-00_Mangalore.csv /incoming/sonde\n",
      "Uploading ../data/EKAMSAT_IMD/grid_sondes/20230612-00_Mangalore.csv to /incoming/sonde/20230612-00_Mangalore.csv\n"
     ]
    },
    {
     "name": "stderr",
     "output_type": "stream",
     "text": [
      "Connected to rendezvous.apl.washington.edu.\n"
     ]
    },
    {
     "name": "stdout",
     "output_type": "stream",
     "text": [
      "sftp> put ../data/EKAMSAT_IMD/grid_sondes/20230613-00_Mangalore.csv /incoming/sonde\n",
      "Uploading ../data/EKAMSAT_IMD/grid_sondes/20230613-00_Mangalore.csv to /incoming/sonde/20230613-00_Mangalore.csv\n"
     ]
    },
    {
     "name": "stderr",
     "output_type": "stream",
     "text": [
      "Connected to rendezvous.apl.washington.edu.\n"
     ]
    },
    {
     "name": "stdout",
     "output_type": "stream",
     "text": [
      "sftp> put ../data/EKAMSAT_IMD/grid_sondes/20230614-00_Mangalore.csv /incoming/sonde\n"
     ]
    },
    {
     "name": "stderr",
     "output_type": "stream",
     "text": [
      "Connected to rendezvous.apl.washington.edu.\n"
     ]
    },
    {
     "name": "stdout",
     "output_type": "stream",
     "text": [
      "Uploading ../data/EKAMSAT_IMD/grid_sondes/20230614-00_Mangalore.csv to /incoming/sonde/20230614-00_Mangalore.csv\n",
      "sftp> put ../data/EKAMSAT_IMD/grid_sondes/20230610-00_PortBlair.csv /incoming/sonde\n",
      "Uploading ../data/EKAMSAT_IMD/grid_sondes/20230610-00_PortBlair.csv to /incoming/sonde/20230610-00_PortBlair.csv\n"
     ]
    },
    {
     "name": "stderr",
     "output_type": "stream",
     "text": [
      "Connected to rendezvous.apl.washington.edu.\n"
     ]
    },
    {
     "name": "stdout",
     "output_type": "stream",
     "text": [
      "sftp> put ../data/EKAMSAT_IMD/grid_sondes/20230614-00_PortBlair.csv /incoming/sonde\n",
      "Uploading ../data/EKAMSAT_IMD/grid_sondes/20230614-00_PortBlair.csv to /incoming/sonde/20230614-00_PortBlair.csv\n"
     ]
    },
    {
     "name": "stderr",
     "output_type": "stream",
     "text": [
      "Connected to rendezvous.apl.washington.edu.\n"
     ]
    },
    {
     "name": "stdout",
     "output_type": "stream",
     "text": [
      "sftp> put ../data/EKAMSAT_IMD/grid_sondes/20230609-00_Pune.csv /incoming/sonde\n",
      "Uploading ../data/EKAMSAT_IMD/grid_sondes/20230609-00_Pune.csv to /incoming/sonde/20230609-00_Pune.csv\n"
     ]
    },
    {
     "name": "stderr",
     "output_type": "stream",
     "text": [
      "Connected to rendezvous.apl.washington.edu.\n"
     ]
    },
    {
     "name": "stdout",
     "output_type": "stream",
     "text": [
      "sftp> put ../data/EKAMSAT_IMD/grid_sondes/20230611-00_Pune.csv /incoming/sonde\n",
      "Uploading ../data/EKAMSAT_IMD/grid_sondes/20230611-00_Pune.csv to /incoming/sonde/20230611-00_Pune.csv\n"
     ]
    },
    {
     "name": "stderr",
     "output_type": "stream",
     "text": [
      "Connected to rendezvous.apl.washington.edu.\n"
     ]
    },
    {
     "name": "stdout",
     "output_type": "stream",
     "text": [
      "sftp> put ../data/EKAMSAT_IMD/grid_sondes/20230612-00_Pune.csv /incoming/sonde\n",
      "Uploading ../data/EKAMSAT_IMD/grid_sondes/20230612-00_Pune.csv to /incoming/sonde/20230612-00_Pune.csv\n"
     ]
    },
    {
     "name": "stderr",
     "output_type": "stream",
     "text": [
      "Connected to rendezvous.apl.washington.edu.\n"
     ]
    },
    {
     "name": "stdout",
     "output_type": "stream",
     "text": [
      "sftp> put ../data/EKAMSAT_IMD/grid_sondes/20230613-00_Pune.csv /incoming/sonde\n",
      "Uploading ../data/EKAMSAT_IMD/grid_sondes/20230613-00_Pune.csv to /incoming/sonde/20230613-00_Pune.csv\n"
     ]
    },
    {
     "name": "stderr",
     "output_type": "stream",
     "text": [
      "Connected to rendezvous.apl.washington.edu.\n"
     ]
    },
    {
     "name": "stdout",
     "output_type": "stream",
     "text": [
      "sftp> put ../data/EKAMSAT_IMD/grid_sondes/20230613-23_Pune.csv /incoming/sonde\n",
      "Uploading ../data/EKAMSAT_IMD/grid_sondes/20230613-23_Pune.csv to /incoming/sonde/20230613-23_Pune.csv\n"
     ]
    },
    {
     "name": "stderr",
     "output_type": "stream",
     "text": [
      "Connected to rendezvous.apl.washington.edu.\n"
     ]
    },
    {
     "name": "stdout",
     "output_type": "stream",
     "text": [
      "sftp> put ../data/EKAMSAT_IMD/grid_sondes/20230609-00_Visakhapatnam.csv /incoming/sonde\n",
      "Uploading ../data/EKAMSAT_IMD/grid_sondes/20230609-00_Visakhapatnam.csv to /incoming/sonde/20230609-00_Visakhapatnam.csv\n"
     ]
    },
    {
     "name": "stderr",
     "output_type": "stream",
     "text": [
      "Connected to rendezvous.apl.washington.edu.\n"
     ]
    },
    {
     "name": "stdout",
     "output_type": "stream",
     "text": [
      "sftp> put ../data/EKAMSAT_IMD/grid_sondes/20230610-00_Visakhapatnam.csv /incoming/sonde\n",
      "Uploading ../data/EKAMSAT_IMD/grid_sondes/20230610-00_Visakhapatnam.csv to /incoming/sonde/20230610-00_Visakhapatnam.csv\n"
     ]
    },
    {
     "name": "stderr",
     "output_type": "stream",
     "text": [
      "Connected to rendezvous.apl.washington.edu.\n"
     ]
    },
    {
     "name": "stdout",
     "output_type": "stream",
     "text": [
      "sftp> put ../data/EKAMSAT_IMD/grid_sondes/20230611-00_Visakhapatnam.csv /incoming/sonde\n",
      "Uploading ../data/EKAMSAT_IMD/grid_sondes/20230611-00_Visakhapatnam.csv to /incoming/sonde/20230611-00_Visakhapatnam.csv\n"
     ]
    },
    {
     "name": "stderr",
     "output_type": "stream",
     "text": [
      "Connected to rendezvous.apl.washington.edu.\n"
     ]
    },
    {
     "name": "stdout",
     "output_type": "stream",
     "text": [
      "sftp> put ../data/EKAMSAT_IMD/grid_sondes/20230612-00_Visakhapatnam.csv /incoming/sonde\n",
      "Uploading ../data/EKAMSAT_IMD/grid_sondes/20230612-00_Visakhapatnam.csv to /incoming/sonde/20230612-00_Visakhapatnam.csv\n"
     ]
    },
    {
     "name": "stderr",
     "output_type": "stream",
     "text": [
      "Connected to rendezvous.apl.washington.edu.\n"
     ]
    },
    {
     "name": "stdout",
     "output_type": "stream",
     "text": [
      "sftp> put ../data/EKAMSAT_IMD/grid_sondes/20230613-00_Visakhapatnam.csv /incoming/sonde\n",
      "Uploading ../data/EKAMSAT_IMD/grid_sondes/20230613-00_Visakhapatnam.csv to /incoming/sonde/20230613-00_Visakhapatnam.csv\n"
     ]
    },
    {
     "name": "stderr",
     "output_type": "stream",
     "text": [
      "Connected to rendezvous.apl.washington.edu.\n"
     ]
    },
    {
     "name": "stdout",
     "output_type": "stream",
     "text": [
      "sftp> put ../data/EKAMSAT_IMD/grid_sondes/20230614-00_Visakhapatnam.csv /incoming/sonde\n",
      "Uploading ../data/EKAMSAT_IMD/grid_sondes/20230614-00_Visakhapatnam.csv to /incoming/sonde/20230614-00_Visakhapatnam.csv\n"
     ]
    },
    {
     "name": "stderr",
     "output_type": "stream",
     "text": [
      "Connected to rendezvous.apl.washington.edu.\n"
     ]
    },
    {
     "data": {
      "image/png": "[encoded data removed]",
      "text/plain": [
       "Figure(PyObject <Figure size 640x480 with 4 Axes>)"
      ]
     },
     "metadata": {},
     "output_type": "display_data"
    }
   ],
   "source": [
    "# do\n",
    "# a big loop to read all sounding files, interpolate data to consistent levels\n",
    "# output gridded files, and make plots\n",
    "\n",
    "# reiterate parameters for paths, names, and gridding\n",
    "reldatapath = \"../data/EKAMSAT_IMD/ekamsat\"\n",
    "plevs = 1020.0:-5.0:0.0\n",
    "CamelStations = [\"Ahmedabad\",\"Chennai\",\"Karaikal\",\"Kochi\",\"Kolkata\",\"Mangalore\",\"PortBlair\",\"Pune\",\"Visakhapatnam\"]\n",
    "stationnames = lowercase.(CamelStations)\n",
    "\n",
    "# allocate gridded data arrays (pressure, location, launch time)\n",
    "nt = count_max_unique_soundings(stationnames)\n",
    "# nt = 80 # allow for longest station mangalore?(37), extend & trim off extra later\n",
    "time = zeros(DateTime, length(stationnames), nt)\n",
    "T  = NaN.+zeros(Float64, length(plevs), length(stationnames), nt)\n",
    "Td = NaN.+zeros(Float64, length(plevs), length(stationnames), nt)\n",
    "rh = NaN.+zeros(Float64, length(plevs), length(stationnames), nt)\n",
    "z  = NaN.+zeros(Float64, length(plevs), length(stationnames), nt)\n",
    "u  = NaN.+zeros(Float64, length(plevs), length(stationnames), nt)\n",
    "v  = NaN.+zeros(Float64, length(plevs), length(stationnames), nt)\n",
    "\n",
    "grid_imd_soundings!( time, T, Td, rh, z, u, v; plevs=plevs, stationnames=stationnames, reldatapath=reldatapath )\n",
    "\n",
    "plot_timeheights( time, T, Td, rh, z, u, v )\n",
    "write_new_grid_sondes( time, T, Td, rh, z, u, v; stationnames )"
   ]
  },
  {
   "cell_type": "code",
   "execution_count": null,
   "id": "16178a10-fd70-4a4d-9219-dfb0804f8849",
   "metadata": {
    "scrolled": true
   },
   "outputs": [],
   "source": [
    "# tests\n",
    "\n",
    "# count times at each station\n",
    "nts = sum(time.>DateTime(1000), dims=2)\n",
    "@show cat(CamelStations, nts, dims=2)\n",
    "\n",
    "\n",
    "# test time-pressure plot at one station\n",
    "sj = 1\n",
    "@show size(u[:,sj,1:nts[sj]])\n",
    "\n",
    "clf()\n",
    "subplot(2,1,1)\n",
    "# pcolormesh( time[sj,:], plevs, anom(T[:,sj,:],dims=2) )\n",
    "# pcolormesh( time[sj,:], plevs, anom(th.(T[:,sj,:],plevs),dims=2), vmin=-7, vmax=7, cmap=ColorMap(\"RdYlBu_r\") )\n",
    "pcolormesh( time[sj,1:nts[sj]], plevs, u[:,sj,1:nts[sj]], vmin=-10, vmax=20, cmap=ColorMap(\"RdYlBu_r\") )\n",
    "ylim(1000, 100)\n",
    "colorbar()\n",
    "ylabel(\"u (m/s)\")\n",
    "title(CamelStations[sj])\n",
    "\n",
    "subplot(2,1,2)\n",
    "pcolormesh( time[sj,1:nts[sj]], plevs, rh[:,sj,1:nts[sj]], cmap=ColorMap(\"RdYlBu_r\"))\n",
    "ylim(1000, 100)\n",
    "ylabel(\"RH (%)\")\n",
    "colorbar()"
   ]
  }
 ],
 "metadata": {
  "kernelspec": {
   "display_name": "astral_soundings 1.8.5",
   "language": "julia",
   "name": "astral_soundings-1.8"
  },
  "language_info": {
   "file_extension": ".jl",
   "mimetype": "application/julia",
   "name": "julia",
   "version": "1.8.5"
  }
 },
 "nbformat": 4,
 "nbformat_minor": 5
}
