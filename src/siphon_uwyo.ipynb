{
 "cells": [
  {
   "cell_type": "markdown",
   "id": "85fe494a-9759-4503-a280-fd2754f34568",
   "metadata": {},
   "source": [
    "# Python methods and downloads of soundings from UWyo and IGRA2 to NetCDF\n",
    "\n",
    "NCEI landing page: \n",
    "https://www.ncei.noaa.gov/access/metadata/landing-page/bin/iso?id=gov.noaa.ncdc:C00975"
   ]
  },
  {
   "cell_type": "markdown",
   "id": "d34299cf",
   "metadata": {},
   "source": [
    "To make a kernel with a siphon virtualenv from the terminal:\n",
    "\n",
    "```\n",
    "conda create -n siphon siphon\n",
    "conda activate siphon\n",
    "conda install ipykernel\n",
    "python -m ipykernel install --user --name=siphon\n",
    "```\n",
    "\n",
    "Then select the `siphon` from the pulldown/window in Jupyter."
   ]
  },
  {
   "cell_type": "code",
   "execution_count": 1,
   "id": "8211d826",
   "metadata": {},
   "outputs": [],
   "source": [
    "from siphon.simplewebservice.wyoming import WyomingUpperAir\n",
    "from siphon.simplewebservice.igra2 import IGRAUpperAir\n",
    "from datetime import datetime\n",
    "from netCDF4 import Dataset\n",
    "import os\n",
    "import pandas\n",
    "\n",
    "start_time = datetime(2023, 3, 1, 0)\n",
    "end_time = datetime(2023, 6, 30, 0)\n",
    "\n",
    "station = \"43371\" # Trivandrum, Thiruvananthapuram, 'VOTX'?\n",
    "\n",
    "df = WyomingUpperAir.request_data(start_time, station) # returns Pandas dataframe"
   ]
  },
  {
   "cell_type": "code",
   "execution_count": 2,
   "id": "5abfd03c",
   "metadata": {
    "tags": []
   },
   "outputs": [
    {
     "data": {
      "text/plain": [
       "True"
      ]
     },
     "execution_count": 2,
     "metadata": {},
     "output_type": "execute_result"
    }
   ],
   "source": [
    "# test stuff\n",
    "\n",
    "# for column in df:\n",
    "#     print( df[column].name )\n",
    "#     print( df[column].values )\n",
    "\n",
    "# df[column].shape[0]\n",
    "df[df.columns[0:8]]\n",
    "\n",
    "# skip column 8\n",
    "\n",
    "# scalars\n",
    "\n",
    "\n",
    "df.columns[9]\n",
    "type(df[df.columns[9]]) is pandas.core.series.Series\n",
    "\n",
    "df[df.columns[10]][0].strftime('%Y-%m-%d %H:%M:%S') # convert Datestamp to string\n",
    "type(df[df.columns[10]][0]) is pandas._libs.tslibs.timestamps.Timestamp\n",
    "    "
   ]
  },
  {
   "cell_type": "code",
   "execution_count": 3,
   "id": "1fea5df9",
   "metadata": {},
   "outputs": [],
   "source": [
    "\"convert Timestamps into string, otherwise just return input.\"\n",
    "def Timestamp2String( t ):\n",
    "    return ( t.strftime('%Y-%m-%d %H:%M:%S') if type(t) is pandas._libs.tslibs.timestamps.Timestamp else t )\n",
    "\n",
    "\"write a sounding dataframe as a NetCDF4 file.\"\n",
    "def sounding2nc( df, filename ):\n",
    "\n",
    "    # Open a new NetCDF file for writing\n",
    "    nc_file = Dataset(filename, mode='w')\n",
    "\n",
    "    # Set the attributes from df cols 9...\n",
    "    for column in df.columns[9:]:\n",
    "        #  print( \"set attribute \"+df[column].name+\"=\", Timestamp2String(df[column][0]) )\n",
    "        nc_file.setncattr( df[column].name, Timestamp2String(df[column][0]) )\n",
    "\n",
    "    # or set all at once from a dict: setncatts(self,attdict)\n",
    "\n",
    "    # Define dimensions for pressure, temperature, etc. variables\n",
    "    time_dim = nc_file.createDimension('time', 1)\n",
    "    level_dim = nc_file.createDimension('level', df[df.columns[0]].shape[0])\n",
    "\n",
    "    units_list = [ 'hPa', 'm', 'degrees C', 'degrees C', 'degrees', 'm/s', 'm/s', 'm/s' ]\n",
    "\n",
    "    # Create variables for time, level, latitude, longitude, pressure, and temperature\n",
    "    for i, column in enumerate( df.columns[0:7] ):\n",
    "        # create the netcdf variable\n",
    "        var = nc_file.createVariable(df[column].name, 'f4', ('time', 'level'))\n",
    "        # write the data to the NetCDF file\n",
    "        var[:] = df[column][:]\n",
    "        # supply units attributes\n",
    "        var.units = units_list[i]\n",
    "\n",
    "    # Close the NetCDF file\n",
    "    return nc_file.close()"
   ]
  },
  {
   "cell_type": "code",
   "execution_count": 4,
   "id": "4fc5495e-597d-4ac1-a9f7-f440b0e9f7d3",
   "metadata": {},
   "outputs": [],
   "source": [
    "\"write a sounding dataframe as a NetCDF4 file.\"\n",
    "def sounding2nc( df, filename ):\n",
    "\n",
    "    # Open a new NetCDF file for writing\n",
    "    nc_file = Dataset(filename, mode='w')\n",
    "\n",
    "    # Set the attributes from df cols 9...\n",
    "    for column in df.columns[9:]:\n",
    "        #  print( \"set attribute \"+df[column].name+\"=\", Timestamp2String(df[column][0]) )\n",
    "        nc_file.setncattr( df[column].name, Timestamp2String(df[column][0]) )\n",
    "\n",
    "    # or set all at once from a dict: setncatts(self,attdict)\n",
    "\n",
    "    # Define dimensions for pressure, temperature, etc. variables\n",
    "    time_dim = nc_file.createDimension('time', 1)\n",
    "    level_dim = nc_file.createDimension('level', df[df.columns[0]].shape[0])\n",
    "\n",
    "    units_list = [ 'hPa', 'm', 'degrees C', 'degrees C', 'degrees', 'm/s', 'm/s', 'm/s' ]\n",
    "\n",
    "    # Create variables for time, level, latitude, longitude, pressure, and temperature\n",
    "    for i, column in enumerate( df.columns[0:7] ):\n",
    "        # create the netcdf variable\n",
    "        var = nc_file.createVariable(df[column].name, 'f4', ('time', 'level'))\n",
    "        # write the data to the NetCDF file\n",
    "        var[:] = df[column][:]\n",
    "        # supply units attributes\n",
    "        var.units = units_list[i]\n",
    "\n",
    "    # Close the NetCDF file\n",
    "    return nc_file.close()"
   ]
  },
  {
   "cell_type": "code",
   "execution_count": 5,
   "id": "90226212",
   "metadata": {},
   "outputs": [],
   "source": [
    "# get Trivandrum soundings from 2019, write to netcdf\n",
    "\n",
    "start_time = datetime(2019, 3, 1, 0)\n",
    "end_time = datetime(2019, 6, 30, 0)\n",
    "station = \"43371\" # Trivandrum, Thiruvananthapuram, 'VOTX'?\n",
    "\n",
    "for dt in pandas.date_range(start_time, end_time, freq='12H'):\n",
    "    try:\n",
    "        df = WyomingUpperAir.request_data(dt, station) # returns Pandas dataframe\n",
    "        sounding2nc( df, \"../data/uwyo/trivandrum/trivandrum\"+df.time[0].strftime('%Y%m%d_%H%M')+\".nc\" )\n",
    "    except:\n",
    "        continue\n",
    "    else:\n",
    "        continue\n",
    "        \n",
    "\n"
   ]
  },
  {
   "cell_type": "code",
   "execution_count": null,
   "id": "acebea44",
   "metadata": {},
   "outputs": [],
   "source": [
    "start_time = datetime(2019, 3, 1, 0)\n",
    "end_time = datetime(2019, 6, 30, 0)\n",
    "station = \"43063\"  # Pune\n",
    "for dt in pandas.date_range(start_time, end_time, freq='12H'):\n",
    "    try:\n",
    "        df = WyomingUpperAir.request_data(dt, station) # returns Pandas dataframe\n",
    "        sounding2nc( df, \"../data/uwyo/pune/pune\"+df.time[0].strftime('%Y%m%d_%H%M')+\".nc\" )\n",
    "    except:\n",
    "        continue\n",
    "    finally:\n",
    "        continue"
   ]
  },
  {
   "cell_type": "code",
   "execution_count": 7,
   "id": "90e125e4-ad06-447d-b2a1-8d2c6e816e06",
   "metadata": {},
   "outputs": [],
   "source": [
    "type(df.columns) # pandas.core.indexes.base.Index\n",
    "# var_indx = pandas.core.indexes.base.Index(['pressure', 'height', 'temperature', 'dewpoint'])\n",
    "# header\n",
    "# df\n",
    "units_list = [ 'none', 'none', 'seconds?', 'hPa', 'none', 'meters', 'none', 'degrees C', 'none', 'percent', 'degrees', 'm/s', 'datestring', 'm/s', 'm/s', 'degree C']\n",
    "    \n",
    "# df.drop(columns='date')\n",
    "# for i, column in enumerate(df.columns):\n",
    "#     print( i, column, units_list[i] )\n",
    "\n",
    "# dfd = df.drop(columns='date')\n",
    "# for i, column in enumerate(dfd.columns):\n",
    "#     print( i, column, units_list[i] )"
   ]
  },
  {
   "cell_type": "code",
   "execution_count": 8,
   "id": "747576e0-f254-410f-8a19-079cd1fdef5a",
   "metadata": {},
   "outputs": [],
   "source": [
    "\"write an IGRA2 sounding dataframe as a NetCDF4 file.\"\n",
    "def igra2nc( df, header, filename ):\n",
    "\n",
    "    # Open a new NetCDF file for writing\n",
    "    nc_file = Dataset(filename, mode='w')\n",
    "\n",
    "    # Set the attributes from header\n",
    "    for column in header.columns:\n",
    "        nc_file.setncattr( header[column].name, Timestamp2String(header[column][0]) )\n",
    "\n",
    "    # or set all at once from a dict: setncatts(self,attdict)\n",
    "\n",
    "    # Define dimensions for pressure, temperature, etc. variables\n",
    "    time_dim = nc_file.createDimension('time', 1)\n",
    "    level_dim = nc_file.createDimension('level', df[df.columns[0]].shape[0])\n",
    "\n",
    "    dfd = df.drop(columns='date') # Datestamp redundant and type not allowed in NetCDF\n",
    "    units_list = [ 'none', 'none', 'seconds?', 'hPa', 'none', 'meters', 'none', 'degrees C', 'none', 'percent', 'degrees', 'm/s', #'datestring', \n",
    "                   'm/s', 'm/s', 'degree C']\n",
    "\n",
    "    # Create variables for time, level, latitude, longitude, pressure, and temperature\n",
    "    for i, column in enumerate( dfd.columns ):\n",
    "        # create the netcdf variable\n",
    "        var = nc_file.createVariable(dfd[column].name, 'f4', ('time', 'level'))\n",
    "        # write the data to the NetCDF file\n",
    "        var[:] = dfd[column][:]\n",
    "        # supply units attributes\n",
    "        var.units = units_list[i]\n",
    "\n",
    "    # Close the NetCDF file\n",
    "    return nc_file.close()"
   ]
  },
  {
   "cell_type": "code",
   "execution_count": null,
   "id": "485fca56-c780-48f8-88b1-de900455ec9c",
   "metadata": {
    "tags": []
   },
   "outputs": [],
   "source": [
    "start_time = datetime(2019, 3, 1, 0)\n",
    "end_time = datetime(2019, 6, 30, 0)\n",
    "station = \"INM00043192\" # Goa\n",
    "\n",
    "\n",
    "for dt in pandas.date_range(start_time, end_time, freq='D'): # freq='12H'\n",
    "    my_path = \"../data/igra2/goa/goa\"+dt.strftime('%Y%m%d_%H%M')+\".nc\"\n",
    "    if not os.path.exists(my_path) or os.path.getsize(my_path) <= 0:\n",
    "        try:\n",
    "            df, header = IGRAUpperAir.request_data(dt.to_pydatetime(), station)\n",
    "            igra2nc( df, header, my_path )\n",
    "        except:\n",
    "            # print exception!\n",
    "            continue\n",
    "        finally:\n",
    "            continue\n",
    "    else:\n",
    "        continue\n",
    "\n",
    "        \n",
    "# IGRA2 downloading is slow.\n",
    "# There does not appear to be any 12Z soundings.\n"
   ]
  },
  {
   "cell_type": "code",
   "execution_count": 9,
   "id": "f81e0a77-e745-46fa-a939-77b0064e6272",
   "metadata": {},
   "outputs": [],
   "source": [
    "def get_igra2_station( daterange, station, stationname ):\n",
    "    for dt in daterange: # freq='12H'\n",
    "        my_path = \"../data/igra2/\"+stationname+\"/\"+stationname+dt.strftime('%Y%m%d_%H%M')+\".nc\"\n",
    "        if not os.path.exists(my_path) or os.path.getsize(my_path) <= 0:\n",
    "            try:\n",
    "                df, header = IGRAUpperAir.request_data(dt.to_pydatetime(), station)\n",
    "                igra2nc( df, header, my_path )\n",
    "            except:\n",
    "                # print exception!\n",
    "                continue\n",
    "            finally:\n",
    "                continue\n",
    "        else:\n",
    "            continue"
   ]
  },
  {
   "cell_type": "code",
   "execution_count": null,
   "id": "4465a6b2-cc58-4e98-9970-8d12a292e920",
   "metadata": {},
   "outputs": [],
   "source": [
    "stationname = 'pune'\n",
    "station = 'INM00043063'\n",
    "start_time = datetime(2019, 3, 1, 0)\n",
    "end_time = datetime(2019, 6, 30, 0)\n",
    "dr = pandas.date_range(start_time, end_time, freq='D')\n",
    "\n",
    "get_igra2_station( dr, station, stationname )"
   ]
  },
  {
   "cell_type": "code",
   "execution_count": null,
   "id": "48ed5854-1f06-48b8-a1b0-7387a00cf1be",
   "metadata": {},
   "outputs": [],
   "source": [
    "stationname = 'trivandrum'\n",
    "station = 'INM00043371'\n",
    "start_time = datetime(2019, 3, 1, 0)\n",
    "end_time = datetime(2019, 6, 30, 0)\n",
    "dr = pandas.date_range(start_time, end_time, freq='D')\n",
    "\n",
    "get_igra2_station( dr, station, stationname )"
   ]
  },
  {
   "cell_type": "code",
   "execution_count": null,
   "id": "87bde460-23c9-43d7-a13d-590d4b2bd9ad",
   "metadata": {},
   "outputs": [],
   "source": [
    "stationname = 'pune'\n",
    "station = 'INM00043063'\n",
    "start_time = datetime(2018, 3, 1, 0)\n",
    "end_time = datetime(2018, 6, 30, 0)\n",
    "dr = pandas.date_range(start_time, end_time, freq='D')\n",
    "\n",
    "get_igra2_station( dr, station, stationname )"
   ]
  },
  {
   "cell_type": "code",
   "execution_count": null,
   "id": "ffb52f38-a6c1-4fde-9d3c-e11b845c2bd3",
   "metadata": {},
   "outputs": [],
   "source": [
    "stationname = 'trivandrum'\n",
    "station = 'INM00043371'\n",
    "start_time = datetime(2018, 3, 1, 0)\n",
    "end_time = datetime(2018, 6, 30, 0)\n",
    "dr = pandas.date_range(start_time, end_time, freq='D')\n",
    "\n",
    "get_igra2_station( dr, station, stationname )"
   ]
  },
  {
   "cell_type": "code",
   "execution_count": null,
   "id": "139e6355-c797-4e11-be92-2eff793947b8",
   "metadata": {},
   "outputs": [],
   "source": [
    "start_time = datetime(year, 3, 1, 0)\n",
    "end_time = datetime(year, 6, 30, 0)\n",
    "\n",
    "for year in [2020, 2021, 2022]:\n",
    "    get_igra2_station( pandas.date_range(start_time, end_time, freq='D'), 'INM00043371', 'trivandrum'  )\n",
    "    get_igra2_station( pandas.date_range(start_time, end_time, freq='D'), 'INM00043063', 'pune'  )"
   ]
  },
  {
   "cell_type": "code",
   "execution_count": null,
   "id": "8c9d7b12-321a-4ef6-b7af-685ccbc654e3",
   "metadata": {},
   "outputs": [],
   "source": [
    "# batch rename Trivandrum files\n",
    "for filename in os.listdir(\"../data/igra2/thrivandrum/\"):\n",
    "    if filename.startswith(\"thrivandrum\"):\n",
    "        os.rename(\"../data/igra2/thrivandrum/\"+filename, \"../data/igra2/thrivandrum/\"+\"t\"+filename[2:])"
   ]
  },
  {
   "cell_type": "code",
   "execution_count": 10,
   "id": "e9825d76-d33f-49cd-bfe9-5acb67e0741f",
   "metadata": {
    "tags": []
   },
   "outputs": [],
   "source": [
    "# batch rename Goa -> goa files\n",
    "for filename in os.listdir(\"../data/igra2/goa/\"):\n",
    "    if filename.startswith(\"Goa\"):\n",
    "        os.rename(\"../data/igra2/goa/\"+filename, \"../data/igra2/goa/\"+\"goa\"+filename[4:])"
   ]
  },
  {
   "cell_type": "code",
   "execution_count": 11,
   "id": "98e4167f-9d54-4331-bc65-71d04fedb7b0",
   "metadata": {},
   "outputs": [],
   "source": [
    "station = \"INM00043192\" # Goa\n",
    "\n",
    "for year in [2018, 2019, 2020, 2021, 2022]:\n",
    "    start_time = datetime(year, 3, 1, 0)\n",
    "    end_time = datetime(year, 6, 30, 0)\n",
    "    get_igra2_station( pandas.date_range(start_time, end_time, freq='D'), station, 'goa' )"
   ]
  },
  {
   "cell_type": "code",
   "execution_count": null,
   "id": "dcfe0a92-9b41-4c0f-a8a9-654434247833",
   "metadata": {},
   "outputs": [],
   "source": []
  }
 ],
 "metadata": {
  "jupytext": {
   "formats": "ipynb,auto:percent"
  },
  "kernelspec": {
   "display_name": "Python 3 (ipykernel)",
   "language": "python",
   "name": "python3"
  },
  "language_info": {
   "codemirror_mode": {
    "name": "ipython",
    "version": 3
   },
   "file_extension": ".py",
   "mimetype": "text/x-python",
   "name": "python",
   "nbconvert_exporter": "python",
   "pygments_lexer": "ipython3",
   "version": "3.8.16"
  }
 },
 "nbformat": 4,
 "nbformat_minor": 5
}
