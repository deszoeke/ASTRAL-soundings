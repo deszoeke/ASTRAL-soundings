{
 "cells": [
  {
   "cell_type": "markdown",
   "id": "85fe494a-9759-4503-a280-fd2754f34568",
   "metadata": {},
   "source": [
    "# Python methods and downloads of soundings from UWyo and IGRA2 to NetCDF\n",
    "\n",
    "NCEI landing page: \n",
    "https://www.ncei.noaa.gov/access/metadata/landing-page/bin/iso?id=gov.noaa.ncdc:C00975"
   ]
  },
  {
   "cell_type": "markdown",
   "id": "d34299cf",
   "metadata": {},
   "source": [
    "To make a kernel with a siphon virtualenv from the terminal:\n",
    "\n",
    "```\n",
    "conda create -n siphon siphon\n",
    "conda activate siphon\n",
    "conda install ipykernel\n",
    "python -m ipykernel install --user --name=siphon\n",
    "```\n",
    "\n",
    "Then select the `siphon` from the pulldown/window in Jupyter."
   ]
  },
  {
   "cell_type": "code",
   "execution_count": null,
   "id": "8211d826",
   "metadata": {},
   "outputs": [],
   "source": [
    "from siphon.simplewebservice.wyoming import WyomingUpperAir\n",
    "from datetime import datetime\n",
    "import os\n",
    "import pandas\n",
    "\n",
    "start_time = datetime(2023, 3, 1, 0)\n",
    "end_time = datetime(2023, 6, 30, 0)\n",
    "\n",
    "station = \"43371\" # Trivandrum, Thiruvananthapuram, 'VOTX'?\n",
    "\n",
    "df = WyomingUpperAir.request_data(start_time, station) # returns Pandas dataframe"
   ]
  },
  {
   "cell_type": "code",
   "execution_count": null,
   "id": "9e2d9983",
   "metadata": {},
   "outputs": [],
   "source": [
    "df"
   ]
  },
  {
   "cell_type": "code",
   "execution_count": null,
   "id": "5abfd03c",
   "metadata": {
    "tags": []
   },
   "outputs": [],
   "source": [
    "# for column in df:\n",
    "#     print( df[column].name )\n",
    "#     print( df[column].values )\n",
    "\n",
    "# df[column].shape[0]\n",
    "df[df.columns[0:8]]\n",
    "\n",
    "# skip column 8\n",
    "\n",
    "# scalars\n",
    "\n",
    "\n",
    "df.columns[9]\n",
    "type(df[df.columns[9]]) is pandas.core.series.Series\n",
    "\n",
    "df[df.columns[10]][0].strftime('%Y-%m-%d %H:%M:%S') # convert Datestamp to string\n",
    "type(df[df.columns[10]][0]) is pandas._libs.tslibs.timestamps.Timestamp\n",
    "    "
   ]
  },
  {
   "cell_type": "code",
   "execution_count": null,
   "id": "1fea5df9",
   "metadata": {},
   "outputs": [],
   "source": [
    "from netCDF4 import Dataset\n",
    "\n",
    "\"convert Timestamps into string, otherwise just return input.\"\n",
    "def Timestamp2String( t ):\n",
    "    return ( t.strftime('%Y-%m-%d %H:%M:%S') if type(t) is pandas._libs.tslibs.timestamps.Timestamp else t )\n",
    "\n",
    "\"write a sounding dataframe as a NetCDF4 file.\"\n",
    "def sounding2nc( df, filename ):\n",
    "\n",
    "    # Open a new NetCDF file for writing\n",
    "    nc_file = Dataset(filename, mode='w')\n",
    "\n",
    "    # Set the attributes from df cols 9...\n",
    "    for column in df.columns[9:]:\n",
    "        #  print( \"set attribute \"+df[column].name+\"=\", Timestamp2String(df[column][0]) )\n",
    "        nc_file.setncattr( df[column].name, Timestamp2String(df[column][0]) )\n",
    "\n",
    "    # or set all at once from a dict: setncatts(self,attdict)\n",
    "\n",
    "    # Define dimensions for pressure, temperature, etc. variables\n",
    "    time_dim = nc_file.createDimension('time', 1)\n",
    "    level_dim = nc_file.createDimension('level', df[df.columns[0]].shape[0])\n",
    "\n",
    "    units_list = [ 'hPa', 'm', 'degrees C', 'degrees C', 'degrees', 'm/s', 'm/s', 'm/s' ]\n",
    "\n",
    "    # Create variables for time, level, latitude, longitude, pressure, and temperature\n",
    "    for i, column in enumerate( df.columns[0:7] ):\n",
    "        # create the netcdf variable\n",
    "        var = nc_file.createVariable(df[column].name, 'f4', ('time', 'level'))\n",
    "        # write the data to the NetCDF file\n",
    "        var[:] = df[column][:]\n",
    "        # supply units attributes\n",
    "        var.units = units_list[i]\n",
    "\n",
    "    # Close the NetCDF file\n",
    "    return nc_file.close()"
   ]
  },
  {
   "cell_type": "code",
   "execution_count": null,
   "id": "4fc5495e-597d-4ac1-a9f7-f440b0e9f7d3",
   "metadata": {},
   "outputs": [],
   "source": [
    "\"write a sounding dataframe as a NetCDF4 file.\"\n",
    "def sounding2nc( df, filename ):\n",
    "\n",
    "    # Open a new NetCDF file for writing\n",
    "    nc_file = Dataset(filename, mode='w')\n",
    "\n",
    "    # Set the attributes from df cols 9...\n",
    "    for column in df.columns[9:]:\n",
    "        #  print( \"set attribute \"+df[column].name+\"=\", Timestamp2String(df[column][0]) )\n",
    "        nc_file.setncattr( df[column].name, Timestamp2String(df[column][0]) )\n",
    "\n",
    "    # or set all at once from a dict: setncatts(self,attdict)\n",
    "\n",
    "    # Define dimensions for pressure, temperature, etc. variables\n",
    "    time_dim = nc_file.createDimension('time', 1)\n",
    "    level_dim = nc_file.createDimension('level', df[df.columns[0]].shape[0])\n",
    "\n",
    "    units_list = [ 'hPa', 'm', 'degrees C', 'degrees C', 'degrees', 'm/s', 'm/s', 'm/s' ]\n",
    "\n",
    "    # Create variables for time, level, latitude, longitude, pressure, and temperature\n",
    "    for i, column in enumerate( df.columns[0:7] ):\n",
    "        # create the netcdf variable\n",
    "        var = nc_file.createVariable(df[column].name, 'f4', ('time', 'level'))\n",
    "        # write the data to the NetCDF file\n",
    "        var[:] = df[column][:]\n",
    "        # supply units attributes\n",
    "        var.units = units_list[i]\n",
    "\n",
    "    # Close the NetCDF file\n",
    "    return nc_file.close()"
   ]
  },
  {
   "cell_type": "code",
   "execution_count": 6,
   "id": "90226212",
   "metadata": {},
   "outputs": [],
   "source": [
    "# get Trivandrum soundings from 2019, write to netcdf\n",
    "\n",
    "start_time = datetime(2019, 3, 1, 0)\n",
    "end_time = datetime(2019, 6, 30, 0)\n",
    "station = \"43371\" # Trivandrum, Thiruvananthapuram, 'VOTX'?\n",
    "\n",
    "for dt in pandas.date_range(start_time, end_time, freq='12H'):\n",
    "    try:\n",
    "        df = WyomingUpperAir.request_data(dt, station) # returns Pandas dataframe\n",
    "        sounding2nc( df, \"../data/uwyo/trivandrum/Trivandrum\"+df.time[0].strftime('%Y%m%d_%H%M')+\".nc\" )\n",
    "    except:\n",
    "        continue\n",
    "    else:\n",
    "        continue\n",
    "        \n",
    "\n"
   ]
  },
  {
   "cell_type": "code",
   "execution_count": 7,
   "id": "acebea44",
   "metadata": {},
   "outputs": [],
   "source": [
    "start_time = datetime(2019, 3, 1, 0)\n",
    "end_time = datetime(2019, 6, 30, 0)\n",
    "station = \"43063\"  # Pune\n",
    "for dt in pandas.date_range(start_time, end_time, freq='12H'):\n",
    "    try:\n",
    "        df = WyomingUpperAir.request_data(dt, station) # returns Pandas dataframe\n",
    "        sounding2nc( df, \"../data/uwyo/pune/Pune\"+df.time[0].strftime('%Y%m%d_%H%M')+\".nc\" )\n",
    "    except:\n",
    "        continue\n",
    "    finally:\n",
    "        continue"
   ]
  },
  {
   "cell_type": "code",
   "execution_count": 8,
   "id": "f579db5f",
   "metadata": {},
   "outputs": [],
   "source": [
    "# IGRA2\n",
    "from siphon.simplewebservice.igra2 import IGRAUpperAir\n",
    "\n",
    "station = \"INM00043192\" # Goa\n",
    "df, header = IGRAUpperAir.request_data(start_time, station)\n",
    "# ! probably in a different format!"
   ]
  },
  {
   "cell_type": "code",
   "execution_count": 9,
   "id": "90e125e4-ad06-447d-b2a1-8d2c6e816e06",
   "metadata": {},
   "outputs": [
    {
     "name": "stdout",
     "output_type": "stream",
     "text": [
      "0 lvltyp1 none\n",
      "1 lvltyp2 none\n",
      "2 etime seconds?\n",
      "3 pressure hPa\n",
      "4 pflag none\n",
      "5 height meters\n",
      "6 zflag none\n",
      "7 temperature degrees C\n",
      "8 tflag none\n",
      "9 relative_humidity percent\n",
      "10 direction degrees\n",
      "11 speed m/s\n",
      "12 u_wind datestring\n",
      "13 v_wind m/s\n",
      "14 dewpoint m/s\n"
     ]
    }
   ],
   "source": [
    "type(df.columns) # pandas.core.indexes.base.Index\n",
    "# var_indx = pandas.core.indexes.base.Index(['pressure', 'height', 'temperature', 'dewpoint'])\n",
    "header\n",
    "df\n",
    "units_list = [ 'none', 'none', 'seconds?', 'hPa', 'none', 'meters', 'none', 'degrees C', 'none', 'percent', 'degrees', 'm/s', 'datestring', 'm/s', 'm/s', 'degree C']\n",
    "    \n",
    "# df.drop(columns='date')\n",
    "# for i, column in enumerate(df.columns):\n",
    "#     print( i, column, units_list[i] )\n",
    "\n",
    "dfd = df.drop(columns='date')\n",
    "for i, column in enumerate(dfd.columns):\n",
    "    print( i, column, units_list[i] )"
   ]
  },
  {
   "cell_type": "code",
   "execution_count": 11,
   "id": "747576e0-f254-410f-8a19-079cd1fdef5a",
   "metadata": {},
   "outputs": [],
   "source": [
    "\"write an IGRA2 sounding dataframe as a NetCDF4 file.\"\n",
    "def igra2nc( df, header, filename ):\n",
    "\n",
    "    # Open a new NetCDF file for writing\n",
    "    nc_file = Dataset(filename, mode='w')\n",
    "\n",
    "    # Set the attributes from header\n",
    "    for column in header.columns:\n",
    "        nc_file.setncattr( header[column].name, Timestamp2String(header[column][0]) )\n",
    "\n",
    "    # or set all at once from a dict: setncatts(self,attdict)\n",
    "\n",
    "    # Define dimensions for pressure, temperature, etc. variables\n",
    "    time_dim = nc_file.createDimension('time', 1)\n",
    "    level_dim = nc_file.createDimension('level', df[df.columns[0]].shape[0])\n",
    "\n",
    "    dfd = df.drop(columns='date') # Datestamp redundant and type not allowed in NetCDF\n",
    "    units_list = [ 'none', 'none', 'seconds?', 'hPa', 'none', 'meters', 'none', 'degrees C', 'none', 'percent', 'degrees', 'm/s', #'datestring', \n",
    "                   'm/s', 'm/s', 'degree C']\n",
    "\n",
    "    # Create variables for time, level, latitude, longitude, pressure, and temperature\n",
    "    for i, column in enumerate( dfd.columns ):\n",
    "        # create the netcdf variable\n",
    "        var = nc_file.createVariable(dfd[column].name, 'f4', ('time', 'level'))\n",
    "        # write the data to the NetCDF file\n",
    "        var[:] = dfd[column][:]\n",
    "        # supply units attributes\n",
    "        var.units = units_list[i]\n",
    "\n",
    "    # Close the NetCDF file\n",
    "    return nc_file.close()"
   ]
  },
  {
   "cell_type": "code",
   "execution_count": 12,
   "id": "8c862447-3781-4c1a-b5f4-39f321882426",
   "metadata": {},
   "outputs": [
    {
     "data": {
      "text/plain": [
       "DatetimeIndex(['2019-03-01', '2019-03-02', '2019-03-03', '2019-03-04',\n",
       "               '2019-03-05', '2019-03-06', '2019-03-07', '2019-03-08',\n",
       "               '2019-03-09', '2019-03-10',\n",
       "               ...\n",
       "               '2019-06-21', '2019-06-22', '2019-06-23', '2019-06-24',\n",
       "               '2019-06-25', '2019-06-26', '2019-06-27', '2019-06-28',\n",
       "               '2019-06-29', '2019-06-30'],\n",
       "              dtype='datetime64[ns]', length=122, freq='D')"
      ]
     },
     "execution_count": 12,
     "metadata": {},
     "output_type": "execute_result"
    }
   ],
   "source": [
    "pandas.date_range(start_time, end_time, freq='D')"
   ]
  },
  {
   "cell_type": "code",
   "execution_count": 15,
   "id": "485fca56-c780-48f8-88b1-de900455ec9c",
   "metadata": {
    "tags": []
   },
   "outputs": [],
   "source": [
    "start_time = datetime(2019, 3, 1, 0)\n",
    "end_time = datetime(2019, 6, 30, 0)\n",
    "station = \"INM00043192\" # Goa\n",
    "\n",
    "\n",
    "for dt in pandas.date_range(start_time, end_time, freq='D'): # freq='12H'\n",
    "    my_path = \"../data/igra2/goa/Goa\"+dt.strftime('%Y%m%d_%H%M')+\".nc\"\n",
    "    if not os.path.exists(my_path) or os.path.getsize(my_path) <= 0:\n",
    "        try:\n",
    "            df, header = IGRAUpperAir.request_data(dt.to_pydatetime(), station)\n",
    "            igra2nc( df, header, my_path )\n",
    "        except:\n",
    "            # print exception!\n",
    "            continue\n",
    "        finally:\n",
    "            continue\n",
    "    else:\n",
    "        continue\n",
    "\n",
    "        \n",
    "# IGRA2 downloading is slow.\n",
    "# There does not appear to be any 12Z soundings.\n"
   ]
  },
  {
   "cell_type": "code",
   "execution_count": 21,
   "id": "f81e0a77-e745-46fa-a939-77b0064e6272",
   "metadata": {},
   "outputs": [],
   "source": [
    "def get_igra2_station( daterange, station, stationname ):\n",
    "    for dt in daterange: # freq='12H'\n",
    "        my_path = \"../data/igra2/\"+stationname+\"/\"+stationname+dt.strftime('%Y%m%d_%H%M')+\".nc\"\n",
    "        if not os.path.exists(my_path) or os.path.getsize(my_path) <= 0:\n",
    "            try:\n",
    "                df, header = IGRAUpperAir.request_data(dt.to_pydatetime(), station)\n",
    "                igra2nc( df, header, my_path )\n",
    "            except:\n",
    "                # print exception!\n",
    "                continue\n",
    "            finally:\n",
    "                continue\n",
    "        else:\n",
    "            continue"
   ]
  },
  {
   "cell_type": "code",
   "execution_count": 22,
   "id": "4465a6b2-cc58-4e98-9970-8d12a292e920",
   "metadata": {},
   "outputs": [],
   "source": [
    "stationname = 'pune'\n",
    "station = 'INM00043063'\n",
    "start_time = datetime(2019, 3, 1, 0)\n",
    "end_time = datetime(2019, 6, 30, 0)\n",
    "dr = pandas.date_range(start_time, end_time, freq='D')\n",
    "\n",
    "get_igra2_station( dr, station, stationname )"
   ]
  },
  {
   "cell_type": "code",
   "execution_count": 23,
   "id": "48ed5854-1f06-48b8-a1b0-7387a00cf1be",
   "metadata": {},
   "outputs": [],
   "source": [
    "stationname = 'thrivandrum'\n",
    "station = 'INM00043371'\n",
    "start_time = datetime(2019, 3, 1, 0)\n",
    "end_time = datetime(2019, 6, 30, 0)\n",
    "dr = pandas.date_range(start_time, end_time, freq='D')\n",
    "\n",
    "get_igra2_station( dr, station, stationname )"
   ]
  },
  {
   "cell_type": "code",
   "execution_count": null,
   "id": "87bde460-23c9-43d7-a13d-590d4b2bd9ad",
   "metadata": {},
   "outputs": [],
   "source": []
  }
 ],
 "metadata": {
  "jupytext": {
   "formats": "ipynb,auto:percent"
  },
  "kernelspec": {
   "display_name": "Python 3 (ipykernel)",
   "language": "python",
   "name": "python3"
  },
  "language_info": {
   "codemirror_mode": {
    "name": "ipython",
    "version": 3
   },
   "file_extension": ".py",
   "mimetype": "text/x-python",
   "name": "python",
   "nbconvert_exporter": "python",
   "pygments_lexer": "ipython3",
   "version": "3.8.16"
  }
 },
 "nbformat": 4,
 "nbformat_minor": 5
}
