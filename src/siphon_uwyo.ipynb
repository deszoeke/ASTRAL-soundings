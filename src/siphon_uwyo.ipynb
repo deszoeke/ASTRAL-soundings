{
 "cells": [
  {
   "cell_type": "markdown",
   "id": "d34299cf",
   "metadata": {},
   "source": [
    "To make a kernel with a siphon virtualenv from the terminal:\n",
    "\n",
    "```\n",
    "conda create -n siphon siphon\n",
    "conda activate siphon\n",
    "conda install ipykernel\n",
    "python -m ipykernel install --user --name=siphon\n",
    "```\n",
    "\n",
    "Then select the `siphon` from the pulldown/window in Jupyter."
   ]
  },
  {
   "cell_type": "code",
   "execution_count": null,
   "id": "8211d826",
   "metadata": {},
   "outputs": [],
   "source": [
    "from siphon.simplewebservice.wyoming import WyomingUpperAir\n",
    "from datetime import datetime\n",
    "import pandas\n",
    "\n",
    "start_time = datetime(2023, 3, 1, 0)\n",
    "end_time = datetime(2023, 6, 30, 0)\n",
    "\n",
    "station = \"43371\" # Trivandrum, Thiruvananthapuram, 'VOTX'?\n",
    "\n",
    "df = WyomingUpperAir.request_data(start_time, station) # returns Pandas dataframe"
   ]
  },
  {
   "cell_type": "code",
   "execution_count": null,
   "id": "9e2d9983",
   "metadata": {},
   "outputs": [],
   "source": [
    "df"
   ]
  },
  {
   "cell_type": "code",
   "execution_count": null,
   "id": "5abfd03c",
   "metadata": {
    "tags": []
   },
   "outputs": [],
   "source": [
    "# for column in df:\n",
    "#     print( df[column].name )\n",
    "#     print( df[column].values )\n",
    "\n",
    "# df[column].shape[0]\n",
    "df[df.columns[0:8]]\n",
    "\n",
    "# skip column 8\n",
    "\n",
    "# scalars\n",
    "\n",
    "\n",
    "df.columns[9]\n",
    "type(df[df.columns[9]]) is pandas.core.series.Series\n",
    "\n",
    "df[df.columns[10]][0].strftime('%Y-%m-%d %H:%M:%S') # convert Datestamp to string\n",
    "type(df[df.columns[10]][0]) is pandas._libs.tslibs.timestamps.Timestamp\n",
    "    "
   ]
  },
  {
   "cell_type": "code",
   "execution_count": null,
   "id": "55949dd3",
   "metadata": {
    "jupyter": {
     "source_hidden": true
    },
    "tags": []
   },
   "outputs": [],
   "source": [
    "# # bad way... & broken\n",
    "\n",
    "# #from siphon.cdmr import Dataset\n",
    "# from siphon.ncss import Dataset\n",
    "# from io import StringIO\n",
    "\n",
    "# # Convert the DataFrame to CSV format in memory\n",
    "# csv_buffer = StringIO()\n",
    "# df.to_csv(csv_buffer, sep=',', index=False)\n",
    "# csv_buffer.getvalue().splitlines()[0].encode()\n",
    "# csv_buffer.getvalue().splitlines()[1:]\n",
    "\n",
    "# # Open a Dataset object and write the CSV data to it\n",
    "# nc = Dataset('sounding.nc', 'w', format='NETCDF4')\n",
    "# nc.createDimension('index', None)\n",
    "# nc.createVariable('header', 'S1', ('header',))\n",
    "# # nc.variables['header'][0] = csv_buffer.getvalue().splitlines()[0].encode()\n",
    "# # nc.variables['header'][0] = \n",
    "# nc.createVariable('data', 'f8', ('index', 'header'))\n",
    "\n",
    "# for i, column in enumerate(df):\n",
    "#     # print( df[column].name )\n",
    "#     nc.variables['header'][i] = df[column].name\n",
    "#     # print( df[column].values )\n",
    "    \n",
    "# for i, line in enumerate(csv_buffer.getvalue().splitlines()[1:]):\n",
    "#     #nc.variables['data'][i, :] = line.split(',') # can't autoconvert string to float\n",
    "#     line.split(',')\n",
    "# nc.close()\n"
   ]
  },
  {
   "cell_type": "code",
   "execution_count": null,
   "id": "1fea5df9",
   "metadata": {},
   "outputs": [],
   "source": [
    "from netCDF4 import Dataset\n",
    "\n",
    "\"convert Timestamps into string, otherwise just return input.\"\n",
    "def Timestamp2String( t ):\n",
    "    return ( t.strftime('%Y-%m-%d %H:%M:%S') if type(t) is pandas._libs.tslibs.timestamps.Timestamp else t )\n",
    "\n",
    "\"write a sounding dataframe as a NetCDF4 file.\"\n",
    "def sounding2nc( df, filename ):\n",
    "\n",
    "    # Open a new NetCDF file for writing\n",
    "    nc_file = Dataset(filename, mode='w')\n",
    "\n",
    "    # Set the attributes from df cols 9...\n",
    "    for column in df.columns[9:]:\n",
    "        #  print( \"set attribute \"+df[column].name+\"=\", Timestamp2String(df[column][0]) )\n",
    "        nc_file.setncattr( df[column].name, Timestamp2String(df[column][0]) )\n",
    "\n",
    "    # or set all at once from a dict: setncatts(self,attdict)\n",
    "\n",
    "    # Define dimensions for pressure, temperature, etc. variables\n",
    "    time_dim = nc_file.createDimension('time', 1)\n",
    "    level_dim = nc_file.createDimension('level', df[df.columns[0]].shape[0])\n",
    "\n",
    "    units_list = [ 'hPa', 'm', 'degrees C', 'degrees C', 'degrees', 'm/s', 'm/s', 'm/s' ]\n",
    "\n",
    "    # Create variables for time, level, latitude, longitude, pressure, and temperature\n",
    "    for i, column in enumerate( df.columns[0:7] ):\n",
    "        # create the netcdf variable\n",
    "        var = nc_file.createVariable(df[column].name, 'f4', ('time', 'level'))\n",
    "        # write the data to the NetCDF file\n",
    "        var[:] = df[column][:]\n",
    "        # supply units attributes\n",
    "        var.units = units_list[i]\n",
    "\n",
    "    # Close the NetCDF file\n",
    "    return nc_file.close()"
   ]
  },
  {
   "cell_type": "code",
   "execution_count": 155,
   "id": "90226212",
   "metadata": {},
   "outputs": [],
   "source": [
    "# get Trivandrum soundings from 2019, write to netcdf\n",
    "\n",
    "start_time = datetime(2019, 3, 1, 0)\n",
    "end_time = datetime(2019, 6, 30, 0)\n",
    "station = \"43371\" # Trivandrum, Thiruvananthapuram, 'VOTX'?\n",
    "\n",
    "for dt in pandas.date_range(start_time, end_time, freq='12H'):\n",
    "    try:\n",
    "        df = WyomingUpperAir.request_data(dt, station) # returns Pandas dataframe\n",
    "        sounding2nc( df, \"../data/uwyo/trivandrum/Trivandrum\"+df.time[0].strftime('%Y%m%d_%H%M')+\".nc\" )\n",
    "    except:\n",
    "        continue\n",
    "    else:\n",
    "        continue\n",
    "        \n",
    "\n"
   ]
  },
  {
   "cell_type": "code",
   "execution_count": null,
   "id": "acebea44",
   "metadata": {},
   "outputs": [],
   "source": [
    "station = \"43063\"  # Pune\n",
    "for dt in pandas.date_range(start_time, end_time, freq='12H'):\n",
    "    try:\n",
    "        df = WyomingUpperAir.request_data(dt, station) # returns Pandas dataframe\n",
    "        sounding2nc( df, \"../data/uwyo/pune/Pune\"+df.time[0].strftime('%Y%m%d_%H%M')+\".nc\" )\n",
    "    except:\n",
    "        continue"
   ]
  },
  {
   "cell_type": "code",
   "execution_count": null,
   "id": "bad63a83",
   "metadata": {},
   "outputs": [],
   "source": [
    "df = WyomingUpperAir.request_data(dt, station)"
   ]
  },
  {
   "cell_type": "code",
   "execution_count": null,
   "id": "f579db5f",
   "metadata": {},
   "outputs": [],
   "source": []
  }
 ],
 "metadata": {
  "kernelspec": {
   "display_name": "Python 3",
   "language": "python",
   "name": "python3"
  },
  "language_info": {
   "codemirror_mode": {
    "name": "ipython",
    "version": 3
   },
   "file_extension": ".py",
   "mimetype": "text/x-python",
   "name": "python",
   "nbconvert_exporter": "python",
   "pygments_lexer": "ipython3",
   "version": "3.6.7"
  }
 },
 "nbformat": 4,
 "nbformat_minor": 5
}
