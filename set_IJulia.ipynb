{
 "cells": [
  {
   "cell_type": "code",
   "execution_count": 1,
   "id": "9ebb610d-42a9-48f9-89c0-2c5a9c22265d",
   "metadata": {},
   "outputs": [],
   "source": [
    "# using Revise\n",
    "# using CSV\n",
    "using Pkg"
   ]
  },
  {
   "cell_type": "code",
   "execution_count": 2,
   "id": "51151ffe-d212-4a97-863e-8f7f98449d19",
   "metadata": {},
   "outputs": [
    {
     "name": "stderr",
     "output_type": "stream",
     "text": [
      "\u001b[32m\u001b[1m  Activating\u001b[22m\u001b[39m project at `~/Projects/ASTRAL/soundings/ASTRAL_soundings`\n"
     ]
    }
   ],
   "source": [
    "Pkg.activate(\"ASTRAL_soundings\")"
   ]
  },
  {
   "cell_type": "code",
   "execution_count": 3,
   "id": "7f3f7be3-dfd9-417e-8345-51523da616d1",
   "metadata": {},
   "outputs": [],
   "source": [
    "using Revise\n",
    "using CSV\n",
    "using PyPlot"
   ]
  },
  {
   "cell_type": "code",
   "execution_count": 4,
   "id": "ddb35b46-0217-4d57-ac11-036f117cca7c",
   "metadata": {},
   "outputs": [
    {
     "data": {
      "text/plain": [
       "\"/Users/sdeszoek/Projects/ASTRAL/soundings\""
      ]
     },
     "execution_count": 4,
     "metadata": {},
     "output_type": "execute_result"
    }
   ],
   "source": [
    "pwd()"
   ]
  },
  {
   "cell_type": "code",
   "execution_count": null,
   "id": "9c16bd11-ef91-4327-b7f0-81da9e6e66c9",
   "metadata": {},
   "outputs": [],
   "source": []
  }
 ],
 "metadata": {
  "kernelspec": {
   "display_name": "astral_soundings 1.8.5",
   "language": "julia",
   "name": "astral_soundings-1.8"
  },
  "language_info": {
   "file_extension": ".jl",
   "mimetype": "application/julia",
   "name": "julia",
   "version": "1.8.5"
  }
 },
 "nbformat": 4,
 "nbformat_minor": 5
}
